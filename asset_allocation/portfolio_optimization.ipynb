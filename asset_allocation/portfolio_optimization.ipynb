{
 "metadata": {
  "language_info": {
   "codemirror_mode": {
    "name": "ipython",
    "version": 3
   },
   "file_extension": ".py",
   "mimetype": "text/x-python",
   "name": "python",
   "nbconvert_exporter": "python",
   "pygments_lexer": "ipython3",
   "version": "3.7.9"
  },
  "orig_nbformat": 2,
  "kernelspec": {
   "name": "python3",
   "display_name": "Python 3.7.9 64-bit ('algotrading': conda)"
  },
  "interpreter": {
   "hash": "1d1365bc7bea9ca53bbaaff2a498c5cc15b63a6fcc47bade387e2edfe7e7b068"
  }
 },
 "nbformat": 4,
 "nbformat_minor": 2,
 "cells": [
  {
   "cell_type": "markdown",
   "source": [
    "# Portfolio Optimization\n",
    "-------------------------\n",
    "## Portfolio Risk-Return optimization based on the Markowitz's Efficient Frontier and CVaR \n",
    "-------------------------"
   ],
   "metadata": {}
  },
  {
   "cell_type": "code",
   "execution_count": 20,
   "source": [
    "'''\n",
    "documentation: https://pyportfolioopt.readthedocs.io/en/stable/\n",
    "\n",
    "'''\n",
    "# Import libraries\n",
    "import pandas as pd\n",
    "import numpy as np\n",
    "import matplotlib.pyplot as plt\n",
    "from pypfopt import EfficientFrontier\n",
    "from pypfopt import risk_models\n",
    "from pypfopt import expected_returns\n",
    "from pypfopt import plotting\n",
    "\n",
    "%matplotlib inline"
   ],
   "outputs": [],
   "metadata": {}
  },
  {
   "cell_type": "markdown",
   "source": [],
   "metadata": {}
  },
  {
   "cell_type": "code",
   "execution_count": 21,
   "source": [
    "# Read in price (Adj Close) data from csv file (Adj Close prices pulled from the yahoo_historical.ipynb)\n",
    "stock_prices = pd.read_csv(\"../Resources/multi_stock_prices.csv\", parse_dates=True, index_col=\"Date\")\n",
    "stock_prices.tail()"
   ],
   "outputs": [
    {
     "output_type": "execute_result",
     "data": {
      "text/plain": [
       "                   AGG        ARKK       BRK-B      ETH-USD\n",
       "Date                                                       \n",
       "2021-07-16  115.900002  116.529999  277.899994  1880.382935\n",
       "2021-07-17  115.900002  116.529999  277.899994  1898.825195\n",
       "2021-07-18  115.900002  116.529999  277.899994  1895.552124\n",
       "2021-07-19  116.510002  117.279999  272.660004  1817.296631\n",
       "2021-07-20  116.510002  117.279999  272.660004  1787.510742"
      ],
      "text/html": [
       "<div>\n",
       "<style scoped>\n",
       "    .dataframe tbody tr th:only-of-type {\n",
       "        vertical-align: middle;\n",
       "    }\n",
       "\n",
       "    .dataframe tbody tr th {\n",
       "        vertical-align: top;\n",
       "    }\n",
       "\n",
       "    .dataframe thead th {\n",
       "        text-align: right;\n",
       "    }\n",
       "</style>\n",
       "<table border=\"1\" class=\"dataframe\">\n",
       "  <thead>\n",
       "    <tr style=\"text-align: right;\">\n",
       "      <th></th>\n",
       "      <th>AGG</th>\n",
       "      <th>ARKK</th>\n",
       "      <th>BRK-B</th>\n",
       "      <th>ETH-USD</th>\n",
       "    </tr>\n",
       "    <tr>\n",
       "      <th>Date</th>\n",
       "      <th></th>\n",
       "      <th></th>\n",
       "      <th></th>\n",
       "      <th></th>\n",
       "    </tr>\n",
       "  </thead>\n",
       "  <tbody>\n",
       "    <tr>\n",
       "      <th>2021-07-16</th>\n",
       "      <td>115.900002</td>\n",
       "      <td>116.529999</td>\n",
       "      <td>277.899994</td>\n",
       "      <td>1880.382935</td>\n",
       "    </tr>\n",
       "    <tr>\n",
       "      <th>2021-07-17</th>\n",
       "      <td>115.900002</td>\n",
       "      <td>116.529999</td>\n",
       "      <td>277.899994</td>\n",
       "      <td>1898.825195</td>\n",
       "    </tr>\n",
       "    <tr>\n",
       "      <th>2021-07-18</th>\n",
       "      <td>115.900002</td>\n",
       "      <td>116.529999</td>\n",
       "      <td>277.899994</td>\n",
       "      <td>1895.552124</td>\n",
       "    </tr>\n",
       "    <tr>\n",
       "      <th>2021-07-19</th>\n",
       "      <td>116.510002</td>\n",
       "      <td>117.279999</td>\n",
       "      <td>272.660004</td>\n",
       "      <td>1817.296631</td>\n",
       "    </tr>\n",
       "    <tr>\n",
       "      <th>2021-07-20</th>\n",
       "      <td>116.510002</td>\n",
       "      <td>117.279999</td>\n",
       "      <td>272.660004</td>\n",
       "      <td>1787.510742</td>\n",
       "    </tr>\n",
       "  </tbody>\n",
       "</table>\n",
       "</div>"
      ]
     },
     "metadata": {},
     "execution_count": 21
    }
   ],
   "metadata": {}
  },
  {
   "cell_type": "code",
   "execution_count": 22,
   "source": [
    "from pypfopt.risk_models import CovarianceShrinkage\n",
    "\n",
    "# Calculate expected returns (CAPM based) and covariance (Ledoid Wolf covariance shrinkage)\n",
    "mu = expected_returns.capm_return(stock_prices)\n",
    "S = CovarianceShrinkage(stock_prices).ledoit_wolf()\n",
    "\n",
    "# Print expected returns\n",
    "mu"
   ],
   "outputs": [
    {
     "output_type": "execute_result",
     "data": {
      "text/plain": [
       "AGG        0.027398\n",
       "ARKK       0.187875\n",
       "BRK-B      0.113598\n",
       "ETH-USD    1.490783\n",
       "Name: mkt, dtype: float64"
      ]
     },
     "metadata": {},
     "execution_count": 22
    }
   ],
   "metadata": {}
  },
  {
   "cell_type": "code",
   "execution_count": 23,
   "source": [
    "# Specify allocation constraints for each sector or individual security to see different portfolio risk-return characteristics.\n",
    "\n",
    "sector_mapper = {\n",
    "            \"ETH-USD\": \"crypto\",\n",
    "            \"AGG\": \"bonds\",\n",
    "            \"BRK-B\": \"value\",\n",
    "            \"ARKK\": \"growth\"\n",
    "        }\n",
    "\n",
    "sector_lower = {\n",
    "            \"value\": 0.40, # min 50% equity\n",
    "            \"bonds\": 0.10, # min 10% bonds\n",
    "            \"growth\": 0.40, # min 40% growth\n",
    "            \"crypto\": 0.02 # min 1% crypto\n",
    "            } \n",
    "\n",
    "sector_upper = {\n",
    "            \"crypto\": 0.02, # less than 2% crypto\n",
    "            \"value\": 0.70, # less than 70% value\n",
    "            \"growth\": 0.40, # less than 60% growth\n",
    "            \"bonds\": 0.11 # less than 15% bonds\n",
    "            }"
   ],
   "outputs": [],
   "metadata": {}
  },
  {
   "cell_type": "code",
   "execution_count": 24,
   "source": [
    "# Construct Efficient Frontier optimization model based on the maximum Sharpe ratio (alternatively we can optimize by minimum volatility which is a good option too - by entering w=ef.min_volatility()) and specify gamma to minimize zero weights (higher gamma means less zero weights) and sector allocation constraints\n",
    "\n",
    "from pypfopt import objective_functions\n",
    "\n",
    "ef = EfficientFrontier(mu, S)\n",
    "ef.add_objective(objective_functions.L2_reg, gamma=0.1)\n",
    "ef.add_sector_constraints(sector_mapper, sector_lower, sector_upper)\n",
    "w = ef.max_sharpe()\n",
    "weights = ef.clean_weights()\n",
    "print(ef.clean_weights())"
   ],
   "outputs": [
    {
     "output_type": "stream",
     "name": "stdout",
     "text": [
      "OrderedDict([('AGG', 0.11), ('ARKK', 0.4), ('BRK-B', 0.47), ('ETH-USD', 0.02)])\n"
     ]
    },
    {
     "output_type": "stream",
     "name": "stderr",
     "text": [
      "/Users/draganbogatic/opt/anaconda3/envs/algotrading/lib/python3.7/site-packages/pypfopt/efficient_frontier/efficient_frontier.py:248: UserWarning: max_sharpe transforms the optimization problem so additional objectives may not work as expected.\n",
      "  \"max_sharpe transforms the optimization problem so additional objectives may not work as expected.\"\n"
     ]
    }
   ],
   "metadata": {}
  },
  {
   "cell_type": "code",
   "execution_count": 25,
   "source": [
    "# Plot asset allocation based on Efficient Frontier model\n",
    "pd.Series(weights).plot.bar(figsize=(10, 8), ylabel='%', xlabel ='Assets',title='Asset Allocation')"
   ],
   "outputs": [
    {
     "output_type": "execute_result",
     "data": {
      "text/plain": [
       "<AxesSubplot:title={'center':'Asset Allocation'}, xlabel='Assets', ylabel='%'>"
      ]
     },
     "metadata": {},
     "execution_count": 25
    },
    {
     "output_type": "display_data",
     "data": {
      "text/plain": [
       "<Figure size 720x576 with 1 Axes>"
      ],
      "image/png": "[encoded data removed]"
     },
     "metadata": {
      "needs_background": "light"
     }
    }
   ],
   "metadata": {}
  },
  {
   "cell_type": "code",
   "execution_count": 26,
   "source": [
    "# Evaluate portfolio performance\n",
    "ef.portfolio_performance(verbose=True)"
   ],
   "outputs": [
    {
     "output_type": "stream",
     "name": "stdout",
     "text": [
      "Expected annual return: 16.1%\n",
      "Annual volatility: 16.9%\n",
      "Sharpe Ratio: 0.84\n"
     ]
    },
    {
     "output_type": "execute_result",
     "data": {
      "text/plain": [
       "(0.16137078850033232, 0.16898248219494516, 0.8366002597668151)"
      ]
     },
     "metadata": {},
     "execution_count": 26
    }
   ],
   "metadata": {}
  },
  {
   "cell_type": "code",
   "execution_count": 27,
   "source": [
    "# Plot Efficient Frontier based on random portfolios and  individual assets\n",
    "ef = EfficientFrontier(mu, S)\n",
    "ef.add_objective(objective_functions.L2_reg, gamma=0.1)\n",
    "ef.add_sector_constraints(sector_mapper, sector_lower, sector_upper)\n",
    "fig, ax = plt.subplots()\n",
    "plotting.plot_efficient_frontier(ef, ax=ax, show_assets=True)\n",
    "\n",
    "# Find the tangency portfolio\n",
    "ef.max_sharpe()\n",
    "ret_tangent, std_tangent, _ = ef.portfolio_performance()\n",
    "ax.scatter(std_tangent, ret_tangent, marker=\"*\", s=100, c=\"r\", label=\"Max Sharpe\")\n",
    "\n",
    "# Generate random portfolios\n",
    "n_samples = 10000\n",
    "w = np.random.dirichlet(np.ones(len(mu)), n_samples)\n",
    "rets = w.dot(mu)\n",
    "stds = np.sqrt(np.diag(w @ S @ w.T))\n",
    "sharpes = rets / stds\n",
    "ax.scatter(stds, rets, marker=\".\", c=sharpes, cmap=\"viridis_r\")\n",
    "\n",
    "# Output\n",
    "ax.set_title(\"Efficient Frontier with random portfolios\")\n",
    "ax.legend()\n",
    "plt.tight_layout()\n",
    "plt.savefig(\"../Resources/ef_scatter.png\", dpi=200)\n",
    "plt.show()"
   ],
   "outputs": [
    {
     "output_type": "stream",
     "name": "stderr",
     "text": [
      "/Users/draganbogatic/opt/anaconda3/envs/algotrading/lib/python3.7/site-packages/cvxpy/problems/problem.py:1246: UserWarning: Solution may be inaccurate. Try another solver, adjusting the solver settings, or solve with verbose=True for more information.\n",
      "  \"Solution may be inaccurate. Try another solver, \"\n"
     ]
    },
    {
     "output_type": "display_data",
     "data": {
      "text/plain": [
       "<Figure size 432x288 with 1 Axes>"
      ],
      "image/png": "[encoded data removed]"
     },
     "metadata": {
      "needs_background": "light"
     }
    }
   ],
   "metadata": {}
  },
  {
   "cell_type": "markdown",
   "source": [
    "## Portfolio Optimization with CVaR\n",
    "-------------------------------------\n",
    "### Conditional Value at Risk (CVaR), also known as the expected shortfall, is a risk assessment measure that quantifies the amount of tail risk an investment portfolio has"
   ],
   "metadata": {}
  },
  {
   "cell_type": "code",
   "execution_count": 28,
   "source": [
    "from pypfopt import EfficientCVaR\n",
    "\n",
    "# Calculate expected returns (mu) and covariance (risk)\n",
    "mu = expected_returns.capm_return(stock_prices)\n",
    "S = CovarianceShrinkage(stock_prices).ledoit_wolf()"
   ],
   "outputs": [],
   "metadata": {}
  },
  {
   "cell_type": "code",
   "execution_count": 29,
   "source": [
    "# Portfolio optimization based on Efficient Frontier and maximum Sharpe ratio\n",
    "ef = EfficientFrontier(mu, S)\n",
    "ef.add_objective(objective_functions.L2_reg, gamma=0.1)\n",
    "ef.add_sector_constraints(sector_mapper, sector_lower, sector_upper)\n",
    "ef.max_sharpe()\n",
    "weights_arr = ef.weights\n",
    "ef.portfolio_performance(verbose=True)\n",
    "print(f\"weights = {weights_arr}\")"
   ],
   "outputs": [
    {
     "output_type": "stream",
     "name": "stdout",
     "text": [
      "Expected annual return: 16.1%\n",
      "Annual volatility: 16.9%\n",
      "Sharpe Ratio: 0.84\n",
      "weights = [0.11 0.4  0.47 0.02]\n"
     ]
    },
    {
     "output_type": "stream",
     "name": "stderr",
     "text": [
      "/Users/draganbogatic/opt/anaconda3/envs/algotrading/lib/python3.7/site-packages/pypfopt/efficient_frontier/efficient_frontier.py:248: UserWarning: max_sharpe transforms the optimization problem so additional objectives may not work as expected.\n",
      "  \"max_sharpe transforms the optimization problem so additional objectives may not work as expected.\"\n"
     ]
    }
   ],
   "metadata": {}
  },
  {
   "cell_type": "code",
   "execution_count": 30,
   "source": [
    "# Calculate stock returns from historical stock prices\n",
    "returns = expected_returns.returns_from_prices(stock_prices).dropna()\n",
    "returns "
   ],
   "outputs": [
    {
     "output_type": "execute_result",
     "data": {
      "text/plain": [
       "                 AGG      ARKK     BRK-B   ETH-USD\n",
       "Date                                              \n",
       "2015-08-08  0.000000  0.000000  0.000000 -0.728250\n",
       "2015-08-09  0.000000  0.000000  0.000000 -0.068268\n",
       "2015-08-10 -0.001282  0.024210 -0.000906  0.009333\n",
       "2015-08-11  0.003301 -0.013252 -0.004323  0.507323\n",
       "2015-08-12 -0.000639 -0.009430 -0.008403  0.140075\n",
       "...              ...       ...       ...       ...\n",
       "2021-07-16 -0.000862  0.001117 -0.006507 -0.016112\n",
       "2021-07-17  0.000000  0.000000  0.000000  0.009808\n",
       "2021-07-18  0.000000  0.000000  0.000000 -0.001724\n",
       "2021-07-19  0.005263  0.006436 -0.018856 -0.041284\n",
       "2021-07-20  0.000000  0.000000  0.000000 -0.016390\n",
       "\n",
       "[2174 rows x 4 columns]"
      ],
      "text/html": [
       "<div>\n",
       "<style scoped>\n",
       "    .dataframe tbody tr th:only-of-type {\n",
       "        vertical-align: middle;\n",
       "    }\n",
       "\n",
       "    .dataframe tbody tr th {\n",
       "        vertical-align: top;\n",
       "    }\n",
       "\n",
       "    .dataframe thead th {\n",
       "        text-align: right;\n",
       "    }\n",
       "</style>\n",
       "<table border=\"1\" class=\"dataframe\">\n",
       "  <thead>\n",
       "    <tr style=\"text-align: right;\">\n",
       "      <th></th>\n",
       "      <th>AGG</th>\n",
       "      <th>ARKK</th>\n",
       "      <th>BRK-B</th>\n",
       "      <th>ETH-USD</th>\n",
       "    </tr>\n",
       "    <tr>\n",
       "      <th>Date</th>\n",
       "      <th></th>\n",
       "      <th></th>\n",
       "      <th></th>\n",
       "      <th></th>\n",
       "    </tr>\n",
       "  </thead>\n",
       "  <tbody>\n",
       "    <tr>\n",
       "      <th>2015-08-08</th>\n",
       "      <td>0.000000</td>\n",
       "      <td>0.000000</td>\n",
       "      <td>0.000000</td>\n",
       "      <td>-0.728250</td>\n",
       "    </tr>\n",
       "    <tr>\n",
       "      <th>2015-08-09</th>\n",
       "      <td>0.000000</td>\n",
       "      <td>0.000000</td>\n",
       "      <td>0.000000</td>\n",
       "      <td>-0.068268</td>\n",
       "    </tr>\n",
       "    <tr>\n",
       "      <th>2015-08-10</th>\n",
       "      <td>-0.001282</td>\n",
       "      <td>0.024210</td>\n",
       "      <td>-0.000906</td>\n",
       "      <td>0.009333</td>\n",
       "    </tr>\n",
       "    <tr>\n",
       "      <th>2015-08-11</th>\n",
       "      <td>0.003301</td>\n",
       "      <td>-0.013252</td>\n",
       "      <td>-0.004323</td>\n",
       "      <td>0.507323</td>\n",
       "    </tr>\n",
       "    <tr>\n",
       "      <th>2015-08-12</th>\n",
       "      <td>-0.000639</td>\n",
       "      <td>-0.009430</td>\n",
       "      <td>-0.008403</td>\n",
       "      <td>0.140075</td>\n",
       "    </tr>\n",
       "    <tr>\n",
       "      <th>...</th>\n",
       "      <td>...</td>\n",
       "      <td>...</td>\n",
       "      <td>...</td>\n",
       "      <td>...</td>\n",
       "    </tr>\n",
       "    <tr>\n",
       "      <th>2021-07-16</th>\n",
       "      <td>-0.000862</td>\n",
       "      <td>0.001117</td>\n",
       "      <td>-0.006507</td>\n",
       "      <td>-0.016112</td>\n",
       "    </tr>\n",
       "    <tr>\n",
       "      <th>2021-07-17</th>\n",
       "      <td>0.000000</td>\n",
       "      <td>0.000000</td>\n",
       "      <td>0.000000</td>\n",
       "      <td>0.009808</td>\n",
       "    </tr>\n",
       "    <tr>\n",
       "      <th>2021-07-18</th>\n",
       "      <td>0.000000</td>\n",
       "      <td>0.000000</td>\n",
       "      <td>0.000000</td>\n",
       "      <td>-0.001724</td>\n",
       "    </tr>\n",
       "    <tr>\n",
       "      <th>2021-07-19</th>\n",
       "      <td>0.005263</td>\n",
       "      <td>0.006436</td>\n",
       "      <td>-0.018856</td>\n",
       "      <td>-0.041284</td>\n",
       "    </tr>\n",
       "    <tr>\n",
       "      <th>2021-07-20</th>\n",
       "      <td>0.000000</td>\n",
       "      <td>0.000000</td>\n",
       "      <td>0.000000</td>\n",
       "      <td>-0.016390</td>\n",
       "    </tr>\n",
       "  </tbody>\n",
       "</table>\n",
       "<p>2174 rows × 4 columns</p>\n",
       "</div>"
      ]
     },
     "metadata": {},
     "execution_count": 30
    }
   ],
   "metadata": {}
  },
  {
   "cell_type": "code",
   "execution_count": 31,
   "source": [
    "# Calculate portfolio returns and plot probability distribution (normal distribution)\n",
    "portfolio_rets = pd.DataFrame(returns * weights_arr).sum(axis=1)\n",
    "portfolio_rets.hist(bins=50)"
   ],
   "outputs": [
    {
     "output_type": "execute_result",
     "data": {
      "text/plain": [
       "<AxesSubplot:>"
      ]
     },
     "metadata": {},
     "execution_count": 31
    },
    {
     "output_type": "display_data",
     "data": {
      "text/plain": [
       "<Figure size 432x288 with 1 Axes>"
      ],
      "image/png": "[encoded data removed]"
     },
     "metadata": {
      "needs_background": "light"
     }
    }
   ],
   "metadata": {}
  },
  {
   "cell_type": "code",
   "execution_count": 32,
   "source": [
    "# Calculate 95% CVaR for the max-sharpe portfolio\n",
    "var = portfolio_rets.quantile(0.05)\n",
    "cvar = portfolio_rets[portfolio_rets <= var].mean()\n",
    "print(\"VaR: {:.2f}%\".format(100*var))\n",
    "print(\"CVaR: {:.2f}%\".format(100*cvar))\n",
    "\n",
    "print(f\"The average loss on the worst 5% of days will be {cvar :.4f}\")"
   ],
   "outputs": [
    {
     "output_type": "stream",
     "name": "stdout",
     "text": [
      "VaR: -1.43%\n",
      "CVaR: -2.59%\n",
      "The average loss on the worst 5% of days will be -0.0259\n"
     ]
    }
   ],
   "metadata": {}
  },
  {
   "cell_type": "code",
   "execution_count": 33,
   "source": [
    "# Construct a portfolio with the minimum CVar, print performance and weights\n",
    "\n",
    "ec = EfficientCVaR(mu, returns)\n",
    "ec.add_objective(objective_functions.L2_reg, gamma=0.1)\n",
    "ec.add_sector_constraints(sector_mapper, sector_lower, sector_upper)\n",
    "ec.min_cvar()\n",
    "ec.portfolio_performance(verbose=True)\n",
    "ec.weights"
   ],
   "outputs": [
    {
     "output_type": "stream",
     "name": "stdout",
     "text": [
      "Expected annual return: 16.1%\n",
      "Conditional Value at Risk: 2.59%\n"
     ]
    },
    {
     "output_type": "execute_result",
     "data": {
      "text/plain": [
       "array([0.11000019, 0.39999989, 0.47000178, 0.01999814])"
      ]
     },
     "metadata": {},
     "execution_count": 33
    }
   ],
   "metadata": {}
  },
  {
   "cell_type": "code",
   "execution_count": 34,
   "source": [
    "# Another option is to maximize return for the given CvaR (set a % CvaR that is acceptable, however make sure you understand what CvaR means). Print performance and weights\n",
    "\n",
    "ec = EfficientCVaR(mu, returns)\n",
    "ec.add_objective(objective_functions.L2_reg, gamma=0.1) \n",
    "ec.add_sector_constraints(sector_mapper, sector_lower, sector_upper)\n",
    "ec.efficient_risk(target_cvar=0.05)\n",
    "ec.portfolio_performance(verbose=True)\n",
    "ec.weights.round(2)"
   ],
   "outputs": [
    {
     "output_type": "stream",
     "name": "stdout",
     "text": [
      "Expected annual return: 16.2%\n",
      "Conditional Value at Risk: 2.98%\n"
     ]
    },
    {
     "output_type": "execute_result",
     "data": {
      "text/plain": [
       "array([0.1 , 0.4 , 0.48, 0.02])"
      ]
     },
     "metadata": {},
     "execution_count": 34
    }
   ],
   "metadata": {}
  },
  {
   "cell_type": "code",
   "execution_count": 35,
   "source": [
    "# Original portfolio performance and weights based on max Sharpe ratio\n",
    "ef.portfolio_performance(verbose=True)\n",
    "ef.weights.round(2)"
   ],
   "outputs": [
    {
     "output_type": "stream",
     "name": "stdout",
     "text": [
      "Expected annual return: 16.1%\n",
      "Annual volatility: 16.9%\n",
      "Sharpe Ratio: 0.84\n"
     ]
    },
    {
     "output_type": "execute_result",
     "data": {
      "text/plain": [
       "array([0.11, 0.4 , 0.47, 0.02])"
      ]
     },
     "metadata": {},
     "execution_count": 35
    }
   ],
   "metadata": {}
  }
 ]
}