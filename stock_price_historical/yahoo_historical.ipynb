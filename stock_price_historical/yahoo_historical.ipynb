{
 "metadata": {
  "language_info": {
   "codemirror_mode": {
    "name": "ipython",
    "version": 3
   },
   "file_extension": ".py",
   "mimetype": "text/x-python",
   "name": "python",
   "nbconvert_exporter": "python",
   "pygments_lexer": "ipython3",
   "version": "3.7.9"
  },
  "orig_nbformat": 2,
  "kernelspec": {
   "name": "python379jvsc74a57bd01d1365bc7bea9ca53bbaaff2a498c5cc15b63a6fcc47bade387e2edfe7e7b068",
   "display_name": "Python 3.7.9 64-bit ('algotrading': conda)"
  }
 },
 "nbformat": 4,
 "nbformat_minor": 2,
 "cells": [
  {
   "source": [
    "# Historical Stock Prices"
   ],
   "cell_type": "markdown",
   "metadata": {}
  },
  {
   "cell_type": "code",
   "execution_count": 1,
   "metadata": {},
   "outputs": [],
   "source": [
    "# Import libraries\n",
    "import yfinance as yf\n",
    "from yahoofinancials import YahooFinancials\n",
    "import pandas as pd"
   ]
  },
  {
   "cell_type": "code",
   "execution_count": 3,
   "metadata": {},
   "outputs": [
    {
     "output_type": "execute_result",
     "data": {
      "text/plain": [
       "Date\n",
       "2019-09-27    0\n",
       "2019-09-30    0\n",
       "2019-10-01    0\n",
       "2019-10-02    0\n",
       "2019-10-03    0\n",
       "             ..\n",
       "2021-04-16    0\n",
       "2021-04-19    0\n",
       "2021-04-20    0\n",
       "2021-04-21    0\n",
       "2021-04-22    0\n",
       "Length: 395, dtype: int64"
      ]
     },
     "metadata": {},
     "execution_count": 3
    }
   ],
   "source": [
    "# Input one or several stock tickers to obtain historical stock prices\n",
    "ticker = \"POTX\" \n",
    "start= \"2015-03-15\" \n",
    "end= \"2021-04-23\"\n",
    "\n",
    "#multi_stock_history = yf.download(ticker, start=start, end=end, progress=False)\n",
    "#multi_stock_history.isnull().sum(axis=1)\n",
    "\n",
    "stock_history = yf.download(ticker, start=start, end=end, progress=False)\n",
    "stock_history.isnull().sum(axis=1)"
   ]
  },
  {
   "cell_type": "code",
   "execution_count": 4,
   "metadata": {},
   "outputs": [
    {
     "output_type": "execute_result",
     "data": {
      "text/plain": [
       "             Open   High     Low  Close  Adj Close  Volume Ticker\n",
       "Date                                                             \n",
       "2021-04-16  14.00  14.10  13.595  14.05      14.05  313300   POTX\n",
       "2021-04-19  14.05  14.51  13.809  14.21      14.21  314100   POTX\n",
       "2021-04-20  14.40  14.41  13.290  13.43      13.43  426700   POTX\n",
       "2021-04-21  13.25  13.99  13.180  13.90      13.90  235300   POTX\n",
       "2021-04-22  13.95  14.15  13.700  13.95      13.95  208500   POTX"
      ],
      "text/html": "<div>\n<style scoped>\n    .dataframe tbody tr th:only-of-type {\n        vertical-align: middle;\n    }\n\n    .dataframe tbody tr th {\n        vertical-align: top;\n    }\n\n    .dataframe thead th {\n        text-align: right;\n    }\n</style>\n<table border=\"1\" class=\"dataframe\">\n  <thead>\n    <tr style=\"text-align: right;\">\n      <th></th>\n      <th>Open</th>\n      <th>High</th>\n      <th>Low</th>\n      <th>Close</th>\n      <th>Adj Close</th>\n      <th>Volume</th>\n      <th>Ticker</th>\n    </tr>\n    <tr>\n      <th>Date</th>\n      <th></th>\n      <th></th>\n      <th></th>\n      <th></th>\n      <th></th>\n      <th></th>\n      <th></th>\n    </tr>\n  </thead>\n  <tbody>\n    <tr>\n      <th>2021-04-16</th>\n      <td>14.00</td>\n      <td>14.10</td>\n      <td>13.595</td>\n      <td>14.05</td>\n      <td>14.05</td>\n      <td>313300</td>\n      <td>POTX</td>\n    </tr>\n    <tr>\n      <th>2021-04-19</th>\n      <td>14.05</td>\n      <td>14.51</td>\n      <td>13.809</td>\n      <td>14.21</td>\n      <td>14.21</td>\n      <td>314100</td>\n      <td>POTX</td>\n    </tr>\n    <tr>\n      <th>2021-04-20</th>\n      <td>14.40</td>\n      <td>14.41</td>\n      <td>13.290</td>\n      <td>13.43</td>\n      <td>13.43</td>\n      <td>426700</td>\n      <td>POTX</td>\n    </tr>\n    <tr>\n      <th>2021-04-21</th>\n      <td>13.25</td>\n      <td>13.99</td>\n      <td>13.180</td>\n      <td>13.90</td>\n      <td>13.90</td>\n      <td>235300</td>\n      <td>POTX</td>\n    </tr>\n    <tr>\n      <th>2021-04-22</th>\n      <td>13.95</td>\n      <td>14.15</td>\n      <td>13.700</td>\n      <td>13.95</td>\n      <td>13.95</td>\n      <td>208500</td>\n      <td>POTX</td>\n    </tr>\n  </tbody>\n</table>\n</div>"
     },
     "metadata": {},
     "execution_count": 4
    }
   ],
   "source": [
    "# Dataframe of historical stock prices\n",
    "\n",
    "#multi_stock_history.tail()\n",
    "stock_history[\"Ticker\"] = ticker\n",
    "stock_history.tail()"
   ]
  },
  {
   "cell_type": "code",
   "execution_count": 5,
   "metadata": {},
   "outputs": [
    {
     "output_type": "execute_result",
     "data": {
      "text/plain": [
       "                 Open       High        Low      Close  Adj Close  Volume  \\\n",
       "Date                                                                        \n",
       "2019-09-27  22.570000  22.610001  21.850000  21.974001  20.549049    6100   \n",
       "2019-09-30  21.830000  21.830000  20.850000  20.929001  19.571814    5000   \n",
       "2019-10-01  20.790001  20.790001  19.959999  20.000000  18.703056    7600   \n",
       "2019-10-02  20.160000  20.490000  19.139999  20.145000  18.838654    5800   \n",
       "2019-10-03  20.070000  20.903000  20.070000  20.903000  19.547499     400   \n",
       "...               ...        ...        ...        ...        ...     ...   \n",
       "2021-04-16  14.000000  14.100000  13.595000  14.050000  14.050000  313300   \n",
       "2021-04-19  14.050000  14.510000  13.809000  14.210000  14.210000  314100   \n",
       "2021-04-20  14.400000  14.410000  13.290000  13.430000  13.430000  426700   \n",
       "2021-04-21  13.250000  13.990000  13.180000  13.900000  13.900000  235300   \n",
       "2021-04-22  13.950000  14.150000  13.700000  13.950000  13.950000  208500   \n",
       "\n",
       "           Ticker  \n",
       "Date               \n",
       "2019-09-27   POTX  \n",
       "2019-09-30   POTX  \n",
       "2019-10-01   POTX  \n",
       "2019-10-02   POTX  \n",
       "2019-10-03   POTX  \n",
       "...           ...  \n",
       "2021-04-16   POTX  \n",
       "2021-04-19   POTX  \n",
       "2021-04-20   POTX  \n",
       "2021-04-21   POTX  \n",
       "2021-04-22   POTX  \n",
       "\n",
       "[395 rows x 7 columns]"
      ],
      "text/html": "<div>\n<style scoped>\n    .dataframe tbody tr th:only-of-type {\n        vertical-align: middle;\n    }\n\n    .dataframe tbody tr th {\n        vertical-align: top;\n    }\n\n    .dataframe thead th {\n        text-align: right;\n    }\n</style>\n<table border=\"1\" class=\"dataframe\">\n  <thead>\n    <tr style=\"text-align: right;\">\n      <th></th>\n      <th>Open</th>\n      <th>High</th>\n      <th>Low</th>\n      <th>Close</th>\n      <th>Adj Close</th>\n      <th>Volume</th>\n      <th>Ticker</th>\n    </tr>\n    <tr>\n      <th>Date</th>\n      <th></th>\n      <th></th>\n      <th></th>\n      <th></th>\n      <th></th>\n      <th></th>\n      <th></th>\n    </tr>\n  </thead>\n  <tbody>\n    <tr>\n      <th>2019-09-27</th>\n      <td>22.570000</td>\n      <td>22.610001</td>\n      <td>21.850000</td>\n      <td>21.974001</td>\n      <td>20.549049</td>\n      <td>6100</td>\n      <td>POTX</td>\n    </tr>\n    <tr>\n      <th>2019-09-30</th>\n      <td>21.830000</td>\n      <td>21.830000</td>\n      <td>20.850000</td>\n      <td>20.929001</td>\n      <td>19.571814</td>\n      <td>5000</td>\n      <td>POTX</td>\n    </tr>\n    <tr>\n      <th>2019-10-01</th>\n      <td>20.790001</td>\n      <td>20.790001</td>\n      <td>19.959999</td>\n      <td>20.000000</td>\n      <td>18.703056</td>\n      <td>7600</td>\n      <td>POTX</td>\n    </tr>\n    <tr>\n      <th>2019-10-02</th>\n      <td>20.160000</td>\n      <td>20.490000</td>\n      <td>19.139999</td>\n      <td>20.145000</td>\n      <td>18.838654</td>\n      <td>5800</td>\n      <td>POTX</td>\n    </tr>\n    <tr>\n      <th>2019-10-03</th>\n      <td>20.070000</td>\n      <td>20.903000</td>\n      <td>20.070000</td>\n      <td>20.903000</td>\n      <td>19.547499</td>\n      <td>400</td>\n      <td>POTX</td>\n    </tr>\n    <tr>\n      <th>...</th>\n      <td>...</td>\n      <td>...</td>\n      <td>...</td>\n      <td>...</td>\n      <td>...</td>\n      <td>...</td>\n      <td>...</td>\n    </tr>\n    <tr>\n      <th>2021-04-16</th>\n      <td>14.000000</td>\n      <td>14.100000</td>\n      <td>13.595000</td>\n      <td>14.050000</td>\n      <td>14.050000</td>\n      <td>313300</td>\n      <td>POTX</td>\n    </tr>\n    <tr>\n      <th>2021-04-19</th>\n      <td>14.050000</td>\n      <td>14.510000</td>\n      <td>13.809000</td>\n      <td>14.210000</td>\n      <td>14.210000</td>\n      <td>314100</td>\n      <td>POTX</td>\n    </tr>\n    <tr>\n      <th>2021-04-20</th>\n      <td>14.400000</td>\n      <td>14.410000</td>\n      <td>13.290000</td>\n      <td>13.430000</td>\n      <td>13.430000</td>\n      <td>426700</td>\n      <td>POTX</td>\n    </tr>\n    <tr>\n      <th>2021-04-21</th>\n      <td>13.250000</td>\n      <td>13.990000</td>\n      <td>13.180000</td>\n      <td>13.900000</td>\n      <td>13.900000</td>\n      <td>235300</td>\n      <td>POTX</td>\n    </tr>\n    <tr>\n      <th>2021-04-22</th>\n      <td>13.950000</td>\n      <td>14.150000</td>\n      <td>13.700000</td>\n      <td>13.950000</td>\n      <td>13.950000</td>\n      <td>208500</td>\n      <td>POTX</td>\n    </tr>\n  </tbody>\n</table>\n<p>395 rows × 7 columns</p>\n</div>"
     },
     "metadata": {},
     "execution_count": 5
    }
   ],
   "source": [
    "# Read in Adj Close prices\n",
    "stock_history_close = stock_history[[\"Adj Close\"]]\n",
    "stock_history"
   ]
  },
  {
   "cell_type": "code",
   "execution_count": 6,
   "metadata": {},
   "outputs": [],
   "source": [
    "# Print csv files for either single or multi stock prices\n",
    "\n",
    "#multi_stock_history_close.to_csv('../Resources/multi_stock_prices.csv')\n",
    "\n",
    "stock_history_close.to_csv('../Resources/VIX_stock_historical_prices.csv')"
   ]
  },
  {
   "cell_type": "code",
   "execution_count": null,
   "metadata": {},
   "outputs": [],
   "source": []
  }
 ]
}