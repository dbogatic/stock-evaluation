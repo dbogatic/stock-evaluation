{
 "metadata": {
  "language_info": {
   "codemirror_mode": {
    "name": "ipython",
    "version": 3
   },
   "file_extension": ".py",
   "mimetype": "text/x-python",
   "name": "python",
   "nbconvert_exporter": "python",
   "pygments_lexer": "ipython3",
   "version": "3.7.9"
  },
  "orig_nbformat": 2,
  "kernelspec": {
   "name": "python3",
   "display_name": "Python 3",
   "language": "python"
  }
 },
 "nbformat": 4,
 "nbformat_minor": 2,
 "cells": [
  {
   "cell_type": "code",
   "execution_count": 1,
   "metadata": {},
   "outputs": [],
   "source": [
    "# Import libraries\n",
    "import yfinance as yf\n",
    "from yahoofinancials import YahooFinancials\n",
    "import pandas as pd"
   ]
  },
  {
   "cell_type": "code",
   "execution_count": 2,
   "metadata": {},
   "outputs": [
    {
     "output_type": "execute_result",
     "data": {
      "text/plain": [
       "Date\n",
       "2015-03-18    0\n",
       "2015-03-19    0\n",
       "2015-03-20    0\n",
       "2015-03-23    0\n",
       "2015-03-24    0\n",
       "             ..\n",
       "2021-03-15    0\n",
       "2021-03-16    0\n",
       "2021-03-17    0\n",
       "2021-03-18    0\n",
       "2021-03-19    0\n",
       "Length: 1513, dtype: int64"
      ]
     },
     "metadata": {},
     "execution_count": 2
    }
   ],
   "source": [
    "# Input one or several stock tickers to obtain historical stock prices\n",
    "\n",
    "#multi_stock_history = yf.download(\"SPY LQD VNQ KOIN\", start=\"2018-02-01\", end=\"2021-03-21\", progress=False)\n",
    "\n",
    "stock_history = yf.download(\"SPY\", start=\"2015-03-18\", end=\"2021-03-21\", progress=False)\n",
    "\n",
    "stock_history.isnull().sum(axis=1)"
   ]
  },
  {
   "cell_type": "code",
   "execution_count": 3,
   "metadata": {},
   "outputs": [
    {
     "output_type": "execute_result",
     "data": {
      "text/plain": [
       "                  Open        High         Low       Close   Adj Close  \\\n",
       "Date                                                                     \n",
       "2021-03-15  394.329987  396.690002  392.029999  396.410004  395.115906   \n",
       "2021-03-16  397.070007  397.829987  395.079987  395.910004  394.617523   \n",
       "2021-03-17  394.529999  398.119995  393.299988  397.260010  395.963135   \n",
       "2021-03-18  394.480011  396.720001  390.750000  391.480011  390.201996   \n",
       "2021-03-19  389.880005  391.570007  387.149994  389.480011  389.480011   \n",
       "\n",
       "               Volume  \n",
       "Date                   \n",
       "2021-03-15   73427200  \n",
       "2021-03-16   72958000  \n",
       "2021-03-17   91822000  \n",
       "2021-03-18  115112500  \n",
       "2021-03-19  112777800  "
      ],
      "text/html": "<div>\n<style scoped>\n    .dataframe tbody tr th:only-of-type {\n        vertical-align: middle;\n    }\n\n    .dataframe tbody tr th {\n        vertical-align: top;\n    }\n\n    .dataframe thead th {\n        text-align: right;\n    }\n</style>\n<table border=\"1\" class=\"dataframe\">\n  <thead>\n    <tr style=\"text-align: right;\">\n      <th></th>\n      <th>Open</th>\n      <th>High</th>\n      <th>Low</th>\n      <th>Close</th>\n      <th>Adj Close</th>\n      <th>Volume</th>\n    </tr>\n    <tr>\n      <th>Date</th>\n      <th></th>\n      <th></th>\n      <th></th>\n      <th></th>\n      <th></th>\n      <th></th>\n    </tr>\n  </thead>\n  <tbody>\n    <tr>\n      <th>2021-03-15</th>\n      <td>394.329987</td>\n      <td>396.690002</td>\n      <td>392.029999</td>\n      <td>396.410004</td>\n      <td>395.115906</td>\n      <td>73427200</td>\n    </tr>\n    <tr>\n      <th>2021-03-16</th>\n      <td>397.070007</td>\n      <td>397.829987</td>\n      <td>395.079987</td>\n      <td>395.910004</td>\n      <td>394.617523</td>\n      <td>72958000</td>\n    </tr>\n    <tr>\n      <th>2021-03-17</th>\n      <td>394.529999</td>\n      <td>398.119995</td>\n      <td>393.299988</td>\n      <td>397.260010</td>\n      <td>395.963135</td>\n      <td>91822000</td>\n    </tr>\n    <tr>\n      <th>2021-03-18</th>\n      <td>394.480011</td>\n      <td>396.720001</td>\n      <td>390.750000</td>\n      <td>391.480011</td>\n      <td>390.201996</td>\n      <td>115112500</td>\n    </tr>\n    <tr>\n      <th>2021-03-19</th>\n      <td>389.880005</td>\n      <td>391.570007</td>\n      <td>387.149994</td>\n      <td>389.480011</td>\n      <td>389.480011</td>\n      <td>112777800</td>\n    </tr>\n  </tbody>\n</table>\n</div>"
     },
     "metadata": {},
     "execution_count": 3
    }
   ],
   "source": [
    "# Dataframe of historical stock prices\n",
    "stock_history.tail()"
   ]
  },
  {
   "cell_type": "code",
   "execution_count": 4,
   "metadata": {},
   "outputs": [
    {
     "output_type": "execute_result",
     "data": {
      "text/plain": [
       "Date\n",
       "2021-03-15    395.115906\n",
       "2021-03-16    394.617523\n",
       "2021-03-17    395.963135\n",
       "2021-03-18    390.201996\n",
       "2021-03-19    389.480011\n",
       "Name: Adj Close, dtype: float64"
      ]
     },
     "metadata": {},
     "execution_count": 4
    }
   ],
   "source": [
    "# Read in Adj Close prices\n",
    "stock_history_close = stock_history['Adj Close']\n",
    "stock_history_close.tail()"
   ]
  },
  {
   "cell_type": "code",
   "execution_count": 5,
   "metadata": {},
   "outputs": [],
   "source": [
    "# Print csv files for either single or multi stock prices\n",
    "\n",
    "#multi_stock_history_close.to_csv('resources/multi_stock_prices.csv')\n"
   ]
  },
  {
   "cell_type": "code",
   "execution_count": 7,
   "metadata": {},
   "outputs": [],
   "source": [
    "stock_history_close.to_csv('../Resources/stock_historical_prices.csv')"
   ]
  }
 ]
}