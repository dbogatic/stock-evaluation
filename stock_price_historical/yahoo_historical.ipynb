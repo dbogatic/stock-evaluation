{
 "metadata": {
  "language_info": {
   "codemirror_mode": {
    "name": "ipython",
    "version": 3
   },
   "file_extension": ".py",
   "mimetype": "text/x-python",
   "name": "python",
   "nbconvert_exporter": "python",
   "pygments_lexer": "ipython3",
   "version": "3.7.9"
  },
  "orig_nbformat": 2,
  "kernelspec": {
   "name": "python379jvsc74a57bd01d1365bc7bea9ca53bbaaff2a498c5cc15b63a6fcc47bade387e2edfe7e7b068",
   "display_name": "Python 3.7.9 64-bit ('algotrading': conda)"
  }
 },
 "nbformat": 4,
 "nbformat_minor": 2,
 "cells": [
  {
   "source": [
    "# Historical Stock Prices"
   ],
   "cell_type": "markdown",
   "metadata": {}
  },
  {
   "cell_type": "code",
   "execution_count": 2,
   "metadata": {},
   "outputs": [],
   "source": [
    "# Import libraries\n",
    "import yfinance as yf\n",
    "from yahoofinancials import YahooFinancials\n",
    "import pandas as pd"
   ]
  },
  {
   "cell_type": "code",
   "execution_count": 3,
   "metadata": {},
   "outputs": [
    {
     "output_type": "execute_result",
     "data": {
      "text/plain": [
       "Date\n",
       "2015-03-18    0\n",
       "2015-03-19    0\n",
       "2015-03-20    0\n",
       "2015-03-23    0\n",
       "2015-03-24    0\n",
       "             ..\n",
       "2018-01-22    0\n",
       "2018-01-23    0\n",
       "2018-01-26    0\n",
       "2018-01-30    0\n",
       "2018-01-31    0\n",
       "Length: 718, dtype: int64"
      ]
     },
     "metadata": {},
     "execution_count": 3
    }
   ],
   "source": [
    "# Input one or several stock tickers to obtain historical stock prices\n",
    "ticker = \"VIX\" \n",
    "start= \"2015-03-18\" \n",
    "end= \"2021-03-21\"\n",
    "\n",
    "#multi_stock_history = yf.download(ticker, start=start, end=end, progress=False)\n",
    "#multi_stock_history.isnull().sum(axis=1)\n",
    "\n",
    "stock_history = yf.download(ticker, start=start, end=end, progress=False)\n",
    "stock_history.isnull().sum(axis=1)"
   ]
  },
  {
   "cell_type": "code",
   "execution_count": 4,
   "metadata": {},
   "outputs": [
    {
     "output_type": "execute_result",
     "data": {
      "text/plain": [
       "              Open     High     Low   Close  Adj Close  Volume Ticker\n",
       "Date                                                                 \n",
       "2018-01-22  9900.0  10000.0  9600.0  9800.0     9800.0  257523    VIX\n",
       "2018-01-23  9900.0   9900.0  9700.0  9900.0     9900.0  184915    VIX\n",
       "2018-01-26  9300.0   9500.0  8400.0  9300.0     9300.0  277990    VIX\n",
       "2018-01-30  9700.0   9700.0  9300.0  9300.0     9300.0  311049    VIX\n",
       "2018-01-31  9400.0   9400.0  9100.0  9300.0     9300.0   82483    VIX"
      ],
      "text/html": "<div>\n<style scoped>\n    .dataframe tbody tr th:only-of-type {\n        vertical-align: middle;\n    }\n\n    .dataframe tbody tr th {\n        vertical-align: top;\n    }\n\n    .dataframe thead th {\n        text-align: right;\n    }\n</style>\n<table border=\"1\" class=\"dataframe\">\n  <thead>\n    <tr style=\"text-align: right;\">\n      <th></th>\n      <th>Open</th>\n      <th>High</th>\n      <th>Low</th>\n      <th>Close</th>\n      <th>Adj Close</th>\n      <th>Volume</th>\n      <th>Ticker</th>\n    </tr>\n    <tr>\n      <th>Date</th>\n      <th></th>\n      <th></th>\n      <th></th>\n      <th></th>\n      <th></th>\n      <th></th>\n      <th></th>\n    </tr>\n  </thead>\n  <tbody>\n    <tr>\n      <th>2018-01-22</th>\n      <td>9900.0</td>\n      <td>10000.0</td>\n      <td>9600.0</td>\n      <td>9800.0</td>\n      <td>9800.0</td>\n      <td>257523</td>\n      <td>VIX</td>\n    </tr>\n    <tr>\n      <th>2018-01-23</th>\n      <td>9900.0</td>\n      <td>9900.0</td>\n      <td>9700.0</td>\n      <td>9900.0</td>\n      <td>9900.0</td>\n      <td>184915</td>\n      <td>VIX</td>\n    </tr>\n    <tr>\n      <th>2018-01-26</th>\n      <td>9300.0</td>\n      <td>9500.0</td>\n      <td>8400.0</td>\n      <td>9300.0</td>\n      <td>9300.0</td>\n      <td>277990</td>\n      <td>VIX</td>\n    </tr>\n    <tr>\n      <th>2018-01-30</th>\n      <td>9700.0</td>\n      <td>9700.0</td>\n      <td>9300.0</td>\n      <td>9300.0</td>\n      <td>9300.0</td>\n      <td>311049</td>\n      <td>VIX</td>\n    </tr>\n    <tr>\n      <th>2018-01-31</th>\n      <td>9400.0</td>\n      <td>9400.0</td>\n      <td>9100.0</td>\n      <td>9300.0</td>\n      <td>9300.0</td>\n      <td>82483</td>\n      <td>VIX</td>\n    </tr>\n  </tbody>\n</table>\n</div>"
     },
     "metadata": {},
     "execution_count": 4
    }
   ],
   "source": [
    "# Dataframe of historical stock prices\n",
    "\n",
    "#multi_stock_history.tail()\n",
    "stock_history[\"Ticker\"] = ticker\n",
    "stock_history.tail()"
   ]
  },
  {
   "cell_type": "code",
   "execution_count": 5,
   "metadata": {},
   "outputs": [
    {
     "output_type": "execute_result",
     "data": {
      "text/plain": [
       "                    Open          High           Low         Close  \\\n",
       "Date                                                                 \n",
       "2015-03-18  12863.299805  13028.200195  12698.400391  12863.299805   \n",
       "2015-03-19  12698.400391  13110.700195  12698.400391  12698.400391   \n",
       "2015-03-20  12451.000000  12780.900391  12368.599609  12698.400391   \n",
       "2015-03-23  12616.000000  13028.200195  12451.000000  12616.000000   \n",
       "2015-03-24  12616.000000  12616.000000  12616.000000  12616.000000   \n",
       "...                  ...           ...           ...           ...   \n",
       "2018-01-22   9900.000000  10000.000000   9600.000000   9800.000000   \n",
       "2018-01-23   9900.000000   9900.000000   9700.000000   9900.000000   \n",
       "2018-01-26   9300.000000   9500.000000   8400.000000   9300.000000   \n",
       "2018-01-30   9700.000000   9700.000000   9300.000000   9300.000000   \n",
       "2018-01-31   9400.000000   9400.000000   9100.000000   9300.000000   \n",
       "\n",
       "               Adj Close   Volume Ticker  \n",
       "Date                                      \n",
       "2015-03-18  12863.299805   916233    VIX  \n",
       "2015-03-19  12698.400391  1280688    VIX  \n",
       "2015-03-20  12698.400391   670772    VIX  \n",
       "2015-03-23  12616.000000   910411    VIX  \n",
       "2015-03-24  12616.000000        0    VIX  \n",
       "...                  ...      ...    ...  \n",
       "2018-01-22   9800.000000   257523    VIX  \n",
       "2018-01-23   9900.000000   184915    VIX  \n",
       "2018-01-26   9300.000000   277990    VIX  \n",
       "2018-01-30   9300.000000   311049    VIX  \n",
       "2018-01-31   9300.000000    82483    VIX  \n",
       "\n",
       "[718 rows x 7 columns]"
      ],
      "text/html": "<div>\n<style scoped>\n    .dataframe tbody tr th:only-of-type {\n        vertical-align: middle;\n    }\n\n    .dataframe tbody tr th {\n        vertical-align: top;\n    }\n\n    .dataframe thead th {\n        text-align: right;\n    }\n</style>\n<table border=\"1\" class=\"dataframe\">\n  <thead>\n    <tr style=\"text-align: right;\">\n      <th></th>\n      <th>Open</th>\n      <th>High</th>\n      <th>Low</th>\n      <th>Close</th>\n      <th>Adj Close</th>\n      <th>Volume</th>\n      <th>Ticker</th>\n    </tr>\n    <tr>\n      <th>Date</th>\n      <th></th>\n      <th></th>\n      <th></th>\n      <th></th>\n      <th></th>\n      <th></th>\n      <th></th>\n    </tr>\n  </thead>\n  <tbody>\n    <tr>\n      <th>2015-03-18</th>\n      <td>12863.299805</td>\n      <td>13028.200195</td>\n      <td>12698.400391</td>\n      <td>12863.299805</td>\n      <td>12863.299805</td>\n      <td>916233</td>\n      <td>VIX</td>\n    </tr>\n    <tr>\n      <th>2015-03-19</th>\n      <td>12698.400391</td>\n      <td>13110.700195</td>\n      <td>12698.400391</td>\n      <td>12698.400391</td>\n      <td>12698.400391</td>\n      <td>1280688</td>\n      <td>VIX</td>\n    </tr>\n    <tr>\n      <th>2015-03-20</th>\n      <td>12451.000000</td>\n      <td>12780.900391</td>\n      <td>12368.599609</td>\n      <td>12698.400391</td>\n      <td>12698.400391</td>\n      <td>670772</td>\n      <td>VIX</td>\n    </tr>\n    <tr>\n      <th>2015-03-23</th>\n      <td>12616.000000</td>\n      <td>13028.200195</td>\n      <td>12451.000000</td>\n      <td>12616.000000</td>\n      <td>12616.000000</td>\n      <td>910411</td>\n      <td>VIX</td>\n    </tr>\n    <tr>\n      <th>2015-03-24</th>\n      <td>12616.000000</td>\n      <td>12616.000000</td>\n      <td>12616.000000</td>\n      <td>12616.000000</td>\n      <td>12616.000000</td>\n      <td>0</td>\n      <td>VIX</td>\n    </tr>\n    <tr>\n      <th>...</th>\n      <td>...</td>\n      <td>...</td>\n      <td>...</td>\n      <td>...</td>\n      <td>...</td>\n      <td>...</td>\n      <td>...</td>\n    </tr>\n    <tr>\n      <th>2018-01-22</th>\n      <td>9900.000000</td>\n      <td>10000.000000</td>\n      <td>9600.000000</td>\n      <td>9800.000000</td>\n      <td>9800.000000</td>\n      <td>257523</td>\n      <td>VIX</td>\n    </tr>\n    <tr>\n      <th>2018-01-23</th>\n      <td>9900.000000</td>\n      <td>9900.000000</td>\n      <td>9700.000000</td>\n      <td>9900.000000</td>\n      <td>9900.000000</td>\n      <td>184915</td>\n      <td>VIX</td>\n    </tr>\n    <tr>\n      <th>2018-01-26</th>\n      <td>9300.000000</td>\n      <td>9500.000000</td>\n      <td>8400.000000</td>\n      <td>9300.000000</td>\n      <td>9300.000000</td>\n      <td>277990</td>\n      <td>VIX</td>\n    </tr>\n    <tr>\n      <th>2018-01-30</th>\n      <td>9700.000000</td>\n      <td>9700.000000</td>\n      <td>9300.000000</td>\n      <td>9300.000000</td>\n      <td>9300.000000</td>\n      <td>311049</td>\n      <td>VIX</td>\n    </tr>\n    <tr>\n      <th>2018-01-31</th>\n      <td>9400.000000</td>\n      <td>9400.000000</td>\n      <td>9100.000000</td>\n      <td>9300.000000</td>\n      <td>9300.000000</td>\n      <td>82483</td>\n      <td>VIX</td>\n    </tr>\n  </tbody>\n</table>\n<p>718 rows × 7 columns</p>\n</div>"
     },
     "metadata": {},
     "execution_count": 5
    }
   ],
   "source": [
    "# Read in Adj Close prices\n",
    "stock_history_close = stock_history[[\"Adj Close\"]]\n",
    "stock_history"
   ]
  },
  {
   "cell_type": "code",
   "execution_count": 6,
   "metadata": {},
   "outputs": [],
   "source": [
    "# Print csv files for either single or multi stock prices\n",
    "\n",
    "#multi_stock_history_close.to_csv('../Resources/multi_stock_prices.csv')\n",
    "\n",
    "stock_history_close.to_csv('../Resources/VIX_stock_historical_prices.csv')"
   ]
  },
  {
   "cell_type": "code",
   "execution_count": null,
   "metadata": {},
   "outputs": [],
   "source": []
  }
 ]
}