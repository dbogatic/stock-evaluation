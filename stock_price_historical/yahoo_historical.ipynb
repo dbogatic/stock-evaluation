{
 "metadata": {
  "language_info": {
   "codemirror_mode": {
    "name": "ipython",
    "version": 3
   },
   "file_extension": ".py",
   "mimetype": "text/x-python",
   "name": "python",
   "nbconvert_exporter": "python",
   "pygments_lexer": "ipython3",
   "version": "3.7.9"
  },
  "orig_nbformat": 2,
  "kernelspec": {
   "name": "python379jvsc74a57bd01d1365bc7bea9ca53bbaaff2a498c5cc15b63a6fcc47bade387e2edfe7e7b068",
   "display_name": "Python 3.7.9 64-bit ('algotrading': conda)"
  }
 },
 "nbformat": 4,
 "nbformat_minor": 2,
 "cells": [
  {
   "source": [
    "# Historical Stock Prices"
   ],
   "cell_type": "markdown",
   "metadata": {}
  },
  {
   "cell_type": "code",
   "execution_count": 1,
   "metadata": {},
   "outputs": [],
   "source": [
    "# Import libraries\n",
    "import yfinance as yf\n",
    "from yahoofinancials import YahooFinancials\n",
    "import pandas as pd"
   ]
  },
  {
   "cell_type": "code",
   "execution_count": 2,
   "metadata": {},
   "outputs": [
    {
     "output_type": "execute_result",
     "data": {
      "text/plain": [
       "Date\n",
       "2015-03-18    0\n",
       "2015-03-19    0\n",
       "2015-03-20    0\n",
       "2015-03-23    0\n",
       "2015-03-24    0\n",
       "             ..\n",
       "2021-03-15    0\n",
       "2021-03-16    0\n",
       "2021-03-17    0\n",
       "2021-03-18    0\n",
       "2021-03-19    0\n",
       "Length: 1513, dtype: int64"
      ]
     },
     "metadata": {},
     "execution_count": 2
    }
   ],
   "source": [
    "# Input one or several stock tickers to obtain historical stock prices\n",
    "ticker = \"SPY\" \n",
    "start= \"2015-03-18\" \n",
    "end= \"2021-03-21\"\n",
    "\n",
    "#multi_stock_history = yf.download(ticker, start=start, end=end, progress=False)\n",
    "#multi_stock_history.isnull().sum(axis=1)\n",
    "\n",
    "stock_history = yf.download(ticker, start=start, end=end, progress=False)\n",
    "stock_history.isnull().sum(axis=1)"
   ]
  },
  {
   "cell_type": "code",
   "execution_count": 3,
   "metadata": {},
   "outputs": [
    {
     "output_type": "execute_result",
     "data": {
      "text/plain": [
       "                  Open        High         Low       Close   Adj Close  \\\n",
       "Date                                                                     \n",
       "2021-03-15  394.329987  396.690002  392.029999  396.410004  395.115906   \n",
       "2021-03-16  397.070007  397.829987  395.079987  395.910004  394.617523   \n",
       "2021-03-17  394.529999  398.119995  393.299988  397.260010  395.963135   \n",
       "2021-03-18  394.480011  396.720001  390.750000  391.480011  390.201996   \n",
       "2021-03-19  389.880005  391.570007  387.149994  389.480011  389.480011   \n",
       "\n",
       "               Volume Ticker  \n",
       "Date                          \n",
       "2021-03-15   73427200    SPY  \n",
       "2021-03-16   72958000    SPY  \n",
       "2021-03-17   91822000    SPY  \n",
       "2021-03-18  115112500    SPY  \n",
       "2021-03-19  112777800    SPY  "
      ],
      "text/html": "<div>\n<style scoped>\n    .dataframe tbody tr th:only-of-type {\n        vertical-align: middle;\n    }\n\n    .dataframe tbody tr th {\n        vertical-align: top;\n    }\n\n    .dataframe thead th {\n        text-align: right;\n    }\n</style>\n<table border=\"1\" class=\"dataframe\">\n  <thead>\n    <tr style=\"text-align: right;\">\n      <th></th>\n      <th>Open</th>\n      <th>High</th>\n      <th>Low</th>\n      <th>Close</th>\n      <th>Adj Close</th>\n      <th>Volume</th>\n      <th>Ticker</th>\n    </tr>\n    <tr>\n      <th>Date</th>\n      <th></th>\n      <th></th>\n      <th></th>\n      <th></th>\n      <th></th>\n      <th></th>\n      <th></th>\n    </tr>\n  </thead>\n  <tbody>\n    <tr>\n      <th>2021-03-15</th>\n      <td>394.329987</td>\n      <td>396.690002</td>\n      <td>392.029999</td>\n      <td>396.410004</td>\n      <td>395.115906</td>\n      <td>73427200</td>\n      <td>SPY</td>\n    </tr>\n    <tr>\n      <th>2021-03-16</th>\n      <td>397.070007</td>\n      <td>397.829987</td>\n      <td>395.079987</td>\n      <td>395.910004</td>\n      <td>394.617523</td>\n      <td>72958000</td>\n      <td>SPY</td>\n    </tr>\n    <tr>\n      <th>2021-03-17</th>\n      <td>394.529999</td>\n      <td>398.119995</td>\n      <td>393.299988</td>\n      <td>397.260010</td>\n      <td>395.963135</td>\n      <td>91822000</td>\n      <td>SPY</td>\n    </tr>\n    <tr>\n      <th>2021-03-18</th>\n      <td>394.480011</td>\n      <td>396.720001</td>\n      <td>390.750000</td>\n      <td>391.480011</td>\n      <td>390.201996</td>\n      <td>115112500</td>\n      <td>SPY</td>\n    </tr>\n    <tr>\n      <th>2021-03-19</th>\n      <td>389.880005</td>\n      <td>391.570007</td>\n      <td>387.149994</td>\n      <td>389.480011</td>\n      <td>389.480011</td>\n      <td>112777800</td>\n      <td>SPY</td>\n    </tr>\n  </tbody>\n</table>\n</div>"
     },
     "metadata": {},
     "execution_count": 3
    }
   ],
   "source": [
    "# Dataframe of historical stock prices\n",
    "\n",
    "#multi_stock_history.tail()\n",
    "stock_history[\"Ticker\"] = ticker\n",
    "stock_history.tail()"
   ]
  },
  {
   "cell_type": "code",
   "execution_count": 6,
   "metadata": {},
   "outputs": [
    {
     "output_type": "execute_result",
     "data": {
      "text/plain": [
       "                  Open        High         Low       Close   Adj Close  \\\n",
       "Date                                                                     \n",
       "2015-03-18  207.389999  211.270004  206.619995  210.460007  186.609985   \n",
       "2015-03-19  209.960007  210.470001  209.029999  209.500000  185.758835   \n",
       "2015-03-20  209.710007  211.020004  209.490005  210.410004  187.398468   \n",
       "2015-03-23  210.419998  211.110001  210.000000  210.000000  187.033279   \n",
       "2015-03-24  209.850006  210.399994  208.740005  208.820007  185.982346   \n",
       "...                ...         ...         ...         ...         ...   \n",
       "2021-03-15  394.329987  396.690002  392.029999  396.410004  395.115906   \n",
       "2021-03-16  397.070007  397.829987  395.079987  395.910004  394.617523   \n",
       "2021-03-17  394.529999  398.119995  393.299988  397.260010  395.963135   \n",
       "2021-03-18  394.480011  396.720001  390.750000  391.480011  390.201996   \n",
       "2021-03-19  389.880005  391.570007  387.149994  389.480011  389.480011   \n",
       "\n",
       "               Volume Ticker  \n",
       "Date                          \n",
       "2015-03-18  228808500    SPY  \n",
       "2015-03-19  117917300    SPY  \n",
       "2015-03-20  177715100    SPY  \n",
       "2015-03-23   71784500    SPY  \n",
       "2015-03-24   77805300    SPY  \n",
       "...               ...    ...  \n",
       "2021-03-15   73427200    SPY  \n",
       "2021-03-16   72958000    SPY  \n",
       "2021-03-17   91822000    SPY  \n",
       "2021-03-18  115112500    SPY  \n",
       "2021-03-19  112777800    SPY  \n",
       "\n",
       "[1513 rows x 7 columns]"
      ],
      "text/html": "<div>\n<style scoped>\n    .dataframe tbody tr th:only-of-type {\n        vertical-align: middle;\n    }\n\n    .dataframe tbody tr th {\n        vertical-align: top;\n    }\n\n    .dataframe thead th {\n        text-align: right;\n    }\n</style>\n<table border=\"1\" class=\"dataframe\">\n  <thead>\n    <tr style=\"text-align: right;\">\n      <th></th>\n      <th>Open</th>\n      <th>High</th>\n      <th>Low</th>\n      <th>Close</th>\n      <th>Adj Close</th>\n      <th>Volume</th>\n      <th>Ticker</th>\n    </tr>\n    <tr>\n      <th>Date</th>\n      <th></th>\n      <th></th>\n      <th></th>\n      <th></th>\n      <th></th>\n      <th></th>\n      <th></th>\n    </tr>\n  </thead>\n  <tbody>\n    <tr>\n      <th>2015-03-18</th>\n      <td>207.389999</td>\n      <td>211.270004</td>\n      <td>206.619995</td>\n      <td>210.460007</td>\n      <td>186.609985</td>\n      <td>228808500</td>\n      <td>SPY</td>\n    </tr>\n    <tr>\n      <th>2015-03-19</th>\n      <td>209.960007</td>\n      <td>210.470001</td>\n      <td>209.029999</td>\n      <td>209.500000</td>\n      <td>185.758835</td>\n      <td>117917300</td>\n      <td>SPY</td>\n    </tr>\n    <tr>\n      <th>2015-03-20</th>\n      <td>209.710007</td>\n      <td>211.020004</td>\n      <td>209.490005</td>\n      <td>210.410004</td>\n      <td>187.398468</td>\n      <td>177715100</td>\n      <td>SPY</td>\n    </tr>\n    <tr>\n      <th>2015-03-23</th>\n      <td>210.419998</td>\n      <td>211.110001</td>\n      <td>210.000000</td>\n      <td>210.000000</td>\n      <td>187.033279</td>\n      <td>71784500</td>\n      <td>SPY</td>\n    </tr>\n    <tr>\n      <th>2015-03-24</th>\n      <td>209.850006</td>\n      <td>210.399994</td>\n      <td>208.740005</td>\n      <td>208.820007</td>\n      <td>185.982346</td>\n      <td>77805300</td>\n      <td>SPY</td>\n    </tr>\n    <tr>\n      <th>...</th>\n      <td>...</td>\n      <td>...</td>\n      <td>...</td>\n      <td>...</td>\n      <td>...</td>\n      <td>...</td>\n      <td>...</td>\n    </tr>\n    <tr>\n      <th>2021-03-15</th>\n      <td>394.329987</td>\n      <td>396.690002</td>\n      <td>392.029999</td>\n      <td>396.410004</td>\n      <td>395.115906</td>\n      <td>73427200</td>\n      <td>SPY</td>\n    </tr>\n    <tr>\n      <th>2021-03-16</th>\n      <td>397.070007</td>\n      <td>397.829987</td>\n      <td>395.079987</td>\n      <td>395.910004</td>\n      <td>394.617523</td>\n      <td>72958000</td>\n      <td>SPY</td>\n    </tr>\n    <tr>\n      <th>2021-03-17</th>\n      <td>394.529999</td>\n      <td>398.119995</td>\n      <td>393.299988</td>\n      <td>397.260010</td>\n      <td>395.963135</td>\n      <td>91822000</td>\n      <td>SPY</td>\n    </tr>\n    <tr>\n      <th>2021-03-18</th>\n      <td>394.480011</td>\n      <td>396.720001</td>\n      <td>390.750000</td>\n      <td>391.480011</td>\n      <td>390.201996</td>\n      <td>115112500</td>\n      <td>SPY</td>\n    </tr>\n    <tr>\n      <th>2021-03-19</th>\n      <td>389.880005</td>\n      <td>391.570007</td>\n      <td>387.149994</td>\n      <td>389.480011</td>\n      <td>389.480011</td>\n      <td>112777800</td>\n      <td>SPY</td>\n    </tr>\n  </tbody>\n</table>\n<p>1513 rows × 7 columns</p>\n</div>"
     },
     "metadata": {},
     "execution_count": 6
    }
   ],
   "source": [
    "# Read in Adj Close prices\n",
    "stock_history_close = stock_history[[\"Adj Close\"]]\n",
    "stock_history"
   ]
  },
  {
   "cell_type": "code",
   "execution_count": 5,
   "metadata": {},
   "outputs": [],
   "source": [
    "# Print csv files for either single or multi stock prices\n",
    "\n",
    "#multi_stock_history_close.to_csv('../Resources/multi_stock_prices.csv')\n",
    "\n",
    "#stock_history_close.to_csv('../Resources/stock_historical_prices.csv')"
   ]
  },
  {
   "cell_type": "code",
   "execution_count": null,
   "metadata": {},
   "outputs": [],
   "source": []
  }
 ]
}