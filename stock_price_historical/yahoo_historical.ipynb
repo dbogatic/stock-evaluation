{
 "metadata": {
  "language_info": {
   "codemirror_mode": {
    "name": "ipython",
    "version": 3
   },
   "file_extension": ".py",
   "mimetype": "text/x-python",
   "name": "python",
   "nbconvert_exporter": "python",
   "pygments_lexer": "ipython3",
   "version": "3.7.9"
  },
  "orig_nbformat": 2,
  "kernelspec": {
   "name": "python3",
   "display_name": "Python 3.7.9 64-bit ('algotrading': conda)"
  },
  "interpreter": {
   "hash": "1d1365bc7bea9ca53bbaaff2a498c5cc15b63a6fcc47bade387e2edfe7e7b068"
  }
 },
 "nbformat": 4,
 "nbformat_minor": 2,
 "cells": [
  {
   "cell_type": "markdown",
   "source": [
    "# Historical Stock Prices"
   ],
   "metadata": {}
  },
  {
   "cell_type": "code",
   "execution_count": 2,
   "source": [
    "# Import libraries\n",
    "import yfinance as yf\n",
    "from yahoofinancials import YahooFinancials\n",
    "import pandas as pd"
   ],
   "outputs": [],
   "metadata": {}
  },
  {
   "cell_type": "code",
   "execution_count": 3,
   "source": [
    "# Input one or several stock tickers to obtain historical stock prices\n",
    "ticker = \"BRK-B\" \n",
    "start= \"2015-08-07\" \n",
    "end= \"2021-07-20\"\n",
    "\n",
    "# for multi ticker\n",
    "#multi_stock_history = yf.download(ticker, start=start, end=end, progress=False)\n",
    "#multi_stock_history.isnull().sum(axis=1)\n",
    "\n",
    "# for single ticker \n",
    "stock_history = yf.download(ticker, start=start, end=end, progress=False)\n",
    "stock_history.isnull().sum(axis=1)"
   ],
   "outputs": [
    {
     "output_type": "execute_result",
     "data": {
      "text/plain": [
       "Date\n",
       "2015-08-07    0\n",
       "2015-08-10    0\n",
       "2015-08-11    0\n",
       "2015-08-12    0\n",
       "2015-08-13    0\n",
       "             ..\n",
       "2021-07-13    0\n",
       "2021-07-14    0\n",
       "2021-07-15    0\n",
       "2021-07-16    0\n",
       "2021-07-19    0\n",
       "Length: 1497, dtype: int64"
      ]
     },
     "metadata": {},
     "execution_count": 3
    }
   ],
   "metadata": {}
  },
  {
   "cell_type": "code",
   "execution_count": 6,
   "source": [
    "# Dataframe of historical stock prices\n",
    "\n",
    "#multi_stock_history.tail()\n",
    "\n",
    "# for single ticker\n",
    "stock_history[\"Ticker\"] = ticker\n",
    "stock_history.tail()"
   ],
   "outputs": [
    {
     "output_type": "execute_result",
     "data": {
      "text/plain": [
       "                  Open        High         Low       Close   Adj Close  \\\n",
       "Date                                                                     \n",
       "2021-07-13  280.109985  280.410004  278.359985  279.209991  279.209991   \n",
       "2021-07-14  279.070007  280.760010  277.769989  278.309998  278.309998   \n",
       "2021-07-15  277.130005  280.640015  277.089996  279.720001  279.720001   \n",
       "2021-07-16  280.929993  280.929993  277.220001  277.899994  277.899994   \n",
       "2021-07-19  274.209991  275.500000  270.730011  272.660004  272.660004   \n",
       "\n",
       "             Volume Ticker  \n",
       "Date                        \n",
       "2021-07-13  3136300  BRK-B  \n",
       "2021-07-14  4108000  BRK-B  \n",
       "2021-07-15  3274700  BRK-B  \n",
       "2021-07-16  3436100  BRK-B  \n",
       "2021-07-19  5231900  BRK-B  "
      ],
      "text/html": [
       "<div>\n",
       "<style scoped>\n",
       "    .dataframe tbody tr th:only-of-type {\n",
       "        vertical-align: middle;\n",
       "    }\n",
       "\n",
       "    .dataframe tbody tr th {\n",
       "        vertical-align: top;\n",
       "    }\n",
       "\n",
       "    .dataframe thead th {\n",
       "        text-align: right;\n",
       "    }\n",
       "</style>\n",
       "<table border=\"1\" class=\"dataframe\">\n",
       "  <thead>\n",
       "    <tr style=\"text-align: right;\">\n",
       "      <th></th>\n",
       "      <th>Open</th>\n",
       "      <th>High</th>\n",
       "      <th>Low</th>\n",
       "      <th>Close</th>\n",
       "      <th>Adj Close</th>\n",
       "      <th>Volume</th>\n",
       "      <th>Ticker</th>\n",
       "    </tr>\n",
       "    <tr>\n",
       "      <th>Date</th>\n",
       "      <th></th>\n",
       "      <th></th>\n",
       "      <th></th>\n",
       "      <th></th>\n",
       "      <th></th>\n",
       "      <th></th>\n",
       "      <th></th>\n",
       "    </tr>\n",
       "  </thead>\n",
       "  <tbody>\n",
       "    <tr>\n",
       "      <th>2021-07-13</th>\n",
       "      <td>280.109985</td>\n",
       "      <td>280.410004</td>\n",
       "      <td>278.359985</td>\n",
       "      <td>279.209991</td>\n",
       "      <td>279.209991</td>\n",
       "      <td>3136300</td>\n",
       "      <td>BRK-B</td>\n",
       "    </tr>\n",
       "    <tr>\n",
       "      <th>2021-07-14</th>\n",
       "      <td>279.070007</td>\n",
       "      <td>280.760010</td>\n",
       "      <td>277.769989</td>\n",
       "      <td>278.309998</td>\n",
       "      <td>278.309998</td>\n",
       "      <td>4108000</td>\n",
       "      <td>BRK-B</td>\n",
       "    </tr>\n",
       "    <tr>\n",
       "      <th>2021-07-15</th>\n",
       "      <td>277.130005</td>\n",
       "      <td>280.640015</td>\n",
       "      <td>277.089996</td>\n",
       "      <td>279.720001</td>\n",
       "      <td>279.720001</td>\n",
       "      <td>3274700</td>\n",
       "      <td>BRK-B</td>\n",
       "    </tr>\n",
       "    <tr>\n",
       "      <th>2021-07-16</th>\n",
       "      <td>280.929993</td>\n",
       "      <td>280.929993</td>\n",
       "      <td>277.220001</td>\n",
       "      <td>277.899994</td>\n",
       "      <td>277.899994</td>\n",
       "      <td>3436100</td>\n",
       "      <td>BRK-B</td>\n",
       "    </tr>\n",
       "    <tr>\n",
       "      <th>2021-07-19</th>\n",
       "      <td>274.209991</td>\n",
       "      <td>275.500000</td>\n",
       "      <td>270.730011</td>\n",
       "      <td>272.660004</td>\n",
       "      <td>272.660004</td>\n",
       "      <td>5231900</td>\n",
       "      <td>BRK-B</td>\n",
       "    </tr>\n",
       "  </tbody>\n",
       "</table>\n",
       "</div>"
      ]
     },
     "metadata": {},
     "execution_count": 6
    }
   ],
   "metadata": {}
  },
  {
   "cell_type": "code",
   "execution_count": 9,
   "source": [
    "# Read in Adj Close prices\n",
    "\n",
    "#multi_stock_history_close = multi_stock_history[\"Adj Close\"].ffill()\n",
    "#multi_stock_history_close\n",
    "\n",
    "# for single ticker\n",
    "stock_history_close = stock_history[\"Adj Close\"].ffill()\n",
    "stock_history_close"
   ],
   "outputs": [
    {
     "output_type": "execute_result",
     "data": {
      "text/plain": [
       "Date\n",
       "2015-08-07    143.550003\n",
       "2015-08-10    143.419998\n",
       "2015-08-11    142.800003\n",
       "2015-08-12    141.600006\n",
       "2015-08-13    141.949997\n",
       "                 ...    \n",
       "2021-07-13    279.209991\n",
       "2021-07-14    278.309998\n",
       "2021-07-15    279.720001\n",
       "2021-07-16    277.899994\n",
       "2021-07-19    272.660004\n",
       "Name: Adj Close, Length: 1497, dtype: float64"
      ]
     },
     "metadata": {},
     "execution_count": 9
    }
   ],
   "metadata": {}
  },
  {
   "cell_type": "code",
   "execution_count": 10,
   "source": [
    "# Print csv files for either single or multi stock prices\n",
    "\n",
    "#multi_stock_history_close.to_csv('../Resources/multi_stock_prices.csv')\n",
    "\n",
    "# for single ticker\n",
    "stock_history_close.to_csv('../Resources/stock_historical_prices.csv')"
   ],
   "outputs": [],
   "metadata": {}
  },
  {
   "cell_type": "code",
   "execution_count": null,
   "source": [],
   "outputs": [],
   "metadata": {}
  }
 ]
}