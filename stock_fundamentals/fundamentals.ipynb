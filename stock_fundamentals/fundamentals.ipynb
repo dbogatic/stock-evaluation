{
 "metadata": {
  "language_info": {
   "codemirror_mode": {
    "name": "ipython",
    "version": 3
   },
   "file_extension": ".py",
   "mimetype": "text/x-python",
   "name": "python",
   "nbconvert_exporter": "python",
   "pygments_lexer": "ipython3",
   "version": "3.7.9"
  },
  "orig_nbformat": 2,
  "kernelspec": {
   "name": "python3",
   "display_name": "Python 3.7.9 64-bit ('algotrading': conda)"
  },
  "interpreter": {
   "hash": "1d1365bc7bea9ca53bbaaff2a498c5cc15b63a6fcc47bade387e2edfe7e7b068"
  }
 },
 "nbformat": 4,
 "nbformat_minor": 2,
 "cells": [
  {
   "cell_type": "markdown",
   "source": [
    "# Stock Fundamentals"
   ],
   "metadata": {}
  },
  {
   "cell_type": "code",
   "execution_count": 1,
   "source": [
    "# Import libraries\n",
    "import yfinance as yf\n",
    "from yahoofinancials import YahooFinancials"
   ],
   "outputs": [],
   "metadata": {}
  },
  {
   "cell_type": "code",
   "execution_count": 2,
   "source": [
    "# Specify stock ticker\n",
    "ticker = 'BRK-B'"
   ],
   "outputs": [],
   "metadata": {}
  },
  {
   "cell_type": "code",
   "execution_count": 3,
   "source": [
    "# Need to call after specifying stock ticker for pulling financial statements from yahoofinancials \n",
    "yahoo_financials = YahooFinancials(ticker)"
   ],
   "outputs": [],
   "metadata": {}
  },
  {
   "cell_type": "code",
   "execution_count": 4,
   "source": [
    "# Download stock price history for the specific time interval\n",
    "stock_history = yf.download(tickers=f\"{ticker}\", start=\"2016-04-01\", end=\"2021-07-20\", progress=False)\n",
    "stock_history.tail()"
   ],
   "outputs": [
    {
     "output_type": "execute_result",
     "data": {
      "text/plain": [
       "                  Open        High         Low       Close   Adj Close  \\\n",
       "Date                                                                     \n",
       "2021-07-13  280.109985  280.410004  278.359985  279.209991  279.209991   \n",
       "2021-07-14  279.070007  280.760010  277.769989  278.309998  278.309998   \n",
       "2021-07-15  277.130005  280.640015  277.089996  279.720001  279.720001   \n",
       "2021-07-16  280.929993  280.929993  277.220001  277.899994  277.899994   \n",
       "2021-07-19  274.209991  275.500000  270.730011  272.660004  272.660004   \n",
       "\n",
       "             Volume  \n",
       "Date                 \n",
       "2021-07-13  3136300  \n",
       "2021-07-14  4108000  \n",
       "2021-07-15  3274700  \n",
       "2021-07-16  3436100  \n",
       "2021-07-19  5231900  "
      ],
      "text/html": [
       "<div>\n",
       "<style scoped>\n",
       "    .dataframe tbody tr th:only-of-type {\n",
       "        vertical-align: middle;\n",
       "    }\n",
       "\n",
       "    .dataframe tbody tr th {\n",
       "        vertical-align: top;\n",
       "    }\n",
       "\n",
       "    .dataframe thead th {\n",
       "        text-align: right;\n",
       "    }\n",
       "</style>\n",
       "<table border=\"1\" class=\"dataframe\">\n",
       "  <thead>\n",
       "    <tr style=\"text-align: right;\">\n",
       "      <th></th>\n",
       "      <th>Open</th>\n",
       "      <th>High</th>\n",
       "      <th>Low</th>\n",
       "      <th>Close</th>\n",
       "      <th>Adj Close</th>\n",
       "      <th>Volume</th>\n",
       "    </tr>\n",
       "    <tr>\n",
       "      <th>Date</th>\n",
       "      <th></th>\n",
       "      <th></th>\n",
       "      <th></th>\n",
       "      <th></th>\n",
       "      <th></th>\n",
       "      <th></th>\n",
       "    </tr>\n",
       "  </thead>\n",
       "  <tbody>\n",
       "    <tr>\n",
       "      <th>2021-07-13</th>\n",
       "      <td>280.109985</td>\n",
       "      <td>280.410004</td>\n",
       "      <td>278.359985</td>\n",
       "      <td>279.209991</td>\n",
       "      <td>279.209991</td>\n",
       "      <td>3136300</td>\n",
       "    </tr>\n",
       "    <tr>\n",
       "      <th>2021-07-14</th>\n",
       "      <td>279.070007</td>\n",
       "      <td>280.760010</td>\n",
       "      <td>277.769989</td>\n",
       "      <td>278.309998</td>\n",
       "      <td>278.309998</td>\n",
       "      <td>4108000</td>\n",
       "    </tr>\n",
       "    <tr>\n",
       "      <th>2021-07-15</th>\n",
       "      <td>277.130005</td>\n",
       "      <td>280.640015</td>\n",
       "      <td>277.089996</td>\n",
       "      <td>279.720001</td>\n",
       "      <td>279.720001</td>\n",
       "      <td>3274700</td>\n",
       "    </tr>\n",
       "    <tr>\n",
       "      <th>2021-07-16</th>\n",
       "      <td>280.929993</td>\n",
       "      <td>280.929993</td>\n",
       "      <td>277.220001</td>\n",
       "      <td>277.899994</td>\n",
       "      <td>277.899994</td>\n",
       "      <td>3436100</td>\n",
       "    </tr>\n",
       "    <tr>\n",
       "      <th>2021-07-19</th>\n",
       "      <td>274.209991</td>\n",
       "      <td>275.500000</td>\n",
       "      <td>270.730011</td>\n",
       "      <td>272.660004</td>\n",
       "      <td>272.660004</td>\n",
       "      <td>5231900</td>\n",
       "    </tr>\n",
       "  </tbody>\n",
       "</table>\n",
       "</div>"
      ]
     },
     "metadata": {},
     "execution_count": 4
    }
   ],
   "metadata": {}
  },
  {
   "cell_type": "code",
   "execution_count": 1,
   "source": [
    "# Need to specify to be able to pull information from yfinance\n",
    "ticker = yf.Ticker(f\"{ticker}\")\n",
    "ticker.info"
   ],
   "outputs": [
    {
     "output_type": "error",
     "ename": "NameError",
     "evalue": "name 'yf' is not defined",
     "traceback": [
      "\u001b[0;31m---------------------------------------------------------------------------\u001b[0m",
      "\u001b[0;31mNameError\u001b[0m                                 Traceback (most recent call last)",
      "\u001b[0;32m<ipython-input-1-3fa8c886737b>\u001b[0m in \u001b[0;36m<module>\u001b[0;34m\u001b[0m\n\u001b[1;32m      1\u001b[0m \u001b[0;31m# Need to specify to be able to pull information from yfinance\u001b[0m\u001b[0;34m\u001b[0m\u001b[0;34m\u001b[0m\u001b[0;34m\u001b[0m\u001b[0m\n\u001b[0;32m----> 2\u001b[0;31m \u001b[0mticker\u001b[0m \u001b[0;34m=\u001b[0m \u001b[0myf\u001b[0m\u001b[0;34m.\u001b[0m\u001b[0mTicker\u001b[0m\u001b[0;34m(\u001b[0m\u001b[0;34mf\"{ticker}\"\u001b[0m\u001b[0;34m)\u001b[0m\u001b[0;34m\u001b[0m\u001b[0;34m\u001b[0m\u001b[0m\n\u001b[0m\u001b[1;32m      3\u001b[0m \u001b[0mticker\u001b[0m\u001b[0;34m.\u001b[0m\u001b[0minfo\u001b[0m\u001b[0;34m\u001b[0m\u001b[0;34m\u001b[0m\u001b[0m\n",
      "\u001b[0;31mNameError\u001b[0m: name 'yf' is not defined"
     ]
    }
   ],
   "metadata": {}
  },
  {
   "cell_type": "code",
   "execution_count": 6,
   "source": [
    "# Lists keys we can call to obtain information\n",
    "ticker.info.keys()"
   ],
   "outputs": [
    {
     "output_type": "execute_result",
     "data": {
      "text/plain": [
       "dict_keys(['zip', 'sector', 'fullTimeEmployees', 'longBusinessSummary', 'city', 'phone', 'state', 'country', 'companyOfficers', 'website', 'maxAge', 'address1', 'industry', 'ebitdaMargins', 'profitMargins', 'grossMargins', 'operatingCashflow', 'revenueGrowth', 'operatingMargins', 'ebitda', 'targetLowPrice', 'recommendationKey', 'grossProfits', 'freeCashflow', 'targetMedianPrice', 'currentPrice', 'earningsGrowth', 'currentRatio', 'returnOnAssets', 'numberOfAnalystOpinions', 'targetMeanPrice', 'debtToEquity', 'returnOnEquity', 'targetHighPrice', 'totalCash', 'totalDebt', 'totalRevenue', 'totalCashPerShare', 'financialCurrency', 'revenuePerShare', 'quickRatio', 'recommendationMean', 'exchange', 'shortName', 'longName', 'exchangeTimezoneName', 'exchangeTimezoneShortName', 'isEsgPopulated', 'gmtOffSetMilliseconds', 'quoteType', 'symbol', 'messageBoardId', 'market', 'annualHoldingsTurnover', 'enterpriseToRevenue', 'beta3Year', 'enterpriseToEbitda', '52WeekChange', 'morningStarRiskRating', 'forwardEps', 'revenueQuarterlyGrowth', 'sharesOutstanding', 'fundInceptionDate', 'annualReportExpenseRatio', 'totalAssets', 'bookValue', 'sharesShort', 'sharesPercentSharesOut', 'fundFamily', 'lastFiscalYearEnd', 'heldPercentInstitutions', 'netIncomeToCommon', 'trailingEps', 'lastDividendValue', 'SandP52WeekChange', 'priceToBook', 'heldPercentInsiders', 'nextFiscalYearEnd', 'yield', 'mostRecentQuarter', 'shortRatio', 'sharesShortPreviousMonthDate', 'floatShares', 'beta', 'enterpriseValue', 'priceHint', 'threeYearAverageReturn', 'lastSplitDate', 'lastSplitFactor', 'legalType', 'lastDividendDate', 'morningStarOverallRating', 'earningsQuarterlyGrowth', 'priceToSalesTrailing12Months', 'dateShortInterest', 'pegRatio', 'ytdReturn', 'forwardPE', 'lastCapGain', 'shortPercentOfFloat', 'sharesShortPriorMonth', 'impliedSharesOutstanding', 'category', 'fiveYearAverageReturn', 'previousClose', 'regularMarketOpen', 'twoHundredDayAverage', 'trailingAnnualDividendYield', 'payoutRatio', 'volume24Hr', 'regularMarketDayHigh', 'navPrice', 'averageDailyVolume10Day', 'regularMarketPreviousClose', 'fiftyDayAverage', 'trailingAnnualDividendRate', 'open', 'toCurrency', 'averageVolume10days', 'expireDate', 'algorithm', 'dividendRate', 'exDividendDate', 'circulatingSupply', 'startDate', 'regularMarketDayLow', 'currency', 'trailingPE', 'regularMarketVolume', 'lastMarket', 'maxSupply', 'openInterest', 'marketCap', 'volumeAllCurrencies', 'strikePrice', 'averageVolume', 'dayLow', 'ask', 'askSize', 'volume', 'fiftyTwoWeekHigh', 'fromCurrency', 'fiveYearAvgDividendYield', 'fiftyTwoWeekLow', 'bid', 'tradeable', 'dividendYield', 'bidSize', 'dayHigh', 'regularMarketPrice', 'logo_url'])"
      ]
     },
     "metadata": {},
     "execution_count": 6
    }
   ],
   "metadata": {}
  },
  {
   "cell_type": "code",
   "execution_count": 7,
   "source": [
    "ticker.info['sector']"
   ],
   "outputs": [
    {
     "output_type": "execute_result",
     "data": {
      "text/plain": [
       "'Consumer Cyclical'"
      ]
     },
     "metadata": {},
     "execution_count": 7
    }
   ],
   "metadata": {}
  },
  {
   "cell_type": "code",
   "execution_count": 8,
   "source": [
    "ticker.info['beta']"
   ],
   "outputs": [
    {
     "output_type": "execute_result",
     "data": {
      "text/plain": [
       "1.987486"
      ]
     },
     "metadata": {},
     "execution_count": 8
    }
   ],
   "metadata": {}
  },
  {
   "cell_type": "code",
   "execution_count": 17,
   "source": [
    "# Obtain income statements\n",
    "yahoo_financials.get_financial_stmts('annual', 'income')"
   ],
   "outputs": [
    {
     "output_type": "execute_result",
     "data": {
      "text/plain": [
       "{'incomeStatementHistory': {'TSLA': [{'2020-12-31': {'researchDevelopment': 1491000000,\n",
       "     'effectOfAccountingCharges': None,\n",
       "     'incomeBeforeTax': 1154000000,\n",
       "     'minorityInterest': 1454000000,\n",
       "     'netIncome': 721000000,\n",
       "     'sellingGeneralAdministrative': 3188000000,\n",
       "     'grossProfit': 6630000000,\n",
       "     'ebit': 1951000000,\n",
       "     'operatingIncome': 1951000000,\n",
       "     'otherOperatingExpenses': None,\n",
       "     'interestExpense': -784000000,\n",
       "     'extraordinaryItems': None,\n",
       "     'nonRecurring': None,\n",
       "     'otherItems': None,\n",
       "     'incomeTaxExpense': 292000000,\n",
       "     'totalRevenue': 31536000000,\n",
       "     'totalOperatingExpenses': 29585000000,\n",
       "     'costOfRevenue': 24906000000,\n",
       "     'totalOtherIncomeExpenseNet': -797000000,\n",
       "     'discontinuedOperations': None,\n",
       "     'netIncomeFromContinuingOps': 862000000,\n",
       "     'netIncomeApplicableToCommonShares': 690000000}},\n",
       "   {'2019-12-31': {'researchDevelopment': 1343000000,\n",
       "     'effectOfAccountingCharges': None,\n",
       "     'incomeBeforeTax': -665000000,\n",
       "     'minorityInterest': 1492000000,\n",
       "     'netIncome': -862000000,\n",
       "     'sellingGeneralAdministrative': 2646000000,\n",
       "     'grossProfit': 4069000000,\n",
       "     'ebit': 80000000,\n",
       "     'operatingIncome': 80000000,\n",
       "     'otherOperatingExpenses': None,\n",
       "     'interestExpense': -725000000,\n",
       "     'extraordinaryItems': None,\n",
       "     'nonRecurring': None,\n",
       "     'otherItems': None,\n",
       "     'incomeTaxExpense': 110000000,\n",
       "     'totalRevenue': 24578000000,\n",
       "     'totalOperatingExpenses': 24498000000,\n",
       "     'costOfRevenue': 20509000000,\n",
       "     'totalOtherIncomeExpenseNet': -745000000,\n",
       "     'discontinuedOperations': None,\n",
       "     'netIncomeFromContinuingOps': -775000000,\n",
       "     'netIncomeApplicableToCommonShares': -870000000}},\n",
       "   {'2018-12-31': {'researchDevelopment': 1460000000,\n",
       "     'effectOfAccountingCharges': None,\n",
       "     'incomeBeforeTax': -1005000000,\n",
       "     'minorityInterest': 1390000000,\n",
       "     'netIncome': -976000000,\n",
       "     'sellingGeneralAdministrative': 2835000000,\n",
       "     'grossProfit': 4042000000,\n",
       "     'ebit': -253000000,\n",
       "     'operatingIncome': -253000000,\n",
       "     'otherOperatingExpenses': None,\n",
       "     'interestExpense': -653000000,\n",
       "     'extraordinaryItems': None,\n",
       "     'nonRecurring': None,\n",
       "     'otherItems': None,\n",
       "     'incomeTaxExpense': 58000000,\n",
       "     'totalRevenue': 21461000000,\n",
       "     'totalOperatingExpenses': 21714000000,\n",
       "     'costOfRevenue': 17419000000,\n",
       "     'totalOtherIncomeExpenseNet': -752000000,\n",
       "     'discontinuedOperations': None,\n",
       "     'netIncomeFromContinuingOps': -1063000000,\n",
       "     'netIncomeApplicableToCommonShares': -976000000}},\n",
       "   {'2017-12-31': {'researchDevelopment': 1378000000,\n",
       "     'effectOfAccountingCharges': None,\n",
       "     'incomeBeforeTax': -2209000000,\n",
       "     'minorityInterest': 1395080000,\n",
       "     'netIncome': -1962000000,\n",
       "     'sellingGeneralAdministrative': 2477000000,\n",
       "     'grossProfit': 2223000000,\n",
       "     'ebit': -1632000000,\n",
       "     'operatingIncome': -1632000000,\n",
       "     'otherOperatingExpenses': None,\n",
       "     'interestExpense': -477000000,\n",
       "     'extraordinaryItems': None,\n",
       "     'nonRecurring': None,\n",
       "     'otherItems': None,\n",
       "     'incomeTaxExpense': 32000000,\n",
       "     'totalRevenue': 11759000000,\n",
       "     'totalOperatingExpenses': 13391000000,\n",
       "     'costOfRevenue': 9536000000,\n",
       "     'totalOtherIncomeExpenseNet': -577000000,\n",
       "     'discontinuedOperations': None,\n",
       "     'netIncomeFromContinuingOps': -2241000000,\n",
       "     'netIncomeApplicableToCommonShares': -1962000000}}]}}"
      ]
     },
     "metadata": {},
     "execution_count": 17
    }
   ],
   "metadata": {}
  },
  {
   "cell_type": "code",
   "execution_count": 18,
   "source": [
    "# Obtain balance sheet\n",
    "yahoo_financials.get_financial_stmts('annual', 'balance')"
   ],
   "outputs": [
    {
     "output_type": "execute_result",
     "data": {
      "text/plain": [
       "{'balanceSheetHistory': {'TSLA': [{'2020-12-31': {'intangibleAssets': 313000000,\n",
       "     'capitalSurplus': 27260000000,\n",
       "     'totalLiab': 28469000000,\n",
       "     'totalStockholderEquity': 22225000000,\n",
       "     'minorityInterest': 1454000000,\n",
       "     'otherCurrentLiab': 4147000000,\n",
       "     'totalAssets': 52148000000,\n",
       "     'commonStock': 1000000,\n",
       "     'otherCurrentAssets': 238000000,\n",
       "     'retainedEarnings': -5399000000,\n",
       "     'otherLiab': 3302000000,\n",
       "     'goodWill': 207000000,\n",
       "     'treasuryStock': 363000000,\n",
       "     'otherAssets': 1536000000,\n",
       "     'cash': 19384000000,\n",
       "     'totalCurrentLiabilities': 14248000000,\n",
       "     'shortLongTermDebt': 1758000000,\n",
       "     'otherStockholderEquity': 363000000,\n",
       "     'propertyPlantEquipment': 23375000000,\n",
       "     'totalCurrentAssets': 26717000000,\n",
       "     'netTangibleAssets': 21705000000,\n",
       "     'netReceivables': 1903000000,\n",
       "     'longTermDebt': 8571000000,\n",
       "     'inventory': 4101000000,\n",
       "     'accountsPayable': 6051000000}},\n",
       "   {'2019-12-31': {'intangibleAssets': 339000000,\n",
       "     'capitalSurplus': 12736000000,\n",
       "     'totalLiab': 26199000000,\n",
       "     'totalStockholderEquity': 6618000000,\n",
       "     'minorityInterest': 1492000000,\n",
       "     'otherCurrentLiab': 3693000000,\n",
       "     'totalAssets': 34309000000,\n",
       "     'commonStock': 1000000,\n",
       "     'otherCurrentAssets': 246000000,\n",
       "     'retainedEarnings': -6083000000,\n",
       "     'otherLiab': 2969000000,\n",
       "     'goodWill': 198000000,\n",
       "     'treasuryStock': -36000000,\n",
       "     'otherAssets': 1469000000,\n",
       "     'cash': 6268000000,\n",
       "     'totalCurrentLiabilities': 10667000000,\n",
       "     'shortLongTermDebt': 1399000000,\n",
       "     'otherStockholderEquity': -36000000,\n",
       "     'propertyPlantEquipment': 20199000000,\n",
       "     'totalCurrentAssets': 12103000000,\n",
       "     'longTermInvestments': 1000000,\n",
       "     'netTangibleAssets': 6081000000,\n",
       "     'netReceivables': 1324000000,\n",
       "     'longTermDebt': 10375000000,\n",
       "     'inventory': 3552000000,\n",
       "     'accountsPayable': 3771000000}},\n",
       "   {'2018-12-31': {'intangibleAssets': 282000000,\n",
       "     'capitalSurplus': 10249000000,\n",
       "     'totalLiab': 23427000000,\n",
       "     'totalStockholderEquity': 4923000000,\n",
       "     'minorityInterest': 1390000000,\n",
       "     'otherCurrentLiab': 2955000000,\n",
       "     'totalAssets': 29740000000,\n",
       "     'otherCurrentAssets': 193000000,\n",
       "     'retainedEarnings': -5318000000,\n",
       "     'otherLiab': 2318000000,\n",
       "     'goodWill': 68000000,\n",
       "     'treasuryStock': -8000000,\n",
       "     'otherAssets': 1380000000,\n",
       "     'cash': 3686000000,\n",
       "     'totalCurrentLiabilities': 9993000000,\n",
       "     'shortLongTermDebt': 2284000000,\n",
       "     'otherStockholderEquity': -8000000,\n",
       "     'propertyPlantEquipment': 19691000000,\n",
       "     'totalCurrentAssets': 8307000000,\n",
       "     'longTermInvestments': 12000000,\n",
       "     'netTangibleAssets': 4573000000,\n",
       "     'netReceivables': 949000000,\n",
       "     'longTermDebt': 8461000000,\n",
       "     'inventory': 3113000000,\n",
       "     'accountsPayable': 3405000000}},\n",
       "   {'2017-12-31': {'intangibleAssets': 361502000,\n",
       "     'capitalSurplus': 9178024000,\n",
       "     'totalLiab': 23023050000,\n",
       "     'totalStockholderEquity': 4237242000,\n",
       "     'minorityInterest': 1395080000,\n",
       "     'otherCurrentLiab': 3098379000,\n",
       "     'totalAssets': 28655372000,\n",
       "     'commonStock': 169000,\n",
       "     'otherCurrentAssets': 155323000,\n",
       "     'retainedEarnings': -4974299000,\n",
       "     'otherLiab': 4196294000,\n",
       "     'goodWill': 60237000,\n",
       "     'treasuryStock': 33348000,\n",
       "     'otherAssets': 1166193000,\n",
       "     'cash': 3367914000,\n",
       "     'totalCurrentLiabilities': 7674740000,\n",
       "     'shortLongTermDebt': 963932000,\n",
       "     'otherStockholderEquity': 33348000,\n",
       "     'propertyPlantEquipment': 20491616000,\n",
       "     'totalCurrentAssets': 6570520000,\n",
       "     'longTermInvestments': 5304000,\n",
       "     'netTangibleAssets': 3815503000,\n",
       "     'netReceivables': 515381000,\n",
       "     'longTermDebt': 9486248000,\n",
       "     'inventory': 2263537000,\n",
       "     'accountsPayable': 2390250000}}]}}"
      ]
     },
     "metadata": {},
     "execution_count": 18
    }
   ],
   "metadata": {}
  },
  {
   "cell_type": "code",
   "execution_count": 19,
   "source": [
    "# Obtain quarterly cash-flow statements\n",
    "yahoo_financials.get_financial_stmts('quarterly', 'cash')"
   ],
   "outputs": [
    {
     "output_type": "execute_result",
     "data": {
      "text/plain": [
       "{'cashflowStatementHistoryQuarterly': {'TSLA': [{'2021-03-31': {'changeToLiabilities': 834000000,\n",
       "     'totalCashflowsFromInvestingActivities': -2582000000,\n",
       "     'netBorrowings': -1162000000,\n",
       "     'totalCashFromFinancingActivities': -1016000000,\n",
       "     'changeToOperatingActivities': -716000000,\n",
       "     'issuanceOfStock': 183000000,\n",
       "     'netIncome': 438000000,\n",
       "     'changeInCash': -2178000000,\n",
       "     'effectOfExchangeRate': -221000000,\n",
       "     'totalCashFromOperatingActivities': 1641000000,\n",
       "     'depreciation': 621000000,\n",
       "     'otherCashflowsFromInvestingActivities': 6000000,\n",
       "     'changeToInventory': -106000000,\n",
       "     'changeToAccountReceivables': -24000000,\n",
       "     'otherCashflowsFromFinancingActivities': -37000000,\n",
       "     'changeToNetincome': 594000000,\n",
       "     'capitalExpenditures': -2860000000}},\n",
       "   {'2020-12-31': {'changeToLiabilities': 1540000000,\n",
       "     'totalCashflowsFromInvestingActivities': -1047000000,\n",
       "     'netBorrowings': -2305000000,\n",
       "     'totalCashFromFinancingActivities': 2692000000,\n",
       "     'changeToOperatingActivities': -376000000,\n",
       "     'issuanceOfStock': 5043000000,\n",
       "     'netIncome': 270000000,\n",
       "     'changeInCash': 4898000000,\n",
       "     'effectOfExchangeRate': 234000000,\n",
       "     'totalCashFromOperatingActivities': 3019000000,\n",
       "     'depreciation': 618000000,\n",
       "     'otherCashflowsFromInvestingActivities': 122000000,\n",
       "     'changeToInventory': 180000000,\n",
       "     'changeToAccountReceivables': -102000000,\n",
       "     'otherCashflowsFromFinancingActivities': -46000000,\n",
       "     'changeToNetincome': 853000000,\n",
       "     'capitalExpenditures': -1164000000}},\n",
       "   {'2020-09-30': {'changeToLiabilities': 1275000000,\n",
       "     'totalCashflowsFromInvestingActivities': -1039000000,\n",
       "     'netBorrowings': -581000000,\n",
       "     'totalCashFromFinancingActivities': 4450000000,\n",
       "     'changeToOperatingActivities': -259000000,\n",
       "     'issuanceOfStock': 5117000000,\n",
       "     'netIncome': 331000000,\n",
       "     'changeInCash': 5897000000,\n",
       "     'effectOfExchangeRate': 86000000,\n",
       "     'totalCashFromOperatingActivities': 2400000000,\n",
       "     'depreciation': 584000000,\n",
       "     'otherCashflowsFromInvestingActivities': 122000000,\n",
       "     'changeToInventory': -67000000,\n",
       "     'changeToAccountReceivables': -314000000,\n",
       "     'otherCashflowsFromFinancingActivities': -86000000,\n",
       "     'changeToNetincome': 800000000,\n",
       "     'capitalExpenditures': -1021000000}},\n",
       "   {'2020-06-30': {'changeToLiabilities': -180000000,\n",
       "     'totalCashflowsFromInvestingActivities': -566000000,\n",
       "     'netBorrowings': 111000000,\n",
       "     'totalCashFromFinancingActivities': 123000000,\n",
       "     'changeToOperatingActivities': -290000000,\n",
       "     'issuanceOfStock': 57000000,\n",
       "     'netIncome': 104000000,\n",
       "     'changeInCash': 559000000,\n",
       "     'effectOfExchangeRate': 38000000,\n",
       "     'totalCashFromOperatingActivities': 964000000,\n",
       "     'depreciation': 567000000,\n",
       "     'otherCashflowsFromInvestingActivities': 122000000,\n",
       "     'changeToInventory': 446000000,\n",
       "     'changeToAccountReceivables': -222000000,\n",
       "     'otherCashflowsFromFinancingActivities': -45000000,\n",
       "     'changeToNetincome': 491000000,\n",
       "     'capitalExpenditures': -566000000}}]}}"
      ]
     },
     "metadata": {},
     "execution_count": 19
    }
   ],
   "metadata": {}
  },
  {
   "cell_type": "code",
   "execution_count": 20,
   "source": [
    "# Obtain key statistics\n",
    "yahoo_financials.get_key_statistics_data()"
   ],
   "outputs": [
    {
     "output_type": "execute_result",
     "data": {
      "text/plain": [
       "{'TSLA': {'annualHoldingsTurnover': None,\n",
       "  'enterpriseToRevenue': 17.233,\n",
       "  'beta3Year': None,\n",
       "  'profitMargins': 0.0318,\n",
       "  'enterpriseToEbitda': 136.089,\n",
       "  '52WeekChange': 1.1826484,\n",
       "  'morningStarRiskRating': None,\n",
       "  'forwardEps': 6.18,\n",
       "  'revenueQuarterlyGrowth': None,\n",
       "  'sharesOutstanding': 963329984,\n",
       "  'fundInceptionDate': '-',\n",
       "  'annualReportExpenseRatio': None,\n",
       "  'totalAssets': None,\n",
       "  'bookValue': 23.901,\n",
       "  'sharesShort': 34093281,\n",
       "  'sharesPercentSharesOut': 0.0354,\n",
       "  'fundFamily': None,\n",
       "  'lastFiscalYearEnd': 1609372800,\n",
       "  'heldPercentInstitutions': 0.42696998,\n",
       "  'netIncomeToCommon': 1112000000,\n",
       "  'trailingEps': 0.998,\n",
       "  'lastDividendValue': None,\n",
       "  'SandP52WeekChange': 0.33606744,\n",
       "  'priceToBook': 27.416845,\n",
       "  'heldPercentInsiders': 0.19487,\n",
       "  'nextFiscalYearEnd': 1672444800,\n",
       "  'yield': None,\n",
       "  'mostRecentQuarter': 1617148800,\n",
       "  'shortRatio': 1.44,\n",
       "  'sharesShortPreviousMonthDate': '2021-05-28',\n",
       "  'floatShares': 775057145,\n",
       "  'beta': 1.987486,\n",
       "  'enterpriseValue': 619341414400,\n",
       "  'priceHint': 2,\n",
       "  'threeYearAverageReturn': None,\n",
       "  'lastSplitDate': '2020-08-31',\n",
       "  'lastSplitFactor': '5:1',\n",
       "  'legalType': None,\n",
       "  'lastDividendDate': '-',\n",
       "  'morningStarOverallRating': None,\n",
       "  'earningsQuarterlyGrowth': 26.375,\n",
       "  'priceToSalesTrailing12Months': None,\n",
       "  'dateShortInterest': 1625011200,\n",
       "  'pegRatio': 3.3,\n",
       "  'ytdReturn': None,\n",
       "  'forwardPE': 106.03398,\n",
       "  'maxAge': 1,\n",
       "  'lastCapGain': None,\n",
       "  'shortPercentOfFloat': 0.044,\n",
       "  'sharesShortPriorMonth': 40046181,\n",
       "  'impliedSharesOutstanding': None,\n",
       "  'category': None,\n",
       "  'fiveYearAverageReturn': None}}"
      ]
     },
     "metadata": {},
     "execution_count": 20
    }
   ],
   "metadata": {}
  },
  {
   "cell_type": "code",
   "execution_count": 21,
   "source": [
    "# Pull latest stock price\n",
    "yahoo_financials.get_current_price()"
   ],
   "outputs": [
    {
     "output_type": "execute_result",
     "data": {
      "text/plain": [
       "655.29"
      ]
     },
     "metadata": {},
     "execution_count": 21
    }
   ],
   "metadata": {}
  },
  {
   "cell_type": "code",
   "execution_count": null,
   "source": [],
   "outputs": [],
   "metadata": {}
  }
 ]
}