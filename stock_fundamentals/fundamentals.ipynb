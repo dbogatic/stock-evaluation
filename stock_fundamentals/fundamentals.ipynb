{
 "metadata": {
  "language_info": {
   "codemirror_mode": {
    "name": "ipython",
    "version": 3
   },
   "file_extension": ".py",
   "mimetype": "text/x-python",
   "name": "python",
   "nbconvert_exporter": "python",
   "pygments_lexer": "ipython3",
   "version": "3.7.9"
  },
  "orig_nbformat": 2,
  "kernelspec": {
   "name": "python379jvsc74a57bd01d1365bc7bea9ca53bbaaff2a498c5cc15b63a6fcc47bade387e2edfe7e7b068",
   "display_name": "Python 3.7.9 64-bit ('algotrading': conda)"
  }
 },
 "nbformat": 4,
 "nbformat_minor": 2,
 "cells": [
  {
   "source": [
    "# Stock Fundamentals"
   ],
   "cell_type": "markdown",
   "metadata": {}
  },
  {
   "cell_type": "code",
   "execution_count": 1,
   "metadata": {},
   "outputs": [],
   "source": [
    "# Import libraries\n",
    "import yfinance as yf\n",
    "from yahoofinancials import YahooFinancials"
   ]
  },
  {
   "cell_type": "code",
   "execution_count": 3,
   "metadata": {},
   "outputs": [],
   "source": [
    "# Specify stock ticker\n",
    "ticker = 'POTX'"
   ]
  },
  {
   "cell_type": "code",
   "execution_count": 4,
   "metadata": {},
   "outputs": [],
   "source": [
    "# Need to call after specifying stock ticker for pulling financial statements from yahoofinancials \n",
    "yahoo_financials = YahooFinancials(ticker)"
   ]
  },
  {
   "cell_type": "code",
   "execution_count": 6,
   "metadata": {},
   "outputs": [
    {
     "output_type": "execute_result",
     "data": {
      "text/plain": [
       "             Open   High     Low  Close  Adj Close  Volume\n",
       "Date                                                      \n",
       "2021-04-16  14.00  14.10  13.595  14.05      14.05  313300\n",
       "2021-04-19  14.05  14.51  13.809  14.21      14.21  314100\n",
       "2021-04-20  14.40  14.41  13.290  13.43      13.43  426700\n",
       "2021-04-21  13.25  13.99  13.180  13.90      13.90  235300\n",
       "2021-04-22  13.95  14.15  13.700  13.95      13.95  208500"
      ],
      "text/html": "<div>\n<style scoped>\n    .dataframe tbody tr th:only-of-type {\n        vertical-align: middle;\n    }\n\n    .dataframe tbody tr th {\n        vertical-align: top;\n    }\n\n    .dataframe thead th {\n        text-align: right;\n    }\n</style>\n<table border=\"1\" class=\"dataframe\">\n  <thead>\n    <tr style=\"text-align: right;\">\n      <th></th>\n      <th>Open</th>\n      <th>High</th>\n      <th>Low</th>\n      <th>Close</th>\n      <th>Adj Close</th>\n      <th>Volume</th>\n    </tr>\n    <tr>\n      <th>Date</th>\n      <th></th>\n      <th></th>\n      <th></th>\n      <th></th>\n      <th></th>\n      <th></th>\n    </tr>\n  </thead>\n  <tbody>\n    <tr>\n      <th>2021-04-16</th>\n      <td>14.00</td>\n      <td>14.10</td>\n      <td>13.595</td>\n      <td>14.05</td>\n      <td>14.05</td>\n      <td>313300</td>\n    </tr>\n    <tr>\n      <th>2021-04-19</th>\n      <td>14.05</td>\n      <td>14.51</td>\n      <td>13.809</td>\n      <td>14.21</td>\n      <td>14.21</td>\n      <td>314100</td>\n    </tr>\n    <tr>\n      <th>2021-04-20</th>\n      <td>14.40</td>\n      <td>14.41</td>\n      <td>13.290</td>\n      <td>13.43</td>\n      <td>13.43</td>\n      <td>426700</td>\n    </tr>\n    <tr>\n      <th>2021-04-21</th>\n      <td>13.25</td>\n      <td>13.99</td>\n      <td>13.180</td>\n      <td>13.90</td>\n      <td>13.90</td>\n      <td>235300</td>\n    </tr>\n    <tr>\n      <th>2021-04-22</th>\n      <td>13.95</td>\n      <td>14.15</td>\n      <td>13.700</td>\n      <td>13.95</td>\n      <td>13.95</td>\n      <td>208500</td>\n    </tr>\n  </tbody>\n</table>\n</div>"
     },
     "metadata": {},
     "execution_count": 6
    }
   ],
   "source": [
    "# Download stock price history for the specific time interval\n",
    "stock_history = yf.download(tickers=f\"{ticker}\", start=\"2016-04-01\", end=\"2021-04-23\", progress=False)\n",
    "stock_history.tail()"
   ]
  },
  {
   "cell_type": "code",
   "execution_count": 7,
   "metadata": {},
   "outputs": [
    {
     "output_type": "execute_result",
     "data": {
      "text/plain": [
       "{'previousClose': 13.95,\n",
       " 'regularMarketOpen': 13.9,\n",
       " 'twoHundredDayAverage': 13.346351,\n",
       " 'trailingAnnualDividendYield': None,\n",
       " 'payoutRatio': None,\n",
       " 'volume24Hr': None,\n",
       " 'regularMarketDayHigh': 14.2494,\n",
       " 'navPrice': 14.5,\n",
       " 'averageDailyVolume10Day': 289771,\n",
       " 'totalAssets': 194311632,\n",
       " 'regularMarketPreviousClose': 13.95,\n",
       " 'fiftyDayAverage': 15.69147,\n",
       " 'trailingAnnualDividendRate': None,\n",
       " 'open': 13.9,\n",
       " 'toCurrency': None,\n",
       " 'averageVolume10days': 289771,\n",
       " 'expireDate': None,\n",
       " 'yield': 0.034,\n",
       " 'algorithm': None,\n",
       " 'dividendRate': None,\n",
       " 'exDividendDate': None,\n",
       " 'beta': None,\n",
       " 'circulatingSupply': None,\n",
       " 'startDate': None,\n",
       " 'regularMarketDayLow': 13.805,\n",
       " 'priceHint': 2,\n",
       " 'currency': 'USD',\n",
       " 'regularMarketVolume': 211552,\n",
       " 'lastMarket': None,\n",
       " 'maxSupply': None,\n",
       " 'openInterest': None,\n",
       " 'marketCap': None,\n",
       " 'volumeAllCurrencies': None,\n",
       " 'strikePrice': None,\n",
       " 'averageVolume': 780757,\n",
       " 'priceToSalesTrailing12Months': None,\n",
       " 'dayLow': 13.805,\n",
       " 'ask': 14.47,\n",
       " 'ytdReturn': None,\n",
       " 'askSize': 800,\n",
       " 'volume': 211552,\n",
       " 'fiftyTwoWeekHigh': 29.5,\n",
       " 'forwardPE': None,\n",
       " 'maxAge': 1,\n",
       " 'fromCurrency': None,\n",
       " 'fiveYearAvgDividendYield': None,\n",
       " 'fiftyTwoWeekLow': 7.17,\n",
       " 'bid': 14,\n",
       " 'tradeable': False,\n",
       " 'dividendYield': None,\n",
       " 'bidSize': 800,\n",
       " 'dayHigh': 14.2494,\n",
       " 'exchange': 'NGM',\n",
       " 'shortName': 'Global X Cannabis ETF',\n",
       " 'longName': 'Global X Cannabis ETF',\n",
       " 'exchangeTimezoneName': 'America/New_York',\n",
       " 'exchangeTimezoneShortName': 'EDT',\n",
       " 'isEsgPopulated': False,\n",
       " 'gmtOffSetMilliseconds': '-14400000',\n",
       " 'quoteType': 'ETF',\n",
       " 'symbol': 'POTX',\n",
       " 'messageBoardId': 'finmb_632305687',\n",
       " 'market': 'us_market',\n",
       " 'annualHoldingsTurnover': None,\n",
       " 'enterpriseToRevenue': None,\n",
       " 'beta3Year': None,\n",
       " 'profitMargins': None,\n",
       " 'enterpriseToEbitda': None,\n",
       " '52WeekChange': None,\n",
       " 'morningStarRiskRating': None,\n",
       " 'forwardEps': None,\n",
       " 'revenueQuarterlyGrowth': None,\n",
       " 'fundInceptionDate': 1568678400,\n",
       " 'annualReportExpenseRatio': None,\n",
       " 'bookValue': None,\n",
       " 'fundFamily': 'Global X Funds',\n",
       " 'lastFiscalYearEnd': None,\n",
       " 'netIncomeToCommon': None,\n",
       " 'trailingEps': None,\n",
       " 'lastDividendValue': None,\n",
       " 'SandP52WeekChange': None,\n",
       " 'priceToBook': None,\n",
       " 'nextFiscalYearEnd': None,\n",
       " 'mostRecentQuarter': None,\n",
       " 'enterpriseValue': None,\n",
       " 'threeYearAverageReturn': None,\n",
       " 'lastSplitDate': None,\n",
       " 'lastSplitFactor': None,\n",
       " 'legalType': 'Exchange Traded Fund',\n",
       " 'lastDividendDate': None,\n",
       " 'morningStarOverallRating': None,\n",
       " 'earningsQuarterlyGrowth': None,\n",
       " 'pegRatio': None,\n",
       " 'lastCapGain': None,\n",
       " 'category': None,\n",
       " 'fiveYearAverageReturn': None,\n",
       " 'phone': '888-493-8631',\n",
       " 'longBusinessSummary': 'The investment seeks to provide investment results that correspond generally to the price and yield performance, before fees and expenses, of the Cannabis Index.\\n The fund invests at least 80% of its total assets in the securities of the underlying index and in American Depositary Receipts (\"ADRs\") and Global Depositary Receipts (\"GDRs\") based on the securities in the underlying index. The underlying index is designed to provide exposure to exchange-listed companies that are active in the cannabis industry (collectively, \" Cannabis Companies\"), as defined by Solactive AG, the provider of the underlying index (\"index provider\"). The fund is non-diversified.',\n",
       " 'companyOfficers': [],\n",
       " 'regularMarketPrice': 13.9,\n",
       " 'logo_url': ''}"
      ]
     },
     "metadata": {},
     "execution_count": 7
    }
   ],
   "source": [
    "# Need to specify to be able to pull information from yfinance\n",
    "ticker = yf.Ticker(f\"{ticker}\")\n",
    "ticker.info"
   ]
  },
  {
   "cell_type": "code",
   "execution_count": 6,
   "metadata": {},
   "outputs": [
    {
     "output_type": "execute_result",
     "data": {
      "text/plain": [
       "dict_keys(['zip', 'sector', 'fullTimeEmployees', 'longBusinessSummary', 'city', 'phone', 'state', 'country', 'companyOfficers', 'website', 'maxAge', 'address1', 'industry', 'previousClose', 'regularMarketOpen', 'twoHundredDayAverage', 'trailingAnnualDividendYield', 'payoutRatio', 'volume24Hr', 'regularMarketDayHigh', 'navPrice', 'averageDailyVolume10Day', 'totalAssets', 'regularMarketPreviousClose', 'fiftyDayAverage', 'trailingAnnualDividendRate', 'open', 'toCurrency', 'averageVolume10days', 'expireDate', 'yield', 'algorithm', 'dividendRate', 'exDividendDate', 'beta', 'circulatingSupply', 'startDate', 'regularMarketDayLow', 'priceHint', 'currency', 'trailingPE', 'regularMarketVolume', 'lastMarket', 'maxSupply', 'openInterest', 'marketCap', 'volumeAllCurrencies', 'strikePrice', 'averageVolume', 'priceToSalesTrailing12Months', 'dayLow', 'ask', 'ytdReturn', 'askSize', 'volume', 'fiftyTwoWeekHigh', 'forwardPE', 'fromCurrency', 'fiveYearAvgDividendYield', 'fiftyTwoWeekLow', 'bid', 'tradeable', 'dividendYield', 'bidSize', 'dayHigh', 'exchange', 'shortName', 'longName', 'exchangeTimezoneName', 'exchangeTimezoneShortName', 'isEsgPopulated', 'gmtOffSetMilliseconds', 'quoteType', 'symbol', 'messageBoardId', 'market', 'annualHoldingsTurnover', 'enterpriseToRevenue', 'beta3Year', 'profitMargins', 'enterpriseToEbitda', '52WeekChange', 'morningStarRiskRating', 'forwardEps', 'revenueQuarterlyGrowth', 'sharesOutstanding', 'fundInceptionDate', 'annualReportExpenseRatio', 'bookValue', 'sharesShort', 'sharesPercentSharesOut', 'fundFamily', 'lastFiscalYearEnd', 'heldPercentInstitutions', 'netIncomeToCommon', 'trailingEps', 'lastDividendValue', 'SandP52WeekChange', 'priceToBook', 'heldPercentInsiders', 'nextFiscalYearEnd', 'mostRecentQuarter', 'shortRatio', 'sharesShortPreviousMonthDate', 'floatShares', 'enterpriseValue', 'threeYearAverageReturn', 'lastSplitDate', 'lastSplitFactor', 'legalType', 'lastDividendDate', 'morningStarOverallRating', 'earningsQuarterlyGrowth', 'dateShortInterest', 'pegRatio', 'lastCapGain', 'shortPercentOfFloat', 'sharesShortPriorMonth', 'impliedSharesOutstanding', 'category', 'fiveYearAverageReturn', 'regularMarketPrice', 'logo_url'])"
      ]
     },
     "metadata": {},
     "execution_count": 6
    }
   ],
   "source": [
    "# Lists keys we can call to obtain information\n",
    "ticker.info.keys()"
   ]
  },
  {
   "cell_type": "code",
   "execution_count": 7,
   "metadata": {},
   "outputs": [
    {
     "output_type": "execute_result",
     "data": {
      "text/plain": [
       "'Consumer Cyclical'"
      ]
     },
     "metadata": {},
     "execution_count": 7
    }
   ],
   "source": [
    "ticker.info['sector']"
   ]
  },
  {
   "cell_type": "code",
   "execution_count": 8,
   "metadata": {},
   "outputs": [
    {
     "output_type": "execute_result",
     "data": {
      "text/plain": [
       "2.06013"
      ]
     },
     "metadata": {},
     "execution_count": 8
    }
   ],
   "source": [
    "ticker.info['beta']"
   ]
  },
  {
   "cell_type": "code",
   "execution_count": 9,
   "metadata": {},
   "outputs": [
    {
     "output_type": "execute_result",
     "data": {
      "text/plain": [
       "{'incomeStatementHistory': {'TSLA': [{'2020-12-31': {'researchDevelopment': 1491000000,\n",
       "     'effectOfAccountingCharges': None,\n",
       "     'incomeBeforeTax': 1154000000,\n",
       "     'minorityInterest': 1454000000,\n",
       "     'netIncome': 721000000,\n",
       "     'sellingGeneralAdministrative': 3188000000,\n",
       "     'grossProfit': 6630000000,\n",
       "     'ebit': 1951000000,\n",
       "     'operatingIncome': 1951000000,\n",
       "     'otherOperatingExpenses': None,\n",
       "     'interestExpense': -784000000,\n",
       "     'extraordinaryItems': None,\n",
       "     'nonRecurring': None,\n",
       "     'otherItems': None,\n",
       "     'incomeTaxExpense': 292000000,\n",
       "     'totalRevenue': 31536000000,\n",
       "     'totalOperatingExpenses': 29585000000,\n",
       "     'costOfRevenue': 24906000000,\n",
       "     'totalOtherIncomeExpenseNet': -797000000,\n",
       "     'discontinuedOperations': None,\n",
       "     'netIncomeFromContinuingOps': 862000000,\n",
       "     'netIncomeApplicableToCommonShares': 690000000}},\n",
       "   {'2019-12-31': {'researchDevelopment': 1343000000,\n",
       "     'effectOfAccountingCharges': None,\n",
       "     'incomeBeforeTax': -665000000,\n",
       "     'minorityInterest': 1492000000,\n",
       "     'netIncome': -862000000,\n",
       "     'sellingGeneralAdministrative': 2646000000,\n",
       "     'grossProfit': 4069000000,\n",
       "     'ebit': 80000000,\n",
       "     'operatingIncome': 80000000,\n",
       "     'otherOperatingExpenses': None,\n",
       "     'interestExpense': -725000000,\n",
       "     'extraordinaryItems': None,\n",
       "     'nonRecurring': None,\n",
       "     'otherItems': None,\n",
       "     'incomeTaxExpense': 110000000,\n",
       "     'totalRevenue': 24578000000,\n",
       "     'totalOperatingExpenses': 24498000000,\n",
       "     'costOfRevenue': 20509000000,\n",
       "     'totalOtherIncomeExpenseNet': -745000000,\n",
       "     'discontinuedOperations': None,\n",
       "     'netIncomeFromContinuingOps': -775000000,\n",
       "     'netIncomeApplicableToCommonShares': -870000000}},\n",
       "   {'2018-12-31': {'researchDevelopment': 1460000000,\n",
       "     'effectOfAccountingCharges': None,\n",
       "     'incomeBeforeTax': -1005000000,\n",
       "     'minorityInterest': 1390000000,\n",
       "     'netIncome': -976000000,\n",
       "     'sellingGeneralAdministrative': 2835000000,\n",
       "     'grossProfit': 4042000000,\n",
       "     'ebit': -253000000,\n",
       "     'operatingIncome': -253000000,\n",
       "     'otherOperatingExpenses': None,\n",
       "     'interestExpense': -653000000,\n",
       "     'extraordinaryItems': None,\n",
       "     'nonRecurring': None,\n",
       "     'otherItems': None,\n",
       "     'incomeTaxExpense': 58000000,\n",
       "     'totalRevenue': 21461000000,\n",
       "     'totalOperatingExpenses': 21714000000,\n",
       "     'costOfRevenue': 17419000000,\n",
       "     'totalOtherIncomeExpenseNet': -752000000,\n",
       "     'discontinuedOperations': None,\n",
       "     'netIncomeFromContinuingOps': -1063000000,\n",
       "     'netIncomeApplicableToCommonShares': -976000000}},\n",
       "   {'2017-12-31': {'researchDevelopment': 1378000000,\n",
       "     'effectOfAccountingCharges': None,\n",
       "     'incomeBeforeTax': -2209000000,\n",
       "     'minorityInterest': 1395080000,\n",
       "     'netIncome': -1962000000,\n",
       "     'sellingGeneralAdministrative': 2477000000,\n",
       "     'grossProfit': 2223000000,\n",
       "     'ebit': -1632000000,\n",
       "     'operatingIncome': -1632000000,\n",
       "     'otherOperatingExpenses': None,\n",
       "     'interestExpense': -477000000,\n",
       "     'extraordinaryItems': None,\n",
       "     'nonRecurring': None,\n",
       "     'otherItems': None,\n",
       "     'incomeTaxExpense': 32000000,\n",
       "     'totalRevenue': 11759000000,\n",
       "     'totalOperatingExpenses': 13391000000,\n",
       "     'costOfRevenue': 9536000000,\n",
       "     'totalOtherIncomeExpenseNet': -577000000,\n",
       "     'discontinuedOperations': None,\n",
       "     'netIncomeFromContinuingOps': -2241000000,\n",
       "     'netIncomeApplicableToCommonShares': -1962000000}}]}}"
      ]
     },
     "metadata": {},
     "execution_count": 9
    }
   ],
   "source": [
    "# Obtain income statements\n",
    "yahoo_financials.get_financial_stmts('annual', 'income')"
   ]
  },
  {
   "cell_type": "code",
   "execution_count": 10,
   "metadata": {},
   "outputs": [
    {
     "output_type": "execute_result",
     "data": {
      "text/plain": [
       "{'balanceSheetHistory': {'TSLA': [{'2020-12-31': {'intangibleAssets': 313000000,\n",
       "     'capitalSurplus': 27260000000,\n",
       "     'totalLiab': 28469000000,\n",
       "     'totalStockholderEquity': 22225000000,\n",
       "     'minorityInterest': 1454000000,\n",
       "     'otherCurrentLiab': 4147000000,\n",
       "     'totalAssets': 52148000000,\n",
       "     'commonStock': 1000000,\n",
       "     'otherCurrentAssets': 238000000,\n",
       "     'retainedEarnings': -5399000000,\n",
       "     'otherLiab': 3302000000,\n",
       "     'goodWill': 207000000,\n",
       "     'treasuryStock': 363000000,\n",
       "     'otherAssets': 1536000000,\n",
       "     'cash': 19384000000,\n",
       "     'totalCurrentLiabilities': 14248000000,\n",
       "     'shortLongTermDebt': 1758000000,\n",
       "     'otherStockholderEquity': 363000000,\n",
       "     'propertyPlantEquipment': 23375000000,\n",
       "     'totalCurrentAssets': 26717000000,\n",
       "     'netTangibleAssets': 21705000000,\n",
       "     'netReceivables': 1903000000,\n",
       "     'longTermDebt': 8571000000,\n",
       "     'inventory': 4101000000,\n",
       "     'accountsPayable': 6051000000}},\n",
       "   {'2019-12-31': {'intangibleAssets': 339000000,\n",
       "     'capitalSurplus': 12736000000,\n",
       "     'totalLiab': 26199000000,\n",
       "     'totalStockholderEquity': 6618000000,\n",
       "     'minorityInterest': 1492000000,\n",
       "     'otherCurrentLiab': 3693000000,\n",
       "     'totalAssets': 34309000000,\n",
       "     'commonStock': 1000000,\n",
       "     'otherCurrentAssets': 246000000,\n",
       "     'retainedEarnings': -6083000000,\n",
       "     'otherLiab': 2969000000,\n",
       "     'goodWill': 198000000,\n",
       "     'treasuryStock': -36000000,\n",
       "     'otherAssets': 1469000000,\n",
       "     'cash': 6268000000,\n",
       "     'totalCurrentLiabilities': 10667000000,\n",
       "     'shortLongTermDebt': 1399000000,\n",
       "     'otherStockholderEquity': -36000000,\n",
       "     'propertyPlantEquipment': 20199000000,\n",
       "     'totalCurrentAssets': 12103000000,\n",
       "     'longTermInvestments': 1000000,\n",
       "     'netTangibleAssets': 6081000000,\n",
       "     'netReceivables': 1324000000,\n",
       "     'longTermDebt': 10375000000,\n",
       "     'inventory': 3552000000,\n",
       "     'accountsPayable': 3771000000}},\n",
       "   {'2018-12-31': {'intangibleAssets': 282000000,\n",
       "     'capitalSurplus': 10249000000,\n",
       "     'totalLiab': 23427000000,\n",
       "     'totalStockholderEquity': 4923000000,\n",
       "     'minorityInterest': 1390000000,\n",
       "     'otherCurrentLiab': 2955000000,\n",
       "     'totalAssets': 29740000000,\n",
       "     'otherCurrentAssets': 193000000,\n",
       "     'retainedEarnings': -5318000000,\n",
       "     'otherLiab': 2318000000,\n",
       "     'goodWill': 68000000,\n",
       "     'treasuryStock': -8000000,\n",
       "     'otherAssets': 1380000000,\n",
       "     'cash': 3686000000,\n",
       "     'totalCurrentLiabilities': 9993000000,\n",
       "     'shortLongTermDebt': 2284000000,\n",
       "     'otherStockholderEquity': -8000000,\n",
       "     'propertyPlantEquipment': 19691000000,\n",
       "     'totalCurrentAssets': 8307000000,\n",
       "     'longTermInvestments': 12000000,\n",
       "     'netTangibleAssets': 4573000000,\n",
       "     'netReceivables': 949000000,\n",
       "     'longTermDebt': 8461000000,\n",
       "     'inventory': 3113000000,\n",
       "     'accountsPayable': 3405000000}},\n",
       "   {'2017-12-31': {'intangibleAssets': 361502000,\n",
       "     'capitalSurplus': 9178024000,\n",
       "     'totalLiab': 23023050000,\n",
       "     'totalStockholderEquity': 4237242000,\n",
       "     'minorityInterest': 1395080000,\n",
       "     'otherCurrentLiab': 3098379000,\n",
       "     'totalAssets': 28655372000,\n",
       "     'commonStock': 169000,\n",
       "     'otherCurrentAssets': 155323000,\n",
       "     'retainedEarnings': -4974299000,\n",
       "     'otherLiab': 4196294000,\n",
       "     'goodWill': 60237000,\n",
       "     'treasuryStock': 33348000,\n",
       "     'otherAssets': 1166193000,\n",
       "     'cash': 3367914000,\n",
       "     'totalCurrentLiabilities': 7674740000,\n",
       "     'shortLongTermDebt': 963932000,\n",
       "     'otherStockholderEquity': 33348000,\n",
       "     'propertyPlantEquipment': 20491616000,\n",
       "     'totalCurrentAssets': 6570520000,\n",
       "     'longTermInvestments': 5304000,\n",
       "     'netTangibleAssets': 3815503000,\n",
       "     'netReceivables': 515381000,\n",
       "     'longTermDebt': 9486248000,\n",
       "     'inventory': 2263537000,\n",
       "     'accountsPayable': 2390250000}}]}}"
      ]
     },
     "metadata": {},
     "execution_count": 10
    }
   ],
   "source": [
    "# Obtain balance sheet\n",
    "yahoo_financials.get_financial_stmts('annual', 'balance')"
   ]
  },
  {
   "cell_type": "code",
   "execution_count": 10,
   "metadata": {},
   "outputs": [
    {
     "output_type": "execute_result",
     "data": {
      "text/plain": [
       "{'cashflowStatementHistoryQuarterly': {'TSLA': [{'2020-12-31': {'changeToLiabilities': 1540000000,\n",
       "     'totalCashflowsFromInvestingActivities': -1047000000,\n",
       "     'netBorrowings': -2305000000,\n",
       "     'totalCashFromFinancingActivities': 2692000000,\n",
       "     'changeToOperatingActivities': -376000000,\n",
       "     'issuanceOfStock': 5043000000,\n",
       "     'netIncome': 270000000,\n",
       "     'changeInCash': 4898000000,\n",
       "     'effectOfExchangeRate': 234000000,\n",
       "     'totalCashFromOperatingActivities': 3019000000,\n",
       "     'depreciation': 618000000,\n",
       "     'otherCashflowsFromInvestingActivities': 122000000,\n",
       "     'changeToInventory': 180000000,\n",
       "     'changeToAccountReceivables': -102000000,\n",
       "     'otherCashflowsFromFinancingActivities': -46000000,\n",
       "     'changeToNetincome': 853000000,\n",
       "     'capitalExpenditures': -1164000000}},\n",
       "   {'2020-09-30': {'changeToLiabilities': 1275000000,\n",
       "     'totalCashflowsFromInvestingActivities': -1039000000,\n",
       "     'netBorrowings': -581000000,\n",
       "     'totalCashFromFinancingActivities': 4450000000,\n",
       "     'changeToOperatingActivities': -259000000,\n",
       "     'issuanceOfStock': 5117000000,\n",
       "     'netIncome': 331000000,\n",
       "     'changeInCash': 5897000000,\n",
       "     'effectOfExchangeRate': 86000000,\n",
       "     'totalCashFromOperatingActivities': 2400000000,\n",
       "     'depreciation': 584000000,\n",
       "     'otherCashflowsFromInvestingActivities': 122000000,\n",
       "     'changeToInventory': -67000000,\n",
       "     'changeToAccountReceivables': -314000000,\n",
       "     'otherCashflowsFromFinancingActivities': -86000000,\n",
       "     'changeToNetincome': 800000000,\n",
       "     'capitalExpenditures': -1021000000}},\n",
       "   {'2020-06-30': {'changeToLiabilities': -180000000,\n",
       "     'totalCashflowsFromInvestingActivities': -566000000,\n",
       "     'netBorrowings': 111000000,\n",
       "     'totalCashFromFinancingActivities': 123000000,\n",
       "     'changeToOperatingActivities': -290000000,\n",
       "     'issuanceOfStock': 57000000,\n",
       "     'netIncome': 104000000,\n",
       "     'changeInCash': 559000000,\n",
       "     'effectOfExchangeRate': 38000000,\n",
       "     'totalCashFromOperatingActivities': 964000000,\n",
       "     'depreciation': 567000000,\n",
       "     'otherCashflowsFromInvestingActivities': 122000000,\n",
       "     'changeToInventory': 446000000,\n",
       "     'changeToAccountReceivables': -222000000,\n",
       "     'otherCashflowsFromFinancingActivities': -45000000,\n",
       "     'changeToNetincome': 491000000,\n",
       "     'capitalExpenditures': -566000000}},\n",
       "   {'2020-03-31': {'changeToLiabilities': -212000000,\n",
       "     'totalCashflowsFromInvestingActivities': -480000000,\n",
       "     'netBorrowings': 287000000,\n",
       "     'totalCashFromFinancingActivities': 2708000000,\n",
       "     'changeToOperatingActivities': -240000000,\n",
       "     'issuanceOfStock': 2469000000,\n",
       "     'netIncome': 16000000,\n",
       "     'changeInCash': 1764000000,\n",
       "     'effectOfExchangeRate': -24000000,\n",
       "     'totalCashFromOperatingActivities': -440000000,\n",
       "     'depreciation': 553000000,\n",
       "     'otherCashflowsFromInvestingActivities': 1000000,\n",
       "     'changeToInventory': -981000000,\n",
       "     'changeToAccountReceivables': -14000000,\n",
       "     'otherCashflowsFromFinancingActivities': -48000000,\n",
       "     'changeToNetincome': 392000000,\n",
       "     'capitalExpenditures': -481000000}}]}}"
      ]
     },
     "metadata": {},
     "execution_count": 10
    }
   ],
   "source": [
    "# Obtain quarterly cash-flow statements\n",
    "yahoo_financials.get_financial_stmts('quarterly', 'cash')"
   ]
  },
  {
   "cell_type": "code",
   "execution_count": 12,
   "metadata": {},
   "outputs": [
    {
     "output_type": "execute_result",
     "data": {
      "text/plain": [
       "{'TSLA': {'annualHoldingsTurnover': None,\n",
       "  'enterpriseToRevenue': 19.038,\n",
       "  'beta3Year': None,\n",
       "  'profitMargins': 0.02286,\n",
       "  'enterpriseToEbitda': 140.504,\n",
       "  '52WeekChange': 5.268555,\n",
       "  'morningStarRiskRating': None,\n",
       "  'forwardEps': 5.52,\n",
       "  'revenueQuarterlyGrowth': None,\n",
       "  'sharesOutstanding': 959854016,\n",
       "  'fundInceptionDate': '-',\n",
       "  'annualReportExpenseRatio': None,\n",
       "  'totalAssets': None,\n",
       "  'bookValue': 23.151,\n",
       "  'sharesShort': 44000524,\n",
       "  'sharesPercentSharesOut': 0.0458,\n",
       "  'fundFamily': None,\n",
       "  'lastFiscalYearEnd': 1609372800,\n",
       "  'heldPercentInstitutions': 0.42529,\n",
       "  'netIncomeToCommon': 690000000,\n",
       "  'trailingEps': 0.64,\n",
       "  'lastDividendValue': None,\n",
       "  'SandP52WeekChange': 0.48685014,\n",
       "  'priceToBook': 27.224312,\n",
       "  'heldPercentInsiders': 0.19985001,\n",
       "  'nextFiscalYearEnd': 1672444800,\n",
       "  'yield': None,\n",
       "  'mostRecentQuarter': 1609372800,\n",
       "  'shortRatio': 1.59,\n",
       "  'sharesShortPreviousMonthDate': '2021-01-29',\n",
       "  'floatShares': 771319079,\n",
       "  'beta': 2.06013,\n",
       "  'enterpriseValue': 600373854208,\n",
       "  'priceHint': 2,\n",
       "  'threeYearAverageReturn': None,\n",
       "  'lastSplitDate': '2020-08-31',\n",
       "  'lastSplitFactor': '5:1',\n",
       "  'legalType': None,\n",
       "  'lastDividendDate': '-',\n",
       "  'morningStarOverallRating': None,\n",
       "  'earningsQuarterlyGrowth': 1.571,\n",
       "  'priceToSalesTrailing12Months': None,\n",
       "  'dateShortInterest': 1614297600,\n",
       "  'pegRatio': 4.95,\n",
       "  'ytdReturn': None,\n",
       "  'forwardPE': 114.17935,\n",
       "  'maxAge': 1,\n",
       "  'lastCapGain': None,\n",
       "  'shortPercentOfFloat': 0.056999996,\n",
       "  'sharesShortPriorMonth': 52379526,\n",
       "  'impliedSharesOutstanding': None,\n",
       "  'category': None,\n",
       "  'fiveYearAverageReturn': None}}"
      ]
     },
     "metadata": {},
     "execution_count": 12
    }
   ],
   "source": [
    "# Obtain key statistics\n",
    "yahoo_financials.get_key_statistics_data()"
   ]
  },
  {
   "cell_type": "code",
   "execution_count": 11,
   "metadata": {},
   "outputs": [
    {
     "output_type": "execute_result",
     "data": {
      "text/plain": [
       "630.27"
      ]
     },
     "metadata": {},
     "execution_count": 11
    }
   ],
   "source": [
    "# Pull latest stock price\n",
    "yahoo_financials.get_current_price()"
   ]
  }
 ]
}