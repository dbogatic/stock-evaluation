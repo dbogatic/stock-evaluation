{
 "cells": [
  {
   "cell_type": "markdown",
   "source": [
    "# LSTM Stock Predictor Using Closing Prices\n",
    "\n",
    "In this notebook, we will build and train a custom LSTM RNN that uses a 10 day window of chosen stock closing prices to predict the 11th day closing price. \n",
    "\n",
    "We will need to:\n",
    "\n",
    "1. Prepare the data for training and testing\n",
    "2. Build and train a custom LSTM RNN\n",
    "3. Evaluate the performance of the model"
   ],
   "metadata": {}
  },
  {
   "cell_type": "markdown",
   "source": [
    "## Data Preparation\n",
    "\n",
    "In this section, we will need to prepare the training and testing data for the model. The model will use a rolling 10 day window to predict the 11th day closing price.\n",
    "\n",
    "We will need to:\n",
    "1. Use the `window_data` function to generate the X and y values for the model.\n",
    "2. Split the data into 70% training and 30% testing\n",
    "3. Apply the MinMaxScaler to the X and y values\n",
    "4. Reshape the X_train and X_test data for the model. Note: The required input format for the LSTM is:\n",
    "\n",
    "```python\n",
    "reshape((X_train.shape[0], X_train.shape[1], 1))\n",
    "```"
   ],
   "metadata": {}
  },
  {
   "cell_type": "code",
   "execution_count": 1,
   "source": [
    "import numpy as np\n",
    "import pandas as pd\n",
    "%matplotlib inline"
   ],
   "outputs": [
    {
     "output_type": "stream",
     "name": "stderr",
     "text": [
      "\n",
      "Bad key \"text.kerning_factor\" on line 4 in\n",
      "/Users/draganbogatic/opt/anaconda3/envs/pyvizenv/lib/python3.7/site-packages/matplotlib/mpl-data/stylelib/_classic_test_patch.mplstyle.\n",
      "You probably need to get an updated matplotlibrc file from\n",
      "http://github.com/matplotlib/matplotlib/blob/master/matplotlibrc.template\n",
      "or from the matplotlib source distribution\n"
     ]
    }
   ],
   "metadata": {}
  },
  {
   "cell_type": "code",
   "execution_count": 2,
   "source": [
    "# Set the random seed for reproducibility\n",
    "# Note: It is a good practice to run multiple experiments to evaluate model\n",
    "#from numpy.random import seed\n",
    "#seed(1)\n",
    "#from tensorflow import random\n",
    "#random.set_seed(2)"
   ],
   "outputs": [],
   "metadata": {}
  },
  {
   "cell_type": "code",
   "execution_count": 7,
   "source": [
    "# Load the historical closing prices for the stock\n",
    "stock_df = pd.read_csv(\"../Resources/stock_historical_prices.csv\", index_col=\"Date\", infer_datetime_format=True, parse_dates=True)\n",
    "stock_df = stock_df.sort_index()\n",
    "\n",
    "stock_df.tail()"
   ],
   "outputs": [
    {
     "output_type": "execute_result",
     "data": {
      "text/plain": [
       "             Adj Close\n",
       "Date                  \n",
       "2021-07-13  279.209991\n",
       "2021-07-14  278.309998\n",
       "2021-07-15  279.720001\n",
       "2021-07-16  277.899994\n",
       "2021-07-19  272.660004"
      ],
      "text/html": [
       "<div>\n",
       "<style scoped>\n",
       "    .dataframe tbody tr th:only-of-type {\n",
       "        vertical-align: middle;\n",
       "    }\n",
       "\n",
       "    .dataframe tbody tr th {\n",
       "        vertical-align: top;\n",
       "    }\n",
       "\n",
       "    .dataframe thead th {\n",
       "        text-align: right;\n",
       "    }\n",
       "</style>\n",
       "<table border=\"1\" class=\"dataframe\">\n",
       "  <thead>\n",
       "    <tr style=\"text-align: right;\">\n",
       "      <th></th>\n",
       "      <th>Adj Close</th>\n",
       "    </tr>\n",
       "    <tr>\n",
       "      <th>Date</th>\n",
       "      <th></th>\n",
       "    </tr>\n",
       "  </thead>\n",
       "  <tbody>\n",
       "    <tr>\n",
       "      <th>2021-07-13</th>\n",
       "      <td>279.209991</td>\n",
       "    </tr>\n",
       "    <tr>\n",
       "      <th>2021-07-14</th>\n",
       "      <td>278.309998</td>\n",
       "    </tr>\n",
       "    <tr>\n",
       "      <th>2021-07-15</th>\n",
       "      <td>279.720001</td>\n",
       "    </tr>\n",
       "    <tr>\n",
       "      <th>2021-07-16</th>\n",
       "      <td>277.899994</td>\n",
       "    </tr>\n",
       "    <tr>\n",
       "      <th>2021-07-19</th>\n",
       "      <td>272.660004</td>\n",
       "    </tr>\n",
       "  </tbody>\n",
       "</table>\n",
       "</div>"
      ]
     },
     "metadata": {},
     "execution_count": 7
    }
   ],
   "metadata": {}
  },
  {
   "cell_type": "code",
   "execution_count": 8,
   "source": [
    "# This function accepts the column number for the features (X) and the target (y)\n",
    "# It chunks the data up with a rolling window of Xt-n to predict Xt\n",
    "# It returns a numpy array of X any y\n",
    "def window_data(df, window, feature_col_number, target_col_number):\n",
    "    X = []\n",
    "    y = []\n",
    "    for i in range(len(df) - window - 1):\n",
    "        features = df.iloc[i:(i + window), feature_col_number]\n",
    "        target = df.iloc[(i + window), target_col_number]\n",
    "        X.append(features)\n",
    "        y.append(target)\n",
    "    return np.array(X), np.array(y).reshape(-1, 1)"
   ],
   "outputs": [],
   "metadata": {}
  },
  {
   "cell_type": "code",
   "execution_count": 9,
   "source": [
    "# Predict Closing Prices using a 10 day window of previous closing prices\n",
    "# Then, experiment with window sizes anywhere from 1 to 10 and see how the model performance changes\n",
    "window_size = 10\n",
    "\n",
    "# Column index 0 is the `close` column\n",
    "feature_column = 0\n",
    "target_column = 0\n",
    "X, y = window_data(stock_df, window_size, feature_column, target_column)\n",
    "\n",
    "print (f\"X sample values:\\n{X[:5]} \\n\")\n",
    "print (f\"y sample values:\\n{y[:5]}\")"
   ],
   "outputs": [
    {
     "output_type": "stream",
     "name": "stdout",
     "text": [
      "X sample values:\n",
      "[[143.55000305 143.41999817 142.80000305 141.6000061  141.94999695\n",
      "  142.57000732 142.32000732 141.36000061 140.47000122 138.38999939]\n",
      " [143.41999817 142.80000305 141.6000061  141.94999695 142.57000732\n",
      "  142.32000732 141.36000061 140.47000122 138.38999939 134.22000122]\n",
      " [142.80000305 141.6000061  141.94999695 142.57000732 142.32000732\n",
      "  141.36000061 140.47000122 138.38999939 134.22000122 129.57000732]\n",
      " [141.6000061  141.94999695 142.57000732 142.32000732 141.36000061\n",
      "  140.47000122 138.38999939 134.22000122 129.57000732 127.73999786]\n",
      " [141.94999695 142.57000732 142.32000732 141.36000061 140.47000122\n",
      "  138.38999939 134.22000122 129.57000732 127.73999786 132.61000061]] \n",
      "\n",
      "y sample values:\n",
      "[[134.22000122]\n",
      " [129.57000732]\n",
      " [127.73999786]\n",
      " [132.61000061]\n",
      " [136.22999573]]\n"
     ]
    }
   ],
   "metadata": {}
  },
  {
   "cell_type": "code",
   "execution_count": 10,
   "source": [
    "# Use 70% of the data for training and the remaineder for testing\n",
    "split = int(0.7 * len(X))\n",
    "X_train = X[: split]\n",
    "X_test = X[split:]\n",
    "y_train = y[: split]\n",
    "y_test = y[split:]"
   ],
   "outputs": [],
   "metadata": {}
  },
  {
   "cell_type": "code",
   "execution_count": 11,
   "source": [
    "from sklearn.preprocessing import MinMaxScaler\n",
    "# Use the MinMaxScaler to scale data between 0 and 1.\n",
    "scaler = MinMaxScaler()\n",
    "scaler.fit(X)\n",
    "X_train_scaler = scaler.transform(X_train)\n",
    "X_test_scaler = scaler.transform(X_test)\n",
    "scaler.fit(y)\n",
    "y_train = scaler.transform(y_train)\n",
    "y_test = scaler.transform(y_test)"
   ],
   "outputs": [],
   "metadata": {}
  },
  {
   "cell_type": "code",
   "execution_count": 18,
   "source": [
    "# Reshape the features for the model\n",
    "X_train = X_train_scaler.reshape((X_train_scaler.shape[0], X_train_scaler.shape[1], 1))\n",
    "X_test = X_test_scaler.reshape((X_test_scaler.shape[0], X_test_scaler.shape[1], 1))\n",
    "print (f\"X_train sample values:\\n{X_train[:5]} \\n\")\n",
    "print (f\"X_test sample values:\\n{X_test[:5]}\")"
   ],
   "outputs": [
    {
     "output_type": "stream",
     "name": "stdout",
     "text": [
      "X_train sample values:\n",
      "[[[0.11532755]\n",
      "  [0.11455551]\n",
      "  [0.11087361]\n",
      "  [0.10374731]\n",
      "  [0.10582576]\n",
      "  [0.10950776]\n",
      "  [0.10802311]\n",
      "  [0.10232202]\n",
      "  [0.09703667]\n",
      "  [0.08468438]]\n",
      "\n",
      " [[0.11455551]\n",
      "  [0.11087361]\n",
      "  [0.10374731]\n",
      "  [0.10582576]\n",
      "  [0.10950776]\n",
      "  [0.10802311]\n",
      "  [0.10232202]\n",
      "  [0.09703667]\n",
      "  [0.08468438]\n",
      "  [0.05992045]]\n",
      "\n",
      " [[0.11087361]\n",
      "  [0.10374731]\n",
      "  [0.10582576]\n",
      "  [0.10950776]\n",
      "  [0.10802311]\n",
      "  [0.10232202]\n",
      "  [0.09703667]\n",
      "  [0.08468438]\n",
      "  [0.05992045]\n",
      "  [0.03230602]]\n",
      "\n",
      " [[0.10374731]\n",
      "  [0.10582576]\n",
      "  [0.10950776]\n",
      "  [0.10802311]\n",
      "  [0.10232202]\n",
      "  [0.09703667]\n",
      "  [0.08468438]\n",
      "  [0.05992045]\n",
      "  [0.03230602]\n",
      "  [0.02143833]]\n",
      "\n",
      " [[0.10582576]\n",
      "  [0.10950776]\n",
      "  [0.10802311]\n",
      "  [0.10232202]\n",
      "  [0.09703667]\n",
      "  [0.08468438]\n",
      "  [0.05992045]\n",
      "  [0.03230602]\n",
      "  [0.02143833]\n",
      "  [0.05035931]]] \n",
      "\n",
      "X_test sample values:\n",
      "[[[0.49872325]\n",
      "  [0.49153751]\n",
      "  [0.49480375]\n",
      "  [0.49818879]\n",
      "  [0.49040925]\n",
      "  [0.46897092]\n",
      "  [0.48013541]\n",
      "  [0.4985451 ]\n",
      "  [0.4935567 ]\n",
      "  [0.47485007]]\n",
      "\n",
      " [[0.49153751]\n",
      "  [0.49480375]\n",
      "  [0.49818879]\n",
      "  [0.49040925]\n",
      "  [0.46897092]\n",
      "  [0.48013541]\n",
      "  [0.4985451 ]\n",
      "  [0.4935567 ]\n",
      "  [0.47485007]\n",
      "  [0.49029045]]\n",
      "\n",
      " [[0.49480375]\n",
      "  [0.49818879]\n",
      "  [0.49040925]\n",
      "  [0.46897092]\n",
      "  [0.48013541]\n",
      "  [0.4985451 ]\n",
      "  [0.4935567 ]\n",
      "  [0.47485007]\n",
      "  [0.49029045]\n",
      "  [0.4913    ]]\n",
      "\n",
      " [[0.49818879]\n",
      "  [0.49040925]\n",
      "  [0.46897092]\n",
      "  [0.48013541]\n",
      "  [0.4985451 ]\n",
      "  [0.4935567 ]\n",
      "  [0.47485007]\n",
      "  [0.49029045]\n",
      "  [0.4913    ]\n",
      "  [0.4985451 ]]\n",
      "\n",
      " [[0.49040925]\n",
      "  [0.46897092]\n",
      "  [0.48013541]\n",
      "  [0.4985451 ]\n",
      "  [0.4935567 ]\n",
      "  [0.47485007]\n",
      "  [0.49029045]\n",
      "  [0.4913    ]\n",
      "  [0.4985451 ]\n",
      "  [0.49753555]]]\n"
     ]
    }
   ],
   "metadata": {}
  },
  {
   "cell_type": "markdown",
   "source": [
    "---"
   ],
   "metadata": {}
  },
  {
   "cell_type": "markdown",
   "source": [
    "## Build and Train the LSTM RNN\n",
    "\n",
    "In this section, we will design a custom LSTM RNN and fit (train) it using the training data.\n",
    "\n",
    "Need to:\n",
    "1. Define the model architecture\n",
    "2. Compile the model\n",
    "3. Fit the model to the training data"
   ],
   "metadata": {}
  },
  {
   "cell_type": "code",
   "execution_count": 12,
   "source": [
    "from tensorflow.keras.models import Sequential\n",
    "from tensorflow.keras.layers import LSTM, Dense, Dropout"
   ],
   "outputs": [],
   "metadata": {}
  },
  {
   "cell_type": "code",
   "execution_count": 19,
   "source": [
    "# Build the LSTM model. \n",
    "# The return sequences need to be set to True if we are adding additional LSTM layers, but \n",
    "# We don't have to do this for the final layer. \n",
    "# Note: The dropouts help prevent overfitting\n",
    "# Note: The input shape is the number of time steps and the number of indicators\n",
    "# Note: Batching inputs has a different input shape of Samples/TimeSteps/Features\n",
    "\n",
    "model = Sequential()\n",
    "\n",
    "number_units = 30\n",
    "dropout_fraction = 0.2\n",
    "\n",
    "# Layer 1\n",
    "model.add(LSTM(\n",
    "    units=number_units,\n",
    "    return_sequences=True,\n",
    "    input_shape=(X_train.shape[1], 1))\n",
    "    )\n",
    "model.add(Dropout(dropout_fraction))\n",
    "# Layer 2\n",
    "model.add(LSTM(units=number_units, return_sequences=True))\n",
    "model.add(Dropout(dropout_fraction))\n",
    "# Layer 3\n",
    "model.add(LSTM(units=number_units))\n",
    "model.add(Dropout(dropout_fraction))\n",
    "# Output layer\n",
    "model.add(Dense(1))"
   ],
   "outputs": [],
   "metadata": {}
  },
  {
   "cell_type": "code",
   "execution_count": 20,
   "source": [
    "# Compile the model\n",
    "model.compile(optimizer=\"adam\", loss=\"mean_squared_error\")"
   ],
   "outputs": [],
   "metadata": {}
  },
  {
   "cell_type": "code",
   "execution_count": 21,
   "source": [
    "# Summarize the model\n",
    "model.summary()"
   ],
   "outputs": [
    {
     "output_type": "stream",
     "name": "stdout",
     "text": [
      "Model: \"sequential_1\"\n",
      "_________________________________________________________________\n",
      "Layer (type)                 Output Shape              Param #   \n",
      "=================================================================\n",
      "lstm_3 (LSTM)                (None, 10, 30)            3840      \n",
      "_________________________________________________________________\n",
      "dropout_3 (Dropout)          (None, 10, 30)            0         \n",
      "_________________________________________________________________\n",
      "lstm_4 (LSTM)                (None, 10, 30)            7320      \n",
      "_________________________________________________________________\n",
      "dropout_4 (Dropout)          (None, 10, 30)            0         \n",
      "_________________________________________________________________\n",
      "lstm_5 (LSTM)                (None, 30)                7320      \n",
      "_________________________________________________________________\n",
      "dropout_5 (Dropout)          (None, 30)                0         \n",
      "_________________________________________________________________\n",
      "dense_1 (Dense)              (None, 1)                 31        \n",
      "=================================================================\n",
      "Total params: 18,511\n",
      "Trainable params: 18,511\n",
      "Non-trainable params: 0\n",
      "_________________________________________________________________\n"
     ]
    }
   ],
   "metadata": {}
  },
  {
   "cell_type": "code",
   "execution_count": 34,
   "source": [
    "# Train the model\n",
    "# Use at least 10 epochs\n",
    "# Do not shuffle the data\n",
    "# Experiement with the batch size, but a smaller batch size is recommended\n",
    "\n",
    "model.fit(X_train, y_train, epochs=10, shuffle=False, batch_size=3, verbose=1)"
   ],
   "outputs": [
    {
     "output_type": "stream",
     "name": "stdout",
     "text": [
      "Epoch 1/10\n",
      "347/347 [==============================] - 3s 7ms/step - loss: 0.0025\n",
      "Epoch 2/10\n",
      "347/347 [==============================] - 3s 7ms/step - loss: 0.0021\n",
      "Epoch 3/10\n",
      "347/347 [==============================] - 3s 8ms/step - loss: 0.0021\n",
      "Epoch 4/10\n",
      "347/347 [==============================] - 3s 8ms/step - loss: 0.0020\n",
      "Epoch 5/10\n",
      "347/347 [==============================] - 3s 7ms/step - loss: 0.0018\n",
      "Epoch 6/10\n",
      "347/347 [==============================] - 3s 7ms/step - loss: 0.0020\n",
      "Epoch 7/10\n",
      "347/347 [==============================] - 2s 7ms/step - loss: 0.0016\n",
      "Epoch 8/10\n",
      "347/347 [==============================] - 3s 7ms/step - loss: 0.0018\n",
      "Epoch 9/10\n",
      "347/347 [==============================] - 3s 7ms/step - loss: 0.0015\n",
      "Epoch 10/10\n",
      "347/347 [==============================] - 3s 7ms/step - loss: 0.0016\n"
     ]
    },
    {
     "output_type": "execute_result",
     "data": {
      "text/plain": [
       "<tensorflow.python.keras.callbacks.History at 0x7f9ab4b69150>"
      ]
     },
     "metadata": {},
     "execution_count": 34
    }
   ],
   "metadata": {}
  },
  {
   "cell_type": "markdown",
   "source": [
    "---"
   ],
   "metadata": {}
  },
  {
   "cell_type": "markdown",
   "source": [
    "## Model Performance\n",
    "\n",
    "In this section, we will evaluate the model using the test data. \n",
    "\n",
    "Need to:\n",
    "1. Evaluate the model using the `X_test` and `y_test` data.\n",
    "2. Use the X_test data to make predictions\n",
    "3. Create a DataFrame of Real (y_test) vs predicted values. \n",
    "4. Plot the Real vs predicted values as a line chart\n",
    "\n",
    "### Hints\n",
    "Remember to apply the `inverse_transform` function to the predicted and y_test values to recover the actual closing prices."
   ],
   "metadata": {}
  },
  {
   "cell_type": "code",
   "execution_count": 35,
   "source": [
    "# Evaluate the model\n",
    "model.evaluate(X_test, y_test)"
   ],
   "outputs": [
    {
     "output_type": "stream",
     "name": "stdout",
     "text": [
      "14/14 [==============================] - 0s 3ms/step - loss: 0.0424\n"
     ]
    },
    {
     "output_type": "execute_result",
     "data": {
      "text/plain": [
       "0.04244405776262283"
      ]
     },
     "metadata": {},
     "execution_count": 35
    }
   ],
   "metadata": {}
  },
  {
   "cell_type": "code",
   "execution_count": 36,
   "source": [
    "# Make predictions\n",
    "predicted = model.predict(X_test)"
   ],
   "outputs": [],
   "metadata": {}
  },
  {
   "cell_type": "code",
   "execution_count": 37,
   "source": [
    "# Recover the original prices instead of the scaled version\n",
    "predicted_prices = scaler.inverse_transform(predicted)\n",
    "real_prices = scaler.inverse_transform(y_test.reshape(-1, 1))"
   ],
   "outputs": [],
   "metadata": {}
  },
  {
   "cell_type": "code",
   "execution_count": 38,
   "source": [
    "# Create a DataFrame of Real and Predicted values\n",
    "stock = pd.DataFrame({\"Real\": real_prices.ravel(),\"Predicted\": predicted_prices.ravel()}, index = stock_df.index[-len(real_prices): ]) \n",
    "stock.iloc[-20:]"
   ],
   "outputs": [
    {
     "output_type": "execute_result",
     "data": {
      "text/plain": [
       "                  Real   Predicted\n",
       "Date                              \n",
       "2021-06-21  274.040009  207.084244\n",
       "2021-06-22  277.100006  207.092178\n",
       "2021-06-23  276.920013  207.085373\n",
       "2021-06-24  274.660004  207.081207\n",
       "2021-06-25  275.489990  207.084045\n",
       "2021-06-28  278.380005  207.083542\n",
       "2021-06-29  276.609985  207.078964\n",
       "2021-06-30  276.209991  207.081207\n",
       "2021-07-01  277.920013  207.083984\n",
       "2021-07-02  280.170013  207.081772\n",
       "2021-07-06  279.119995  207.077744\n",
       "2021-07-07  277.320007  207.079407\n",
       "2021-07-08  279.239990  207.084167\n",
       "2021-07-09  274.100006  207.081879\n",
       "2021-07-12  280.489990  207.087830\n",
       "2021-07-13  280.109985  207.079773\n",
       "2021-07-14  279.209991  207.076477\n",
       "2021-07-15  278.309998  207.079849\n",
       "2021-07-16  279.720001  207.082901\n",
       "2021-07-19  277.899994  207.080978"
      ],
      "text/html": [
       "<div>\n",
       "<style scoped>\n",
       "    .dataframe tbody tr th:only-of-type {\n",
       "        vertical-align: middle;\n",
       "    }\n",
       "\n",
       "    .dataframe tbody tr th {\n",
       "        vertical-align: top;\n",
       "    }\n",
       "\n",
       "    .dataframe thead th {\n",
       "        text-align: right;\n",
       "    }\n",
       "</style>\n",
       "<table border=\"1\" class=\"dataframe\">\n",
       "  <thead>\n",
       "    <tr style=\"text-align: right;\">\n",
       "      <th></th>\n",
       "      <th>Real</th>\n",
       "      <th>Predicted</th>\n",
       "    </tr>\n",
       "    <tr>\n",
       "      <th>Date</th>\n",
       "      <th></th>\n",
       "      <th></th>\n",
       "    </tr>\n",
       "  </thead>\n",
       "  <tbody>\n",
       "    <tr>\n",
       "      <th>2021-06-21</th>\n",
       "      <td>274.040009</td>\n",
       "      <td>207.084244</td>\n",
       "    </tr>\n",
       "    <tr>\n",
       "      <th>2021-06-22</th>\n",
       "      <td>277.100006</td>\n",
       "      <td>207.092178</td>\n",
       "    </tr>\n",
       "    <tr>\n",
       "      <th>2021-06-23</th>\n",
       "      <td>276.920013</td>\n",
       "      <td>207.085373</td>\n",
       "    </tr>\n",
       "    <tr>\n",
       "      <th>2021-06-24</th>\n",
       "      <td>274.660004</td>\n",
       "      <td>207.081207</td>\n",
       "    </tr>\n",
       "    <tr>\n",
       "      <th>2021-06-25</th>\n",
       "      <td>275.489990</td>\n",
       "      <td>207.084045</td>\n",
       "    </tr>\n",
       "    <tr>\n",
       "      <th>2021-06-28</th>\n",
       "      <td>278.380005</td>\n",
       "      <td>207.083542</td>\n",
       "    </tr>\n",
       "    <tr>\n",
       "      <th>2021-06-29</th>\n",
       "      <td>276.609985</td>\n",
       "      <td>207.078964</td>\n",
       "    </tr>\n",
       "    <tr>\n",
       "      <th>2021-06-30</th>\n",
       "      <td>276.209991</td>\n",
       "      <td>207.081207</td>\n",
       "    </tr>\n",
       "    <tr>\n",
       "      <th>2021-07-01</th>\n",
       "      <td>277.920013</td>\n",
       "      <td>207.083984</td>\n",
       "    </tr>\n",
       "    <tr>\n",
       "      <th>2021-07-02</th>\n",
       "      <td>280.170013</td>\n",
       "      <td>207.081772</td>\n",
       "    </tr>\n",
       "    <tr>\n",
       "      <th>2021-07-06</th>\n",
       "      <td>279.119995</td>\n",
       "      <td>207.077744</td>\n",
       "    </tr>\n",
       "    <tr>\n",
       "      <th>2021-07-07</th>\n",
       "      <td>277.320007</td>\n",
       "      <td>207.079407</td>\n",
       "    </tr>\n",
       "    <tr>\n",
       "      <th>2021-07-08</th>\n",
       "      <td>279.239990</td>\n",
       "      <td>207.084167</td>\n",
       "    </tr>\n",
       "    <tr>\n",
       "      <th>2021-07-09</th>\n",
       "      <td>274.100006</td>\n",
       "      <td>207.081879</td>\n",
       "    </tr>\n",
       "    <tr>\n",
       "      <th>2021-07-12</th>\n",
       "      <td>280.489990</td>\n",
       "      <td>207.087830</td>\n",
       "    </tr>\n",
       "    <tr>\n",
       "      <th>2021-07-13</th>\n",
       "      <td>280.109985</td>\n",
       "      <td>207.079773</td>\n",
       "    </tr>\n",
       "    <tr>\n",
       "      <th>2021-07-14</th>\n",
       "      <td>279.209991</td>\n",
       "      <td>207.076477</td>\n",
       "    </tr>\n",
       "    <tr>\n",
       "      <th>2021-07-15</th>\n",
       "      <td>278.309998</td>\n",
       "      <td>207.079849</td>\n",
       "    </tr>\n",
       "    <tr>\n",
       "      <th>2021-07-16</th>\n",
       "      <td>279.720001</td>\n",
       "      <td>207.082901</td>\n",
       "    </tr>\n",
       "    <tr>\n",
       "      <th>2021-07-19</th>\n",
       "      <td>277.899994</td>\n",
       "      <td>207.080978</td>\n",
       "    </tr>\n",
       "  </tbody>\n",
       "</table>\n",
       "</div>"
      ]
     },
     "metadata": {},
     "execution_count": 38
    }
   ],
   "metadata": {}
  },
  {
   "cell_type": "code",
   "execution_count": 39,
   "source": [
    "# Plot the real vs predicted values as a line chart\n",
    "stock.plot(rot=90)"
   ],
   "outputs": [
    {
     "output_type": "execute_result",
     "data": {
      "text/plain": [
       "<matplotlib.axes._subplots.AxesSubplot at 0x7f9ab4c4f690>"
      ]
     },
     "metadata": {},
     "execution_count": 39
    },
    {
     "output_type": "display_data",
     "data": {
      "text/plain": [
       "<Figure size 432x288 with 1 Axes>"
      ],
      "image/png": "[encoded data removed]"
     },
     "metadata": {
      "needs_background": "light"
     }
    }
   ],
   "metadata": {}
  },
  {
   "cell_type": "code",
   "execution_count": 20,
   "source": [
    "# In this case LSTM model is not reliable predictor of future stock prices aside from the period from 04/20-09/20 which was the time when coronavirus pandemic started. We need to tweak hyperparameters and length of history and compare the results, to see if we can improve the model without overfitting."
   ],
   "outputs": [],
   "metadata": {}
  }
 ],
 "metadata": {
  "file_extension": ".py",
  "kernelspec": {
   "name": "python3",
   "display_name": "Python 3.7.7 64-bit ('pyvizenv': conda)"
  },
  "language_info": {
   "codemirror_mode": {
    "name": "ipython",
    "version": 3
   },
   "file_extension": ".py",
   "mimetype": "text/x-python",
   "name": "python",
   "nbconvert_exporter": "python",
   "pygments_lexer": "ipython3",
   "version": "3.7.7"
  },
  "mimetype": "text/x-python",
  "name": "python",
  "npconvert_exporter": "python",
  "pygments_lexer": "ipython3",
  "version": 3,
  "interpreter": {
   "hash": "6d180c226e1fb546a2a1623a132f2a8812479d52f4604fddc733d95b32da65e3"
  }
 },
 "nbformat": 4,
 "nbformat_minor": 4
}