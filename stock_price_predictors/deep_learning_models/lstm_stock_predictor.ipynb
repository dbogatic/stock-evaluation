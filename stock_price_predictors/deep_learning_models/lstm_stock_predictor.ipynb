{
 "cells": [
  {
   "cell_type": "markdown",
   "metadata": {},
   "source": [
    "# LSTM Stock Predictor Using Closing Prices\n",
    "\n",
    "In this notebook, we will build and train a custom LSTM RNN that uses a 10 day window of chosen stock closing prices to predict the 11th day closing price. \n",
    "\n",
    "We will need to:\n",
    "\n",
    "1. Prepare the data for training and testing\n",
    "2. Build and train a custom LSTM RNN\n",
    "3. Evaluate the performance of the model"
   ]
  },
  {
   "cell_type": "markdown",
   "metadata": {},
   "source": [
    "## Data Preparation\n",
    "\n",
    "In this section, we will need to prepare the training and testing data for the model. The model will use a rolling 10 day window to predict the 11th day closing price.\n",
    "\n",
    "We will need to:\n",
    "1. Use the `window_data` function to generate the X and y values for the model.\n",
    "2. Split the data into 70% training and 30% testing\n",
    "3. Apply the MinMaxScaler to the X and y values\n",
    "4. Reshape the X_train and X_test data for the model. Note: The required input format for the LSTM is:\n",
    "\n",
    "```python\n",
    "reshape((X_train.shape[0], X_train.shape[1], 1))\n",
    "```"
   ]
  },
  {
   "cell_type": "code",
   "execution_count": 1,
   "metadata": {},
   "outputs": [],
   "source": [
    "import numpy as np\n",
    "import pandas as pd\n",
    "%matplotlib inline"
   ]
  },
  {
   "cell_type": "code",
   "execution_count": 2,
   "metadata": {},
   "outputs": [],
   "source": [
    "# Set the random seed for reproducibility\n",
    "# Note: It is a good practice to run multiple experiments to evaluate model\n",
    "from numpy.random import seed\n",
    "seed(1)\n",
    "from tensorflow import random\n",
    "random.set_seed(2)"
   ]
  },
  {
   "cell_type": "code",
   "execution_count": 4,
   "metadata": {},
   "outputs": [
    {
     "output_type": "execute_result",
     "data": {
      "text/plain": [
       "             Adj Close\n",
       "Date                  \n",
       "2021-03-15  395.115906\n",
       "2021-03-16  394.617523\n",
       "2021-03-17  395.963135\n",
       "2021-03-18  390.201996\n",
       "2021-03-19  389.480011"
      ],
      "text/html": "<div>\n<style scoped>\n    .dataframe tbody tr th:only-of-type {\n        vertical-align: middle;\n    }\n\n    .dataframe tbody tr th {\n        vertical-align: top;\n    }\n\n    .dataframe thead th {\n        text-align: right;\n    }\n</style>\n<table border=\"1\" class=\"dataframe\">\n  <thead>\n    <tr style=\"text-align: right;\">\n      <th></th>\n      <th>Adj Close</th>\n    </tr>\n    <tr>\n      <th>Date</th>\n      <th></th>\n    </tr>\n  </thead>\n  <tbody>\n    <tr>\n      <th>2021-03-15</th>\n      <td>395.115906</td>\n    </tr>\n    <tr>\n      <th>2021-03-16</th>\n      <td>394.617523</td>\n    </tr>\n    <tr>\n      <th>2021-03-17</th>\n      <td>395.963135</td>\n    </tr>\n    <tr>\n      <th>2021-03-18</th>\n      <td>390.201996</td>\n    </tr>\n    <tr>\n      <th>2021-03-19</th>\n      <td>389.480011</td>\n    </tr>\n  </tbody>\n</table>\n</div>"
     },
     "metadata": {},
     "execution_count": 4
    }
   ],
   "source": [
    "# Load the historical closing prices for the stock\n",
    "stock_df = pd.read_csv(\"/Users/bogica/Documents/Fin_Tech/stock-evaluation/Resources/stock_historical_prices.csv\", index_col=\"Date\", infer_datetime_format=True, parse_dates=True)\n",
    "stock_df = stock_df.sort_index()\n",
    "\n",
    "stock_df.tail()"
   ]
  },
  {
   "cell_type": "code",
   "execution_count": 5,
   "metadata": {},
   "outputs": [],
   "source": [
    "# This function accepts the column number for the features (X) and the target (y)\n",
    "# It chunks the data up with a rolling window of Xt-n to predict Xt\n",
    "# It returns a numpy array of X any y\n",
    "def window_data(df, window, feature_col_number, target_col_number):\n",
    "    X = []\n",
    "    y = []\n",
    "    for i in range(len(df) - window - 1):\n",
    "        features = df.iloc[i:(i + window), feature_col_number]\n",
    "        target = df.iloc[(i + window), target_col_number]\n",
    "        X.append(features)\n",
    "        y.append(target)\n",
    "    return np.array(X), np.array(y).reshape(-1, 1)"
   ]
  },
  {
   "cell_type": "code",
   "execution_count": 6,
   "metadata": {},
   "outputs": [
    {
     "output_type": "stream",
     "name": "stdout",
     "text": [
      "X sample values:\n[[186.60998535 185.75883484 187.39846802 187.03327942 185.98234558\n  183.25700378 182.82058716 183.23918152 185.47465515 183.85371399]\n [185.75883484 187.39846802 187.03327942 185.98234558 183.25700378\n  182.82058716 183.23918152 185.47465515 183.85371399 183.2035675 ]\n [187.39846802 187.03327942 185.98234558 183.25700378 182.82058716\n  183.23918152 185.47465515 183.85371399 183.2035675  183.86262512]\n [187.03327942 185.98234558 183.25700378 182.82058716 183.23918152\n  185.47465515 183.85371399 183.2035675  183.86262512 185.10058594]\n [185.98234558 183.25700378 182.82058716 183.23918152 185.47465515\n  183.85371399 183.2035675  183.86262512 185.10058594 184.61077881]] \n\ny sample values:\n[[183.2035675 ]\n [183.86262512]\n [185.10058594]\n [184.61077881]\n [185.23422241]]\n"
     ]
    }
   ],
   "source": [
    "# Predict Closing Prices using a 10 day window of previous closing prices\n",
    "# Then, experiment with window sizes anywhere from 1 to 10 and see how the model performance changes\n",
    "window_size = 10\n",
    "\n",
    "# Column index 0 is the `close` column\n",
    "feature_column = 0\n",
    "target_column = 0\n",
    "X, y = window_data(stock_df, window_size, feature_column, target_column)\n",
    "\n",
    "print (f\"X sample values:\\n{X[:5]} \\n\")\n",
    "print (f\"y sample values:\\n{y[:5]}\")"
   ]
  },
  {
   "cell_type": "code",
   "execution_count": 7,
   "metadata": {},
   "outputs": [],
   "source": [
    "# Use 70% of the data for training and the remaineder for testing\n",
    "split = int(0.7 * len(X))\n",
    "X_train = X[: split]\n",
    "X_test = X[split:]\n",
    "y_train = y[: split]\n",
    "y_test = y[split:]"
   ]
  },
  {
   "cell_type": "code",
   "execution_count": 8,
   "metadata": {},
   "outputs": [],
   "source": [
    "from sklearn.preprocessing import MinMaxScaler\n",
    "# Use the MinMaxScaler to scale data between 0 and 1.\n",
    "scaler = MinMaxScaler()\n",
    "scaler.fit(X)\n",
    "X_train_scaler = scaler.transform(X_train)\n",
    "X_test_scaler = scaler.transform(X_test)\n",
    "scaler.fit(y)\n",
    "y_train = scaler.transform(y_train)\n",
    "y_test = scaler.transform(y_test)"
   ]
  },
  {
   "cell_type": "code",
   "execution_count": 9,
   "metadata": {},
   "outputs": [
    {
     "output_type": "stream",
     "name": "stdout",
     "text": [
      "X_train sample values:\n[[[0.09353191]\n  [0.08976367]\n  [0.09702271]\n  [0.09540594]\n  [0.09075321]\n  [0.07837966]\n  [0.07627741]\n  [0.07732223]\n  [0.08705724]\n  [0.07970432]]\n\n [[0.08976367]\n  [0.09702271]\n  [0.09540594]\n  [0.09075321]\n  [0.07868748]\n  [0.0764551 ]\n  [0.07811908]\n  [0.08705724]\n  [0.07999839]\n  [0.07688348]]\n\n [[0.09702271]\n  [0.09540594]\n  [0.09075321]\n  [0.07868748]\n  [0.07675537]\n  [0.07830107]\n  [0.08795442]\n  [0.07999839]\n  [0.07716714]\n  [0.07974299]]\n\n [[0.09540594]\n  [0.09075321]\n  [0.07868748]\n  [0.07675537]\n  [0.07860858]\n  [0.08815931]\n  [0.08082282]\n  [0.07716714]\n  [0.0800372 ]\n  [0.08511422]]\n\n [[0.09075321]\n  [0.07868748]\n  [0.07675537]\n  [0.07860858]\n  [0.08850554]\n  [0.0810111 ]\n  [0.07796239]\n  [0.0800372 ]\n  [0.08542825]\n  [0.08298906]]] \n\nX_test sample values:\n[[[0.49079391]\n  [0.48703628]\n  [0.47213355]\n  [0.47486652]\n  [0.46363604]\n  [0.45382625]\n  [0.45599631]\n  [0.43555221]\n  [0.43261185]\n  [0.45596295]]\n\n [[0.48703628]\n  [0.47213355]\n  [0.47486652]\n  [0.46363604]\n  [0.45560857]\n  [0.45705859]\n  [0.44004081]\n  [0.43261185]\n  [0.45764523]\n  [0.4661321 ]]\n\n [[0.47213355]\n  [0.47486652]\n  [0.46363604]\n  [0.45560857]\n  [0.45885361]\n  [0.44106592]\n  [0.43707015]\n  [0.45764523]\n  [0.46785189]\n  [0.47383194]]\n\n [[0.47486652]\n  [0.46363604]\n  [0.45560857]\n  [0.45885361]\n  [0.44279813]\n  [0.43808834]\n  [0.46236151]\n  [0.46785189]\n  [0.47558015]\n  [0.48575868]]\n\n [[0.46363604]\n  [0.45560857]\n  [0.45885361]\n  [0.44279813]\n  [0.43980886]\n  [0.46343862]\n  [0.47267336]\n  [0.47558015]\n  [0.48755089]\n  [0.49128252]]]\n"
     ]
    }
   ],
   "source": [
    "# Reshape the features for the model\n",
    "X_train = X_train_scaler.reshape((X_train_scaler.shape[0], X_train_scaler.shape[1], 1))\n",
    "X_test = X_test_scaler.reshape((X_test_scaler.shape[0], X_test_scaler.shape[1], 1))\n",
    "print (f\"X_train sample values:\\n{X_train[:5]} \\n\")\n",
    "print (f\"X_test sample values:\\n{X_test[:5]}\")"
   ]
  },
  {
   "cell_type": "markdown",
   "metadata": {},
   "source": [
    "---"
   ]
  },
  {
   "cell_type": "markdown",
   "metadata": {},
   "source": [
    "## Build and Train the LSTM RNN\n",
    "\n",
    "In this section, we will design a custom LSTM RNN and fit (train) it using the training data.\n",
    "\n",
    "Need to:\n",
    "1. Define the model architecture\n",
    "2. Compile the model\n",
    "3. Fit the model to the training data"
   ]
  },
  {
   "cell_type": "code",
   "execution_count": 10,
   "metadata": {},
   "outputs": [],
   "source": [
    "from tensorflow.keras.models import Sequential\n",
    "from tensorflow.keras.layers import LSTM, Dense, Dropout"
   ]
  },
  {
   "cell_type": "code",
   "execution_count": 11,
   "metadata": {},
   "outputs": [],
   "source": [
    "# Build the LSTM model. \n",
    "# The return sequences need to be set to True if we are adding additional LSTM layers, but \n",
    "# We don't have to do this for the final layer. \n",
    "# Note: The dropouts help prevent overfitting\n",
    "# Note: The input shape is the number of time steps and the number of indicators\n",
    "# Note: Batching inputs has a different input shape of Samples/TimeSteps/Features\n",
    "\n",
    "model = Sequential()\n",
    "\n",
    "number_units = 30\n",
    "dropout_fraction = 0.2\n",
    "\n",
    "# Layer 1\n",
    "model.add(LSTM(\n",
    "    units=number_units,\n",
    "    return_sequences=True,\n",
    "    input_shape=(X_train.shape[1], 1))\n",
    "    )\n",
    "model.add(Dropout(dropout_fraction))\n",
    "# Layer 2\n",
    "model.add(LSTM(units=number_units, return_sequences=True))\n",
    "model.add(Dropout(dropout_fraction))\n",
    "# Layer 3\n",
    "model.add(LSTM(units=number_units))\n",
    "model.add(Dropout(dropout_fraction))\n",
    "# Output layer\n",
    "model.add(Dense(1))"
   ]
  },
  {
   "cell_type": "code",
   "execution_count": 12,
   "metadata": {},
   "outputs": [],
   "source": [
    "# Compile the model\n",
    "model.compile(optimizer=\"adam\", loss=\"mean_squared_error\")"
   ]
  },
  {
   "cell_type": "code",
   "execution_count": 13,
   "metadata": {},
   "outputs": [
    {
     "output_type": "stream",
     "name": "stdout",
     "text": [
      "Model: \"sequential\"\n_________________________________________________________________\nLayer (type)                 Output Shape              Param #   \n=================================================================\nlstm (LSTM)                  (None, 10, 30)            3840      \n_________________________________________________________________\ndropout (Dropout)            (None, 10, 30)            0         \n_________________________________________________________________\nlstm_1 (LSTM)                (None, 10, 30)            7320      \n_________________________________________________________________\ndropout_1 (Dropout)          (None, 10, 30)            0         \n_________________________________________________________________\nlstm_2 (LSTM)                (None, 30)                7320      \n_________________________________________________________________\ndropout_2 (Dropout)          (None, 30)                0         \n_________________________________________________________________\ndense (Dense)                (None, 1)                 31        \n=================================================================\nTotal params: 18,511\nTrainable params: 18,511\nNon-trainable params: 0\n_________________________________________________________________\n"
     ]
    }
   ],
   "source": [
    "# Summarize the model\n",
    "model.summary()"
   ]
  },
  {
   "cell_type": "code",
   "execution_count": 14,
   "metadata": {},
   "outputs": [
    {
     "output_type": "stream",
     "name": "stdout",
     "text": [
      "Epoch 1/10\n",
      "WARNING:tensorflow:AutoGraph could not transform <function Model.make_train_function.<locals>.train_function at 0x16a4ba1f0> and will run it as-is.\n",
      "Please report this to the TensorFlow team. When filing the bug, set the verbosity to 10 (on Linux, `export AUTOGRAPH_VERBOSITY=10`) and attach the full output.\n",
      "Cause: unsupported operand type(s) for -: 'NoneType' and 'int'\n",
      "To silence this warning, decorate the function with @tf.autograph.experimental.do_not_convert\n",
      "WARNING: AutoGraph could not transform <function Model.make_train_function.<locals>.train_function at 0x16a4ba1f0> and will run it as-is.\n",
      "Please report this to the TensorFlow team. When filing the bug, set the verbosity to 10 (on Linux, `export AUTOGRAPH_VERBOSITY=10`) and attach the full output.\n",
      "Cause: unsupported operand type(s) for -: 'NoneType' and 'int'\n",
      "To silence this warning, decorate the function with @tf.autograph.experimental.do_not_convert\n",
      "2021-07-07 23:03:27.128688: I tensorflow/compiler/mlir/mlir_graph_optimization_pass.cc:116] None of the MLIR optimization passes are enabled (registered 2)\n",
      "2021-07-07 23:03:27.130825: W tensorflow/core/platform/profile_utils/cpu_utils.cc:126] Failed to get CPU frequency: 0 Hz\n",
      "351/351 [==============================] - 1s 1ms/step - loss: 0.0017\n",
      "Epoch 2/10\n",
      "351/351 [==============================] - 0s 1ms/step - loss: 0.0084\n",
      "Epoch 3/10\n",
      "351/351 [==============================] - 0s 1ms/step - loss: 0.0081\n",
      "Epoch 4/10\n",
      "351/351 [==============================] - 0s 1ms/step - loss: 0.0077\n",
      "Epoch 5/10\n",
      "351/351 [==============================] - 0s 1ms/step - loss: 0.0092\n",
      "Epoch 6/10\n",
      "351/351 [==============================] - 0s 1ms/step - loss: 0.0123\n",
      "Epoch 7/10\n",
      "351/351 [==============================] - 0s 1ms/step - loss: 0.0151\n",
      "Epoch 8/10\n",
      "351/351 [==============================] - 0s 1ms/step - loss: 0.0197\n",
      "Epoch 9/10\n",
      "351/351 [==============================] - 0s 1ms/step - loss: 0.0160\n",
      "Epoch 10/10\n",
      "351/351 [==============================] - 0s 1ms/step - loss: 0.0143\n"
     ]
    },
    {
     "output_type": "execute_result",
     "data": {
      "text/plain": [
       "<tensorflow.python.keras.callbacks.History at 0x16a4a1190>"
      ]
     },
     "metadata": {},
     "execution_count": 14
    }
   ],
   "source": [
    "# Train the model\n",
    "# Use at least 10 epochs\n",
    "# Do not shuffle the data\n",
    "# Experiement with the batch size, but a smaller batch size is recommended\n",
    "\n",
    "model.fit(X_train, y_train, epochs=10, shuffle=False, batch_size=3, verbose=1)"
   ]
  },
  {
   "cell_type": "markdown",
   "metadata": {},
   "source": [
    "---"
   ]
  },
  {
   "cell_type": "markdown",
   "metadata": {},
   "source": [
    "## Model Performance\n",
    "\n",
    "In this section, we will evaluate the model using the test data. \n",
    "\n",
    "Need to:\n",
    "1. Evaluate the model using the `X_test` and `y_test` data.\n",
    "2. Use the X_test data to make predictions\n",
    "3. Create a DataFrame of Real (y_test) vs predicted values. \n",
    "4. Plot the Real vs predicted values as a line chart\n",
    "\n",
    "### Hints\n",
    "Remember to apply the `inverse_transform` function to the predicted and y_test values to recover the actual closing prices."
   ]
  },
  {
   "cell_type": "code",
   "execution_count": 15,
   "metadata": {},
   "outputs": [
    {
     "output_type": "stream",
     "name": "stdout",
     "text": [
      "WARNING:tensorflow:AutoGraph could not transform <function Model.make_test_function.<locals>.test_function at 0x16a77c940> and will run it as-is.\n",
      "Please report this to the TensorFlow team. When filing the bug, set the verbosity to 10 (on Linux, `export AUTOGRAPH_VERBOSITY=10`) and attach the full output.\n",
      "Cause: unsupported operand type(s) for -: 'NoneType' and 'int'\n",
      "To silence this warning, decorate the function with @tf.autograph.experimental.do_not_convert\n",
      "WARNING: AutoGraph could not transform <function Model.make_test_function.<locals>.test_function at 0x16a77c940> and will run it as-is.\n",
      "Please report this to the TensorFlow team. When filing the bug, set the verbosity to 10 (on Linux, `export AUTOGRAPH_VERBOSITY=10`) and attach the full output.\n",
      "Cause: unsupported operand type(s) for -: 'NoneType' and 'int'\n",
      "To silence this warning, decorate the function with @tf.autograph.experimental.do_not_convert\n",
      "15/15 [==============================] - 0s 4ms/step - loss: 0.0443\n"
     ]
    },
    {
     "output_type": "execute_result",
     "data": {
      "text/plain": [
       "0.04430930316448212"
      ]
     },
     "metadata": {},
     "execution_count": 15
    }
   ],
   "source": [
    "# Evaluate the model\n",
    "model.evaluate(X_test, y_test)"
   ]
  },
  {
   "cell_type": "code",
   "execution_count": 16,
   "metadata": {},
   "outputs": [
    {
     "output_type": "stream",
     "name": "stdout",
     "text": [
      "WARNING:tensorflow:AutoGraph could not transform <function Model.make_predict_function.<locals>.predict_function at 0x16b07d0d0> and will run it as-is.\n",
      "Please report this to the TensorFlow team. When filing the bug, set the verbosity to 10 (on Linux, `export AUTOGRAPH_VERBOSITY=10`) and attach the full output.\n",
      "Cause: unsupported operand type(s) for -: 'NoneType' and 'int'\n",
      "To silence this warning, decorate the function with @tf.autograph.experimental.do_not_convert\n",
      "WARNING: AutoGraph could not transform <function Model.make_predict_function.<locals>.predict_function at 0x16b07d0d0> and will run it as-is.\n",
      "Please report this to the TensorFlow team. When filing the bug, set the verbosity to 10 (on Linux, `export AUTOGRAPH_VERBOSITY=10`) and attach the full output.\n",
      "Cause: unsupported operand type(s) for -: 'NoneType' and 'int'\n",
      "To silence this warning, decorate the function with @tf.autograph.experimental.do_not_convert\n"
     ]
    }
   ],
   "source": [
    "# Make predictions\n",
    "predicted = model.predict(X_test)"
   ]
  },
  {
   "cell_type": "code",
   "execution_count": 17,
   "metadata": {},
   "outputs": [],
   "source": [
    "# Recover the original prices instead of the scaled version\n",
    "predicted_prices = scaler.inverse_transform(predicted)\n",
    "real_prices = scaler.inverse_transform(y_test.reshape(-1, 1))"
   ]
  },
  {
   "cell_type": "code",
   "execution_count": 19,
   "metadata": {},
   "outputs": [
    {
     "output_type": "execute_result",
     "data": {
      "text/plain": [
       "                  Real   Predicted\n",
       "Date                              \n",
       "2021-02-22  388.756714  284.767029\n",
       "2021-02-23  385.766510  289.074371\n",
       "2021-02-24  386.234985  281.124481\n",
       "2021-02-25  390.491028  284.772583\n",
       "2021-02-26  381.081848  289.074371\n",
       "2021-03-01  379.118286  281.124481\n",
       "2021-03-02  388.308197  284.750488\n",
       "2021-03-03  385.278137  289.074371\n",
       "2021-03-04  380.174835  281.124481\n",
       "2021-03-05  375.470245  284.713684\n",
       "2021-03-08  382.377625  289.074371\n",
       "2021-03-09  380.473846  281.124481\n",
       "2021-03-10  385.906067  284.668579\n",
       "2021-03-11  388.308197  289.074371\n",
       "2021-03-12  392.245300  281.124481\n",
       "2021-03-15  392.773560  284.671021\n",
       "2021-03-16  395.115906  289.074371\n",
       "2021-03-17  394.617523  284.701447\n",
       "2021-03-18  395.963135  289.074371\n",
       "2021-03-19  390.201996  281.124481"
      ],
      "text/html": "<div>\n<style scoped>\n    .dataframe tbody tr th:only-of-type {\n        vertical-align: middle;\n    }\n\n    .dataframe tbody tr th {\n        vertical-align: top;\n    }\n\n    .dataframe thead th {\n        text-align: right;\n    }\n</style>\n<table border=\"1\" class=\"dataframe\">\n  <thead>\n    <tr style=\"text-align: right;\">\n      <th></th>\n      <th>Real</th>\n      <th>Predicted</th>\n    </tr>\n    <tr>\n      <th>Date</th>\n      <th></th>\n      <th></th>\n    </tr>\n  </thead>\n  <tbody>\n    <tr>\n      <th>2021-02-22</th>\n      <td>388.756714</td>\n      <td>284.767029</td>\n    </tr>\n    <tr>\n      <th>2021-02-23</th>\n      <td>385.766510</td>\n      <td>289.074371</td>\n    </tr>\n    <tr>\n      <th>2021-02-24</th>\n      <td>386.234985</td>\n      <td>281.124481</td>\n    </tr>\n    <tr>\n      <th>2021-02-25</th>\n      <td>390.491028</td>\n      <td>284.772583</td>\n    </tr>\n    <tr>\n      <th>2021-02-26</th>\n      <td>381.081848</td>\n      <td>289.074371</td>\n    </tr>\n    <tr>\n      <th>2021-03-01</th>\n      <td>379.118286</td>\n      <td>281.124481</td>\n    </tr>\n    <tr>\n      <th>2021-03-02</th>\n      <td>388.308197</td>\n      <td>284.750488</td>\n    </tr>\n    <tr>\n      <th>2021-03-03</th>\n      <td>385.278137</td>\n      <td>289.074371</td>\n    </tr>\n    <tr>\n      <th>2021-03-04</th>\n      <td>380.174835</td>\n      <td>281.124481</td>\n    </tr>\n    <tr>\n      <th>2021-03-05</th>\n      <td>375.470245</td>\n      <td>284.713684</td>\n    </tr>\n    <tr>\n      <th>2021-03-08</th>\n      <td>382.377625</td>\n      <td>289.074371</td>\n    </tr>\n    <tr>\n      <th>2021-03-09</th>\n      <td>380.473846</td>\n      <td>281.124481</td>\n    </tr>\n    <tr>\n      <th>2021-03-10</th>\n      <td>385.906067</td>\n      <td>284.668579</td>\n    </tr>\n    <tr>\n      <th>2021-03-11</th>\n      <td>388.308197</td>\n      <td>289.074371</td>\n    </tr>\n    <tr>\n      <th>2021-03-12</th>\n      <td>392.245300</td>\n      <td>281.124481</td>\n    </tr>\n    <tr>\n      <th>2021-03-15</th>\n      <td>392.773560</td>\n      <td>284.671021</td>\n    </tr>\n    <tr>\n      <th>2021-03-16</th>\n      <td>395.115906</td>\n      <td>289.074371</td>\n    </tr>\n    <tr>\n      <th>2021-03-17</th>\n      <td>394.617523</td>\n      <td>284.701447</td>\n    </tr>\n    <tr>\n      <th>2021-03-18</th>\n      <td>395.963135</td>\n      <td>289.074371</td>\n    </tr>\n    <tr>\n      <th>2021-03-19</th>\n      <td>390.201996</td>\n      <td>281.124481</td>\n    </tr>\n  </tbody>\n</table>\n</div>"
     },
     "metadata": {},
     "execution_count": 19
    }
   ],
   "source": [
    "# Create a DataFrame of Real and Predicted values\n",
    "stock = pd.DataFrame({\"Real\": real_prices.ravel(),\"Predicted\": predicted_prices.ravel()}, index = stock_df.index[-len(real_prices): ]) \n",
    "stock.iloc[-20:]"
   ]
  },
  {
   "cell_type": "code",
   "execution_count": 20,
   "metadata": {},
   "outputs": [
    {
     "output_type": "execute_result",
     "data": {
      "text/plain": [
       "<AxesSubplot:xlabel='Date'>"
      ]
     },
     "metadata": {},
     "execution_count": 20
    },
    {
     "output_type": "display_data",
     "data": {
      "text/plain": "<Figure size 432x288 with 1 Axes>",
      "image/svg+xml": "<?xml version=\"1.0\" encoding=\"utf-8\" standalone=\"no\"?>\n<!DOCTYPE svg PUBLIC \"-//W3C//DTD SVG 1.1//EN\"\n  \"http://www.w3.org/Graphics/SVG/1.1/DTD/svg11.dtd\">\n<svg height=\"272.700937pt\" version=\"1.1\" viewBox=\"0 0 375.2875 272.700937\" width=\"375.2875pt\" xmlns=\"http://www.w3.org/2000/svg\" xmlns:xlink=\"http://www.w3.org/1999/xlink\">\n <metadata>\n  <rdf:RDF xmlns:cc=\"http://creativecommons.org/ns#\" xmlns:dc=\"http://purl.org/dc/elements/1.1/\" xmlns:rdf=\"http://www.w3.org/1999/02/22-rdf-syntax-ns#\">\n   <cc:Work>\n    <dc:type rdf:resource=\"http://purl.org/dc/dcmitype/StillImage\"/>\n    <dc:date>2021-07-07T23:03:57.765029</dc:date>\n    <dc:format>image/svg+xml</dc:format>\n    <dc:creator>\n     <cc:Agent>\n      <dc:title>Matplotlib v3.4.2, https://matplotlib.org/</dc:title>\n     </cc:Agent>\n    </dc:creator>\n   </cc:Work>\n  </rdf:RDF>\n </metadata>\n <defs>\n  <style type=\"text/css\">*{stroke-linecap:butt;stroke-linejoin:round;}</style>\n </defs>\n <g id=\"figure_1\">\n  <g id=\"patch_1\">\n   <path d=\"M 0 272.700937 \nL 375.2875 272.700937 \nL 375.2875 0 \nL 0 0 \nz\n\" style=\"fill:none;\"/>\n  </g>\n  <g id=\"axes_1\">\n   <g id=\"patch_2\">\n    <path d=\"M 33.2875 203.04 \nL 368.0875 203.04 \nL 368.0875 7.2 \nL 33.2875 7.2 \nz\n\" style=\"fill:#ffffff;\"/>\n   </g>\n   <g id=\"matplotlib.axis_1\">\n    <g id=\"xtick_1\">\n     <g id=\"line2d_1\">\n      <defs>\n       <path d=\"M 0 0 \nL 0 3.5 \n\" id=\"m5913b0da3a\" style=\"stroke:#000000;stroke-width:0.8;\"/>\n      </defs>\n      <g>\n       <use style=\"stroke:#000000;stroke-width:0.8;\" x=\"60.176067\" xlink:href=\"#m5913b0da3a\" y=\"203.04\"/>\n      </g>\n     </g>\n     <g id=\"text_1\">\n      <!-- 2019-07 -->\n      <g transform=\"translate(58.096379 251.822812)rotate(-90)scale(0.1 -0.1)\">\n       <defs>\n        <path d=\"M 1228 531 \nL 3431 531 \nL 3431 0 \nL 469 0 \nL 469 531 \nQ 828 903 1448 1529 \nQ 2069 2156 2228 2338 \nQ 2531 2678 2651 2914 \nQ 2772 3150 2772 3378 \nQ 2772 3750 2511 3984 \nQ 2250 4219 1831 4219 \nQ 1534 4219 1204 4116 \nQ 875 4013 500 3803 \nL 500 4441 \nQ 881 4594 1212 4672 \nQ 1544 4750 1819 4750 \nQ 2544 4750 2975 4387 \nQ 3406 4025 3406 3419 \nQ 3406 3131 3298 2873 \nQ 3191 2616 2906 2266 \nQ 2828 2175 2409 1742 \nQ 1991 1309 1228 531 \nz\n\" id=\"DejaVuSans-32\" transform=\"scale(0.015625)\"/>\n        <path d=\"M 2034 4250 \nQ 1547 4250 1301 3770 \nQ 1056 3291 1056 2328 \nQ 1056 1369 1301 889 \nQ 1547 409 2034 409 \nQ 2525 409 2770 889 \nQ 3016 1369 3016 2328 \nQ 3016 3291 2770 3770 \nQ 2525 4250 2034 4250 \nz\nM 2034 4750 \nQ 2819 4750 3233 4129 \nQ 3647 3509 3647 2328 \nQ 3647 1150 3233 529 \nQ 2819 -91 2034 -91 \nQ 1250 -91 836 529 \nQ 422 1150 422 2328 \nQ 422 3509 836 4129 \nQ 1250 4750 2034 4750 \nz\n\" id=\"DejaVuSans-30\" transform=\"scale(0.015625)\"/>\n        <path d=\"M 794 531 \nL 1825 531 \nL 1825 4091 \nL 703 3866 \nL 703 4441 \nL 1819 4666 \nL 2450 4666 \nL 2450 531 \nL 3481 531 \nL 3481 0 \nL 794 0 \nL 794 531 \nz\n\" id=\"DejaVuSans-31\" transform=\"scale(0.015625)\"/>\n        <path d=\"M 703 97 \nL 703 672 \nQ 941 559 1184 500 \nQ 1428 441 1663 441 \nQ 2288 441 2617 861 \nQ 2947 1281 2994 2138 \nQ 2813 1869 2534 1725 \nQ 2256 1581 1919 1581 \nQ 1219 1581 811 2004 \nQ 403 2428 403 3163 \nQ 403 3881 828 4315 \nQ 1253 4750 1959 4750 \nQ 2769 4750 3195 4129 \nQ 3622 3509 3622 2328 \nQ 3622 1225 3098 567 \nQ 2575 -91 1691 -91 \nQ 1453 -91 1209 -44 \nQ 966 3 703 97 \nz\nM 1959 2075 \nQ 2384 2075 2632 2365 \nQ 2881 2656 2881 3163 \nQ 2881 3666 2632 3958 \nQ 2384 4250 1959 4250 \nQ 1534 4250 1286 3958 \nQ 1038 3666 1038 3163 \nQ 1038 2656 1286 2365 \nQ 1534 2075 1959 2075 \nz\n\" id=\"DejaVuSans-39\" transform=\"scale(0.015625)\"/>\n        <path d=\"M 313 2009 \nL 1997 2009 \nL 1997 1497 \nL 313 1497 \nL 313 2009 \nz\n\" id=\"DejaVuSans-2d\" transform=\"scale(0.015625)\"/>\n        <path d=\"M 525 4666 \nL 3525 4666 \nL 3525 4397 \nL 1831 0 \nL 1172 0 \nL 2766 4134 \nL 525 4134 \nL 525 4666 \nz\n\" id=\"DejaVuSans-37\" transform=\"scale(0.015625)\"/>\n       </defs>\n       <use xlink:href=\"#DejaVuSans-32\"/>\n       <use x=\"63.623047\" xlink:href=\"#DejaVuSans-30\"/>\n       <use x=\"127.246094\" xlink:href=\"#DejaVuSans-31\"/>\n       <use x=\"190.869141\" xlink:href=\"#DejaVuSans-39\"/>\n       <use x=\"254.492188\" xlink:href=\"#DejaVuSans-2d\"/>\n       <use x=\"290.576172\" xlink:href=\"#DejaVuSans-30\"/>\n       <use x=\"354.199219\" xlink:href=\"#DejaVuSans-37\"/>\n      </g>\n     </g>\n    </g>\n    <g id=\"xtick_2\">\n     <g id=\"line2d_2\">\n      <g>\n       <use style=\"stroke:#000000;stroke-width:0.8;\" x=\"103.123083\" xlink:href=\"#m5913b0da3a\" y=\"203.04\"/>\n      </g>\n     </g>\n     <g id=\"text_2\">\n      <!-- 2019-10 -->\n      <g transform=\"translate(101.043395 251.822812)rotate(-90)scale(0.1 -0.1)\">\n       <use xlink:href=\"#DejaVuSans-32\"/>\n       <use x=\"63.623047\" xlink:href=\"#DejaVuSans-30\"/>\n       <use x=\"127.246094\" xlink:href=\"#DejaVuSans-31\"/>\n       <use x=\"190.869141\" xlink:href=\"#DejaVuSans-39\"/>\n       <use x=\"254.492188\" xlink:href=\"#DejaVuSans-2d\"/>\n       <use x=\"290.576172\" xlink:href=\"#DejaVuSans-31\"/>\n       <use x=\"354.199219\" xlink:href=\"#DejaVuSans-30\"/>\n      </g>\n     </g>\n    </g>\n    <g id=\"xtick_3\">\n     <g id=\"line2d_3\">\n      <g>\n       <use style=\"stroke:#000000;stroke-width:0.8;\" x=\"146.070099\" xlink:href=\"#m5913b0da3a\" y=\"203.04\"/>\n      </g>\n     </g>\n     <g id=\"text_3\">\n      <!-- 2020-01 -->\n      <g transform=\"translate(143.990411 251.822812)rotate(-90)scale(0.1 -0.1)\">\n       <use xlink:href=\"#DejaVuSans-32\"/>\n       <use x=\"63.623047\" xlink:href=\"#DejaVuSans-30\"/>\n       <use x=\"127.246094\" xlink:href=\"#DejaVuSans-32\"/>\n       <use x=\"190.869141\" xlink:href=\"#DejaVuSans-30\"/>\n       <use x=\"254.492188\" xlink:href=\"#DejaVuSans-2d\"/>\n       <use x=\"290.576172\" xlink:href=\"#DejaVuSans-30\"/>\n       <use x=\"354.199219\" xlink:href=\"#DejaVuSans-31\"/>\n      </g>\n     </g>\n    </g>\n    <g id=\"xtick_4\">\n     <g id=\"line2d_4\">\n      <g>\n       <use style=\"stroke:#000000;stroke-width:0.8;\" x=\"188.5503\" xlink:href=\"#m5913b0da3a\" y=\"203.04\"/>\n      </g>\n     </g>\n     <g id=\"text_4\">\n      <!-- 2020-04 -->\n      <g transform=\"translate(186.470612 251.822812)rotate(-90)scale(0.1 -0.1)\">\n       <defs>\n        <path d=\"M 2419 4116 \nL 825 1625 \nL 2419 1625 \nL 2419 4116 \nz\nM 2253 4666 \nL 3047 4666 \nL 3047 1625 \nL 3713 1625 \nL 3713 1100 \nL 3047 1100 \nL 3047 0 \nL 2419 0 \nL 2419 1100 \nL 313 1100 \nL 313 1709 \nL 2253 4666 \nz\n\" id=\"DejaVuSans-34\" transform=\"scale(0.015625)\"/>\n       </defs>\n       <use xlink:href=\"#DejaVuSans-32\"/>\n       <use x=\"63.623047\" xlink:href=\"#DejaVuSans-30\"/>\n       <use x=\"127.246094\" xlink:href=\"#DejaVuSans-32\"/>\n       <use x=\"190.869141\" xlink:href=\"#DejaVuSans-30\"/>\n       <use x=\"254.492188\" xlink:href=\"#DejaVuSans-2d\"/>\n       <use x=\"290.576172\" xlink:href=\"#DejaVuSans-30\"/>\n       <use x=\"354.199219\" xlink:href=\"#DejaVuSans-34\"/>\n      </g>\n     </g>\n    </g>\n    <g id=\"xtick_5\">\n     <g id=\"line2d_5\">\n      <g>\n       <use style=\"stroke:#000000;stroke-width:0.8;\" x=\"231.030501\" xlink:href=\"#m5913b0da3a\" y=\"203.04\"/>\n      </g>\n     </g>\n     <g id=\"text_5\">\n      <!-- 2020-07 -->\n      <g transform=\"translate(228.950813 251.822812)rotate(-90)scale(0.1 -0.1)\">\n       <use xlink:href=\"#DejaVuSans-32\"/>\n       <use x=\"63.623047\" xlink:href=\"#DejaVuSans-30\"/>\n       <use x=\"127.246094\" xlink:href=\"#DejaVuSans-32\"/>\n       <use x=\"190.869141\" xlink:href=\"#DejaVuSans-30\"/>\n       <use x=\"254.492188\" xlink:href=\"#DejaVuSans-2d\"/>\n       <use x=\"290.576172\" xlink:href=\"#DejaVuSans-30\"/>\n       <use x=\"354.199219\" xlink:href=\"#DejaVuSans-37\"/>\n      </g>\n     </g>\n    </g>\n    <g id=\"xtick_6\">\n     <g id=\"line2d_6\">\n      <g>\n       <use style=\"stroke:#000000;stroke-width:0.8;\" x=\"273.977517\" xlink:href=\"#m5913b0da3a\" y=\"203.04\"/>\n      </g>\n     </g>\n     <g id=\"text_6\">\n      <!-- 2020-10 -->\n      <g transform=\"translate(271.897829 251.822812)rotate(-90)scale(0.1 -0.1)\">\n       <use xlink:href=\"#DejaVuSans-32\"/>\n       <use x=\"63.623047\" xlink:href=\"#DejaVuSans-30\"/>\n       <use x=\"127.246094\" xlink:href=\"#DejaVuSans-32\"/>\n       <use x=\"190.869141\" xlink:href=\"#DejaVuSans-30\"/>\n       <use x=\"254.492188\" xlink:href=\"#DejaVuSans-2d\"/>\n       <use x=\"290.576172\" xlink:href=\"#DejaVuSans-31\"/>\n       <use x=\"354.199219\" xlink:href=\"#DejaVuSans-30\"/>\n      </g>\n     </g>\n    </g>\n    <g id=\"xtick_7\">\n     <g id=\"line2d_7\">\n      <g>\n       <use style=\"stroke:#000000;stroke-width:0.8;\" x=\"316.924533\" xlink:href=\"#m5913b0da3a\" y=\"203.04\"/>\n      </g>\n     </g>\n     <g id=\"text_7\">\n      <!-- 2021-01 -->\n      <g transform=\"translate(314.844845 251.822812)rotate(-90)scale(0.1 -0.1)\">\n       <use xlink:href=\"#DejaVuSans-32\"/>\n       <use x=\"63.623047\" xlink:href=\"#DejaVuSans-30\"/>\n       <use x=\"127.246094\" xlink:href=\"#DejaVuSans-32\"/>\n       <use x=\"190.869141\" xlink:href=\"#DejaVuSans-31\"/>\n       <use x=\"254.492188\" xlink:href=\"#DejaVuSans-2d\"/>\n       <use x=\"290.576172\" xlink:href=\"#DejaVuSans-30\"/>\n       <use x=\"354.199219\" xlink:href=\"#DejaVuSans-31\"/>\n      </g>\n     </g>\n    </g>\n    <g id=\"xtick_8\">\n     <g id=\"line2d_8\">\n      <g>\n       <use style=\"stroke:#000000;stroke-width:0.8;\" x=\"358.937918\" xlink:href=\"#m5913b0da3a\" y=\"203.04\"/>\n      </g>\n     </g>\n     <g id=\"text_8\">\n      <!-- 2021-04 -->\n      <g transform=\"translate(356.858231 251.822812)rotate(-90)scale(0.1 -0.1)\">\n       <use xlink:href=\"#DejaVuSans-32\"/>\n       <use x=\"63.623047\" xlink:href=\"#DejaVuSans-30\"/>\n       <use x=\"127.246094\" xlink:href=\"#DejaVuSans-32\"/>\n       <use x=\"190.869141\" xlink:href=\"#DejaVuSans-31\"/>\n       <use x=\"254.492188\" xlink:href=\"#DejaVuSans-2d\"/>\n       <use x=\"290.576172\" xlink:href=\"#DejaVuSans-30\"/>\n       <use x=\"354.199219\" xlink:href=\"#DejaVuSans-34\"/>\n      </g>\n     </g>\n    </g>\n    <g id=\"text_9\">\n     <!-- Date -->\n     <g transform=\"translate(188.736719 263.42125)scale(0.1 -0.1)\">\n      <defs>\n       <path d=\"M 1259 4147 \nL 1259 519 \nL 2022 519 \nQ 2988 519 3436 956 \nQ 3884 1394 3884 2338 \nQ 3884 3275 3436 3711 \nQ 2988 4147 2022 4147 \nL 1259 4147 \nz\nM 628 4666 \nL 1925 4666 \nQ 3281 4666 3915 4102 \nQ 4550 3538 4550 2338 \nQ 4550 1131 3912 565 \nQ 3275 0 1925 0 \nL 628 0 \nL 628 4666 \nz\n\" id=\"DejaVuSans-44\" transform=\"scale(0.015625)\"/>\n       <path d=\"M 2194 1759 \nQ 1497 1759 1228 1600 \nQ 959 1441 959 1056 \nQ 959 750 1161 570 \nQ 1363 391 1709 391 \nQ 2188 391 2477 730 \nQ 2766 1069 2766 1631 \nL 2766 1759 \nL 2194 1759 \nz\nM 3341 1997 \nL 3341 0 \nL 2766 0 \nL 2766 531 \nQ 2569 213 2275 61 \nQ 1981 -91 1556 -91 \nQ 1019 -91 701 211 \nQ 384 513 384 1019 \nQ 384 1609 779 1909 \nQ 1175 2209 1959 2209 \nL 2766 2209 \nL 2766 2266 \nQ 2766 2663 2505 2880 \nQ 2244 3097 1772 3097 \nQ 1472 3097 1187 3025 \nQ 903 2953 641 2809 \nL 641 3341 \nQ 956 3463 1253 3523 \nQ 1550 3584 1831 3584 \nQ 2591 3584 2966 3190 \nQ 3341 2797 3341 1997 \nz\n\" id=\"DejaVuSans-61\" transform=\"scale(0.015625)\"/>\n       <path d=\"M 1172 4494 \nL 1172 3500 \nL 2356 3500 \nL 2356 3053 \nL 1172 3053 \nL 1172 1153 \nQ 1172 725 1289 603 \nQ 1406 481 1766 481 \nL 2356 481 \nL 2356 0 \nL 1766 0 \nQ 1100 0 847 248 \nQ 594 497 594 1153 \nL 594 3053 \nL 172 3053 \nL 172 3500 \nL 594 3500 \nL 594 4494 \nL 1172 4494 \nz\n\" id=\"DejaVuSans-74\" transform=\"scale(0.015625)\"/>\n       <path d=\"M 3597 1894 \nL 3597 1613 \nL 953 1613 \nQ 991 1019 1311 708 \nQ 1631 397 2203 397 \nQ 2534 397 2845 478 \nQ 3156 559 3463 722 \nL 3463 178 \nQ 3153 47 2828 -22 \nQ 2503 -91 2169 -91 \nQ 1331 -91 842 396 \nQ 353 884 353 1716 \nQ 353 2575 817 3079 \nQ 1281 3584 2069 3584 \nQ 2775 3584 3186 3129 \nQ 3597 2675 3597 1894 \nz\nM 3022 2063 \nQ 3016 2534 2758 2815 \nQ 2500 3097 2075 3097 \nQ 1594 3097 1305 2825 \nQ 1016 2553 972 2059 \nL 3022 2063 \nz\n\" id=\"DejaVuSans-65\" transform=\"scale(0.015625)\"/>\n      </defs>\n      <use xlink:href=\"#DejaVuSans-44\"/>\n      <use x=\"77.001953\" xlink:href=\"#DejaVuSans-61\"/>\n      <use x=\"138.28125\" xlink:href=\"#DejaVuSans-74\"/>\n      <use x=\"177.490234\" xlink:href=\"#DejaVuSans-65\"/>\n     </g>\n    </g>\n   </g>\n   <g id=\"matplotlib.axis_2\">\n    <g id=\"ytick_1\">\n     <g id=\"line2d_9\">\n      <defs>\n       <path d=\"M 0 0 \nL -3.5 0 \n\" id=\"mf2ad036f04\" style=\"stroke:#000000;stroke-width:0.8;\"/>\n      </defs>\n      <g>\n       <use style=\"stroke:#000000;stroke-width:0.8;\" x=\"33.2875\" xlink:href=\"#mf2ad036f04\" y=\"188.521788\"/>\n      </g>\n     </g>\n     <g id=\"text_10\">\n      <!-- 225 -->\n      <g transform=\"translate(7.2 192.321007)scale(0.1 -0.1)\">\n       <defs>\n        <path d=\"M 691 4666 \nL 3169 4666 \nL 3169 4134 \nL 1269 4134 \nL 1269 2991 \nQ 1406 3038 1543 3061 \nQ 1681 3084 1819 3084 \nQ 2600 3084 3056 2656 \nQ 3513 2228 3513 1497 \nQ 3513 744 3044 326 \nQ 2575 -91 1722 -91 \nQ 1428 -91 1123 -41 \nQ 819 9 494 109 \nL 494 744 \nQ 775 591 1075 516 \nQ 1375 441 1709 441 \nQ 2250 441 2565 725 \nQ 2881 1009 2881 1497 \nQ 2881 1984 2565 2268 \nQ 2250 2553 1709 2553 \nQ 1456 2553 1204 2497 \nQ 953 2441 691 2322 \nL 691 4666 \nz\n\" id=\"DejaVuSans-35\" transform=\"scale(0.015625)\"/>\n       </defs>\n       <use xlink:href=\"#DejaVuSans-32\"/>\n       <use x=\"63.623047\" xlink:href=\"#DejaVuSans-32\"/>\n       <use x=\"127.246094\" xlink:href=\"#DejaVuSans-35\"/>\n      </g>\n     </g>\n    </g>\n    <g id=\"ytick_2\">\n     <g id=\"line2d_10\">\n      <g>\n       <use style=\"stroke:#000000;stroke-width:0.8;\" x=\"33.2875\" xlink:href=\"#mf2ad036f04\" y=\"163.308754\"/>\n      </g>\n     </g>\n     <g id=\"text_11\">\n      <!-- 250 -->\n      <g transform=\"translate(7.2 167.107973)scale(0.1 -0.1)\">\n       <use xlink:href=\"#DejaVuSans-32\"/>\n       <use x=\"63.623047\" xlink:href=\"#DejaVuSans-35\"/>\n       <use x=\"127.246094\" xlink:href=\"#DejaVuSans-30\"/>\n      </g>\n     </g>\n    </g>\n    <g id=\"ytick_3\">\n     <g id=\"line2d_11\">\n      <g>\n       <use style=\"stroke:#000000;stroke-width:0.8;\" x=\"33.2875\" xlink:href=\"#mf2ad036f04\" y=\"138.095721\"/>\n      </g>\n     </g>\n     <g id=\"text_12\">\n      <!-- 275 -->\n      <g transform=\"translate(7.2 141.89494)scale(0.1 -0.1)\">\n       <use xlink:href=\"#DejaVuSans-32\"/>\n       <use x=\"63.623047\" xlink:href=\"#DejaVuSans-37\"/>\n       <use x=\"127.246094\" xlink:href=\"#DejaVuSans-35\"/>\n      </g>\n     </g>\n    </g>\n    <g id=\"ytick_4\">\n     <g id=\"line2d_12\">\n      <g>\n       <use style=\"stroke:#000000;stroke-width:0.8;\" x=\"33.2875\" xlink:href=\"#mf2ad036f04\" y=\"112.882687\"/>\n      </g>\n     </g>\n     <g id=\"text_13\">\n      <!-- 300 -->\n      <g transform=\"translate(7.2 116.681906)scale(0.1 -0.1)\">\n       <defs>\n        <path d=\"M 2597 2516 \nQ 3050 2419 3304 2112 \nQ 3559 1806 3559 1356 \nQ 3559 666 3084 287 \nQ 2609 -91 1734 -91 \nQ 1441 -91 1130 -33 \nQ 819 25 488 141 \nL 488 750 \nQ 750 597 1062 519 \nQ 1375 441 1716 441 \nQ 2309 441 2620 675 \nQ 2931 909 2931 1356 \nQ 2931 1769 2642 2001 \nQ 2353 2234 1838 2234 \nL 1294 2234 \nL 1294 2753 \nL 1863 2753 \nQ 2328 2753 2575 2939 \nQ 2822 3125 2822 3475 \nQ 2822 3834 2567 4026 \nQ 2313 4219 1838 4219 \nQ 1578 4219 1281 4162 \nQ 984 4106 628 3988 \nL 628 4550 \nQ 988 4650 1302 4700 \nQ 1616 4750 1894 4750 \nQ 2613 4750 3031 4423 \nQ 3450 4097 3450 3541 \nQ 3450 3153 3228 2886 \nQ 3006 2619 2597 2516 \nz\n\" id=\"DejaVuSans-33\" transform=\"scale(0.015625)\"/>\n       </defs>\n       <use xlink:href=\"#DejaVuSans-33\"/>\n       <use x=\"63.623047\" xlink:href=\"#DejaVuSans-30\"/>\n       <use x=\"127.246094\" xlink:href=\"#DejaVuSans-30\"/>\n      </g>\n     </g>\n    </g>\n    <g id=\"ytick_5\">\n     <g id=\"line2d_13\">\n      <g>\n       <use style=\"stroke:#000000;stroke-width:0.8;\" x=\"33.2875\" xlink:href=\"#mf2ad036f04\" y=\"87.669654\"/>\n      </g>\n     </g>\n     <g id=\"text_14\">\n      <!-- 325 -->\n      <g transform=\"translate(7.2 91.468873)scale(0.1 -0.1)\">\n       <use xlink:href=\"#DejaVuSans-33\"/>\n       <use x=\"63.623047\" xlink:href=\"#DejaVuSans-32\"/>\n       <use x=\"127.246094\" xlink:href=\"#DejaVuSans-35\"/>\n      </g>\n     </g>\n    </g>\n    <g id=\"ytick_6\">\n     <g id=\"line2d_14\">\n      <g>\n       <use style=\"stroke:#000000;stroke-width:0.8;\" x=\"33.2875\" xlink:href=\"#mf2ad036f04\" y=\"62.45662\"/>\n      </g>\n     </g>\n     <g id=\"text_15\">\n      <!-- 350 -->\n      <g transform=\"translate(7.2 66.255839)scale(0.1 -0.1)\">\n       <use xlink:href=\"#DejaVuSans-33\"/>\n       <use x=\"63.623047\" xlink:href=\"#DejaVuSans-35\"/>\n       <use x=\"127.246094\" xlink:href=\"#DejaVuSans-30\"/>\n      </g>\n     </g>\n    </g>\n    <g id=\"ytick_7\">\n     <g id=\"line2d_15\">\n      <g>\n       <use style=\"stroke:#000000;stroke-width:0.8;\" x=\"33.2875\" xlink:href=\"#mf2ad036f04\" y=\"37.243587\"/>\n      </g>\n     </g>\n     <g id=\"text_16\">\n      <!-- 375 -->\n      <g transform=\"translate(7.2 41.042806)scale(0.1 -0.1)\">\n       <use xlink:href=\"#DejaVuSans-33\"/>\n       <use x=\"63.623047\" xlink:href=\"#DejaVuSans-37\"/>\n       <use x=\"127.246094\" xlink:href=\"#DejaVuSans-35\"/>\n      </g>\n     </g>\n    </g>\n    <g id=\"ytick_8\">\n     <g id=\"line2d_16\">\n      <g>\n       <use style=\"stroke:#000000;stroke-width:0.8;\" x=\"33.2875\" xlink:href=\"#mf2ad036f04\" y=\"12.030553\"/>\n      </g>\n     </g>\n     <g id=\"text_17\">\n      <!-- 400 -->\n      <g transform=\"translate(7.2 15.829772)scale(0.1 -0.1)\">\n       <use xlink:href=\"#DejaVuSans-34\"/>\n       <use x=\"63.623047\" xlink:href=\"#DejaVuSans-30\"/>\n       <use x=\"127.246094\" xlink:href=\"#DejaVuSans-30\"/>\n      </g>\n     </g>\n    </g>\n   </g>\n   <g id=\"line2d_17\">\n    <path clip-path=\"url(#pcb630dfbf5)\" d=\"M 48.505682 140.196017 \nL 48.972497 138.406236 \nL 50.372943 135.633941 \nL 50.839759 134.34996 \nL 51.306574 134.41801 \nL 51.77339 134.914083 \nL 52.240205 133.756598 \nL 53.640651 134.067822 \nL 54.107467 133.960777 \nL 54.574282 131.01345 \nL 55.041097 130.371459 \nL 55.507913 127.647855 \nL 56.908359 128.066153 \nL 57.375174 128.418034 \nL 57.84199 131.233171 \nL 58.308805 131.516633 \nL 58.77562 130.509836 \nL 60.176067 129.043651 \nL 60.642882 126.443588 \nL 61.109697 125.690921 \nL 62.043328 123.374381 \nL 63.443774 123.706718 \nL 63.91059 125.309709 \nL 64.377405 124.948103 \nL 64.844221 123.560093 \nL 65.311036 122.875906 \nL 66.711482 121.566072 \nL 67.178298 121.468384 \nL 67.645113 122.416427 \nL 68.111928 124.41051 \nL 68.578744 123.34505 \nL 69.97919 124.967646 \nL 70.446005 124.254129 \nL 70.912821 122.172084 \nL 71.379636 120.793892 \nL 71.846451 122.201415 \nL 73.246898 120.236786 \nL 73.713713 120.774379 \nL 74.180528 121.497653 \nL 75.114159 127.245099 \nL 76.514605 129.415045 \nL 76.981421 138.016684 \nL 77.448236 134.126422 \nL 77.915052 133.960223 \nL 78.381867 128.437639 \nL 79.782313 130.392573 \nL 80.249129 133.862473 \nL 80.715944 129.483556 \nL 81.182759 137.938539 \nL 81.649575 137.205416 \nL 83.050021 133.100112 \nL 83.516836 129.698537 \nL 83.983652 131.888058 \nL 84.450467 129.581244 \nL 84.917282 129.669237 \nL 86.317729 137.009948 \nL 86.784544 133.930923 \nL 87.251359 135.03544 \nL 87.718175 133.060962 \nL 88.18499 129.454194 \nL 90.052252 129.581244 \nL 90.519067 131.252715 \nL 91.452698 124.332304 \nL 93.786775 124.029298 \nL 94.25359 121.957071 \nL 94.720406 120.940486 \nL 96.120852 121.135986 \nL 96.587667 122.045034 \nL 97.054483 121.302154 \nL 97.521298 121.126229 \nL 97.988113 121.145804 \nL 99.38856 122.536245 \nL 99.855375 122.605002 \nL 100.32219 124.902767 \nL 100.789006 123.18436 \nL 101.255821 123.793172 \nL 102.656267 125.364339 \nL 103.123083 124.019018 \nL 103.589898 127.485441 \nL 104.056714 132.571998 \nL 104.523529 130.254535 \nL 105.923975 126.39539 \nL 106.390791 127.642561 \nL 106.857606 132.110488 \nL 107.324421 129.419877 \nL 107.791237 127.485441 \nL 109.191683 124.500227 \nL 109.658498 124.824253 \nL 110.125314 121.947068 \nL 110.592129 122.418397 \nL 111.058945 121.554284 \nL 112.459391 122.840666 \nL 112.926206 120.857109 \nL 113.393021 121.819464 \nL 113.859837 120.965077 \nL 114.326652 120.4839 \nL 115.727098 119.276093 \nL 116.193914 117.606776 \nL 116.660729 117.69517 \nL 117.127545 116.781874 \nL 117.59436 117.577291 \nL 118.994806 114.817892 \nL 119.461622 113.610117 \nL 119.928437 113.943992 \nL 120.395252 113.875266 \nL 120.862068 112.8147 \nL 122.262514 112.068373 \nL 122.729329 112.647762 \nL 123.196145 112.009557 \nL 123.66296 111.911315 \nL 124.129776 111.46944 \nL 125.530222 109.269794 \nL 125.997037 109.043978 \nL 126.463852 109.13231 \nL 126.930668 110.27139 \nL 127.397483 110.762417 \nL 128.797929 110.084816 \nL 129.264745 107.718263 \nL 130.665191 105.646282 \nL 132.065637 106.795242 \nL 132.999268 111.46944 \nL 133.466083 109.593882 \nL 133.932899 109.043978 \nL 135.333345 106.245338 \nL 135.80016 107.21748 \nL 136.266976 107.561174 \nL 136.733791 106.687212 \nL 137.200607 104.026055 \nL 138.601053 103.839481 \nL 139.067868 101.698805 \nL 140.001499 101.610412 \nL 140.468314 100.32403 \nL 142.335576 98.458967 \nL 143.269207 98.449087 \nL 143.736022 96.761673 \nL 145.136468 96.840649 \nL 145.603284 98.597128 \nL 146.536914 97.827441 \nL 147.00373 94.857184 \nL 148.404176 97.284677 \nL 148.870991 96.0709 \nL 149.337807 96.968899 \nL 149.804622 95.271574 \nL 150.271438 93.100674 \nL 151.671884 94.02825 \nL 152.138699 91.817832 \nL 152.605515 92.311197 \nL 153.07233 91.580998 \nL 153.539145 88.887001 \nL 155.406407 87.87057 \nL 155.873222 88.512007 \nL 156.340038 88.472581 \nL 156.806853 88.097555 \nL 158.207299 91.008657 \nL 158.674115 96.209061 \nL 159.14093 92.86381 \nL 159.607745 93.130282 \nL 160.074561 92.084243 \nL 161.475007 97.955691 \nL 161.941822 95.597232 \nL 162.875453 86.972633 \nL 163.342269 85.867408 \nL 164.742715 87.623918 \nL 165.20953 85.176635 \nL 165.676346 84.604294 \nL 166.143161 82.47279 \nL 166.609976 82.828056 \nL 168.477238 82.295172 \nL 168.944053 83.153714 \nL 169.410869 81.565004 \nL 169.877684 82.936578 \nL 171.27813 86.360774 \nL 172.211761 106.91589 \nL 172.678576 108.050661 \nL 173.145392 121.855997 \nL 174.545838 123.089534 \nL 175.012653 110.42891 \nL 175.479469 119.162062 \nL 175.946284 106.708664 \nL 176.4131 116.971372 \nL 177.813546 121.905365 \nL 178.280361 144.828727 \nL 178.747177 130.826014 \nL 179.213992 144.700446 \nL 179.680807 170.603976 \nL 181.081253 149.673957 \nL 181.548069 178.754938 \nL 182.014884 165.975882 \nL 182.4817 178.606944 \nL 182.948515 178.103684 \nL 184.348961 188.331444 \nL 184.815777 194.138182 \nL 185.282592 174.087588 \nL 185.749407 170.47451 \nL 186.216223 156.171084 \nL 187.616669 163.89356 \nL 188.083484 155.724439 \nL 188.5503 159.595572 \nL 189.017115 171.109775 \nL 189.483931 165.471775 \nL 190.884377 169.084853 \nL 191.351192 152.538185 \nL 191.818008 152.270142 \nL 192.284823 143.436009 \nL 194.152084 139.296849 \nL 194.6189 141.81806 \nL 195.085715 133.748165 \nL 195.552531 139.733583 \nL 196.019346 138.403497 \nL 197.419792 130.919301 \nL 197.886608 135.93193 \nL 198.353423 144.418677 \nL 198.820238 138.403497 \nL 199.287054 138.423379 \nL 200.6875 134.562111 \nL 201.154315 130.512298 \nL 201.621131 131.822532 \nL 202.087946 124.397891 \nL 203.955208 134.740805 \nL 204.422023 133.966533 \nL 204.888839 131.365946 \nL 205.355654 133.291579 \nL 205.822469 129.886958 \nL 207.222916 125.162161 \nL 207.689731 125.102637 \nL 208.623362 135.921989 \nL 209.090177 132.576892 \nL 210.490623 131.276568 \nL 210.957439 122.621129 \nL 211.424254 125.628719 \nL 211.891069 120.705376 \nL 212.357885 122.740208 \nL 214.225146 122.184333 \nL 215.158777 114.154204 \nL 215.625593 114.710048 \nL 217.026039 113.37002 \nL 217.492854 112.149164 \nL 217.95967 109.637894 \nL 218.426485 105.568168 \nL 218.8933 106.382144 \nL 220.293747 98.461183 \nL 220.760562 94.629676 \nL 221.227377 97.021867 \nL 221.694193 98.798629 \nL 222.161008 117.052594 \nL 223.561454 113.479219 \nL 224.02827 110.660235 \nL 224.495085 104.793957 \nL 224.9619 106.08434 \nL 225.428716 105.965231 \nL 226.829162 107.733836 \nL 227.295977 105.759852 \nL 227.762793 104.334201 \nL 228.229608 112.270059 \nL 228.696424 109.019941 \nL 230.09687 116.297804 \nL 231.030501 108.01302 \nL 231.497316 105.85954 \nL 233.364578 104.154737 \nL 233.831393 99.349302 \nL 234.298208 102.609392 \nL 234.765024 100.216708 \nL 235.231839 102.011259 \nL 236.632285 98.81094 \nL 237.099101 101.552642 \nL 237.565916 97.484947 \nL 238.032731 94.563843 \nL 238.499547 95.620623 \nL 239.899993 94.693478 \nL 240.366808 92.101325 \nL 240.833624 91.413414 \nL 241.300439 89.569034 \nL 241.767255 93.457233 \nL 243.167701 95.530907 \nL 243.634516 93.198024 \nL 244.101332 95.241782 \nL 244.568147 91.303753 \nL 245.034962 92.460253 \nL 246.435409 89.908018 \nL 246.902224 87.644878 \nL 247.369039 86.378717 \nL 248.30267 82.121648 \nL 249.703116 81.882352 \nL 250.169932 80.885403 \nL 250.636747 83.647018 \nL 251.103562 79.021048 \nL 251.570378 79.629275 \nL 252.970824 79.619273 \nL 253.437639 78.552489 \nL 253.904455 77.824691 \nL 254.37127 79.230428 \nL 254.838086 78.183589 \nL 256.238532 76.987262 \nL 256.705347 73.557649 \nL 257.172163 72.361292 \nL 257.638978 68.921738 \nL 259.50624 65.920858 \nL 259.973055 67.187019 \nL 260.43987 63.906985 \nL 260.906686 58.822429 \nL 261.373501 71.095131 \nL 263.240763 73.906637 \nL 263.707578 83.238291 \nL 264.174393 76.678193 \nL 264.641209 82.560321 \nL 266.041655 82.39086 \nL 266.50847 78.004186 \nL 266.975286 76.299321 \nL 267.442101 77.645257 \nL 267.908917 80.616222 \nL 269.309363 84.470935 \nL 269.776178 88.154463 \nL 270.242994 84.821277 \nL 270.709809 92.48863 \nL 271.176624 91.627811 \nL 272.577071 86.392782 \nL 273.043886 80.927507 \nL 273.510701 82.749296 \nL 274.444332 78.07479 \nL 275.844778 81.277848 \nL 276.311594 75.35217 \nL 276.778409 80.186812 \nL 277.245224 74.351189 \nL 277.71204 71.328303 \nL 279.112486 68.255341 \nL 279.579301 62.669971 \nL 280.512932 67.174308 \nL 280.979748 67.604702 \nL 282.380194 67.814913 \nL 282.847009 73.099986 \nL 283.313825 71.728658 \nL 283.78064 72.379297 \nL 284.247455 70.497491 \nL 285.647902 69.326372 \nL 286.114717 75.722486 \nL 286.581532 76.893667 \nL 287.048348 88.464763 \nL 287.515163 85.141579 \nL 288.915609 88.584888 \nL 289.382425 84.921335 \nL 289.84924 79.085742 \nL 290.782871 64.862077 \nL 292.183317 64.94216 \nL 292.650132 60.537912 \nL 293.116948 61.058424 \nL 293.583763 58.42589 \nL 294.050579 61.889235 \nL 295.451025 56.994515 \nL 295.91784 52.520186 \nL 296.384656 54.472103 \nL 296.851471 58.816273 \nL 297.318286 57.314817 \nL 298.718733 59.767179 \nL 299.185548 57.635151 \nL 299.652363 51.869609 \nL 300.585994 52.430131 \nL 301.98644 51.419147 \nL 302.453256 53.030695 \nL 302.920071 49.066905 \nL 303.386887 48.296141 \nL 303.853702 48.39623 \nL 305.254148 45.233213 \nL 305.720963 45.993944 \nL 306.187779 44.91288 \nL 306.654594 48.236094 \nL 308.521856 48.786644 \nL 308.988671 50.4282 \nL 309.455487 45.493469 \nL 309.922302 44.91288 \nL 310.389117 42.840899 \nL 311.789564 44.328659 \nL 312.256379 45.655575 \nL 312.723194 46.278822 \nL 315.057271 44.5096 \nL 315.524087 41.323008 \nL 315.990902 42.036741 \nL 316.457718 41.50398 \nL 318.324979 39.604077 \nL 318.791794 44.720673 \nL 319.725425 39.935829 \nL 320.192241 34.356768 \nL 321.592687 32.185468 \nL 322.059502 34.768912 \nL 322.526318 34.688521 \nL 322.993133 33.663164 \nL 323.459948 35.000144 \nL 325.32721 37.774563 \nL 325.794025 34.809138 \nL 326.260841 29.541732 \nL 326.727656 29.189912 \nL 328.128102 30.557024 \nL 328.594918 29.039102 \nL 329.061733 29.642251 \nL 329.528549 39.071316 \nL 329.995364 35.834464 \nL 331.39581 43.433984 \nL 332.329441 31.893973 \nL 332.796256 31.592414 \nL 333.263072 27.229716 \nL 334.663518 25.701761 \nL 335.130333 22.887116 \nL 336.063964 23.319388 \nL 336.530779 22.686076 \nL 338.398041 20.745978 \nL 338.864856 21.087763 \nL 339.331672 20.997277 \nL 339.798487 22.676012 \nL 341.198933 23.369647 \nL 341.665749 26.385332 \nL 342.132564 25.912864 \nL 342.59938 21.620555 \nL 343.066195 31.109913 \nL 344.466641 33.090207 \nL 344.933456 23.821986 \nL 345.400272 26.877866 \nL 346.333903 36.769334 \nL 347.734349 29.803095 \nL 348.201164 31.723096 \nL 348.66798 26.244586 \nL 349.134795 23.821986 \nL 349.60161 19.851334 \nL 351.002057 19.318573 \nL 351.468872 16.956267 \nL 351.935687 17.458896 \nL 352.402503 16.101818 \nL 352.869318 21.91205 \nL 352.869318 21.91205 \n\" style=\"fill:none;stroke:#1f77b4;stroke-linecap:square;stroke-width:1.5;\"/>\n   </g>\n   <g id=\"line2d_18\">\n    <path clip-path=\"url(#pcb630dfbf5)\" d=\"M 48.505682 134.883367 \nL 48.972497 123.901417 \nL 50.372943 131.919051 \nL 50.839759 135.285539 \nL 51.306574 123.901417 \nL 51.77339 131.919051 \nL 52.240205 135.050613 \nL 53.640651 123.901417 \nL 54.107467 131.919051 \nL 54.574282 134.200966 \nL 55.041097 123.901417 \nL 55.507913 131.919051 \nL 56.908359 133.691411 \nL 57.375174 123.901417 \nL 57.84199 131.919051 \nL 58.308805 133.450977 \nL 58.77562 123.901417 \nL 60.176067 131.919051 \nL 60.642882 133.206941 \nL 61.109697 123.901417 \nL 62.043328 131.919051 \nL 63.443774 133.009256 \nL 63.91059 123.901417 \nL 64.377405 131.919051 \nL 64.844221 132.945392 \nL 65.311036 123.901417 \nL 66.711482 131.919051 \nL 67.178298 132.608901 \nL 67.645113 123.901417 \nL 68.111928 131.919051 \nL 68.578744 132.419434 \nL 69.97919 123.901417 \nL 70.446005 132.415679 \nL 70.912821 123.901417 \nL 71.379636 131.919051 \nL 71.846451 132.341843 \nL 73.246898 123.901417 \nL 73.713713 131.919051 \nL 74.180528 132.363634 \nL 74.647344 123.901417 \nL 75.114159 131.919051 \nL 76.514605 132.329286 \nL 76.981421 123.901417 \nL 77.448236 131.919051 \nL 77.915052 132.439685 \nL 78.381867 123.901417 \nL 79.782313 131.919051 \nL 80.249129 132.851675 \nL 80.715944 123.901417 \nL 81.182759 131.919051 \nL 81.649575 133.402102 \nL 83.050021 123.901417 \nL 83.516836 131.919051 \nL 83.983652 133.517087 \nL 84.450467 123.901417 \nL 84.917282 131.919051 \nL 86.317729 133.521642 \nL 86.784544 123.901417 \nL 87.251359 131.919051 \nL 87.718175 133.651708 \nL 88.18499 123.901417 \nL 90.052252 131.919051 \nL 90.519067 133.402317 \nL 90.985883 123.901417 \nL 91.452698 133.438604 \nL 92.853144 123.901417 \nL 93.31996 131.919051 \nL 93.786775 133.271112 \nL 94.25359 123.901417 \nL 94.720406 131.919051 \nL 96.120852 132.803938 \nL 96.587667 123.901417 \nL 97.054483 131.919051 \nL 97.521298 132.453412 \nL 97.988113 123.901417 \nL 99.38856 131.919051 \nL 99.855375 132.283643 \nL 100.32219 123.901417 \nL 100.789006 131.919051 \nL 101.255821 132.230951 \nL 102.656267 123.901417 \nL 103.123083 131.919051 \nL 103.589898 132.310481 \nL 104.056714 123.901417 \nL 104.523529 131.919051 \nL 105.923975 132.522138 \nL 106.390791 123.901417 \nL 106.857606 131.919051 \nL 107.324421 132.720839 \nL 107.791237 123.901417 \nL 109.191683 131.919051 \nL 109.658498 132.947547 \nL 110.125314 123.901417 \nL 110.592129 131.919051 \nL 111.058945 132.885592 \nL 112.459391 123.901417 \nL 112.926206 132.760604 \nL 113.393021 123.901417 \nL 113.859837 131.919051 \nL 114.326652 132.420234 \nL 115.727098 123.901417 \nL 116.193914 131.919051 \nL 116.660729 132.209315 \nL 117.127545 123.901417 \nL 117.59436 131.919051 \nL 118.994806 132.097099 \nL 119.461622 123.901417 \nL 119.928437 131.919051 \nL 120.395252 131.899476 \nL 120.862068 123.901417 \nL 122.262514 131.919051 \nL 122.729329 131.692835 \nL 123.196145 123.901417 \nL 123.66296 131.919051 \nL 124.129776 131.547626 \nL 125.530222 123.901417 \nL 125.997037 131.919051 \nL 126.463852 131.422577 \nL 126.930668 123.901417 \nL 127.397483 131.919051 \nL 128.797929 131.325504 \nL 129.264745 123.901417 \nL 129.73156 131.919051 \nL 130.665191 131.242712 \nL 132.065637 123.901417 \nL 132.532453 131.919051 \nL 132.999268 131.159428 \nL 133.466083 123.901417 \nL 133.932899 131.158782 \nL 135.333345 123.901417 \nL 135.80016 131.919051 \nL 136.266976 131.093226 \nL 136.733791 123.901417 \nL 137.200607 131.919051 \nL 138.601053 131.117417 \nL 139.067868 123.901417 \nL 139.534683 131.919051 \nL 140.001499 131.007202 \nL 140.468314 123.901417 \nL 141.86876 131.919051 \nL 142.335576 130.854914 \nL 143.269207 123.901417 \nL 143.736022 131.919051 \nL 145.136468 130.672834 \nL 145.603284 123.901417 \nL 146.536914 131.919051 \nL 147.00373 130.560034 \nL 148.404176 123.901417 \nL 148.870991 131.919051 \nL 149.337807 130.465824 \nL 149.804622 123.901417 \nL 150.271438 131.919051 \nL 151.671884 130.41304 \nL 152.138699 123.901417 \nL 152.605515 131.919051 \nL 153.07233 130.351485 \nL 153.539145 123.901417 \nL 155.406407 131.919051 \nL 155.873222 130.257244 \nL 156.340038 123.901417 \nL 156.806853 130.171774 \nL 158.207299 123.901417 \nL 158.674115 131.919051 \nL 159.14093 130.097477 \nL 159.607745 123.901417 \nL 160.074561 131.919051 \nL 161.475007 130.088674 \nL 161.941822 123.901417 \nL 162.408638 131.919051 \nL 162.875453 130.184085 \nL 163.342269 123.901417 \nL 164.742715 131.919051 \nL 165.20953 130.217233 \nL 165.676346 123.901417 \nL 166.143161 131.919051 \nL 166.609976 130.092245 \nL 168.477238 123.901417 \nL 168.944053 131.919051 \nL 169.410869 129.897946 \nL 169.877684 123.901417 \nL 171.27813 131.919051 \nL 171.744946 129.823925 \nL 172.211761 123.901417 \nL 172.678576 131.919051 \nL 174.545838 123.901417 \nL 175.012653 131.919051 \nL 175.479469 130.382385 \nL 175.946284 123.901417 \nL 176.4131 131.919051 \nL 177.813546 131.061032 \nL 178.280361 123.901417 \nL 178.747177 131.660703 \nL 179.213992 123.901417 \nL 179.680807 131.919051 \nL 181.081253 132.360925 \nL 181.548069 123.901417 \nL 182.014884 131.919051 \nL 182.4817 133.80852 \nL 182.948515 123.901417 \nL 184.348961 131.919051 \nL 184.815777 138.373181 \nL 185.282592 123.901417 \nL 185.749407 131.919051 \nL 186.216223 145.60143 \nL 187.616669 123.901417 \nL 188.083484 131.919051 \nL 188.5503 148.072012 \nL 189.017115 123.901417 \nL 189.483931 131.919051 \nL 190.884377 146.518911 \nL 191.351192 123.901417 \nL 192.284823 140.861891 \nL 194.152084 123.901417 \nL 195.085715 139.519186 \nL 195.552531 123.901417 \nL 196.019346 131.919051 \nL 197.419792 137.370569 \nL 197.886608 123.901417 \nL 198.353423 131.919051 \nL 198.820238 134.873242 \nL 199.287054 123.901417 \nL 200.6875 134.320875 \nL 201.154315 123.901417 \nL 201.621131 131.919051 \nL 202.087946 134.182499 \nL 202.554762 123.901417 \nL 204.422023 133.959208 \nL 204.888839 123.901417 \nL 205.355654 131.919051 \nL 205.822469 133.452854 \nL 207.222916 123.901417 \nL 207.689731 131.919051 \nL 208.156546 133.175178 \nL 208.623362 123.901417 \nL 209.090177 131.919051 \nL 210.490623 133.352734 \nL 210.957439 123.901417 \nL 211.424254 131.919051 \nL 211.891069 133.126303 \nL 212.357885 123.901417 \nL 214.225146 131.919051 \nL 214.691962 132.962751 \nL 215.158777 123.901417 \nL 215.625593 131.919051 \nL 217.026039 132.544237 \nL 217.492854 123.901417 \nL 217.95967 131.919051 \nL 218.426485 132.00135 \nL 218.8933 123.901417 \nL 220.293747 131.919051 \nL 220.760562 131.538824 \nL 221.227377 123.901417 \nL 221.694193 131.179557 \nL 222.161008 123.901417 \nL 223.561454 131.919051 \nL 224.02827 130.906775 \nL 224.495085 123.901417 \nL 224.9619 131.919051 \nL 225.428716 130.815488 \nL 226.829162 123.901417 \nL 227.295977 131.919051 \nL 227.762793 130.993845 \nL 228.229608 123.901417 \nL 228.696424 131.919051 \nL 230.09687 131.106183 \nL 230.563685 123.901417 \nL 231.030501 131.919051 \nL 231.497316 131.098889 \nL 233.364578 123.901417 \nL 233.831393 131.919051 \nL 234.298208 131.127881 \nL 234.765024 123.901417 \nL 235.231839 131.919051 \nL 236.632285 131.063033 \nL 237.099101 123.901417 \nL 237.565916 131.919051 \nL 238.032731 130.764459 \nL 238.499547 123.901417 \nL 239.899993 131.919051 \nL 240.366808 130.565451 \nL 240.833624 123.901417 \nL 241.300439 131.919051 \nL 241.767255 130.431876 \nL 243.167701 123.901417 \nL 243.634516 130.336373 \nL 244.101332 123.901417 \nL 244.568147 131.919051 \nL 245.034962 130.238562 \nL 246.435409 123.901417 \nL 246.902224 131.919051 \nL 247.369039 130.190364 \nL 247.835855 123.901417 \nL 248.30267 131.919051 \nL 249.703116 130.136041 \nL 250.169932 123.901417 \nL 250.636747 131.919051 \nL 251.103562 129.953161 \nL 251.570378 123.901417 \nL 252.970824 131.919051 \nL 253.437639 129.789947 \nL 253.904455 123.901417 \nL 254.37127 131.919051 \nL 254.838086 129.687457 \nL 256.238532 123.901417 \nL 256.705347 131.919051 \nL 257.172163 129.633843 \nL 257.638978 123.901417 \nL 258.105793 131.919051 \nL 259.50624 129.53203 \nL 259.973055 123.901417 \nL 260.43987 131.919051 \nL 260.906686 129.406458 \nL 261.373501 123.901417 \nL 263.240763 131.919051 \nL 263.707578 129.271313 \nL 264.174393 123.901417 \nL 264.641209 129.279007 \nL 266.041655 123.901417 \nL 266.50847 131.919051 \nL 266.975286 129.392977 \nL 267.442101 123.901417 \nL 267.908917 131.919051 \nL 269.309363 129.586476 \nL 269.776178 123.901417 \nL 270.242994 131.919051 \nL 270.709809 129.683056 \nL 271.176624 123.901417 \nL 272.577071 131.919051 \nL 273.043886 129.773819 \nL 273.510701 123.901417 \nL 273.977517 131.919051 \nL 275.844778 123.901417 \nL 276.311594 131.919051 \nL 276.778409 129.849594 \nL 277.245224 123.901417 \nL 277.71204 131.919051 \nL 279.112486 129.668837 \nL 279.579301 123.901417 \nL 280.046117 131.919051 \nL 280.512932 129.491804 \nL 280.979748 123.901417 \nL 282.380194 131.919051 \nL 282.847009 129.344379 \nL 283.313825 123.901417 \nL 283.78064 131.919051 \nL 284.247455 129.263034 \nL 285.647902 123.901417 \nL 286.114717 129.261064 \nL 286.581532 123.901417 \nL 287.048348 131.919051 \nL 287.515163 129.386668 \nL 288.915609 123.901417 \nL 289.382425 131.919051 \nL 289.84924 129.546188 \nL 290.316055 123.901417 \nL 290.782871 131.919051 \nL 292.183317 129.629134 \nL 292.650132 123.901417 \nL 293.116948 131.919051 \nL 293.583763 129.587276 \nL 294.050579 123.901417 \nL 295.451025 131.919051 \nL 295.91784 129.265804 \nL 296.384656 123.901417 \nL 296.851471 131.919051 \nL 297.318286 129.026169 \nL 298.718733 123.901417 \nL 299.185548 131.919051 \nL 299.652363 128.970308 \nL 300.585994 123.901417 \nL 301.98644 131.919051 \nL 302.453256 128.909183 \nL 302.920071 123.901417 \nL 303.386887 131.919051 \nL 303.853702 128.886254 \nL 305.254148 123.901417 \nL 305.720963 131.919051 \nL 306.187779 128.795337 \nL 306.654594 123.901417 \nL 307.12141 128.751325 \nL 308.521856 123.901417 \nL 308.988671 131.919051 \nL 309.455487 128.718547 \nL 309.922302 123.901417 \nL 310.389117 131.919051 \nL 311.789564 128.696141 \nL 312.256379 123.901417 \nL 312.723194 131.919051 \nL 313.19001 128.698387 \nL 315.057271 123.901417 \nL 315.524087 131.919051 \nL 315.990902 128.669026 \nL 316.457718 123.901417 \nL 318.324979 131.919051 \nL 318.791794 128.631415 \nL 319.25861 123.901417 \nL 319.725425 131.919051 \nL 320.192241 128.61815 \nL 321.592687 123.901417 \nL 322.059502 131.919051 \nL 322.526318 128.549855 \nL 322.993133 123.901417 \nL 323.459948 131.919051 \nL 325.32721 128.505319 \nL 325.794025 123.901417 \nL 326.260841 131.919051 \nL 326.727656 128.453613 \nL 328.128102 123.901417 \nL 328.594918 131.919051 \nL 329.061733 128.422312 \nL 329.528549 123.901417 \nL 329.995364 128.414495 \nL 331.39581 123.901417 \nL 331.862625 131.919051 \nL 332.329441 128.425144 \nL 332.796256 123.901417 \nL 333.263072 131.919051 \nL 334.663518 128.431084 \nL 335.130333 123.901417 \nL 335.597149 131.919051 \nL 336.063964 128.413694 \nL 336.530779 123.901417 \nL 338.398041 131.919051 \nL 339.331672 123.901417 \nL 339.798487 131.919051 \nL 341.198933 128.245464 \nL 341.665749 123.901417 \nL 342.132564 131.919051 \nL 343.066195 123.901417 \nL 344.466641 131.919051 \nL 345.400272 123.901417 \nL 345.867087 131.919051 \nL 346.333903 128.299263 \nL 347.734349 123.901417 \nL 348.201164 131.919051 \nL 348.66798 128.344752 \nL 349.134795 123.901417 \nL 349.60161 131.919051 \nL 351.002057 128.34229 \nL 351.468872 123.901417 \nL 351.935687 128.311605 \nL 352.402503 123.901417 \nL 352.869318 131.919051 \nL 352.869318 131.919051 \n\" style=\"fill:none;stroke:#ff7f0e;stroke-linecap:square;stroke-width:1.5;\"/>\n   </g>\n   <g id=\"patch_3\">\n    <path d=\"M 33.2875 203.04 \nL 33.2875 7.2 \n\" style=\"fill:none;stroke:#000000;stroke-linecap:square;stroke-linejoin:miter;stroke-width:0.8;\"/>\n   </g>\n   <g id=\"patch_4\">\n    <path d=\"M 368.0875 203.04 \nL 368.0875 7.2 \n\" style=\"fill:none;stroke:#000000;stroke-linecap:square;stroke-linejoin:miter;stroke-width:0.8;\"/>\n   </g>\n   <g id=\"patch_5\">\n    <path d=\"M 33.2875 203.04 \nL 368.0875 203.04 \n\" style=\"fill:none;stroke:#000000;stroke-linecap:square;stroke-linejoin:miter;stroke-width:0.8;\"/>\n   </g>\n   <g id=\"patch_6\">\n    <path d=\"M 33.2875 7.2 \nL 368.0875 7.2 \n\" style=\"fill:none;stroke:#000000;stroke-linecap:square;stroke-linejoin:miter;stroke-width:0.8;\"/>\n   </g>\n   <g id=\"legend_1\">\n    <g id=\"patch_7\">\n     <path d=\"M 40.2875 44.55625 \nL 119.228125 44.55625 \nQ 121.228125 44.55625 121.228125 42.55625 \nL 121.228125 14.2 \nQ 121.228125 12.2 119.228125 12.2 \nL 40.2875 12.2 \nQ 38.2875 12.2 38.2875 14.2 \nL 38.2875 42.55625 \nQ 38.2875 44.55625 40.2875 44.55625 \nz\n\" style=\"fill:#ffffff;opacity:0.8;stroke:#cccccc;stroke-linejoin:miter;\"/>\n    </g>\n    <g id=\"line2d_19\">\n     <path d=\"M 42.2875 20.298437 \nL 62.2875 20.298437 \n\" style=\"fill:none;stroke:#1f77b4;stroke-linecap:square;stroke-width:1.5;\"/>\n    </g>\n    <g id=\"line2d_20\"/>\n    <g id=\"text_18\">\n     <!-- Real -->\n     <g transform=\"translate(70.2875 23.798437)scale(0.1 -0.1)\">\n      <defs>\n       <path d=\"M 2841 2188 \nQ 3044 2119 3236 1894 \nQ 3428 1669 3622 1275 \nL 4263 0 \nL 3584 0 \nL 2988 1197 \nQ 2756 1666 2539 1819 \nQ 2322 1972 1947 1972 \nL 1259 1972 \nL 1259 0 \nL 628 0 \nL 628 4666 \nL 2053 4666 \nQ 2853 4666 3247 4331 \nQ 3641 3997 3641 3322 \nQ 3641 2881 3436 2590 \nQ 3231 2300 2841 2188 \nz\nM 1259 4147 \nL 1259 2491 \nL 2053 2491 \nQ 2509 2491 2742 2702 \nQ 2975 2913 2975 3322 \nQ 2975 3731 2742 3939 \nQ 2509 4147 2053 4147 \nL 1259 4147 \nz\n\" id=\"DejaVuSans-52\" transform=\"scale(0.015625)\"/>\n       <path d=\"M 603 4863 \nL 1178 4863 \nL 1178 0 \nL 603 0 \nL 603 4863 \nz\n\" id=\"DejaVuSans-6c\" transform=\"scale(0.015625)\"/>\n      </defs>\n      <use xlink:href=\"#DejaVuSans-52\"/>\n      <use x=\"64.982422\" xlink:href=\"#DejaVuSans-65\"/>\n      <use x=\"126.505859\" xlink:href=\"#DejaVuSans-61\"/>\n      <use x=\"187.785156\" xlink:href=\"#DejaVuSans-6c\"/>\n     </g>\n    </g>\n    <g id=\"line2d_21\">\n     <path d=\"M 42.2875 34.976562 \nL 62.2875 34.976562 \n\" style=\"fill:none;stroke:#ff7f0e;stroke-linecap:square;stroke-width:1.5;\"/>\n    </g>\n    <g id=\"line2d_22\"/>\n    <g id=\"text_19\">\n     <!-- Predicted -->\n     <g transform=\"translate(70.2875 38.476562)scale(0.1 -0.1)\">\n      <defs>\n       <path d=\"M 1259 4147 \nL 1259 2394 \nL 2053 2394 \nQ 2494 2394 2734 2622 \nQ 2975 2850 2975 3272 \nQ 2975 3691 2734 3919 \nQ 2494 4147 2053 4147 \nL 1259 4147 \nz\nM 628 4666 \nL 2053 4666 \nQ 2838 4666 3239 4311 \nQ 3641 3956 3641 3272 \nQ 3641 2581 3239 2228 \nQ 2838 1875 2053 1875 \nL 1259 1875 \nL 1259 0 \nL 628 0 \nL 628 4666 \nz\n\" id=\"DejaVuSans-50\" transform=\"scale(0.015625)\"/>\n       <path d=\"M 2631 2963 \nQ 2534 3019 2420 3045 \nQ 2306 3072 2169 3072 \nQ 1681 3072 1420 2755 \nQ 1159 2438 1159 1844 \nL 1159 0 \nL 581 0 \nL 581 3500 \nL 1159 3500 \nL 1159 2956 \nQ 1341 3275 1631 3429 \nQ 1922 3584 2338 3584 \nQ 2397 3584 2469 3576 \nQ 2541 3569 2628 3553 \nL 2631 2963 \nz\n\" id=\"DejaVuSans-72\" transform=\"scale(0.015625)\"/>\n       <path d=\"M 2906 2969 \nL 2906 4863 \nL 3481 4863 \nL 3481 0 \nL 2906 0 \nL 2906 525 \nQ 2725 213 2448 61 \nQ 2172 -91 1784 -91 \nQ 1150 -91 751 415 \nQ 353 922 353 1747 \nQ 353 2572 751 3078 \nQ 1150 3584 1784 3584 \nQ 2172 3584 2448 3432 \nQ 2725 3281 2906 2969 \nz\nM 947 1747 \nQ 947 1113 1208 752 \nQ 1469 391 1925 391 \nQ 2381 391 2643 752 \nQ 2906 1113 2906 1747 \nQ 2906 2381 2643 2742 \nQ 2381 3103 1925 3103 \nQ 1469 3103 1208 2742 \nQ 947 2381 947 1747 \nz\n\" id=\"DejaVuSans-64\" transform=\"scale(0.015625)\"/>\n       <path d=\"M 603 3500 \nL 1178 3500 \nL 1178 0 \nL 603 0 \nL 603 3500 \nz\nM 603 4863 \nL 1178 4863 \nL 1178 4134 \nL 603 4134 \nL 603 4863 \nz\n\" id=\"DejaVuSans-69\" transform=\"scale(0.015625)\"/>\n       <path d=\"M 3122 3366 \nL 3122 2828 \nQ 2878 2963 2633 3030 \nQ 2388 3097 2138 3097 \nQ 1578 3097 1268 2742 \nQ 959 2388 959 1747 \nQ 959 1106 1268 751 \nQ 1578 397 2138 397 \nQ 2388 397 2633 464 \nQ 2878 531 3122 666 \nL 3122 134 \nQ 2881 22 2623 -34 \nQ 2366 -91 2075 -91 \nQ 1284 -91 818 406 \nQ 353 903 353 1747 \nQ 353 2603 823 3093 \nQ 1294 3584 2113 3584 \nQ 2378 3584 2631 3529 \nQ 2884 3475 3122 3366 \nz\n\" id=\"DejaVuSans-63\" transform=\"scale(0.015625)\"/>\n      </defs>\n      <use xlink:href=\"#DejaVuSans-50\"/>\n      <use x=\"58.552734\" xlink:href=\"#DejaVuSans-72\"/>\n      <use x=\"97.416016\" xlink:href=\"#DejaVuSans-65\"/>\n      <use x=\"158.939453\" xlink:href=\"#DejaVuSans-64\"/>\n      <use x=\"222.416016\" xlink:href=\"#DejaVuSans-69\"/>\n      <use x=\"250.199219\" xlink:href=\"#DejaVuSans-63\"/>\n      <use x=\"305.179688\" xlink:href=\"#DejaVuSans-74\"/>\n      <use x=\"344.388672\" xlink:href=\"#DejaVuSans-65\"/>\n      <use x=\"405.912109\" xlink:href=\"#DejaVuSans-64\"/>\n     </g>\n    </g>\n   </g>\n  </g>\n </g>\n <defs>\n  <clipPath id=\"pcb630dfbf5\">\n   <rect height=\"195.84\" width=\"334.8\" x=\"33.2875\" y=\"7.2\"/>\n  </clipPath>\n </defs>\n</svg>\n",
      "image/png": "[encoded data removed]"
     },
     "metadata": {
      "needs_background": "light"
     }
    }
   ],
   "source": [
    "# Plot the real vs predicted values as a line chart\n",
    "stock.plot(rot=90)"
   ]
  },
  {
   "cell_type": "code",
   "execution_count": 20,
   "metadata": {},
   "outputs": [],
   "source": [
    "# In this case LSTM model is a poor predictor of future stock prices. We need to tweak hyperparameters and length of history and compare the results, to see if we can improve the model without overfitting."
   ]
  }
 ],
 "metadata": {
  "file_extension": ".py",
  "kernelspec": {
   "name": "python3",
   "display_name": "Python 3.8.10 64-bit ('tf_m1': conda)"
  },
  "language_info": {
   "codemirror_mode": {
    "name": "ipython",
    "version": 3
   },
   "file_extension": ".py",
   "mimetype": "text/x-python",
   "name": "python",
   "nbconvert_exporter": "python",
   "pygments_lexer": "ipython3",
   "version": "3.8.10"
  },
  "mimetype": "text/x-python",
  "name": "python",
  "npconvert_exporter": "python",
  "pygments_lexer": "ipython3",
  "version": 3,
  "interpreter": {
   "hash": "a39e80eeaa8d0ed3881827d52fa90534f2019a29e57f5ba44b9ea0cd1ec47acc"
  }
 },
 "nbformat": 4,
 "nbformat_minor": 4
}