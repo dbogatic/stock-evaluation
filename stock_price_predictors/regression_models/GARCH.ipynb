{
 "metadata": {
  "language_info": {
   "codemirror_mode": {
    "name": "ipython",
    "version": 3
   },
   "file_extension": ".py",
   "mimetype": "text/x-python",
   "name": "python",
   "nbconvert_exporter": "python",
   "pygments_lexer": "ipython3",
   "version": "3.7.9"
  },
  "orig_nbformat": 2,
  "kernelspec": {
   "name": "python3",
   "display_name": "Python 3.7.9 64-bit ('algotrading': conda)"
  },
  "interpreter": {
   "hash": "1d1365bc7bea9ca53bbaaff2a498c5cc15b63a6fcc47bade387e2edfe7e7b068"
  }
 },
 "nbformat": 4,
 "nbformat_minor": 2,
 "cells": [
  {
   "cell_type": "markdown",
   "source": [
    "# GARCH Model - Generalized Autoregressive Conditional Heteroskedasticity \n",
    "\n",
    "### GARCH is an approach to estimating the volatility of financial markets. Financial institutions use the model to estimate the return volatility of stocks, bonds, and other investment vehicles. Some investment experts believe we should focus on forecasting the return volatility as opposed to forecasting prices. According to them, there is more conclusive correlation information when analyzing volatility, while analysis of prices alone mostly exhibit random walk behavior."
   ],
   "metadata": {}
  },
  {
   "cell_type": "code",
   "execution_count": 11,
   "source": [
    "import numpy as np\n",
    "import pandas as pd\n",
    "import arch as arch\n",
    "from arch.__future__ import reindexing\n",
    "from datetime import datetime\n",
    "import matplotlib\n",
    "\n",
    "%matplotlib inline"
   ],
   "outputs": [],
   "metadata": {}
  },
  {
   "cell_type": "code",
   "execution_count": 3,
   "source": [
    "# Read in stock historical prices and calculate daily return\n",
    "stock_prices = pd.read_csv(\"../Resources/stock_historical_prices.csv\", parse_dates=True, index_col=\"Date\") \n",
    "stock_prices[\"Return\"] = stock_prices[\"Adj Close\"].pct_change() * 100\n",
    "stock_prices.dropna(inplace=True)\n",
    "stock_prices = stock_prices[\"2020\":\"2022\"]"
   ],
   "outputs": [],
   "metadata": {}
  },
  {
   "cell_type": "code",
   "execution_count": 13,
   "source": [
    "returns = stock_prices[\"Return\"]\n",
    "returns"
   ],
   "outputs": [
    {
     "output_type": "execute_result",
     "data": {
      "text/plain": [
       "Date\n",
       "2020-01-02    0.834437\n",
       "2020-01-03   -0.967646\n",
       "2020-01-06    0.358128\n",
       "2020-01-07   -0.471390\n",
       "2020-01-08    0.030988\n",
       "                ...   \n",
       "2021-07-13   -0.321300\n",
       "2021-07-14   -0.322336\n",
       "2021-07-15    0.506631\n",
       "2021-07-16   -0.650653\n",
       "2021-07-19   -1.885567\n",
       "Name: Return, Length: 389, dtype: float64"
      ]
     },
     "metadata": {},
     "execution_count": 13
    }
   ],
   "metadata": {}
  },
  {
   "cell_type": "code",
   "execution_count": 14,
   "source": [
    "from arch import arch_model\n",
    "# The 'mean=\"Zero\"' means that we're estimating a GARCH.\n",
    "model = arch_model(returns, mean=\"Zero\", vol=\"GARCH\", p=1, q=1)\n",
    "# Fit the GARCH Model\n",
    "results = model.fit(disp=\"off\")\n",
    "# Summarize the model results\n",
    "results.summary()"
   ],
   "outputs": [
    {
     "output_type": "execute_result",
     "data": {
      "text/plain": [
       "<class 'statsmodels.iolib.summary.Summary'>\n",
       "\"\"\"\n",
       "                       Zero Mean - GARCH Model Results                        \n",
       "==============================================================================\n",
       "Dep. Variable:                 Return   R-squared:                       0.000\n",
       "Mean Model:                 Zero Mean   Adj. R-squared:                  0.003\n",
       "Vol Model:                      GARCH   Log-Likelihood:               -681.912\n",
       "Distribution:                  Normal   AIC:                           1369.82\n",
       "Method:            Maximum Likelihood   BIC:                           1381.72\n",
       "                                        No. Observations:                  389\n",
       "Date:                Sun, Jul 25 2021   Df Residuals:                      389\n",
       "Time:                        22:46:11   Df Model:                            0\n",
       "                             Volatility Model                             \n",
       "==========================================================================\n",
       "                 coef    std err          t      P>|t|    95.0% Conf. Int.\n",
       "--------------------------------------------------------------------------\n",
       "omega          0.1868  6.396e-02      2.921  3.491e-03 [6.145e-02,  0.312]\n",
       "alpha[1]       0.2094  5.205e-02      4.023  5.743e-05   [  0.107,  0.311]\n",
       "beta[1]        0.7180  5.678e-02     12.644  1.205e-36   [  0.607,  0.829]\n",
       "==========================================================================\n",
       "\n",
       "Covariance estimator: robust\n",
       "\"\"\""
      ],
      "text/html": [
       "<table class=\"simpletable\">\n",
       "<caption>Zero Mean - GARCH Model Results</caption>\n",
       "<tr>\n",
       "  <th>Dep. Variable:</th>       <td>Return</td>       <th>  R-squared:         </th>  <td>   0.000</td> \n",
       "</tr>\n",
       "<tr>\n",
       "  <th>Mean Model:</th>         <td>Zero Mean</td>     <th>  Adj. R-squared:    </th>  <td>   0.003</td> \n",
       "</tr>\n",
       "<tr>\n",
       "  <th>Vol Model:</th>            <td>GARCH</td>       <th>  Log-Likelihood:    </th> <td>  -681.912</td>\n",
       "</tr>\n",
       "<tr>\n",
       "  <th>Distribution:</th>        <td>Normal</td>       <th>  AIC:               </th> <td>   1369.82</td>\n",
       "</tr>\n",
       "<tr>\n",
       "  <th>Method:</th>        <td>Maximum Likelihood</td> <th>  BIC:               </th> <td>   1381.72</td>\n",
       "</tr>\n",
       "<tr>\n",
       "  <th></th>                        <td></td>          <th>  No. Observations:  </th>     <td>389</td>   \n",
       "</tr>\n",
       "<tr>\n",
       "  <th>Date:</th>           <td>Sun, Jul 25 2021</td>  <th>  Df Residuals:      </th>     <td>389</td>   \n",
       "</tr>\n",
       "<tr>\n",
       "  <th>Time:</th>               <td>22:46:11</td>      <th>  Df Model:          </th>      <td>0</td>    \n",
       "</tr>\n",
       "</table>\n",
       "<table class=\"simpletable\">\n",
       "<caption>Volatility Model</caption>\n",
       "<tr>\n",
       "      <td></td>        <th>coef</th>     <th>std err</th>      <th>t</th>       <th>P>|t|</th>    <th>95.0% Conf. Int.</th>  \n",
       "</tr>\n",
       "<tr>\n",
       "  <th>omega</th>    <td>    0.1868</td> <td>6.396e-02</td> <td>    2.921</td> <td>3.491e-03</td> <td>[6.145e-02,  0.312]</td>\n",
       "</tr>\n",
       "<tr>\n",
       "  <th>alpha[1]</th> <td>    0.2094</td> <td>5.205e-02</td> <td>    4.023</td> <td>5.743e-05</td>  <td>[  0.107,  0.311]</td> \n",
       "</tr>\n",
       "<tr>\n",
       "  <th>beta[1]</th>  <td>    0.7180</td> <td>5.678e-02</td> <td>   12.644</td> <td>1.205e-36</td>  <td>[  0.607,  0.829]</td> \n",
       "</tr>\n",
       "</table><br/><br/>Covariance estimator: robust"
      ]
     },
     "metadata": {},
     "execution_count": 14
    }
   ],
   "metadata": {}
  },
  {
   "cell_type": "code",
   "execution_count": 18,
   "source": [
    "# Plot the model estimate of annualized volatility\n",
    "annualized_vol = results.plot(annualize='D')"
   ],
   "outputs": [
    {
     "output_type": "display_data",
     "data": {
      "text/plain": [
       "<Figure size 432x288 with 2 Axes>"
      ],
      "image/png": "[encoded data removed]"
     },
     "metadata": {
      "needs_background": "light"
     }
    }
   ],
   "metadata": {}
  },
  {
   "cell_type": "code",
   "execution_count": 24,
   "source": [
    "# Construct Volatility Forecasts for the next 3 days\n",
    "forecast_horizon = 5\n",
    "\n",
    "# If forecast horizon is 3, then the resulting 'h.1', 'h.2', and 'h.3' \n",
    "# are the forecasts for the following 3 days.\n",
    "forecasts = results.forecast(start='07-19-21', horizon=forecast_horizon)\n",
    "forecasts"
   ],
   "outputs": [
    {
     "output_type": "execute_result",
     "data": {
      "text/plain": [
       "<arch.univariate.base.ARCHModelForecast at 0x7f9a33e28cd0>"
      ]
     },
     "metadata": {},
     "execution_count": 24
    }
   ],
   "metadata": {}
  },
  {
   "cell_type": "code",
   "execution_count": 25,
   "source": [
    "# Annualize the forecast\n",
    "intermediate = np.sqrt(forecasts.variance.dropna() * 252)\n",
    "intermediate"
   ],
   "outputs": [
    {
     "output_type": "execute_result",
     "data": {
      "text/plain": [
       "                  h.1        h.2        h.3        h.4        h.5\n",
       "Date                                                             \n",
       "2021-07-19  21.067402  21.417021  21.736232  22.028134  22.295429"
      ],
      "text/html": [
       "<div>\n",
       "<style scoped>\n",
       "    .dataframe tbody tr th:only-of-type {\n",
       "        vertical-align: middle;\n",
       "    }\n",
       "\n",
       "    .dataframe tbody tr th {\n",
       "        vertical-align: top;\n",
       "    }\n",
       "\n",
       "    .dataframe thead th {\n",
       "        text-align: right;\n",
       "    }\n",
       "</style>\n",
       "<table border=\"1\" class=\"dataframe\">\n",
       "  <thead>\n",
       "    <tr style=\"text-align: right;\">\n",
       "      <th></th>\n",
       "      <th>h.1</th>\n",
       "      <th>h.2</th>\n",
       "      <th>h.3</th>\n",
       "      <th>h.4</th>\n",
       "      <th>h.5</th>\n",
       "    </tr>\n",
       "    <tr>\n",
       "      <th>Date</th>\n",
       "      <th></th>\n",
       "      <th></th>\n",
       "      <th></th>\n",
       "      <th></th>\n",
       "      <th></th>\n",
       "    </tr>\n",
       "  </thead>\n",
       "  <tbody>\n",
       "    <tr>\n",
       "      <th>2021-07-19</th>\n",
       "      <td>21.067402</td>\n",
       "      <td>21.417021</td>\n",
       "      <td>21.736232</td>\n",
       "      <td>22.028134</td>\n",
       "      <td>22.295429</td>\n",
       "    </tr>\n",
       "  </tbody>\n",
       "</table>\n",
       "</div>"
      ]
     },
     "metadata": {},
     "execution_count": 25
    }
   ],
   "metadata": {}
  },
  {
   "cell_type": "code",
   "execution_count": 26,
   "source": [
    "# The name of the column here is the date of the forecast.\n",
    "# Each row represents the forecast of volatility for the following days.\n",
    "# Transposing makes the forecast easier to plot\n",
    "final = intermediate.dropna().T\n",
    "final"
   ],
   "outputs": [
    {
     "output_type": "execute_result",
     "data": {
      "text/plain": [
       "Date  2021-07-19\n",
       "h.1    21.067402\n",
       "h.2    21.417021\n",
       "h.3    21.736232\n",
       "h.4    22.028134\n",
       "h.5    22.295429"
      ],
      "text/html": [
       "<div>\n",
       "<style scoped>\n",
       "    .dataframe tbody tr th:only-of-type {\n",
       "        vertical-align: middle;\n",
       "    }\n",
       "\n",
       "    .dataframe tbody tr th {\n",
       "        vertical-align: top;\n",
       "    }\n",
       "\n",
       "    .dataframe thead th {\n",
       "        text-align: right;\n",
       "    }\n",
       "</style>\n",
       "<table border=\"1\" class=\"dataframe\">\n",
       "  <thead>\n",
       "    <tr style=\"text-align: right;\">\n",
       "      <th>Date</th>\n",
       "      <th>2021-07-19</th>\n",
       "    </tr>\n",
       "  </thead>\n",
       "  <tbody>\n",
       "    <tr>\n",
       "      <th>h.1</th>\n",
       "      <td>21.067402</td>\n",
       "    </tr>\n",
       "    <tr>\n",
       "      <th>h.2</th>\n",
       "      <td>21.417021</td>\n",
       "    </tr>\n",
       "    <tr>\n",
       "      <th>h.3</th>\n",
       "      <td>21.736232</td>\n",
       "    </tr>\n",
       "    <tr>\n",
       "      <th>h.4</th>\n",
       "      <td>22.028134</td>\n",
       "    </tr>\n",
       "    <tr>\n",
       "      <th>h.5</th>\n",
       "      <td>22.295429</td>\n",
       "    </tr>\n",
       "  </tbody>\n",
       "</table>\n",
       "</div>"
      ]
     },
     "metadata": {},
     "execution_count": 26
    }
   ],
   "metadata": {}
  },
  {
   "cell_type": "code",
   "execution_count": 27,
   "source": [
    "final.plot()"
   ],
   "outputs": [
    {
     "output_type": "execute_result",
     "data": {
      "text/plain": [
       "<AxesSubplot:>"
      ]
     },
     "metadata": {},
     "execution_count": 27
    },
    {
     "output_type": "display_data",
     "data": {
      "text/plain": [
       "<Figure size 432x288 with 1 Axes>"
      ],
      "image/png": "[encoded data removed]"
     },
     "metadata": {
      "needs_background": "light"
     }
    }
   ],
   "metadata": {}
  }
 ]
}