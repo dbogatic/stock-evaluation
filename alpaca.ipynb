{
 "metadata": {
  "language_info": {
   "codemirror_mode": {
    "name": "ipython",
    "version": 3
   },
   "file_extension": ".py",
   "mimetype": "text/x-python",
   "name": "python",
   "nbconvert_exporter": "python",
   "pygments_lexer": "ipython3",
   "version": "3.7.7-final"
  },
  "orig_nbformat": 2,
  "kernelspec": {
   "name": "python3",
   "display_name": "Python 3",
   "language": "python"
  }
 },
 "nbformat": 4,
 "nbformat_minor": 2,
 "cells": [
  {
   "cell_type": "code",
   "execution_count": 4,
   "metadata": {},
   "outputs": [],
   "source": [
    "import requests\n",
    "import os\n",
    "import numpy as np\n",
    "import pandas as pd\n",
    "import datetime as dt\n",
    "\n",
    "import alpaca_trade_api as tradeapi\n",
    "from dotenv import load_dotenv\n",
    "load_dotenv()\n",
    "\n",
    "\n",
    "%matplotlib inline"
   ]
  },
  {
   "cell_type": "code",
   "execution_count": 2,
   "metadata": {},
   "outputs": [],
   "source": [
    "alpaca_api_key = os.getenv(\"ALPACA_API_KEY\")\n",
    "alpaca_secret_key = os.getenv(\"ALPACA_SECRET_KEY\")\n",
    "alpaca = tradeapi.REST(\n",
    "    alpaca_api_key,\n",
    "    alpaca_secret_key,\n",
    "    api_version=\"v2\"\n",
    ")"
   ]
  },
  {
   "cell_type": "code",
   "execution_count": 3,
   "metadata": {},
   "outputs": [
    {
     "output_type": "execute_result",
     "data": {
      "text/plain": [
       "         date      open      high       low     close    volume\n",
       "0  2019-12-30  428.8100  429.0000  409.2589  414.6200  12082466\n",
       "1  2019-12-31  405.0003  421.2900  402.0800  418.1700   9761539\n",
       "2  2020-01-02  424.9500  430.6957  421.7100  430.2400   9113793\n",
       "3  2020-01-03  440.5000  454.0000  436.9200  442.7500  16409329\n",
       "4  2020-01-06  440.4700  451.5600  440.0000  451.4001   9807049"
      ],
      "text/html": "<div>\n<style scoped>\n    .dataframe tbody tr th:only-of-type {\n        vertical-align: middle;\n    }\n\n    .dataframe tbody tr th {\n        vertical-align: top;\n    }\n\n    .dataframe thead th {\n        text-align: right;\n    }\n</style>\n<table border=\"1\" class=\"dataframe\">\n  <thead>\n    <tr style=\"text-align: right;\">\n      <th></th>\n      <th>date</th>\n      <th>open</th>\n      <th>high</th>\n      <th>low</th>\n      <th>close</th>\n      <th>volume</th>\n    </tr>\n  </thead>\n  <tbody>\n    <tr>\n      <th>0</th>\n      <td>2019-12-30</td>\n      <td>428.8100</td>\n      <td>429.0000</td>\n      <td>409.2589</td>\n      <td>414.6200</td>\n      <td>12082466</td>\n    </tr>\n    <tr>\n      <th>1</th>\n      <td>2019-12-31</td>\n      <td>405.0003</td>\n      <td>421.2900</td>\n      <td>402.0800</td>\n      <td>418.1700</td>\n      <td>9761539</td>\n    </tr>\n    <tr>\n      <th>2</th>\n      <td>2020-01-02</td>\n      <td>424.9500</td>\n      <td>430.6957</td>\n      <td>421.7100</td>\n      <td>430.2400</td>\n      <td>9113793</td>\n    </tr>\n    <tr>\n      <th>3</th>\n      <td>2020-01-03</td>\n      <td>440.5000</td>\n      <td>454.0000</td>\n      <td>436.9200</td>\n      <td>442.7500</td>\n      <td>16409329</td>\n    </tr>\n    <tr>\n      <th>4</th>\n      <td>2020-01-06</td>\n      <td>440.4700</td>\n      <td>451.5600</td>\n      <td>440.0000</td>\n      <td>451.4001</td>\n      <td>9807049</td>\n    </tr>\n  </tbody>\n</table>\n</div>"
     },
     "metadata": {},
     "execution_count": 3
    }
   ],
   "source": [
    "# Change the stock ticker symbol for the stock you wish to analyze; Also, change the start and end date to obtain data for the specified time period\n",
    "\n",
    "ticker = [\"TSLA\"]\n",
    "timeframe = \"1D\"\n",
    "start_date = pd.Timestamp(\"2019-12-29\",tz=\"America/New_York\").isoformat()\n",
    "end_date = pd.Timestamp(\"2020-12-29\",tz=\"America/New_York\").isoformat()\n",
    "\n",
    "df_ticker = alpaca.get_barset(\n",
    "    ticker,\n",
    "    timeframe,\n",
    "    start=start_date,\n",
    "    end=end_date\n",
    ").df\n",
    "\n",
    "# Drop ticker multi-index level from the Alpaca API output\n",
    "\n",
    "df_ticker.columns = df_ticker.columns.droplevel(0)\n",
    "\n",
    "# Reset index\n",
    "\n",
    "df_ticker.reset_index(inplace=True)\n",
    "\n",
    "# Drop timestamp drom date; Comment this line out if timestamp is needed\n",
    "\n",
    "df_ticker['time'] = df_ticker['time'].dt.date\n",
    "\n",
    "# Change column name \"time\" to \"date\"\n",
    "\n",
    "df_ticker = df_ticker.rename(columns={'time':'date'})\n",
    "\n",
    "# Print csv file\n",
    "\n",
    "df_ticker.to_csv('Resources/stock_data.csv')\n",
    "\n",
    "df_ticker.head()"
   ]
  }
 ]
}