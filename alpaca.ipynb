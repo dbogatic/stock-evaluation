{
 "metadata": {
  "language_info": {
   "codemirror_mode": {
    "name": "ipython",
    "version": 3
   },
   "file_extension": ".py",
   "mimetype": "text/x-python",
   "name": "python",
   "nbconvert_exporter": "python",
   "pygments_lexer": "ipython3",
   "version": "3.6.9-final"
  },
  "orig_nbformat": 2,
  "kernelspec": {
   "name": "python3",
   "display_name": "Python 3",
   "language": "python"
  }
 },
 "nbformat": 4,
 "nbformat_minor": 2,
 "cells": [
  {
   "cell_type": "code",
   "execution_count": 1,
   "metadata": {},
   "outputs": [],
   "source": [
    "import requests\n",
    "import os\n",
    "import numpy as np\n",
    "import pandas as pd\n",
    "import datetime as dt\n",
    "\n",
    "import alpaca_trade_api as tradeapi\n",
    "from dotenv import load_dotenv\n",
    "load_dotenv()\n",
    "\n",
    "\n",
    "%matplotlib inline"
   ]
  },
  {
   "cell_type": "code",
   "execution_count": 2,
   "metadata": {},
   "outputs": [],
   "source": [
    "alpaca_api_key = os.getenv(\"ALPACA_API_KEY\")\n",
    "alpaca_secret_key = os.getenv(\"ALPACA_SECRET_KEY\")\n",
    "alpaca = tradeapi.REST(\n",
    "    alpaca_api_key,\n",
    "    alpaca_secret_key,\n",
    "    api_version=\"v2\"\n",
    ")"
   ]
  },
  {
   "cell_type": "code",
   "execution_count": 3,
   "metadata": {},
   "outputs": [
    {
     "output_type": "execute_result",
     "data": {
      "text/plain": [
       "         date    open      high       low    close    volume\n",
       "0  2021-01-04  719.46  744.4899  717.1895  729.750  45293360\n",
       "1  2021-01-05  723.66  740.8400  719.2000  735.055  28402584\n",
       "2  2021-01-06  758.49  774.0000  749.1000  756.460  41989335\n",
       "3  2021-01-07  777.63  816.9900  775.2000  816.240  48080256\n",
       "4  2021-01-08  856.00  884.4900  838.3900  880.030  71814487"
      ],
      "text/html": "<div>\n<style scoped>\n    .dataframe tbody tr th:only-of-type {\n        vertical-align: middle;\n    }\n\n    .dataframe tbody tr th {\n        vertical-align: top;\n    }\n\n    .dataframe thead th {\n        text-align: right;\n    }\n</style>\n<table border=\"1\" class=\"dataframe\">\n  <thead>\n    <tr style=\"text-align: right;\">\n      <th></th>\n      <th>date</th>\n      <th>open</th>\n      <th>high</th>\n      <th>low</th>\n      <th>close</th>\n      <th>volume</th>\n    </tr>\n  </thead>\n  <tbody>\n    <tr>\n      <th>0</th>\n      <td>2021-01-04</td>\n      <td>719.46</td>\n      <td>744.4899</td>\n      <td>717.1895</td>\n      <td>729.750</td>\n      <td>45293360</td>\n    </tr>\n    <tr>\n      <th>1</th>\n      <td>2021-01-05</td>\n      <td>723.66</td>\n      <td>740.8400</td>\n      <td>719.2000</td>\n      <td>735.055</td>\n      <td>28402584</td>\n    </tr>\n    <tr>\n      <th>2</th>\n      <td>2021-01-06</td>\n      <td>758.49</td>\n      <td>774.0000</td>\n      <td>749.1000</td>\n      <td>756.460</td>\n      <td>41989335</td>\n    </tr>\n    <tr>\n      <th>3</th>\n      <td>2021-01-07</td>\n      <td>777.63</td>\n      <td>816.9900</td>\n      <td>775.2000</td>\n      <td>816.240</td>\n      <td>48080256</td>\n    </tr>\n    <tr>\n      <th>4</th>\n      <td>2021-01-08</td>\n      <td>856.00</td>\n      <td>884.4900</td>\n      <td>838.3900</td>\n      <td>880.030</td>\n      <td>71814487</td>\n    </tr>\n  </tbody>\n</table>\n</div>"
     },
     "metadata": {},
     "execution_count": 3
    }
   ],
   "source": [
    "# Change the stock ticker symbol for the stock you wish to analyze; Also, change the start and end date to obtain data for the specified time period\n",
    "\n",
    "ticker = \"TSLA\"\n",
    "timeframe = \"1D\"\n",
    "start_date = pd.Timestamp(\"2021-01-01\",tz=\"America/New_York\").isoformat()\n",
    "end_date = pd.Timestamp(\"2021-03-19\",tz=\"America/New_York\").isoformat()\n",
    "\n",
    "df_ticker = alpaca.get_barset(\n",
    "    ticker,\n",
    "    timeframe,\n",
    "    start=start_date,\n",
    "    end=end_date\n",
    ").df\n",
    "\n",
    "# Drop ticker multi-index level from the Alpaca API output\n",
    "\n",
    "df_ticker.columns = df_ticker.columns.droplevel(0)\n",
    "\n",
    "# Reset index\n",
    "\n",
    "df_ticker.reset_index(inplace=True)\n",
    "\n",
    "# Drop timestamp drom date; Comment this line out if timestamp is needed\n",
    "\n",
    "df_ticker['time'] = df_ticker['time'].dt.date\n",
    "\n",
    "# Change column name \"time\" to \"date\"\n",
    "\n",
    "df_ticker = df_ticker.rename(columns={'time':'date'})\n",
    "\n",
    "# Print csv file\n",
    "\n",
    "df_ticker.to_csv('Resources/stock_data.csv')\n",
    "\n",
    "df_ticker.head()"
   ]
  },
  {
   "cell_type": "code",
   "execution_count": null,
   "metadata": {},
   "outputs": [],
   "source": []
  }
 ]
}