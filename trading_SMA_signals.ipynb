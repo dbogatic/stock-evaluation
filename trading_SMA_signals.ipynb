{
 "cells": [
  {
   "cell_type": "markdown",
   "metadata": {},
   "source": [
    "# Trading Signals - SMA"
   ]
  },
  {
   "cell_type": "code",
   "execution_count": 31,
   "metadata": {},
   "outputs": [],
   "source": [
    "# Import libraries and dependencies\n",
    "import numpy as np\n",
    "import pandas as pd\n",
    "from pathlib import Path\n",
    "import hvplot\n",
    "import hvplot.pandas\n",
    "from IPython.display import Markdown\n",
    "\n",
    "pd.set_option(\"display.max_rows\", 2000)\n",
    "pd.set_option(\"display.max_columns\", 2000)\n",
    "pd.set_option(\"display.width\", 1000)"
   ]
  },
  {
   "cell_type": "markdown",
   "metadata": {},
   "source": [
    "### Read CSV into Pandas DataFrame"
   ]
  },
  {
   "cell_type": "code",
   "execution_count": 32,
   "metadata": {},
   "outputs": [],
   "source": [
    "# Specify stock ticker\n",
    "ticker = 'TSLA'"
   ]
  },
  {
   "cell_type": "code",
   "execution_count": 33,
   "metadata": {},
   "outputs": [
    {
     "output_type": "execute_result",
     "data": {
      "text/plain": [
       "          date    open    high       low   close    volume\n",
       "48  2021-03-15  694.09  713.18  684.0400  707.94  28269001\n",
       "49  2021-03-16  703.35  707.92  671.0000  676.63  31258483\n",
       "50  2021-03-17  656.87  703.73  651.0100  701.54  37888931\n",
       "51  2021-03-18  684.29  689.23  652.0000  653.30  31802623\n",
       "52  2021-03-19  646.60  657.23  624.6201  654.97  37974884"
      ],
      "text/html": "<div>\n<style scoped>\n    .dataframe tbody tr th:only-of-type {\n        vertical-align: middle;\n    }\n\n    .dataframe tbody tr th {\n        vertical-align: top;\n    }\n\n    .dataframe thead th {\n        text-align: right;\n    }\n</style>\n<table border=\"1\" class=\"dataframe\">\n  <thead>\n    <tr style=\"text-align: right;\">\n      <th></th>\n      <th>date</th>\n      <th>open</th>\n      <th>high</th>\n      <th>low</th>\n      <th>close</th>\n      <th>volume</th>\n    </tr>\n  </thead>\n  <tbody>\n    <tr>\n      <th>48</th>\n      <td>2021-03-15</td>\n      <td>694.09</td>\n      <td>713.18</td>\n      <td>684.0400</td>\n      <td>707.94</td>\n      <td>28269001</td>\n    </tr>\n    <tr>\n      <th>49</th>\n      <td>2021-03-16</td>\n      <td>703.35</td>\n      <td>707.92</td>\n      <td>671.0000</td>\n      <td>676.63</td>\n      <td>31258483</td>\n    </tr>\n    <tr>\n      <th>50</th>\n      <td>2021-03-17</td>\n      <td>656.87</td>\n      <td>703.73</td>\n      <td>651.0100</td>\n      <td>701.54</td>\n      <td>37888931</td>\n    </tr>\n    <tr>\n      <th>51</th>\n      <td>2021-03-18</td>\n      <td>684.29</td>\n      <td>689.23</td>\n      <td>652.0000</td>\n      <td>653.30</td>\n      <td>31802623</td>\n    </tr>\n    <tr>\n      <th>52</th>\n      <td>2021-03-19</td>\n      <td>646.60</td>\n      <td>657.23</td>\n      <td>624.6201</td>\n      <td>654.97</td>\n      <td>37974884</td>\n    </tr>\n  </tbody>\n</table>\n</div>"
     },
     "metadata": {},
     "execution_count": 33
    }
   ],
   "source": [
    "# Set the file path\n",
    "filepath = Path(\"Resources/stock_data.csv\")\n",
    "\n",
    "# Read the CSV located at the file path into a Pandas DataFrame\n",
    "stock_df = pd.read_csv(filepath, parse_dates=True, infer_datetime_format=True)\n",
    "\n",
    "stock_df = stock_df.sort_index()\n",
    "stock_df.drop('Unnamed: 0', inplace=True, axis=1)\n",
    "\n",
    "stock_df.tail()"
   ]
  },
  {
   "cell_type": "markdown",
   "metadata": {},
   "source": [
    "### Generate a Dual Moving Average Crossover Trading Signal"
   ]
  },
  {
   "cell_type": "code",
   "execution_count": 34,
   "metadata": {},
   "outputs": [
    {
     "output_type": "execute_result",
     "data": {
      "text/plain": [
       "             close       SMA50  SMA100  Signal  Entry/Exit\n",
       "date                                                      \n",
       "2021-03-08  562.97         NaN     NaN     0.0         0.0\n",
       "2021-03-09  673.58         NaN     NaN     0.0         0.0\n",
       "2021-03-10  668.27         NaN     NaN     0.0         0.0\n",
       "2021-03-11  699.60         NaN     NaN     0.0         0.0\n",
       "2021-03-12  693.84         NaN     NaN     0.0         0.0\n",
       "2021-03-15  707.94         NaN     NaN     0.0         0.0\n",
       "2021-03-16  676.63  775.858972     NaN     0.0         0.0\n",
       "2021-03-17  701.54  775.294772     NaN     0.0         0.0\n",
       "2021-03-18  653.30  773.659672     NaN     0.0         0.0\n",
       "2021-03-19  654.97  771.629872     NaN     0.0         0.0"
      ],
      "text/html": "<div>\n<style scoped>\n    .dataframe tbody tr th:only-of-type {\n        vertical-align: middle;\n    }\n\n    .dataframe tbody tr th {\n        vertical-align: top;\n    }\n\n    .dataframe thead th {\n        text-align: right;\n    }\n</style>\n<table border=\"1\" class=\"dataframe\">\n  <thead>\n    <tr style=\"text-align: right;\">\n      <th></th>\n      <th>close</th>\n      <th>SMA50</th>\n      <th>SMA100</th>\n      <th>Signal</th>\n      <th>Entry/Exit</th>\n    </tr>\n    <tr>\n      <th>date</th>\n      <th></th>\n      <th></th>\n      <th></th>\n      <th></th>\n      <th></th>\n    </tr>\n  </thead>\n  <tbody>\n    <tr>\n      <th>2021-03-08</th>\n      <td>562.97</td>\n      <td>NaN</td>\n      <td>NaN</td>\n      <td>0.0</td>\n      <td>0.0</td>\n    </tr>\n    <tr>\n      <th>2021-03-09</th>\n      <td>673.58</td>\n      <td>NaN</td>\n      <td>NaN</td>\n      <td>0.0</td>\n      <td>0.0</td>\n    </tr>\n    <tr>\n      <th>2021-03-10</th>\n      <td>668.27</td>\n      <td>NaN</td>\n      <td>NaN</td>\n      <td>0.0</td>\n      <td>0.0</td>\n    </tr>\n    <tr>\n      <th>2021-03-11</th>\n      <td>699.60</td>\n      <td>NaN</td>\n      <td>NaN</td>\n      <td>0.0</td>\n      <td>0.0</td>\n    </tr>\n    <tr>\n      <th>2021-03-12</th>\n      <td>693.84</td>\n      <td>NaN</td>\n      <td>NaN</td>\n      <td>0.0</td>\n      <td>0.0</td>\n    </tr>\n    <tr>\n      <th>2021-03-15</th>\n      <td>707.94</td>\n      <td>NaN</td>\n      <td>NaN</td>\n      <td>0.0</td>\n      <td>0.0</td>\n    </tr>\n    <tr>\n      <th>2021-03-16</th>\n      <td>676.63</td>\n      <td>775.858972</td>\n      <td>NaN</td>\n      <td>0.0</td>\n      <td>0.0</td>\n    </tr>\n    <tr>\n      <th>2021-03-17</th>\n      <td>701.54</td>\n      <td>775.294772</td>\n      <td>NaN</td>\n      <td>0.0</td>\n      <td>0.0</td>\n    </tr>\n    <tr>\n      <th>2021-03-18</th>\n      <td>653.30</td>\n      <td>773.659672</td>\n      <td>NaN</td>\n      <td>0.0</td>\n      <td>0.0</td>\n    </tr>\n    <tr>\n      <th>2021-03-19</th>\n      <td>654.97</td>\n      <td>771.629872</td>\n      <td>NaN</td>\n      <td>0.0</td>\n      <td>0.0</td>\n    </tr>\n  </tbody>\n</table>\n</div>"
     },
     "metadata": {},
     "execution_count": 34
    }
   ],
   "source": [
    "# Grab just the `date` and `close` from the IEX dataset\n",
    "signals_df = stock_df.loc[:, ['date', 'close']].copy()\n",
    "\n",
    "# Set the `date` column as the index\n",
    "signals_df = signals_df.set_index(\"date\", drop=True)\n",
    "\n",
    "# Set the short window and long windows\n",
    "short_window = 50\n",
    "long_window = 100\n",
    "\n",
    "# Generate the short and long moving averages (50 and 100 days, respectively)\n",
    "signals_df['SMA50'] = signals_df['close'].rolling(window=short_window).mean()\n",
    "signals_df['SMA100'] = signals_df['close'].rolling(window=long_window).mean()\n",
    "signals_df['Signal'] = 0.0\n",
    "\n",
    "# Generate the trading signal 0 or 1,\n",
    "# where 0 is when the SMA50 is under the SMA100, and\n",
    "# where 1 is when the SMA50 is higher (or crosses over) the SMA100\n",
    "signals_df['Signal'][short_window:] = np.where(\n",
    "    signals_df['SMA50'][short_window:] > signals_df['SMA100'][short_window:], 1.0, 0.0\n",
    ")\n",
    "\n",
    "# Calculate the points in time at which a position should be taken, 1 or -1\n",
    "signals_df['Entry/Exit'] = signals_df['Signal'].diff()\n",
    "\n",
    "# Print the DataFrame\n",
    "signals_df.tail(10)"
   ]
  },
  {
   "cell_type": "markdown",
   "metadata": {},
   "source": [
    "### Plot Entry and Exit Points of Dual Moving Average Crossover Trading Strategy"
   ]
  },
  {
   "cell_type": "code",
   "execution_count": 35,
   "metadata": {},
   "outputs": [
    {
     "output_type": "display_data",
     "data": {},
     "metadata": {}
    },
    {
     "output_type": "execute_result",
     "data": {
      "text/html": "<div id='4174'>\n\n\n\n\n\n  <div class=\"bk-root\" id=\"903de059-e05f-4034-818f-c97373192ef0\" data-root-id=\"4174\"></div>\n</div>\n<script type=\"application/javascript\">(function(root) {\n  function embed_document(root) {\n    var docs_json = {\"3cbd733f-58d7-4e4d-8232-ff85e9986bc8\":{\"defs\":[{\"extends\":null,\"module\":null,\"name\":\"DataModel\",\"overrides\":[],\"properties\":[]}],\"roots\":{\"references\":[{\"attributes\":{},\"id\":\"4199\",\"type\":\"SaveTool\"},{\"attributes\":{\"data_source\":{\"id\":\"4251\"},\"glyph\":{\"id\":\"4254\"},\"hover_glyph\":null,\"muted_glyph\":{\"id\":\"4256\"},\"nonselection_glyph\":{\"id\":\"4255\"},\"selection_glyph\":{\"id\":\"4274\"},\"view\":{\"id\":\"4258\"}},\"id\":\"4257\",\"type\":\"GlyphRenderer\"},{\"attributes\":{},\"id\":\"4200\",\"type\":\"PanTool\"},{\"attributes\":{},\"id\":\"4201\",\"type\":\"WheelZoomTool\"},{\"attributes\":{\"line_alpha\":0.1,\"line_color\":\"#e5ae38\",\"line_width\":2,\"x\":{\"field\":\"date\"},\"y\":{\"field\":\"value\"}},\"id\":\"4255\",\"type\":\"Line\"},{\"attributes\":{\"line_color\":\"#e5ae38\",\"line_width\":2,\"x\":{\"field\":\"date\"},\"y\":{\"field\":\"value\"}},\"id\":\"4254\",\"type\":\"Line\"},{\"attributes\":{\"overlay\":{\"id\":\"4204\"}},\"id\":\"4202\",\"type\":\"BoxZoomTool\"},{\"attributes\":{\"line_alpha\":0.2,\"line_color\":\"#e5ae38\",\"line_width\":2,\"x\":{\"field\":\"date\"},\"y\":{\"field\":\"value\"}},\"id\":\"4256\",\"type\":\"Line\"},{\"attributes\":{},\"id\":\"4252\",\"type\":\"Selection\"},{\"attributes\":{\"data\":{\"Variable\":[\"SMA100\",\"SMA100\",\"SMA100\",\"SMA100\",\"SMA100\",\"SMA100\",\"SMA100\",\"SMA100\",\"SMA100\",\"SMA100\",\"SMA100\",\"SMA100\",\"SMA100\",\"SMA100\",\"SMA100\",\"SMA100\",\"SMA100\",\"SMA100\",\"SMA100\",\"SMA100\",\"SMA100\",\"SMA100\",\"SMA100\",\"SMA100\",\"SMA100\",\"SMA100\",\"SMA100\",\"SMA100\",\"SMA100\",\"SMA100\",\"SMA100\",\"SMA100\",\"SMA100\",\"SMA100\",\"SMA100\",\"SMA100\",\"SMA100\",\"SMA100\",\"SMA100\",\"SMA100\",\"SMA100\",\"SMA100\",\"SMA100\",\"SMA100\",\"SMA100\",\"SMA100\",\"SMA100\",\"SMA100\",\"SMA100\",\"SMA100\",\"SMA100\",\"SMA100\",\"SMA100\"],\"date\":[\"2021-01-04\",\"2021-01-05\",\"2021-01-06\",\"2021-01-07\",\"2021-01-08\",\"2021-01-11\",\"2021-01-12\",\"2021-01-13\",\"2021-01-14\",\"2021-01-15\",\"2021-01-19\",\"2021-01-20\",\"2021-01-21\",\"2021-01-22\",\"2021-01-25\",\"2021-01-26\",\"2021-01-27\",\"2021-01-28\",\"2021-01-29\",\"2021-02-01\",\"2021-02-02\",\"2021-02-03\",\"2021-02-04\",\"2021-02-05\",\"2021-02-08\",\"2021-02-09\",\"2021-02-10\",\"2021-02-11\",\"2021-02-12\",\"2021-02-16\",\"2021-02-17\",\"2021-02-18\",\"2021-02-19\",\"2021-02-22\",\"2021-02-23\",\"2021-02-24\",\"2021-02-25\",\"2021-02-26\",\"2021-03-01\",\"2021-03-02\",\"2021-03-03\",\"2021-03-04\",\"2021-03-05\",\"2021-03-08\",\"2021-03-09\",\"2021-03-10\",\"2021-03-11\",\"2021-03-12\",\"2021-03-15\",\"2021-03-16\",\"2021-03-17\",\"2021-03-18\",\"2021-03-19\"],\"value\":{\"__ndarray__\":\"AAAAAAAA+H8AAAAAAAD4fwAAAAAAAPh/AAAAAAAA+H8AAAAAAAD4fwAAAAAAAPh/AAAAAAAA+H8AAAAAAAD4fwAAAAAAAPh/AAAAAAAA+H8AAAAAAAD4fwAAAAAAAPh/AAAAAAAA+H8AAAAAAAD4fwAAAAAAAPh/AAAAAAAA+H8AAAAAAAD4fwAAAAAAAPh/AAAAAAAA+H8AAAAAAAD4fwAAAAAAAPh/AAAAAAAA+H8AAAAAAAD4fwAAAAAAAPh/AAAAAAAA+H8AAAAAAAD4fwAAAAAAAPh/AAAAAAAA+H8AAAAAAAD4fwAAAAAAAPh/AAAAAAAA+H8AAAAAAAD4fwAAAAAAAPh/AAAAAAAA+H8AAAAAAAD4fwAAAAAAAPh/AAAAAAAA+H8AAAAAAAD4fwAAAAAAAPh/AAAAAAAA+H8AAAAAAAD4fwAAAAAAAPh/AAAAAAAA+H8AAAAAAAD4fwAAAAAAAPh/AAAAAAAA+H8AAAAAAAD4fwAAAAAAAPh/AAAAAAAA+H8AAAAAAAD4fwAAAAAAAPh/AAAAAAAA+H8AAAAAAAD4fw==\",\"dtype\":\"float64\",\"order\":\"little\",\"shape\":[53]}},\"selected\":{\"id\":\"4252\"},\"selection_policy\":{\"id\":\"4272\"}},\"id\":\"4251\",\"type\":\"ColumnDataSource\"},{\"attributes\":{\"active_multi\":null,\"tools\":[{\"id\":\"4178\"},{\"id\":\"4179\"},{\"id\":\"4199\"},{\"id\":\"4200\"},{\"id\":\"4201\"},{\"id\":\"4202\"},{\"id\":\"4203\"}]},\"id\":\"4205\",\"type\":\"Toolbar\"},{\"attributes\":{\"source\":{\"id\":\"4251\"}},\"id\":\"4258\",\"type\":\"CDSView\"},{\"attributes\":{\"fill_color\":{\"value\":\"red\"},\"line_color\":{\"value\":\"red\"},\"size\":{\"value\":5.477225575051661},\"x\":{\"field\":\"date\"},\"y\":{\"field\":\"close\"}},\"id\":\"4385\",\"type\":\"Scatter\"},{\"attributes\":{\"end\":915.509,\"reset_end\":915.509,\"reset_start\":530.921,\"start\":530.921,\"tags\":[[[\"close\",\"close\",null]]]},\"id\":\"4177\",\"type\":\"Range1d\"},{\"attributes\":{\"factors\":[\"2021-01-04\",\"2021-01-05\",\"2021-01-06\",\"2021-01-07\",\"2021-01-08\",\"2021-01-11\",\"2021-01-12\",\"2021-01-13\",\"2021-01-14\",\"2021-01-15\",\"2021-01-19\",\"2021-01-20\",\"2021-01-21\",\"2021-01-22\",\"2021-01-25\",\"2021-01-26\",\"2021-01-27\",\"2021-01-28\",\"2021-01-29\",\"2021-02-01\",\"2021-02-02\",\"2021-02-03\",\"2021-02-04\",\"2021-02-05\",\"2021-02-08\",\"2021-02-09\",\"2021-02-10\",\"2021-02-11\",\"2021-02-12\",\"2021-02-16\",\"2021-02-17\",\"2021-02-18\",\"2021-02-19\",\"2021-02-22\",\"2021-02-23\",\"2021-02-24\",\"2021-02-25\",\"2021-02-26\",\"2021-03-01\",\"2021-03-02\",\"2021-03-03\",\"2021-03-04\",\"2021-03-05\",\"2021-03-08\",\"2021-03-09\",\"2021-03-10\",\"2021-03-11\",\"2021-03-12\",\"2021-03-15\",\"2021-03-16\",\"2021-03-17\",\"2021-03-18\",\"2021-03-19\"],\"tags\":[[[\"date\",\"date\",null]]]},\"id\":\"4176\",\"type\":\"FactorRange\"},{\"attributes\":{\"data\":{\"Variable\":[\"SMA50\",\"SMA50\",\"SMA50\",\"SMA50\",\"SMA50\",\"SMA50\",\"SMA50\",\"SMA50\",\"SMA50\",\"SMA50\",\"SMA50\",\"SMA50\",\"SMA50\",\"SMA50\",\"SMA50\",\"SMA50\",\"SMA50\",\"SMA50\",\"SMA50\",\"SMA50\",\"SMA50\",\"SMA50\",\"SMA50\",\"SMA50\",\"SMA50\",\"SMA50\",\"SMA50\",\"SMA50\",\"SMA50\",\"SMA50\",\"SMA50\",\"SMA50\",\"SMA50\",\"SMA50\",\"SMA50\",\"SMA50\",\"SMA50\",\"SMA50\",\"SMA50\",\"SMA50\",\"SMA50\",\"SMA50\",\"SMA50\",\"SMA50\",\"SMA50\",\"SMA50\",\"SMA50\",\"SMA50\",\"SMA50\",\"SMA50\",\"SMA50\",\"SMA50\",\"SMA50\"],\"date\":[\"2021-01-04\",\"2021-01-05\",\"2021-01-06\",\"2021-01-07\",\"2021-01-08\",\"2021-01-11\",\"2021-01-12\",\"2021-01-13\",\"2021-01-14\",\"2021-01-15\",\"2021-01-19\",\"2021-01-20\",\"2021-01-21\",\"2021-01-22\",\"2021-01-25\",\"2021-01-26\",\"2021-01-27\",\"2021-01-28\",\"2021-01-29\",\"2021-02-01\",\"2021-02-02\",\"2021-02-03\",\"2021-02-04\",\"2021-02-05\",\"2021-02-08\",\"2021-02-09\",\"2021-02-10\",\"2021-02-11\",\"2021-02-12\",\"2021-02-16\",\"2021-02-17\",\"2021-02-18\",\"2021-02-19\",\"2021-02-22\",\"2021-02-23\",\"2021-02-24\",\"2021-02-25\",\"2021-02-26\",\"2021-03-01\",\"2021-03-02\",\"2021-03-03\",\"2021-03-04\",\"2021-03-05\",\"2021-03-08\",\"2021-03-09\",\"2021-03-10\",\"2021-03-11\",\"2021-03-12\",\"2021-03-15\",\"2021-03-16\",\"2021-03-17\",\"2021-03-18\",\"2021-03-19\"],\"value\":{\"__ndarray__\":\"AAAAAAAA+H8AAAAAAAD4fwAAAAAAAPh/AAAAAAAA+H8AAAAAAAD4fwAAAAAAAPh/AAAAAAAA+H8AAAAAAAD4fwAAAAAAAPh/AAAAAAAA+H8AAAAAAAD4fwAAAAAAAPh/AAAAAAAA+H8AAAAAAAD4fwAAAAAAAPh/AAAAAAAA+H8AAAAAAAD4fwAAAAAAAPh/AAAAAAAA+H8AAAAAAAD4fwAAAAAAAPh/AAAAAAAA+H8AAAAAAAD4fwAAAAAAAPh/AAAAAAAA+H8AAAAAAAD4fwAAAAAAAPh/AAAAAAAA+H8AAAAAAAD4fwAAAAAAAPh/AAAAAAAA+H8AAAAAAAD4fwAAAAAAAPh/AAAAAAAA+H8AAAAAAAD4fwAAAAAAAPh/AAAAAAAA+H8AAAAAAAD4fwAAAAAAAPh/AAAAAAAA+H8AAAAAAAD4fwAAAAAAAPh/AAAAAAAA+H8AAAAAAAD4fwAAAAAAAPh/AAAAAAAA+H8AAAAAAAD4fwAAAAAAAPh/AAAAAAAA+H9uQbYs3z6IQDQebLFbOohAsRAdAkctiEBTxVT6CR2IQA==\",\"dtype\":\"float64\",\"order\":\"little\",\"shape\":[53]}},\"selected\":{\"id\":\"4229\"},\"selection_policy\":{\"id\":\"4247\"}},\"id\":\"4228\",\"type\":\"ColumnDataSource\"},{\"attributes\":{\"bottom_units\":\"screen\",\"fill_alpha\":0.5,\"fill_color\":\"lightgrey\",\"left_units\":\"screen\",\"level\":\"overlay\",\"line_alpha\":1.0,\"line_color\":\"black\",\"line_dash\":[4,4],\"line_width\":2,\"right_units\":\"screen\",\"syncable\":false,\"top_units\":\"screen\"},\"id\":\"4204\",\"type\":\"BoxAnnotation\"},{\"attributes\":{},\"id\":\"4245\",\"type\":\"UnionRenderers\"},{\"attributes\":{\"fill_color\":{\"value\":\"green\"},\"line_color\":{\"value\":\"green\"},\"size\":{\"value\":5.477225575051661},\"x\":{\"field\":\"date\"},\"y\":{\"field\":\"close\"}},\"id\":\"4376\",\"type\":\"Scatter\"},{\"attributes\":{},\"id\":\"4220\",\"type\":\"Selection\"},{\"attributes\":{},\"id\":\"4247\",\"type\":\"UnionRenderers\"},{\"attributes\":{\"fill_alpha\":{\"value\":0.2},\"fill_color\":{\"value\":\"green\"},\"line_alpha\":{\"value\":0.2},\"line_color\":{\"value\":\"green\"},\"size\":{\"value\":5.477225575051661},\"x\":{\"field\":\"date\"},\"y\":{\"field\":\"close\"}},\"id\":\"4378\",\"type\":\"Scatter\"},{\"attributes\":{\"fill_alpha\":{\"value\":0.1},\"fill_color\":{\"value\":\"green\"},\"line_alpha\":{\"value\":0.1},\"line_color\":{\"value\":\"green\"},\"size\":{\"value\":5.477225575051661},\"x\":{\"field\":\"date\"},\"y\":{\"field\":\"close\"}},\"id\":\"4377\",\"type\":\"Scatter\"},{\"attributes\":{},\"id\":\"4217\",\"type\":\"BasicTickFormatter\"},{\"attributes\":{\"callback\":null,\"renderers\":[{\"id\":\"4225\"},{\"id\":\"4379\"},{\"id\":\"4388\"}],\"tags\":[\"hv_created\"],\"tooltips\":[[\"date\",\"@{date}\"],[\"close\",\"@{close}\"]]},\"id\":\"4178\",\"type\":\"HoverTool\"},{\"attributes\":{\"source\":{\"id\":\"4219\"}},\"id\":\"4226\",\"type\":\"CDSView\"},{\"attributes\":{\"below\":[{\"id\":\"4192\"}],\"center\":[{\"id\":\"4194\"},{\"id\":\"4198\"}],\"height\":400,\"left\":[{\"id\":\"4195\"}],\"margin\":[5,5,5,5],\"min_border_bottom\":10,\"min_border_left\":10,\"min_border_right\":10,\"min_border_top\":10,\"renderers\":[{\"id\":\"4225\"},{\"id\":\"4234\"},{\"id\":\"4257\"},{\"id\":\"4379\"},{\"id\":\"4388\"}],\"right\":[{\"id\":\"4248\"}],\"sizing_mode\":\"fixed\",\"title\":{\"id\":\"4184\"},\"toolbar\":{\"id\":\"4205\"},\"width\":1000,\"x_range\":{\"id\":\"4176\"},\"x_scale\":{\"id\":\"4188\"},\"y_range\":{\"id\":\"4177\"},\"y_scale\":{\"id\":\"4190\"}},\"id\":\"4183\",\"subtype\":\"Figure\",\"type\":\"Plot\"},{\"attributes\":{\"callback\":null,\"renderers\":[{\"id\":\"4234\"},{\"id\":\"4257\"}],\"tags\":[\"hv_created\"],\"tooltips\":[[\"Variable\",\"@{Variable}\"],[\"date\",\"@{date}\"],[\"value\",\"@{value}\"]]},\"id\":\"4179\",\"type\":\"HoverTool\"},{\"attributes\":{\"source\":{\"id\":\"4373\"}},\"id\":\"4380\",\"type\":\"CDSView\"},{\"attributes\":{\"data\":{\"close\":{\"__ndarray__\":\"\",\"dtype\":\"float64\",\"order\":\"little\",\"shape\":[0]},\"date\":[]},\"selected\":{\"id\":\"4374\"},\"selection_policy\":{\"id\":\"4406\"}},\"id\":\"4373\",\"type\":\"ColumnDataSource\"},{\"attributes\":{},\"id\":\"4229\",\"type\":\"Selection\"},{\"attributes\":{\"data_source\":{\"id\":\"4373\"},\"glyph\":{\"id\":\"4376\"},\"hover_glyph\":null,\"muted_glyph\":{\"id\":\"4378\"},\"nonselection_glyph\":{\"id\":\"4377\"},\"selection_glyph\":{\"id\":\"4381\"},\"view\":{\"id\":\"4380\"}},\"id\":\"4379\",\"type\":\"GlyphRenderer\"},{\"attributes\":{\"data\":{\"close\":{\"__ndarray__\":\"\",\"dtype\":\"float64\",\"order\":\"little\",\"shape\":[0]},\"date\":[]},\"selected\":{\"id\":\"4383\"},\"selection_policy\":{\"id\":\"4408\"}},\"id\":\"4382\",\"type\":\"ColumnDataSource\"},{\"attributes\":{\"source\":{\"id\":\"4228\"}},\"id\":\"4235\",\"type\":\"CDSView\"},{\"attributes\":{},\"id\":\"4383\",\"type\":\"Selection\"},{\"attributes\":{},\"id\":\"4374\",\"type\":\"Selection\"},{\"attributes\":{\"line_alpha\":0.2,\"line_color\":\"#fc4f30\",\"line_width\":2,\"x\":{\"field\":\"date\"},\"y\":{\"field\":\"value\"}},\"id\":\"4233\",\"type\":\"Line\"},{\"attributes\":{\"line_color\":\"#e5ae38\",\"line_width\":2,\"x\":{\"field\":\"date\"},\"y\":{\"field\":\"value\"}},\"id\":\"4274\",\"type\":\"Line\"},{\"attributes\":{\"line_color\":\"#fc4f30\",\"line_width\":2,\"x\":{\"field\":\"date\"},\"y\":{\"field\":\"value\"}},\"id\":\"4231\",\"type\":\"Line\"},{\"attributes\":{\"line_alpha\":0.1,\"line_color\":\"#fc4f30\",\"line_width\":2,\"x\":{\"field\":\"date\"},\"y\":{\"field\":\"value\"}},\"id\":\"4232\",\"type\":\"Line\"},{\"attributes\":{\"label\":{\"value\":\"SMA100\"},\"renderers\":[{\"id\":\"4257\"}]},\"id\":\"4273\",\"type\":\"LegendItem\"},{\"attributes\":{\"data_source\":{\"id\":\"4228\"},\"glyph\":{\"id\":\"4231\"},\"hover_glyph\":null,\"muted_glyph\":{\"id\":\"4233\"},\"nonselection_glyph\":{\"id\":\"4232\"},\"selection_glyph\":{\"id\":\"4250\"},\"view\":{\"id\":\"4235\"}},\"id\":\"4234\",\"type\":\"GlyphRenderer\"},{\"attributes\":{},\"id\":\"4272\",\"type\":\"UnionRenderers\"},{\"attributes\":{\"click_policy\":\"mute\",\"items\":[{\"id\":\"4249\"},{\"id\":\"4273\"}],\"location\":[0,0]},\"id\":\"4248\",\"type\":\"Legend\"},{\"attributes\":{\"margin\":[5,5,5,5],\"name\":\"HSpacer09581\",\"sizing_mode\":\"stretch_width\"},\"id\":\"4553\",\"type\":\"Spacer\"},{\"attributes\":{\"text_color\":\"black\",\"text_font_size\":\"12pt\"},\"id\":\"4184\",\"type\":\"Title\"},{\"attributes\":{},\"id\":\"4215\",\"type\":\"CategoricalTickFormatter\"},{\"attributes\":{\"line_color\":\"#fc4f30\",\"line_width\":2,\"x\":{\"field\":\"date\"},\"y\":{\"field\":\"value\"}},\"id\":\"4250\",\"type\":\"Line\"},{\"attributes\":{},\"id\":\"4188\",\"type\":\"CategoricalScale\"},{\"attributes\":{},\"id\":\"4190\",\"type\":\"LinearScale\"},{\"attributes\":{},\"id\":\"4213\",\"type\":\"AllLabels\"},{\"attributes\":{\"label\":{\"value\":\"SMA50\"},\"renderers\":[{\"id\":\"4234\"}]},\"id\":\"4249\",\"type\":\"LegendItem\"},{\"attributes\":{\"axis_label\":\"date\",\"formatter\":{\"id\":\"4215\"},\"major_label_policy\":{\"id\":\"4213\"},\"ticker\":{\"id\":\"4193\"},\"visible\":false},\"id\":\"4192\",\"type\":\"CategoricalAxis\"},{\"attributes\":{},\"id\":\"4408\",\"type\":\"UnionRenderers\"},{\"attributes\":{},\"id\":\"4193\",\"type\":\"CategoricalTicker\"},{\"attributes\":{\"line_alpha\":0.2,\"line_color\":\"lightgray\",\"line_width\":2,\"x\":{\"field\":\"date\"},\"y\":{\"field\":\"close\"}},\"id\":\"4224\",\"type\":\"Line\"},{\"attributes\":{},\"id\":\"4406\",\"type\":\"UnionRenderers\"},{\"attributes\":{\"angle\":{\"value\":0.0},\"fill_alpha\":{\"value\":1.0},\"fill_color\":{\"value\":\"red\"},\"hatch_alpha\":{\"value\":1.0},\"hatch_color\":{\"value\":\"black\"},\"hatch_scale\":{\"value\":12.0},\"hatch_weight\":{\"value\":1.0},\"line_alpha\":{\"value\":1.0},\"line_cap\":{\"value\":\"butt\"},\"line_color\":{\"value\":\"red\"},\"line_dash\":{\"value\":[]},\"line_dash_offset\":{\"value\":0},\"line_join\":{\"value\":\"bevel\"},\"line_width\":{\"value\":1},\"marker\":{\"value\":\"circle\"},\"size\":{\"value\":5.477225575051661},\"x\":{\"field\":\"date\"},\"y\":{\"field\":\"close\"}},\"id\":\"4390\",\"type\":\"Scatter\"},{\"attributes\":{\"axis\":{\"id\":\"4192\"},\"grid_line_color\":null,\"ticker\":null},\"id\":\"4194\",\"type\":\"Grid\"},{\"attributes\":{\"line_color\":\"lightgray\",\"line_width\":2,\"x\":{\"field\":\"date\"},\"y\":{\"field\":\"close\"}},\"id\":\"4227\",\"type\":\"Line\"},{\"attributes\":{\"axis_label\":\"Price in $\",\"formatter\":{\"id\":\"4217\"},\"major_label_policy\":{\"id\":\"4216\"},\"ticker\":{\"id\":\"4196\"}},\"id\":\"4195\",\"type\":\"LinearAxis\"},{\"attributes\":{\"data_source\":{\"id\":\"4382\"},\"glyph\":{\"id\":\"4385\"},\"hover_glyph\":null,\"muted_glyph\":{\"id\":\"4387\"},\"nonselection_glyph\":{\"id\":\"4386\"},\"selection_glyph\":{\"id\":\"4390\"},\"view\":{\"id\":\"4389\"}},\"id\":\"4388\",\"type\":\"GlyphRenderer\"},{\"attributes\":{},\"id\":\"4196\",\"type\":\"BasicTicker\"},{\"attributes\":{\"source\":{\"id\":\"4382\"}},\"id\":\"4389\",\"type\":\"CDSView\"},{\"attributes\":{\"data\":{\"close\":{\"__ndarray__\":\"AAAAAADOhkA9CtejcPiGQEjhehSuo4dAUrgeheuBiUAK16NwPYCLQD0K16NwWYlA9ihcj8KJikCPwvUoXLOKQEjhehSuYYpA4XoUrkfRiUAAAAAAAGSKQDMzMzMzlYpA9ihcj8JnikAAAAAAAHSKQBSuR+F6hotASOF6FK6bi0AzMzMzMwWLQKRwPQrXG4pAc2iR7XzKiEDpSC7/IUCKQLgehetRRotAmpmZmZm1ikBSuB6F64+KQHsUrkfhpIpAZmZmZmb6ikAAAAAAAIqKQAAAAAAAKIlAMzMzMzNdiUC4HoXrUYCJQFK4HoXr34hAAAAAAADyiEBmZmZmZpqIQAAAAAAAbIhASOF6FK5VhkAzMzMzM9WFQFyPwvUoMIdAzczMzMxUhUCuR+F6FPiEQD0K16Nwc4ZAZmZmZmZwhUD2KFyPwmGEQFK4HoXra4NAhxbZzvergkD2KFyPwpeBQHE9CtejDIVAXI/C9SjihEDNzMzMzNyFQB+F61G4roVA7FG4HoUfhkDXo3A9CiWFQLgehetR7IVAZmZmZmZqhED2KFyPwneEQA==\",\"dtype\":\"float64\",\"order\":\"little\",\"shape\":[53]},\"date\":[\"2021-01-04\",\"2021-01-05\",\"2021-01-06\",\"2021-01-07\",\"2021-01-08\",\"2021-01-11\",\"2021-01-12\",\"2021-01-13\",\"2021-01-14\",\"2021-01-15\",\"2021-01-19\",\"2021-01-20\",\"2021-01-21\",\"2021-01-22\",\"2021-01-25\",\"2021-01-26\",\"2021-01-27\",\"2021-01-28\",\"2021-01-29\",\"2021-02-01\",\"2021-02-02\",\"2021-02-03\",\"2021-02-04\",\"2021-02-05\",\"2021-02-08\",\"2021-02-09\",\"2021-02-10\",\"2021-02-11\",\"2021-02-12\",\"2021-02-16\",\"2021-02-17\",\"2021-02-18\",\"2021-02-19\",\"2021-02-22\",\"2021-02-23\",\"2021-02-24\",\"2021-02-25\",\"2021-02-26\",\"2021-03-01\",\"2021-03-02\",\"2021-03-03\",\"2021-03-04\",\"2021-03-05\",\"2021-03-08\",\"2021-03-09\",\"2021-03-10\",\"2021-03-11\",\"2021-03-12\",\"2021-03-15\",\"2021-03-16\",\"2021-03-17\",\"2021-03-18\",\"2021-03-19\"]},\"selected\":{\"id\":\"4220\"},\"selection_policy\":{\"id\":\"4245\"}},\"id\":\"4219\",\"type\":\"ColumnDataSource\"},{\"attributes\":{\"data_source\":{\"id\":\"4219\"},\"glyph\":{\"id\":\"4222\"},\"hover_glyph\":null,\"muted_glyph\":{\"id\":\"4224\"},\"nonselection_glyph\":{\"id\":\"4223\"},\"selection_glyph\":{\"id\":\"4227\"},\"view\":{\"id\":\"4226\"}},\"id\":\"4225\",\"type\":\"GlyphRenderer\"},{\"attributes\":{\"fill_alpha\":{\"value\":0.2},\"fill_color\":{\"value\":\"red\"},\"line_alpha\":{\"value\":0.2},\"line_color\":{\"value\":\"red\"},\"size\":{\"value\":5.477225575051661},\"x\":{\"field\":\"date\"},\"y\":{\"field\":\"close\"}},\"id\":\"4387\",\"type\":\"Scatter\"},{\"attributes\":{\"axis\":{\"id\":\"4195\"},\"dimension\":1,\"grid_line_color\":null,\"ticker\":null},\"id\":\"4198\",\"type\":\"Grid\"},{\"attributes\":{\"fill_alpha\":{\"value\":0.1},\"fill_color\":{\"value\":\"red\"},\"line_alpha\":{\"value\":0.1},\"line_color\":{\"value\":\"red\"},\"size\":{\"value\":5.477225575051661},\"x\":{\"field\":\"date\"},\"y\":{\"field\":\"close\"}},\"id\":\"4386\",\"type\":\"Scatter\"},{\"attributes\":{},\"id\":\"4203\",\"type\":\"ResetTool\"},{\"attributes\":{\"line_alpha\":0.1,\"line_color\":\"lightgray\",\"line_width\":2,\"x\":{\"field\":\"date\"},\"y\":{\"field\":\"close\"}},\"id\":\"4223\",\"type\":\"Line\"},{\"attributes\":{\"children\":[{\"id\":\"4175\"},{\"id\":\"4183\"},{\"id\":\"4553\"}],\"margin\":[0,0,0,0],\"name\":\"Row09576\",\"tags\":[\"embedded\"]},\"id\":\"4174\",\"type\":\"Row\"},{\"attributes\":{},\"id\":\"4216\",\"type\":\"AllLabels\"},{\"attributes\":{\"line_color\":\"lightgray\",\"line_width\":2,\"x\":{\"field\":\"date\"},\"y\":{\"field\":\"close\"}},\"id\":\"4222\",\"type\":\"Line\"},{\"attributes\":{\"angle\":{\"value\":0.0},\"fill_alpha\":{\"value\":1.0},\"fill_color\":{\"value\":\"green\"},\"hatch_alpha\":{\"value\":1.0},\"hatch_color\":{\"value\":\"black\"},\"hatch_scale\":{\"value\":12.0},\"hatch_weight\":{\"value\":1.0},\"line_alpha\":{\"value\":1.0},\"line_cap\":{\"value\":\"butt\"},\"line_color\":{\"value\":\"green\"},\"line_dash\":{\"value\":[]},\"line_dash_offset\":{\"value\":0},\"line_join\":{\"value\":\"bevel\"},\"line_width\":{\"value\":1},\"marker\":{\"value\":\"circle\"},\"size\":{\"value\":5.477225575051661},\"x\":{\"field\":\"date\"},\"y\":{\"field\":\"close\"}},\"id\":\"4381\",\"type\":\"Scatter\"},{\"attributes\":{\"margin\":[5,5,5,5],\"name\":\"HSpacer09580\",\"sizing_mode\":\"stretch_width\"},\"id\":\"4175\",\"type\":\"Spacer\"}],\"root_ids\":[\"4174\"]},\"title\":\"Bokeh Application\",\"version\":\"2.3.0\"}};\n    var render_items = [{\"docid\":\"3cbd733f-58d7-4e4d-8232-ff85e9986bc8\",\"root_ids\":[\"4174\"],\"roots\":{\"4174\":\"903de059-e05f-4034-818f-c97373192ef0\"}}];\n    root.Bokeh.embed.embed_items_notebook(docs_json, render_items);\n  }\n  if (root.Bokeh !== undefined && root.Bokeh.Panel !== undefined) {\n    embed_document(root);\n  } else {\n    var attempts = 0;\n    var timer = setInterval(function(root) {\n      if (root.Bokeh !== undefined && root.Bokeh.Panel !== undefined) {\n        clearInterval(timer);\n        embed_document(root);\n      } else if (document.readyState == \"complete\") {\n        attempts++;\n        if (attempts > 100) {\n          clearInterval(timer);\n          console.log(\"Bokeh: ERROR: Unable to run BokehJS code because BokehJS library is missing\");\n        }\n      }\n    }, 10, root)\n  }\n})(window);</script>",
      "application/vnd.holoviews_exec.v0+json": "",
      "text/plain": [
       ":Overlay\n",
       "   .Curve.I          :Curve   [date]   (close)\n",
       "   .NdOverlay.I      :NdOverlay   [Variable]\n",
       "      :Curve   [date]   (value)\n",
       "   .Scatter.Close.I  :Scatter   [date]   (close)\n",
       "   .Scatter.Close.II :Scatter   [date]   (close)"
      ]
     },
     "metadata": {
      "application/vnd.holoviews_exec.v0+json": {
       "id": "4174"
      }
     },
     "execution_count": 35
    }
   ],
   "source": [
    "# Visualize exit position relative to close price\n",
    "exit = signals_df[signals_df['Entry/Exit'] == -1.0]['close'].hvplot.scatter(\n",
    "    color='red',\n",
    "    legend=False,\n",
    "    ylabel='Price in $',\n",
    "    width=1000,\n",
    "    height=400\n",
    ")\n",
    "\n",
    "# Visualize entry position relative to close price\n",
    "entry = signals_df[signals_df['Entry/Exit'] == 1.0]['close'].hvplot.scatter(\n",
    "    color='green',\n",
    "    legend=False,\n",
    "    ylabel='Price in $',\n",
    "    width=1000,\n",
    "    height=400\n",
    ")\n",
    "\n",
    "# Visualize close price for the investment\n",
    "security_close = signals_df[['close']].hvplot(\n",
    "    line_color='lightgray',\n",
    "    ylabel='Price in $',\n",
    "    width=1000,\n",
    "    height=400\n",
    ")\n",
    "\n",
    "# Visualize moving averages\n",
    "moving_avgs = signals_df[['SMA50', 'SMA100']].hvplot(\n",
    "    ylabel='Price in $',\n",
    "    width=1000,\n",
    "    height=400\n",
    ")\n",
    "\n",
    "# Overlay plots\n",
    "entry_exit_plot = security_close * moving_avgs * entry * exit\n",
    "entry_exit_plot.opts(xaxis=None)"
   ]
  },
  {
   "cell_type": "markdown",
   "metadata": {},
   "source": [
    "### Backtest the Trading Strategy"
   ]
  },
  {
   "cell_type": "code",
   "execution_count": 36,
   "metadata": {},
   "outputs": [
    {
     "output_type": "execute_result",
     "data": {
      "text/plain": [
       "             close       SMA50  SMA100  Signal  Entry/Exit  Position  Entry/Exit Position  Portfolio Holdings  Portfolio Cash  Portfolio Total  Portfolio Daily Returns  Portfolio Cumulative Returns\n",
       "date                                                                                                                                                                                                 \n",
       "2021-03-08  562.97         NaN     NaN     0.0         0.0       0.0                  0.0                 0.0        100000.0         100000.0                      0.0                           0.0\n",
       "2021-03-09  673.58         NaN     NaN     0.0         0.0       0.0                  0.0                 0.0        100000.0         100000.0                      0.0                           0.0\n",
       "2021-03-10  668.27         NaN     NaN     0.0         0.0       0.0                  0.0                 0.0        100000.0         100000.0                      0.0                           0.0\n",
       "2021-03-11  699.60         NaN     NaN     0.0         0.0       0.0                  0.0                 0.0        100000.0         100000.0                      0.0                           0.0\n",
       "2021-03-12  693.84         NaN     NaN     0.0         0.0       0.0                  0.0                 0.0        100000.0         100000.0                      0.0                           0.0\n",
       "2021-03-15  707.94         NaN     NaN     0.0         0.0       0.0                  0.0                 0.0        100000.0         100000.0                      0.0                           0.0\n",
       "2021-03-16  676.63  775.858972     NaN     0.0         0.0       0.0                  0.0                 0.0        100000.0         100000.0                      0.0                           0.0\n",
       "2021-03-17  701.54  775.294772     NaN     0.0         0.0       0.0                  0.0                 0.0        100000.0         100000.0                      0.0                           0.0\n",
       "2021-03-18  653.30  773.659672     NaN     0.0         0.0       0.0                  0.0                 0.0        100000.0         100000.0                      0.0                           0.0\n",
       "2021-03-19  654.97  771.629872     NaN     0.0         0.0       0.0                  0.0                 0.0        100000.0         100000.0                      0.0                           0.0"
      ],
      "text/html": "<div>\n<style scoped>\n    .dataframe tbody tr th:only-of-type {\n        vertical-align: middle;\n    }\n\n    .dataframe tbody tr th {\n        vertical-align: top;\n    }\n\n    .dataframe thead th {\n        text-align: right;\n    }\n</style>\n<table border=\"1\" class=\"dataframe\">\n  <thead>\n    <tr style=\"text-align: right;\">\n      <th></th>\n      <th>close</th>\n      <th>SMA50</th>\n      <th>SMA100</th>\n      <th>Signal</th>\n      <th>Entry/Exit</th>\n      <th>Position</th>\n      <th>Entry/Exit Position</th>\n      <th>Portfolio Holdings</th>\n      <th>Portfolio Cash</th>\n      <th>Portfolio Total</th>\n      <th>Portfolio Daily Returns</th>\n      <th>Portfolio Cumulative Returns</th>\n    </tr>\n    <tr>\n      <th>date</th>\n      <th></th>\n      <th></th>\n      <th></th>\n      <th></th>\n      <th></th>\n      <th></th>\n      <th></th>\n      <th></th>\n      <th></th>\n      <th></th>\n      <th></th>\n      <th></th>\n    </tr>\n  </thead>\n  <tbody>\n    <tr>\n      <th>2021-03-08</th>\n      <td>562.97</td>\n      <td>NaN</td>\n      <td>NaN</td>\n      <td>0.0</td>\n      <td>0.0</td>\n      <td>0.0</td>\n      <td>0.0</td>\n      <td>0.0</td>\n      <td>100000.0</td>\n      <td>100000.0</td>\n      <td>0.0</td>\n      <td>0.0</td>\n    </tr>\n    <tr>\n      <th>2021-03-09</th>\n      <td>673.58</td>\n      <td>NaN</td>\n      <td>NaN</td>\n      <td>0.0</td>\n      <td>0.0</td>\n      <td>0.0</td>\n      <td>0.0</td>\n      <td>0.0</td>\n      <td>100000.0</td>\n      <td>100000.0</td>\n      <td>0.0</td>\n      <td>0.0</td>\n    </tr>\n    <tr>\n      <th>2021-03-10</th>\n      <td>668.27</td>\n      <td>NaN</td>\n      <td>NaN</td>\n      <td>0.0</td>\n      <td>0.0</td>\n      <td>0.0</td>\n      <td>0.0</td>\n      <td>0.0</td>\n      <td>100000.0</td>\n      <td>100000.0</td>\n      <td>0.0</td>\n      <td>0.0</td>\n    </tr>\n    <tr>\n      <th>2021-03-11</th>\n      <td>699.60</td>\n      <td>NaN</td>\n      <td>NaN</td>\n      <td>0.0</td>\n      <td>0.0</td>\n      <td>0.0</td>\n      <td>0.0</td>\n      <td>0.0</td>\n      <td>100000.0</td>\n      <td>100000.0</td>\n      <td>0.0</td>\n      <td>0.0</td>\n    </tr>\n    <tr>\n      <th>2021-03-12</th>\n      <td>693.84</td>\n      <td>NaN</td>\n      <td>NaN</td>\n      <td>0.0</td>\n      <td>0.0</td>\n      <td>0.0</td>\n      <td>0.0</td>\n      <td>0.0</td>\n      <td>100000.0</td>\n      <td>100000.0</td>\n      <td>0.0</td>\n      <td>0.0</td>\n    </tr>\n    <tr>\n      <th>2021-03-15</th>\n      <td>707.94</td>\n      <td>NaN</td>\n      <td>NaN</td>\n      <td>0.0</td>\n      <td>0.0</td>\n      <td>0.0</td>\n      <td>0.0</td>\n      <td>0.0</td>\n      <td>100000.0</td>\n      <td>100000.0</td>\n      <td>0.0</td>\n      <td>0.0</td>\n    </tr>\n    <tr>\n      <th>2021-03-16</th>\n      <td>676.63</td>\n      <td>775.858972</td>\n      <td>NaN</td>\n      <td>0.0</td>\n      <td>0.0</td>\n      <td>0.0</td>\n      <td>0.0</td>\n      <td>0.0</td>\n      <td>100000.0</td>\n      <td>100000.0</td>\n      <td>0.0</td>\n      <td>0.0</td>\n    </tr>\n    <tr>\n      <th>2021-03-17</th>\n      <td>701.54</td>\n      <td>775.294772</td>\n      <td>NaN</td>\n      <td>0.0</td>\n      <td>0.0</td>\n      <td>0.0</td>\n      <td>0.0</td>\n      <td>0.0</td>\n      <td>100000.0</td>\n      <td>100000.0</td>\n      <td>0.0</td>\n      <td>0.0</td>\n    </tr>\n    <tr>\n      <th>2021-03-18</th>\n      <td>653.30</td>\n      <td>773.659672</td>\n      <td>NaN</td>\n      <td>0.0</td>\n      <td>0.0</td>\n      <td>0.0</td>\n      <td>0.0</td>\n      <td>0.0</td>\n      <td>100000.0</td>\n      <td>100000.0</td>\n      <td>0.0</td>\n      <td>0.0</td>\n    </tr>\n    <tr>\n      <th>2021-03-19</th>\n      <td>654.97</td>\n      <td>771.629872</td>\n      <td>NaN</td>\n      <td>0.0</td>\n      <td>0.0</td>\n      <td>0.0</td>\n      <td>0.0</td>\n      <td>0.0</td>\n      <td>100000.0</td>\n      <td>100000.0</td>\n      <td>0.0</td>\n      <td>0.0</td>\n    </tr>\n  </tbody>\n</table>\n</div>"
     },
     "metadata": {},
     "execution_count": 36
    }
   ],
   "source": [
    "# Set initial capital\n",
    "initial_capital = float(100000)\n",
    "\n",
    "# Set the share size\n",
    "share_size = 500\n",
    "\n",
    "# Take a 500 share position where the dual moving average crossover is 1 (SMA50 is greater than SMA100)\n",
    "signals_df['Position'] = share_size * signals_df['Signal']\n",
    "\n",
    "# Find the points in time where a 500 share position is bought or sold\n",
    "signals_df['Entry/Exit Position'] = signals_df['Position'].diff()\n",
    "\n",
    "# Multiply share price by entry/exit positions and get the cumulatively sum\n",
    "signals_df['Portfolio Holdings'] = signals_df['close'] * signals_df['Entry/Exit Position'].cumsum()\n",
    "\n",
    "# Subtract the initial capital by the portfolio holdings to get the amount of liquid cash in the portfolio\n",
    "signals_df['Portfolio Cash'] = initial_capital - (signals_df['close'] * signals_df['Entry/Exit Position']).cumsum()\n",
    "\n",
    "# Get the total portfolio value by adding the cash amount by the portfolio holdings (or investments)\n",
    "signals_df['Portfolio Total'] = signals_df['Portfolio Cash'] + signals_df['Portfolio Holdings']\n",
    "\n",
    "# Calculate the portfolio daily returns\n",
    "signals_df['Portfolio Daily Returns'] = signals_df['Portfolio Total'].pct_change()\n",
    "\n",
    "# Calculate the cumulative returns\n",
    "signals_df['Portfolio Cumulative Returns'] = (1 + signals_df['Portfolio Daily Returns']).cumprod() - 1\n",
    "\n",
    "# Print the DataFrame\n",
    "signals_df.tail(10)"
   ]
  },
  {
   "cell_type": "markdown",
   "metadata": {},
   "source": [
    "### Plot Entry/Exit Points of Trading Strategy vs. Backtest Results"
   ]
  },
  {
   "cell_type": "code",
   "execution_count": 37,
   "metadata": {},
   "outputs": [
    {
     "output_type": "display_data",
     "data": {},
     "metadata": {}
    },
    {
     "output_type": "execute_result",
     "data": {
      "text/html": "<div id='4645'>\n\n\n\n\n\n  <div class=\"bk-root\" id=\"cc57be9b-d9e6-4a0f-a2ea-5cb94d079bd4\" data-root-id=\"4645\"></div>\n</div>\n<script type=\"application/javascript\">(function(root) {\n  function embed_document(root) {\n    var docs_json = {\"add4cbdf-8276-4359-aa3f-ee1840fe384c\":{\"defs\":[{\"extends\":null,\"module\":null,\"name\":\"DataModel\",\"overrides\":[],\"properties\":[]}],\"roots\":{\"references\":[{\"attributes\":{},\"id\":\"4725\",\"type\":\"UnionRenderers\"},{\"attributes\":{\"data_source\":{\"id\":\"4705\"},\"glyph\":{\"id\":\"4708\"},\"hover_glyph\":null,\"muted_glyph\":{\"id\":\"4710\"},\"nonselection_glyph\":{\"id\":\"4709\"},\"selection_glyph\":{\"id\":\"4713\"},\"view\":{\"id\":\"4712\"}},\"id\":\"4711\",\"type\":\"GlyphRenderer\"},{\"attributes\":{\"line_color\":\"lightgray\",\"line_width\":2,\"x\":{\"field\":\"date\"},\"y\":{\"field\":\"Portfolio Total\"}},\"id\":\"4695\",\"type\":\"Line\"},{\"attributes\":{},\"id\":\"4669\",\"type\":\"PanTool\"},{\"attributes\":{\"end\":100001.2,\"reset_end\":100001.2,\"reset_start\":99998.8,\"start\":99998.8,\"tags\":[[[\"Portfolio Total\",\"Portfolio Total\",null]]]},\"id\":\"4648\",\"type\":\"Range1d\"},{\"attributes\":{\"source\":{\"id\":\"4705\"}},\"id\":\"4712\",\"type\":\"CDSView\"},{\"attributes\":{},\"id\":\"4670\",\"type\":\"WheelZoomTool\"},{\"attributes\":{\"data\":{\"Portfolio Total\":{\"__ndarray__\":\"\",\"dtype\":\"float64\",\"order\":\"little\",\"shape\":[0]},\"Portfolio_Total\":{\"__ndarray__\":\"\",\"dtype\":\"float64\",\"order\":\"little\",\"shape\":[0]},\"date\":[]},\"selected\":{\"id\":\"4697\"},\"selection_policy\":{\"id\":\"4725\"}},\"id\":\"4696\",\"type\":\"ColumnDataSource\"},{\"attributes\":{\"overlay\":{\"id\":\"4673\"}},\"id\":\"4671\",\"type\":\"BoxZoomTool\"},{\"attributes\":{\"angle\":{\"value\":0.0},\"fill_alpha\":{\"value\":1.0},\"fill_color\":{\"value\":\"red\"},\"hatch_alpha\":{\"value\":1.0},\"hatch_color\":{\"value\":\"black\"},\"hatch_scale\":{\"value\":12.0},\"hatch_weight\":{\"value\":1.0},\"line_alpha\":{\"value\":1.0},\"line_cap\":{\"value\":\"butt\"},\"line_color\":{\"value\":\"red\"},\"line_dash\":{\"value\":[]},\"line_dash_offset\":{\"value\":0},\"line_join\":{\"value\":\"bevel\"},\"line_width\":{\"value\":1},\"marker\":{\"value\":\"circle\"},\"size\":{\"value\":5.477225575051661},\"x\":{\"field\":\"date\"},\"y\":{\"field\":\"Portfolio Total\"}},\"id\":\"4713\",\"type\":\"Scatter\"},{\"attributes\":{\"below\":[{\"id\":\"4661\"}],\"center\":[{\"id\":\"4663\"},{\"id\":\"4667\"}],\"height\":400,\"left\":[{\"id\":\"4664\"}],\"margin\":[5,5,5,5],\"min_border_bottom\":10,\"min_border_left\":10,\"min_border_right\":10,\"min_border_top\":10,\"renderers\":[{\"id\":\"4693\"},{\"id\":\"4702\"},{\"id\":\"4711\"}],\"sizing_mode\":\"fixed\",\"title\":{\"id\":\"4653\"},\"toolbar\":{\"id\":\"4674\"},\"width\":1000,\"x_range\":{\"id\":\"4647\"},\"x_scale\":{\"id\":\"4657\"},\"y_range\":{\"id\":\"4648\"},\"y_scale\":{\"id\":\"4659\"}},\"id\":\"4652\",\"subtype\":\"Figure\",\"type\":\"Plot\"},{\"attributes\":{},\"id\":\"4684\",\"type\":\"AllLabels\"},{\"attributes\":{},\"id\":\"4697\",\"type\":\"Selection\"},{\"attributes\":{},\"id\":\"4688\",\"type\":\"Selection\"},{\"attributes\":{\"text_color\":\"black\",\"text_font_size\":\"12pt\"},\"id\":\"4653\",\"type\":\"Title\"},{\"attributes\":{\"fill_color\":{\"value\":\"green\"},\"line_color\":{\"value\":\"green\"},\"size\":{\"value\":5.477225575051661},\"x\":{\"field\":\"date\"},\"y\":{\"field\":\"Portfolio Total\"}},\"id\":\"4699\",\"type\":\"Scatter\"},{\"attributes\":{\"fill_alpha\":{\"value\":0.1},\"fill_color\":{\"value\":\"green\"},\"line_alpha\":{\"value\":0.1},\"line_color\":{\"value\":\"green\"},\"size\":{\"value\":5.477225575051661},\"x\":{\"field\":\"date\"},\"y\":{\"field\":\"Portfolio Total\"}},\"id\":\"4700\",\"type\":\"Scatter\"},{\"attributes\":{\"data_source\":{\"id\":\"4696\"},\"glyph\":{\"id\":\"4699\"},\"hover_glyph\":null,\"muted_glyph\":{\"id\":\"4701\"},\"nonselection_glyph\":{\"id\":\"4700\"},\"selection_glyph\":{\"id\":\"4704\"},\"view\":{\"id\":\"4703\"}},\"id\":\"4702\",\"type\":\"GlyphRenderer\"},{\"attributes\":{},\"id\":\"4657\",\"type\":\"CategoricalScale\"},{\"attributes\":{\"bottom_units\":\"screen\",\"fill_alpha\":0.5,\"fill_color\":\"lightgrey\",\"left_units\":\"screen\",\"level\":\"overlay\",\"line_alpha\":1.0,\"line_color\":\"black\",\"line_dash\":[4,4],\"line_width\":2,\"right_units\":\"screen\",\"syncable\":false,\"top_units\":\"screen\"},\"id\":\"4673\",\"type\":\"BoxAnnotation\"},{\"attributes\":{},\"id\":\"4659\",\"type\":\"LinearScale\"},{\"attributes\":{\"fill_alpha\":{\"value\":0.2},\"fill_color\":{\"value\":\"green\"},\"line_alpha\":{\"value\":0.2},\"line_color\":{\"value\":\"green\"},\"size\":{\"value\":5.477225575051661},\"x\":{\"field\":\"date\"},\"y\":{\"field\":\"Portfolio Total\"}},\"id\":\"4701\",\"type\":\"Scatter\"},{\"attributes\":{\"source\":{\"id\":\"4696\"}},\"id\":\"4703\",\"type\":\"CDSView\"},{\"attributes\":{\"axis_label\":\"date\",\"formatter\":{\"id\":\"4683\"},\"major_label_policy\":{\"id\":\"4681\"},\"ticker\":{\"id\":\"4662\"},\"visible\":false},\"id\":\"4661\",\"type\":\"CategoricalAxis\"},{\"attributes\":{},\"id\":\"4723\",\"type\":\"UnionRenderers\"},{\"attributes\":{},\"id\":\"4662\",\"type\":\"CategoricalTicker\"},{\"attributes\":{\"angle\":{\"value\":0.0},\"fill_alpha\":{\"value\":1.0},\"fill_color\":{\"value\":\"green\"},\"hatch_alpha\":{\"value\":1.0},\"hatch_color\":{\"value\":\"black\"},\"hatch_scale\":{\"value\":12.0},\"hatch_weight\":{\"value\":1.0},\"line_alpha\":{\"value\":1.0},\"line_cap\":{\"value\":\"butt\"},\"line_color\":{\"value\":\"green\"},\"line_dash\":{\"value\":[]},\"line_dash_offset\":{\"value\":0},\"line_join\":{\"value\":\"bevel\"},\"line_width\":{\"value\":1},\"marker\":{\"value\":\"circle\"},\"size\":{\"value\":5.477225575051661},\"x\":{\"field\":\"date\"},\"y\":{\"field\":\"Portfolio Total\"}},\"id\":\"4704\",\"type\":\"Scatter\"},{\"attributes\":{},\"id\":\"4727\",\"type\":\"UnionRenderers\"},{\"attributes\":{\"axis\":{\"id\":\"4661\"},\"grid_line_color\":null,\"ticker\":null},\"id\":\"4663\",\"type\":\"Grid\"},{\"attributes\":{\"active_multi\":null,\"tools\":[{\"id\":\"4649\"},{\"id\":\"4668\"},{\"id\":\"4669\"},{\"id\":\"4670\"},{\"id\":\"4671\"},{\"id\":\"4672\"}]},\"id\":\"4674\",\"type\":\"Toolbar\"},{\"attributes\":{\"margin\":[5,5,5,5],\"name\":\"HSpacer10846\",\"sizing_mode\":\"stretch_width\"},\"id\":\"4840\",\"type\":\"Spacer\"},{\"attributes\":{},\"id\":\"4685\",\"type\":\"BasicTickFormatter\"},{\"attributes\":{\"data\":{\"Portfolio Total\":{\"__ndarray__\":\"AAAAAAAA+H8AAAAAAGr4QAAAAAAAavhAAAAAAABq+EAAAAAAAGr4QAAAAAAAavhAAAAAAABq+EAAAAAAAGr4QAAAAAAAavhAAAAAAABq+EAAAAAAAGr4QAAAAAAAavhAAAAAAABq+EAAAAAAAGr4QAAAAAAAavhAAAAAAABq+EAAAAAAAGr4QAAAAAAAavhAAAAAAABq+EAAAAAAAGr4QAAAAAAAavhAAAAAAABq+EAAAAAAAGr4QAAAAAAAavhAAAAAAABq+EAAAAAAAGr4QAAAAAAAavhAAAAAAABq+EAAAAAAAGr4QAAAAAAAavhAAAAAAABq+EAAAAAAAGr4QAAAAAAAavhAAAAAAABq+EAAAAAAAGr4QAAAAAAAavhAAAAAAABq+EAAAAAAAGr4QAAAAAAAavhAAAAAAABq+EAAAAAAAGr4QAAAAAAAavhAAAAAAABq+EAAAAAAAGr4QAAAAAAAavhAAAAAAABq+EAAAAAAAGr4QAAAAAAAavhAAAAAAABq+EAAAAAAAGr4QAAAAAAAavhAAAAAAABq+EAAAAAAAGr4QA==\",\"dtype\":\"float64\",\"order\":\"little\",\"shape\":[53]},\"Portfolio_Total\":{\"__ndarray__\":\"AAAAAAAA+H8AAAAAAGr4QAAAAAAAavhAAAAAAABq+EAAAAAAAGr4QAAAAAAAavhAAAAAAABq+EAAAAAAAGr4QAAAAAAAavhAAAAAAABq+EAAAAAAAGr4QAAAAAAAavhAAAAAAABq+EAAAAAAAGr4QAAAAAAAavhAAAAAAABq+EAAAAAAAGr4QAAAAAAAavhAAAAAAABq+EAAAAAAAGr4QAAAAAAAavhAAAAAAABq+EAAAAAAAGr4QAAAAAAAavhAAAAAAABq+EAAAAAAAGr4QAAAAAAAavhAAAAAAABq+EAAAAAAAGr4QAAAAAAAavhAAAAAAABq+EAAAAAAAGr4QAAAAAAAavhAAAAAAABq+EAAAAAAAGr4QAAAAAAAavhAAAAAAABq+EAAAAAAAGr4QAAAAAAAavhAAAAAAABq+EAAAAAAAGr4QAAAAAAAavhAAAAAAABq+EAAAAAAAGr4QAAAAAAAavhAAAAAAABq+EAAAAAAAGr4QAAAAAAAavhAAAAAAABq+EAAAAAAAGr4QAAAAAAAavhAAAAAAABq+EAAAAAAAGr4QA==\",\"dtype\":\"float64\",\"order\":\"little\",\"shape\":[53]},\"date\":[\"2021-01-04\",\"2021-01-05\",\"2021-01-06\",\"2021-01-07\",\"2021-01-08\",\"2021-01-11\",\"2021-01-12\",\"2021-01-13\",\"2021-01-14\",\"2021-01-15\",\"2021-01-19\",\"2021-01-20\",\"2021-01-21\",\"2021-01-22\",\"2021-01-25\",\"2021-01-26\",\"2021-01-27\",\"2021-01-28\",\"2021-01-29\",\"2021-02-01\",\"2021-02-02\",\"2021-02-03\",\"2021-02-04\",\"2021-02-05\",\"2021-02-08\",\"2021-02-09\",\"2021-02-10\",\"2021-02-11\",\"2021-02-12\",\"2021-02-16\",\"2021-02-17\",\"2021-02-18\",\"2021-02-19\",\"2021-02-22\",\"2021-02-23\",\"2021-02-24\",\"2021-02-25\",\"2021-02-26\",\"2021-03-01\",\"2021-03-02\",\"2021-03-03\",\"2021-03-04\",\"2021-03-05\",\"2021-03-08\",\"2021-03-09\",\"2021-03-10\",\"2021-03-11\",\"2021-03-12\",\"2021-03-15\",\"2021-03-16\",\"2021-03-17\",\"2021-03-18\",\"2021-03-19\"]},\"selected\":{\"id\":\"4688\"},\"selection_policy\":{\"id\":\"4723\"}},\"id\":\"4687\",\"type\":\"ColumnDataSource\"},{\"attributes\":{\"data\":{\"Portfolio Total\":{\"__ndarray__\":\"\",\"dtype\":\"float64\",\"order\":\"little\",\"shape\":[0]},\"Portfolio_Total\":{\"__ndarray__\":\"\",\"dtype\":\"float64\",\"order\":\"little\",\"shape\":[0]},\"date\":[]},\"selected\":{\"id\":\"4706\"},\"selection_policy\":{\"id\":\"4727\"}},\"id\":\"4705\",\"type\":\"ColumnDataSource\"},{\"attributes\":{\"axis_label\":\"Total Portfolio Value\",\"formatter\":{\"id\":\"4685\"},\"major_label_policy\":{\"id\":\"4684\"},\"ticker\":{\"id\":\"4665\"}},\"id\":\"4664\",\"type\":\"LinearAxis\"},{\"attributes\":{\"source\":{\"id\":\"4687\"}},\"id\":\"4694\",\"type\":\"CDSView\"},{\"attributes\":{},\"id\":\"4665\",\"type\":\"BasicTicker\"},{\"attributes\":{},\"id\":\"4672\",\"type\":\"ResetTool\"},{\"attributes\":{\"line_alpha\":0.2,\"line_color\":\"lightgray\",\"line_width\":2,\"x\":{\"field\":\"date\"},\"y\":{\"field\":\"Portfolio Total\"}},\"id\":\"4692\",\"type\":\"Line\"},{\"attributes\":{\"children\":[{\"id\":\"4646\"},{\"id\":\"4652\"},{\"id\":\"4840\"}],\"margin\":[0,0,0,0],\"name\":\"Row10841\",\"tags\":[\"embedded\"]},\"id\":\"4645\",\"type\":\"Row\"},{\"attributes\":{\"axis\":{\"id\":\"4664\"},\"dimension\":1,\"grid_line_color\":null,\"ticker\":null},\"id\":\"4667\",\"type\":\"Grid\"},{\"attributes\":{\"factors\":[\"2021-01-04\",\"2021-01-05\",\"2021-01-06\",\"2021-01-07\",\"2021-01-08\",\"2021-01-11\",\"2021-01-12\",\"2021-01-13\",\"2021-01-14\",\"2021-01-15\",\"2021-01-19\",\"2021-01-20\",\"2021-01-21\",\"2021-01-22\",\"2021-01-25\",\"2021-01-26\",\"2021-01-27\",\"2021-01-28\",\"2021-01-29\",\"2021-02-01\",\"2021-02-02\",\"2021-02-03\",\"2021-02-04\",\"2021-02-05\",\"2021-02-08\",\"2021-02-09\",\"2021-02-10\",\"2021-02-11\",\"2021-02-12\",\"2021-02-16\",\"2021-02-17\",\"2021-02-18\",\"2021-02-19\",\"2021-02-22\",\"2021-02-23\",\"2021-02-24\",\"2021-02-25\",\"2021-02-26\",\"2021-03-01\",\"2021-03-02\",\"2021-03-03\",\"2021-03-04\",\"2021-03-05\",\"2021-03-08\",\"2021-03-09\",\"2021-03-10\",\"2021-03-11\",\"2021-03-12\",\"2021-03-15\",\"2021-03-16\",\"2021-03-17\",\"2021-03-18\",\"2021-03-19\"],\"tags\":[[[\"date\",\"date\",null]]]},\"id\":\"4647\",\"type\":\"FactorRange\"},{\"attributes\":{\"line_color\":\"lightgray\",\"line_width\":2,\"x\":{\"field\":\"date\"},\"y\":{\"field\":\"Portfolio Total\"}},\"id\":\"4690\",\"type\":\"Line\"},{\"attributes\":{\"fill_alpha\":{\"value\":0.1},\"fill_color\":{\"value\":\"red\"},\"line_alpha\":{\"value\":0.1},\"line_color\":{\"value\":\"red\"},\"size\":{\"value\":5.477225575051661},\"x\":{\"field\":\"date\"},\"y\":{\"field\":\"Portfolio Total\"}},\"id\":\"4709\",\"type\":\"Scatter\"},{\"attributes\":{\"line_alpha\":0.1,\"line_color\":\"lightgray\",\"line_width\":2,\"x\":{\"field\":\"date\"},\"y\":{\"field\":\"Portfolio Total\"}},\"id\":\"4691\",\"type\":\"Line\"},{\"attributes\":{},\"id\":\"4706\",\"type\":\"Selection\"},{\"attributes\":{\"margin\":[5,5,5,5],\"name\":\"HSpacer10845\",\"sizing_mode\":\"stretch_width\"},\"id\":\"4646\",\"type\":\"Spacer\"},{\"attributes\":{},\"id\":\"4681\",\"type\":\"AllLabels\"},{\"attributes\":{\"fill_color\":{\"value\":\"red\"},\"line_color\":{\"value\":\"red\"},\"size\":{\"value\":5.477225575051661},\"x\":{\"field\":\"date\"},\"y\":{\"field\":\"Portfolio Total\"}},\"id\":\"4708\",\"type\":\"Scatter\"},{\"attributes\":{},\"id\":\"4683\",\"type\":\"CategoricalTickFormatter\"},{\"attributes\":{\"fill_alpha\":{\"value\":0.2},\"fill_color\":{\"value\":\"red\"},\"line_alpha\":{\"value\":0.2},\"line_color\":{\"value\":\"red\"},\"size\":{\"value\":5.477225575051661},\"x\":{\"field\":\"date\"},\"y\":{\"field\":\"Portfolio Total\"}},\"id\":\"4710\",\"type\":\"Scatter\"},{\"attributes\":{\"data_source\":{\"id\":\"4687\"},\"glyph\":{\"id\":\"4690\"},\"hover_glyph\":null,\"muted_glyph\":{\"id\":\"4692\"},\"nonselection_glyph\":{\"id\":\"4691\"},\"selection_glyph\":{\"id\":\"4695\"},\"view\":{\"id\":\"4694\"}},\"id\":\"4693\",\"type\":\"GlyphRenderer\"},{\"attributes\":{\"callback\":null,\"renderers\":[{\"id\":\"4693\"},{\"id\":\"4702\"},{\"id\":\"4711\"}],\"tags\":[\"hv_created\"],\"tooltips\":[[\"date\",\"@{date}\"],[\"Portfolio Total\",\"@{Portfolio_Total}\"]]},\"id\":\"4649\",\"type\":\"HoverTool\"},{\"attributes\":{},\"id\":\"4668\",\"type\":\"SaveTool\"}],\"root_ids\":[\"4645\"]},\"title\":\"Bokeh Application\",\"version\":\"2.3.0\"}};\n    var render_items = [{\"docid\":\"add4cbdf-8276-4359-aa3f-ee1840fe384c\",\"root_ids\":[\"4645\"],\"roots\":{\"4645\":\"cc57be9b-d9e6-4a0f-a2ea-5cb94d079bd4\"}}];\n    root.Bokeh.embed.embed_items_notebook(docs_json, render_items);\n  }\n  if (root.Bokeh !== undefined && root.Bokeh.Panel !== undefined) {\n    embed_document(root);\n  } else {\n    var attempts = 0;\n    var timer = setInterval(function(root) {\n      if (root.Bokeh !== undefined && root.Bokeh.Panel !== undefined) {\n        clearInterval(timer);\n        embed_document(root);\n      } else if (document.readyState == \"complete\") {\n        attempts++;\n        if (attempts > 100) {\n          clearInterval(timer);\n          console.log(\"Bokeh: ERROR: Unable to run BokehJS code because BokehJS library is missing\");\n        }\n      }\n    }, 10, root)\n  }\n})(window);</script>",
      "application/vnd.holoviews_exec.v0+json": "",
      "text/plain": [
       ":Overlay\n",
       "   .Curve.I                    :Curve   [date]   (Portfolio Total)\n",
       "   .Scatter.Portfolio_Total.I  :Scatter   [date]   (Portfolio Total)\n",
       "   .Scatter.Portfolio_Total.II :Scatter   [date]   (Portfolio Total)"
      ]
     },
     "metadata": {
      "application/vnd.holoviews_exec.v0+json": {
       "id": "4645"
      }
     },
     "execution_count": 37
    }
   ],
   "source": [
    "# Visualize exit position relative to total portfolio value\n",
    "exit = signals_df[signals_df['Entry/Exit'] == -1.0]['Portfolio Total'].hvplot.scatter(\n",
    "    color='red',\n",
    "    legend=False,\n",
    "    ylabel='Total Portfolio Value',\n",
    "    width=1000,\n",
    "    height=400\n",
    ")\n",
    "\n",
    "# Visualize entry position relative to total portfolio value\n",
    "entry = signals_df[signals_df['Entry/Exit'] == 1.0]['Portfolio Total'].hvplot.scatter(\n",
    "    color='green',\n",
    "    legend=False,\n",
    "    ylabel='Total Portfolio Value',\n",
    "    width=1000,\n",
    "    height=400\n",
    ")\n",
    "\n",
    "# Visualize total portoflio value for the investment\n",
    "total_portfolio_value = signals_df[['Portfolio Total']].hvplot(\n",
    "    line_color='lightgray',\n",
    "    ylabel='Total Portfolio Value',\n",
    "    width=1000,\n",
    "    height=400\n",
    ")\n",
    "\n",
    "# Overlay plots\n",
    "portfolio_entry_exit_plot = total_portfolio_value * entry * exit\n",
    "portfolio_entry_exit_plot.opts(xaxis=None)"
   ]
  },
  {
   "cell_type": "markdown",
   "metadata": {},
   "source": [
    "### Prepare Portfolio Evaluation Metrics DataFrame"
   ]
  },
  {
   "cell_type": "code",
   "execution_count": 38,
   "metadata": {},
   "outputs": [
    {
     "output_type": "execute_result",
     "data": {
      "text/plain": [
       "                   Backtest\n",
       "Annual Return           NaN\n",
       "Cumulative Returns      NaN\n",
       "Annual Volatility       NaN\n",
       "Sharpe Ratio            NaN\n",
       "Sortino Ratio           NaN"
      ],
      "text/html": "<div>\n<style scoped>\n    .dataframe tbody tr th:only-of-type {\n        vertical-align: middle;\n    }\n\n    .dataframe tbody tr th {\n        vertical-align: top;\n    }\n\n    .dataframe thead th {\n        text-align: right;\n    }\n</style>\n<table border=\"1\" class=\"dataframe\">\n  <thead>\n    <tr style=\"text-align: right;\">\n      <th></th>\n      <th>Backtest</th>\n    </tr>\n  </thead>\n  <tbody>\n    <tr>\n      <th>Annual Return</th>\n      <td>NaN</td>\n    </tr>\n    <tr>\n      <th>Cumulative Returns</th>\n      <td>NaN</td>\n    </tr>\n    <tr>\n      <th>Annual Volatility</th>\n      <td>NaN</td>\n    </tr>\n    <tr>\n      <th>Sharpe Ratio</th>\n      <td>NaN</td>\n    </tr>\n    <tr>\n      <th>Sortino Ratio</th>\n      <td>NaN</td>\n    </tr>\n  </tbody>\n</table>\n</div>"
     },
     "metadata": {},
     "execution_count": 38
    }
   ],
   "source": [
    "# Prepare DataFrame for metrics\n",
    "metrics = [\n",
    "    'Annual Return',\n",
    "    'Cumulative Returns',\n",
    "    'Annual Volatility',\n",
    "    'Sharpe Ratio',\n",
    "    'Sortino Ratio']\n",
    "\n",
    "columns = ['Backtest']\n",
    "\n",
    "# Initialize the DataFrame with index set to evaluation metrics and column as `Backtest` (just like PyFolio)\n",
    "portfolio_evaluation_df = pd.DataFrame(index=metrics, columns=columns)\n",
    "portfolio_evaluation_df"
   ]
  },
  {
   "cell_type": "markdown",
   "metadata": {},
   "source": [
    "### Calculate and Assign Portfolio Evaluation Metrics"
   ]
  },
  {
   "cell_type": "code",
   "execution_count": 39,
   "metadata": {},
   "outputs": [
    {
     "output_type": "stream",
     "name": "stderr",
     "text": [
      "ipykernel_launcher:17: RuntimeWarning: invalid value encountered in double_scalars\nipykernel_launcher:32: RuntimeWarning: invalid value encountered in double_scalars\n"
     ]
    },
    {
     "output_type": "execute_result",
     "data": {
      "text/plain": [
       "                   Backtest\n",
       "Annual Return             0\n",
       "Cumulative Returns        0\n",
       "Annual Volatility         0\n",
       "Sharpe Ratio            NaN\n",
       "Sortino Ratio           NaN"
      ],
      "text/html": "<div>\n<style scoped>\n    .dataframe tbody tr th:only-of-type {\n        vertical-align: middle;\n    }\n\n    .dataframe tbody tr th {\n        vertical-align: top;\n    }\n\n    .dataframe thead th {\n        text-align: right;\n    }\n</style>\n<table border=\"1\" class=\"dataframe\">\n  <thead>\n    <tr style=\"text-align: right;\">\n      <th></th>\n      <th>Backtest</th>\n    </tr>\n  </thead>\n  <tbody>\n    <tr>\n      <th>Annual Return</th>\n      <td>0</td>\n    </tr>\n    <tr>\n      <th>Cumulative Returns</th>\n      <td>0</td>\n    </tr>\n    <tr>\n      <th>Annual Volatility</th>\n      <td>0</td>\n    </tr>\n    <tr>\n      <th>Sharpe Ratio</th>\n      <td>NaN</td>\n    </tr>\n    <tr>\n      <th>Sortino Ratio</th>\n      <td>NaN</td>\n    </tr>\n  </tbody>\n</table>\n</div>"
     },
     "metadata": {},
     "execution_count": 39
    }
   ],
   "source": [
    "# Calculate cumulative return\n",
    "portfolio_evaluation_df.loc['Cumulative Returns'] = signals_df['Portfolio Cumulative Returns'][-1]\n",
    "\n",
    "# Calculate annualized return\n",
    "portfolio_evaluation_df.loc['Annual Return'] = (\n",
    "    signals_df['Portfolio Daily Returns'].mean() * 252\n",
    ")\n",
    "\n",
    "# Calculate annual volatility\n",
    "portfolio_evaluation_df.loc['Annual Volatility'] = (\n",
    "    signals_df['Portfolio Daily Returns'].std() * np.sqrt(252)\n",
    ")\n",
    "\n",
    "# Calculate Sharpe Ratio\n",
    "portfolio_evaluation_df.loc['Sharpe Ratio'] = (\n",
    "    signals_df['Portfolio Daily Returns'].mean() * 252) / (\n",
    "    signals_df['Portfolio Daily Returns'].std() * np.sqrt(252)\n",
    ")\n",
    "\n",
    "# Calculate Downside Return\n",
    "sortino_ratio_df = signals_df[['Portfolio Daily Returns']].copy()\n",
    "sortino_ratio_df.loc[:,'Downside Returns'] = 0\n",
    "\n",
    "target = 0\n",
    "mask = sortino_ratio_df['Portfolio Daily Returns'] < target\n",
    "sortino_ratio_df.loc[mask, 'Downside Returns'] = sortino_ratio_df['Portfolio Daily Returns']**2\n",
    "portfolio_evaluation_df\n",
    "\n",
    "# Calculate Sortino Ratio\n",
    "down_stdev = np.sqrt(sortino_ratio_df['Downside Returns'].mean()) * np.sqrt(252)\n",
    "expected_return = sortino_ratio_df['Portfolio Daily Returns'].mean() * 252\n",
    "sortino_ratio = expected_return/down_stdev\n",
    "\n",
    "portfolio_evaluation_df.loc['Sortino Ratio'] = sortino_ratio\n",
    "portfolio_evaluation_df.head()"
   ]
  },
  {
   "cell_type": "markdown",
   "metadata": {},
   "source": [
    "### Prepare Trade Evaluation Metrics DataFrame"
   ]
  },
  {
   "cell_type": "code",
   "execution_count": 40,
   "metadata": {},
   "outputs": [
    {
     "output_type": "execute_result",
     "data": {
      "text/plain": [
       "Empty DataFrame\n",
       "Columns: [Stock, Entry Date, Exit Date, Shares, Entry Share Price, Exit Share Price, Entry Portfolio Holding, Exit Portfolio Holding, Profit/Loss]\n",
       "Index: []"
      ],
      "text/html": "<div>\n<style scoped>\n    .dataframe tbody tr th:only-of-type {\n        vertical-align: middle;\n    }\n\n    .dataframe tbody tr th {\n        vertical-align: top;\n    }\n\n    .dataframe thead th {\n        text-align: right;\n    }\n</style>\n<table border=\"1\" class=\"dataframe\">\n  <thead>\n    <tr style=\"text-align: right;\">\n      <th></th>\n      <th>Stock</th>\n      <th>Entry Date</th>\n      <th>Exit Date</th>\n      <th>Shares</th>\n      <th>Entry Share Price</th>\n      <th>Exit Share Price</th>\n      <th>Entry Portfolio Holding</th>\n      <th>Exit Portfolio Holding</th>\n      <th>Profit/Loss</th>\n    </tr>\n  </thead>\n  <tbody>\n  </tbody>\n</table>\n</div>"
     },
     "metadata": {},
     "execution_count": 40
    }
   ],
   "source": [
    "# Initialize trade evaluation DataFrame with columns\n",
    "trade_evaluation_df = pd.DataFrame(\n",
    "    columns=[\n",
    "        'Stock', \n",
    "        'Entry Date', \n",
    "        'Exit Date', \n",
    "        'Shares', \n",
    "        'Entry Share Price', \n",
    "        'Exit Share Price', \n",
    "        'Entry Portfolio Holding', \n",
    "        'Exit Portfolio Holding', \n",
    "        'Profit/Loss']\n",
    ")\n",
    "\n",
    "trade_evaluation_df"
   ]
  },
  {
   "cell_type": "markdown",
   "metadata": {},
   "source": [
    "### Generating Trade Evaluation Metrics"
   ]
  },
  {
   "cell_type": "code",
   "execution_count": 41,
   "metadata": {},
   "outputs": [
    {
     "output_type": "execute_result",
     "data": {
      "text/plain": [
       "Empty DataFrame\n",
       "Columns: [Stock, Entry Date, Exit Date, Shares, Entry Share Price, Exit Share Price, Entry Portfolio Holding, Exit Portfolio Holding, Profit/Loss]\n",
       "Index: []"
      ],
      "text/html": "<div>\n<style scoped>\n    .dataframe tbody tr th:only-of-type {\n        vertical-align: middle;\n    }\n\n    .dataframe tbody tr th {\n        vertical-align: top;\n    }\n\n    .dataframe thead th {\n        text-align: right;\n    }\n</style>\n<table border=\"1\" class=\"dataframe\">\n  <thead>\n    <tr style=\"text-align: right;\">\n      <th></th>\n      <th>Stock</th>\n      <th>Entry Date</th>\n      <th>Exit Date</th>\n      <th>Shares</th>\n      <th>Entry Share Price</th>\n      <th>Exit Share Price</th>\n      <th>Entry Portfolio Holding</th>\n      <th>Exit Portfolio Holding</th>\n      <th>Profit/Loss</th>\n    </tr>\n  </thead>\n  <tbody>\n  </tbody>\n</table>\n</div>"
     },
     "metadata": {},
     "execution_count": 41
    }
   ],
   "source": [
    "# Initialize iterative variables\n",
    "entry_date = ''\n",
    "exit_date = ''\n",
    "entry_portfolio_holding = 0\n",
    "exit_portfolio_holding = 0\n",
    "share_size = 0\n",
    "entry_share_price = 0\n",
    "exit_share_price = 0\n",
    "\n",
    "# Loop through signal DataFrame\n",
    "# If `Entry/Exit` is 1, set entry trade metrics\n",
    "# Else if `Entry/Exit` is -1, set exit trade metrics and calculate profit,\n",
    "# Then append the record to the trade evaluation DataFrame\n",
    "for index, row in signals_df.iterrows():\n",
    "    if row['Entry/Exit'] == 1:\n",
    "        entry_date = index\n",
    "        entry_portfolio_holding = abs(row['Portfolio Holdings'])\n",
    "        share_size = row['Entry/Exit Position']\n",
    "        entry_share_price = row['close']\n",
    "\n",
    "    elif row['Entry/Exit'] == -1:\n",
    "        exit_date = index\n",
    "        exit_portfolio_holding = abs(row['close'] * row['Entry/Exit Position'])\n",
    "        exit_share_price = row['close']\n",
    "        profit_loss =  entry_portfolio_holding - exit_portfolio_holding\n",
    "        trade_evaluation_df = trade_evaluation_df.append(\n",
    "            {\n",
    "                'Stock': (f\"{ticker}\"),\n",
    "                'Entry Date': entry_date,\n",
    "                'Exit Date': exit_date,\n",
    "                'Shares': share_size,\n",
    "                'Entry Share Price': entry_share_price,\n",
    "                'Exit Share Price': exit_share_price,\n",
    "                'Entry Portfolio Holding': entry_portfolio_holding,\n",
    "                'Exit Portfolio Holding': exit_portfolio_holding,\n",
    "                'Profit/Loss': profit_loss\n",
    "            },\n",
    "            ignore_index=True)\n",
    "\n",
    "# Print the DataFrame\n",
    "trade_evaluation_df"
   ]
  },
  {
   "cell_type": "markdown",
   "metadata": {},
   "source": [
    "---"
   ]
  },
  {
   "cell_type": "markdown",
   "metadata": {},
   "source": [
    "### Create Hvplot Line Chart of Closing, SMA50, and SMA100"
   ]
  },
  {
   "cell_type": "code",
   "execution_count": 42,
   "metadata": {},
   "outputs": [
    {
     "output_type": "display_data",
     "data": {},
     "metadata": {}
    },
    {
     "output_type": "execute_result",
     "data": {
      "text/html": "<div id='4912'>\n\n\n\n\n\n  <div class=\"bk-root\" id=\"4ba938d4-add7-4e56-bbd1-ad0ea68e914f\" data-root-id=\"4912\"></div>\n</div>\n<script type=\"application/javascript\">(function(root) {\n  function embed_document(root) {\n    var docs_json = {\"f2b4bb7f-1e5c-4440-bbbf-4bf4ec39cfa4\":{\"defs\":[{\"extends\":null,\"module\":null,\"name\":\"DataModel\",\"overrides\":[],\"properties\":[]}],\"roots\":{\"references\":[{\"attributes\":{\"text_color\":\"black\",\"text_font_size\":\"12pt\"},\"id\":\"4920\",\"type\":\"Title\"},{\"attributes\":{\"label\":{\"value\":\"close\"},\"renderers\":[{\"id\":\"4960\"}]},\"id\":\"4973\",\"type\":\"LegendItem\"},{\"attributes\":{\"label\":{\"value\":\"SMA50\"},\"renderers\":[{\"id\":\"4981\"}]},\"id\":\"4995\",\"type\":\"LegendItem\"},{\"attributes\":{},\"id\":\"4924\",\"type\":\"CategoricalScale\"},{\"attributes\":{\"click_policy\":\"mute\",\"items\":[{\"id\":\"4973\"},{\"id\":\"4995\"},{\"id\":\"5019\"}],\"location\":[0,0],\"title\":\"Variable\"},\"id\":\"4972\",\"type\":\"Legend\"},{\"attributes\":{},\"id\":\"4994\",\"type\":\"UnionRenderers\"},{\"attributes\":{\"line_color\":\"#30a2da\",\"line_width\":2,\"x\":{\"field\":\"date\"},\"y\":{\"field\":\"value\"}},\"id\":\"4974\",\"type\":\"Line\"},{\"attributes\":{\"bottom_units\":\"screen\",\"fill_alpha\":0.5,\"fill_color\":\"lightgrey\",\"left_units\":\"screen\",\"level\":\"overlay\",\"line_alpha\":1.0,\"line_color\":\"black\",\"line_dash\":[4,4],\"line_width\":2,\"right_units\":\"screen\",\"syncable\":false,\"top_units\":\"screen\"},\"id\":\"4940\",\"type\":\"BoxAnnotation\"},{\"attributes\":{},\"id\":\"4926\",\"type\":\"LinearScale\"},{\"attributes\":{},\"id\":\"4971\",\"type\":\"UnionRenderers\"},{\"attributes\":{\"axis_label\":\"date\",\"formatter\":{\"id\":\"4950\"},\"major_label_policy\":{\"id\":\"4948\"},\"ticker\":{\"id\":\"4929\"},\"visible\":false},\"id\":\"4928\",\"type\":\"CategoricalAxis\"},{\"attributes\":{\"source\":{\"id\":\"4954\"}},\"id\":\"4961\",\"type\":\"CDSView\"},{\"attributes\":{\"data_source\":{\"id\":\"4954\"},\"glyph\":{\"id\":\"4957\"},\"hover_glyph\":null,\"muted_glyph\":{\"id\":\"4959\"},\"nonselection_glyph\":{\"id\":\"4958\"},\"selection_glyph\":{\"id\":\"4974\"},\"view\":{\"id\":\"4961\"}},\"id\":\"4960\",\"type\":\"GlyphRenderer\"},{\"attributes\":{},\"id\":\"4929\",\"type\":\"CategoricalTicker\"},{\"attributes\":{\"axis\":{\"id\":\"4928\"},\"grid_line_color\":null,\"ticker\":null},\"id\":\"4930\",\"type\":\"Grid\"},{\"attributes\":{\"line_alpha\":0.2,\"line_color\":\"#30a2da\",\"line_width\":2,\"x\":{\"field\":\"date\"},\"y\":{\"field\":\"value\"}},\"id\":\"4959\",\"type\":\"Line\"},{\"attributes\":{},\"id\":\"4952\",\"type\":\"BasicTickFormatter\"},{\"attributes\":{\"factors\":[\"2021-01-04\",\"2021-01-05\",\"2021-01-06\",\"2021-01-07\",\"2021-01-08\",\"2021-01-11\",\"2021-01-12\",\"2021-01-13\",\"2021-01-14\",\"2021-01-15\",\"2021-01-19\",\"2021-01-20\",\"2021-01-21\",\"2021-01-22\",\"2021-01-25\",\"2021-01-26\",\"2021-01-27\",\"2021-01-28\",\"2021-01-29\",\"2021-02-01\",\"2021-02-02\",\"2021-02-03\",\"2021-02-04\",\"2021-02-05\",\"2021-02-08\",\"2021-02-09\",\"2021-02-10\",\"2021-02-11\",\"2021-02-12\",\"2021-02-16\",\"2021-02-17\",\"2021-02-18\",\"2021-02-19\",\"2021-02-22\",\"2021-02-23\",\"2021-02-24\",\"2021-02-25\",\"2021-02-26\",\"2021-03-01\",\"2021-03-02\",\"2021-03-03\",\"2021-03-04\",\"2021-03-05\",\"2021-03-08\",\"2021-03-09\",\"2021-03-10\",\"2021-03-11\",\"2021-03-12\",\"2021-03-15\",\"2021-03-16\",\"2021-03-17\",\"2021-03-18\",\"2021-03-19\"],\"tags\":[[[\"date\",\"date\",null]]]},\"id\":\"4914\",\"type\":\"FactorRange\"},{\"attributes\":{\"axis_label\":\"\",\"formatter\":{\"id\":\"4952\"},\"major_label_policy\":{\"id\":\"4951\"},\"ticker\":{\"id\":\"4932\"}},\"id\":\"4931\",\"type\":\"LinearAxis\"},{\"attributes\":{\"data\":{\"Variable\":[\"SMA100\",\"SMA100\",\"SMA100\",\"SMA100\",\"SMA100\",\"SMA100\",\"SMA100\",\"SMA100\",\"SMA100\",\"SMA100\",\"SMA100\",\"SMA100\",\"SMA100\",\"SMA100\",\"SMA100\",\"SMA100\",\"SMA100\",\"SMA100\",\"SMA100\",\"SMA100\",\"SMA100\",\"SMA100\",\"SMA100\",\"SMA100\",\"SMA100\",\"SMA100\",\"SMA100\",\"SMA100\",\"SMA100\",\"SMA100\",\"SMA100\",\"SMA100\",\"SMA100\",\"SMA100\",\"SMA100\",\"SMA100\",\"SMA100\",\"SMA100\",\"SMA100\",\"SMA100\",\"SMA100\",\"SMA100\",\"SMA100\",\"SMA100\",\"SMA100\",\"SMA100\",\"SMA100\",\"SMA100\",\"SMA100\",\"SMA100\",\"SMA100\",\"SMA100\",\"SMA100\"],\"date\":[\"2021-01-04\",\"2021-01-05\",\"2021-01-06\",\"2021-01-07\",\"2021-01-08\",\"2021-01-11\",\"2021-01-12\",\"2021-01-13\",\"2021-01-14\",\"2021-01-15\",\"2021-01-19\",\"2021-01-20\",\"2021-01-21\",\"2021-01-22\",\"2021-01-25\",\"2021-01-26\",\"2021-01-27\",\"2021-01-28\",\"2021-01-29\",\"2021-02-01\",\"2021-02-02\",\"2021-02-03\",\"2021-02-04\",\"2021-02-05\",\"2021-02-08\",\"2021-02-09\",\"2021-02-10\",\"2021-02-11\",\"2021-02-12\",\"2021-02-16\",\"2021-02-17\",\"2021-02-18\",\"2021-02-19\",\"2021-02-22\",\"2021-02-23\",\"2021-02-24\",\"2021-02-25\",\"2021-02-26\",\"2021-03-01\",\"2021-03-02\",\"2021-03-03\",\"2021-03-04\",\"2021-03-05\",\"2021-03-08\",\"2021-03-09\",\"2021-03-10\",\"2021-03-11\",\"2021-03-12\",\"2021-03-15\",\"2021-03-16\",\"2021-03-17\",\"2021-03-18\",\"2021-03-19\"],\"value\":{\"__ndarray__\":\"AAAAAAAA+H8AAAAAAAD4fwAAAAAAAPh/AAAAAAAA+H8AAAAAAAD4fwAAAAAAAPh/AAAAAAAA+H8AAAAAAAD4fwAAAAAAAPh/AAAAAAAA+H8AAAAAAAD4fwAAAAAAAPh/AAAAAAAA+H8AAAAAAAD4fwAAAAAAAPh/AAAAAAAA+H8AAAAAAAD4fwAAAAAAAPh/AAAAAAAA+H8AAAAAAAD4fwAAAAAAAPh/AAAAAAAA+H8AAAAAAAD4fwAAAAAAAPh/AAAAAAAA+H8AAAAAAAD4fwAAAAAAAPh/AAAAAAAA+H8AAAAAAAD4fwAAAAAAAPh/AAAAAAAA+H8AAAAAAAD4fwAAAAAAAPh/AAAAAAAA+H8AAAAAAAD4fwAAAAAAAPh/AAAAAAAA+H8AAAAAAAD4fwAAAAAAAPh/AAAAAAAA+H8AAAAAAAD4fwAAAAAAAPh/AAAAAAAA+H8AAAAAAAD4fwAAAAAAAPh/AAAAAAAA+H8AAAAAAAD4fwAAAAAAAPh/AAAAAAAA+H8AAAAAAAD4fwAAAAAAAPh/AAAAAAAA+H8AAAAAAAD4fw==\",\"dtype\":\"float64\",\"order\":\"little\",\"shape\":[53]}},\"selected\":{\"id\":\"4998\"},\"selection_policy\":{\"id\":\"5018\"}},\"id\":\"4997\",\"type\":\"ColumnDataSource\"},{\"attributes\":{\"line_color\":\"#fc4f30\",\"line_width\":2,\"x\":{\"field\":\"date\"},\"y\":{\"field\":\"value\"}},\"id\":\"4996\",\"type\":\"Line\"},{\"attributes\":{\"data_source\":{\"id\":\"4975\"},\"glyph\":{\"id\":\"4978\"},\"hover_glyph\":null,\"muted_glyph\":{\"id\":\"4980\"},\"nonselection_glyph\":{\"id\":\"4979\"},\"selection_glyph\":{\"id\":\"4996\"},\"view\":{\"id\":\"4982\"}},\"id\":\"4981\",\"type\":\"GlyphRenderer\"},{\"attributes\":{},\"id\":\"4932\",\"type\":\"BasicTicker\"},{\"attributes\":{\"data\":{\"Variable\":[\"close\",\"close\",\"close\",\"close\",\"close\",\"close\",\"close\",\"close\",\"close\",\"close\",\"close\",\"close\",\"close\",\"close\",\"close\",\"close\",\"close\",\"close\",\"close\",\"close\",\"close\",\"close\",\"close\",\"close\",\"close\",\"close\",\"close\",\"close\",\"close\",\"close\",\"close\",\"close\",\"close\",\"close\",\"close\",\"close\",\"close\",\"close\",\"close\",\"close\",\"close\",\"close\",\"close\",\"close\",\"close\",\"close\",\"close\",\"close\",\"close\",\"close\",\"close\",\"close\",\"close\"],\"date\":[\"2021-01-04\",\"2021-01-05\",\"2021-01-06\",\"2021-01-07\",\"2021-01-08\",\"2021-01-11\",\"2021-01-12\",\"2021-01-13\",\"2021-01-14\",\"2021-01-15\",\"2021-01-19\",\"2021-01-20\",\"2021-01-21\",\"2021-01-22\",\"2021-01-25\",\"2021-01-26\",\"2021-01-27\",\"2021-01-28\",\"2021-01-29\",\"2021-02-01\",\"2021-02-02\",\"2021-02-03\",\"2021-02-04\",\"2021-02-05\",\"2021-02-08\",\"2021-02-09\",\"2021-02-10\",\"2021-02-11\",\"2021-02-12\",\"2021-02-16\",\"2021-02-17\",\"2021-02-18\",\"2021-02-19\",\"2021-02-22\",\"2021-02-23\",\"2021-02-24\",\"2021-02-25\",\"2021-02-26\",\"2021-03-01\",\"2021-03-02\",\"2021-03-03\",\"2021-03-04\",\"2021-03-05\",\"2021-03-08\",\"2021-03-09\",\"2021-03-10\",\"2021-03-11\",\"2021-03-12\",\"2021-03-15\",\"2021-03-16\",\"2021-03-17\",\"2021-03-18\",\"2021-03-19\"],\"value\":{\"__ndarray__\":\"AAAAAADOhkA9CtejcPiGQEjhehSuo4dAUrgeheuBiUAK16NwPYCLQD0K16NwWYlA9ihcj8KJikCPwvUoXLOKQEjhehSuYYpA4XoUrkfRiUAAAAAAAGSKQDMzMzMzlYpA9ihcj8JnikAAAAAAAHSKQBSuR+F6hotASOF6FK6bi0AzMzMzMwWLQKRwPQrXG4pAc2iR7XzKiEDpSC7/IUCKQLgehetRRotAmpmZmZm1ikBSuB6F64+KQHsUrkfhpIpAZmZmZmb6ikAAAAAAAIqKQAAAAAAAKIlAMzMzMzNdiUC4HoXrUYCJQFK4HoXr34hAAAAAAADyiEBmZmZmZpqIQAAAAAAAbIhASOF6FK5VhkAzMzMzM9WFQFyPwvUoMIdAzczMzMxUhUCuR+F6FPiEQD0K16Nwc4ZAZmZmZmZwhUD2KFyPwmGEQFK4HoXra4NAhxbZzvergkD2KFyPwpeBQHE9CtejDIVAXI/C9SjihEDNzMzMzNyFQB+F61G4roVA7FG4HoUfhkDXo3A9CiWFQLgehetR7IVAZmZmZmZqhED2KFyPwneEQA==\",\"dtype\":\"float64\",\"order\":\"little\",\"shape\":[53]}},\"selected\":{\"id\":\"4955\"},\"selection_policy\":{\"id\":\"4971\"}},\"id\":\"4954\",\"type\":\"ColumnDataSource\"},{\"attributes\":{\"data\":{\"Variable\":[\"SMA50\",\"SMA50\",\"SMA50\",\"SMA50\",\"SMA50\",\"SMA50\",\"SMA50\",\"SMA50\",\"SMA50\",\"SMA50\",\"SMA50\",\"SMA50\",\"SMA50\",\"SMA50\",\"SMA50\",\"SMA50\",\"SMA50\",\"SMA50\",\"SMA50\",\"SMA50\",\"SMA50\",\"SMA50\",\"SMA50\",\"SMA50\",\"SMA50\",\"SMA50\",\"SMA50\",\"SMA50\",\"SMA50\",\"SMA50\",\"SMA50\",\"SMA50\",\"SMA50\",\"SMA50\",\"SMA50\",\"SMA50\",\"SMA50\",\"SMA50\",\"SMA50\",\"SMA50\",\"SMA50\",\"SMA50\",\"SMA50\",\"SMA50\",\"SMA50\",\"SMA50\",\"SMA50\",\"SMA50\",\"SMA50\",\"SMA50\",\"SMA50\",\"SMA50\",\"SMA50\"],\"date\":[\"2021-01-04\",\"2021-01-05\",\"2021-01-06\",\"2021-01-07\",\"2021-01-08\",\"2021-01-11\",\"2021-01-12\",\"2021-01-13\",\"2021-01-14\",\"2021-01-15\",\"2021-01-19\",\"2021-01-20\",\"2021-01-21\",\"2021-01-22\",\"2021-01-25\",\"2021-01-26\",\"2021-01-27\",\"2021-01-28\",\"2021-01-29\",\"2021-02-01\",\"2021-02-02\",\"2021-02-03\",\"2021-02-04\",\"2021-02-05\",\"2021-02-08\",\"2021-02-09\",\"2021-02-10\",\"2021-02-11\",\"2021-02-12\",\"2021-02-16\",\"2021-02-17\",\"2021-02-18\",\"2021-02-19\",\"2021-02-22\",\"2021-02-23\",\"2021-02-24\",\"2021-02-25\",\"2021-02-26\",\"2021-03-01\",\"2021-03-02\",\"2021-03-03\",\"2021-03-04\",\"2021-03-05\",\"2021-03-08\",\"2021-03-09\",\"2021-03-10\",\"2021-03-11\",\"2021-03-12\",\"2021-03-15\",\"2021-03-16\",\"2021-03-17\",\"2021-03-18\",\"2021-03-19\"],\"value\":{\"__ndarray__\":\"AAAAAAAA+H8AAAAAAAD4fwAAAAAAAPh/AAAAAAAA+H8AAAAAAAD4fwAAAAAAAPh/AAAAAAAA+H8AAAAAAAD4fwAAAAAAAPh/AAAAAAAA+H8AAAAAAAD4fwAAAAAAAPh/AAAAAAAA+H8AAAAAAAD4fwAAAAAAAPh/AAAAAAAA+H8AAAAAAAD4fwAAAAAAAPh/AAAAAAAA+H8AAAAAAAD4fwAAAAAAAPh/AAAAAAAA+H8AAAAAAAD4fwAAAAAAAPh/AAAAAAAA+H8AAAAAAAD4fwAAAAAAAPh/AAAAAAAA+H8AAAAAAAD4fwAAAAAAAPh/AAAAAAAA+H8AAAAAAAD4fwAAAAAAAPh/AAAAAAAA+H8AAAAAAAD4fwAAAAAAAPh/AAAAAAAA+H8AAAAAAAD4fwAAAAAAAPh/AAAAAAAA+H8AAAAAAAD4fwAAAAAAAPh/AAAAAAAA+H8AAAAAAAD4fwAAAAAAAPh/AAAAAAAA+H8AAAAAAAD4fwAAAAAAAPh/AAAAAAAA+H9uQbYs3z6IQDQebLFbOohAsRAdAkctiEBTxVT6CR2IQA==\",\"dtype\":\"float64\",\"order\":\"little\",\"shape\":[53]}},\"selected\":{\"id\":\"4976\"},\"selection_policy\":{\"id\":\"4994\"}},\"id\":\"4975\",\"type\":\"ColumnDataSource\"},{\"attributes\":{\"axis\":{\"id\":\"4931\"},\"dimension\":1,\"grid_line_color\":null,\"ticker\":null},\"id\":\"4934\",\"type\":\"Grid\"},{\"attributes\":{\"source\":{\"id\":\"4997\"}},\"id\":\"5004\",\"type\":\"CDSView\"},{\"attributes\":{},\"id\":\"4939\",\"type\":\"ResetTool\"},{\"attributes\":{\"line_alpha\":0.1,\"line_color\":\"#30a2da\",\"line_width\":2,\"x\":{\"field\":\"date\"},\"y\":{\"field\":\"value\"}},\"id\":\"4958\",\"type\":\"Line\"},{\"attributes\":{\"line_alpha\":0.1,\"line_color\":\"#fc4f30\",\"line_width\":2,\"x\":{\"field\":\"date\"},\"y\":{\"field\":\"value\"}},\"id\":\"4979\",\"type\":\"Line\"},{\"attributes\":{\"line_color\":\"#fc4f30\",\"line_width\":2,\"x\":{\"field\":\"date\"},\"y\":{\"field\":\"value\"}},\"id\":\"4978\",\"type\":\"Line\"},{\"attributes\":{\"line_alpha\":0.2,\"line_color\":\"#fc4f30\",\"line_width\":2,\"x\":{\"field\":\"date\"},\"y\":{\"field\":\"value\"}},\"id\":\"4980\",\"type\":\"Line\"},{\"attributes\":{\"data_source\":{\"id\":\"4997\"},\"glyph\":{\"id\":\"5000\"},\"hover_glyph\":null,\"muted_glyph\":{\"id\":\"5002\"},\"nonselection_glyph\":{\"id\":\"5001\"},\"selection_glyph\":{\"id\":\"5020\"},\"view\":{\"id\":\"5004\"}},\"id\":\"5003\",\"type\":\"GlyphRenderer\"},{\"attributes\":{},\"id\":\"4955\",\"type\":\"Selection\"},{\"attributes\":{},\"id\":\"4950\",\"type\":\"CategoricalTickFormatter\"},{\"attributes\":{\"end\":915.509,\"reset_end\":915.509,\"reset_start\":530.921,\"start\":530.921,\"tags\":[[[\"value\",\"value\",null]]]},\"id\":\"4915\",\"type\":\"Range1d\"},{\"attributes\":{},\"id\":\"4998\",\"type\":\"Selection\"},{\"attributes\":{},\"id\":\"4935\",\"type\":\"SaveTool\"},{\"attributes\":{},\"id\":\"5018\",\"type\":\"UnionRenderers\"},{\"attributes\":{\"callback\":null,\"renderers\":[{\"id\":\"4960\"},{\"id\":\"4981\"},{\"id\":\"5003\"}],\"tags\":[\"hv_created\"],\"tooltips\":[[\"Variable\",\"@{Variable}\"],[\"date\",\"@{date}\"],[\"value\",\"@{value}\"]]},\"id\":\"4916\",\"type\":\"HoverTool\"},{\"attributes\":{\"source\":{\"id\":\"4975\"}},\"id\":\"4982\",\"type\":\"CDSView\"},{\"attributes\":{\"line_alpha\":0.1,\"line_color\":\"#e5ae38\",\"line_width\":2,\"x\":{\"field\":\"date\"},\"y\":{\"field\":\"value\"}},\"id\":\"5001\",\"type\":\"Line\"},{\"attributes\":{},\"id\":\"4936\",\"type\":\"PanTool\"},{\"attributes\":{\"label\":{\"value\":\"SMA100\"},\"renderers\":[{\"id\":\"5003\"}]},\"id\":\"5019\",\"type\":\"LegendItem\"},{\"attributes\":{\"margin\":[5,5,5,5],\"name\":\"HSpacer11504\",\"sizing_mode\":\"stretch_width\"},\"id\":\"4913\",\"type\":\"Spacer\"},{\"attributes\":{},\"id\":\"4937\",\"type\":\"WheelZoomTool\"},{\"attributes\":{\"line_alpha\":0.2,\"line_color\":\"#e5ae38\",\"line_width\":2,\"x\":{\"field\":\"date\"},\"y\":{\"field\":\"value\"}},\"id\":\"5002\",\"type\":\"Line\"},{\"attributes\":{\"line_color\":\"#e5ae38\",\"line_width\":2,\"x\":{\"field\":\"date\"},\"y\":{\"field\":\"value\"}},\"id\":\"5020\",\"type\":\"Line\"},{\"attributes\":{\"line_color\":\"#e5ae38\",\"line_width\":2,\"x\":{\"field\":\"date\"},\"y\":{\"field\":\"value\"}},\"id\":\"5000\",\"type\":\"Line\"},{\"attributes\":{\"overlay\":{\"id\":\"4940\"}},\"id\":\"4938\",\"type\":\"BoxZoomTool\"},{\"attributes\":{},\"id\":\"4976\",\"type\":\"Selection\"},{\"attributes\":{},\"id\":\"4948\",\"type\":\"AllLabels\"},{\"attributes\":{\"margin\":[5,5,5,5],\"name\":\"HSpacer11505\",\"sizing_mode\":\"stretch_width\"},\"id\":\"5147\",\"type\":\"Spacer\"},{\"attributes\":{\"active_multi\":null,\"tools\":[{\"id\":\"4916\"},{\"id\":\"4935\"},{\"id\":\"4936\"},{\"id\":\"4937\"},{\"id\":\"4938\"},{\"id\":\"4939\"}]},\"id\":\"4941\",\"type\":\"Toolbar\"},{\"attributes\":{},\"id\":\"4951\",\"type\":\"AllLabels\"},{\"attributes\":{\"children\":[{\"id\":\"4913\"},{\"id\":\"4919\"},{\"id\":\"5147\"}],\"margin\":[0,0,0,0],\"name\":\"Row11500\",\"tags\":[\"embedded\"]},\"id\":\"4912\",\"type\":\"Row\"},{\"attributes\":{\"line_color\":\"#30a2da\",\"line_width\":2,\"x\":{\"field\":\"date\"},\"y\":{\"field\":\"value\"}},\"id\":\"4957\",\"type\":\"Line\"},{\"attributes\":{\"below\":[{\"id\":\"4928\"}],\"center\":[{\"id\":\"4930\"},{\"id\":\"4934\"}],\"height\":300,\"left\":[{\"id\":\"4931\"}],\"margin\":[5,5,5,5],\"min_border_bottom\":10,\"min_border_left\":10,\"min_border_right\":10,\"min_border_top\":10,\"renderers\":[{\"id\":\"4960\"},{\"id\":\"4981\"},{\"id\":\"5003\"}],\"right\":[{\"id\":\"4972\"}],\"sizing_mode\":\"fixed\",\"title\":{\"id\":\"4920\"},\"toolbar\":{\"id\":\"4941\"},\"width\":700,\"x_range\":{\"id\":\"4914\"},\"x_scale\":{\"id\":\"4924\"},\"y_range\":{\"id\":\"4915\"},\"y_scale\":{\"id\":\"4926\"}},\"id\":\"4919\",\"subtype\":\"Figure\",\"type\":\"Plot\"}],\"root_ids\":[\"4912\"]},\"title\":\"Bokeh Application\",\"version\":\"2.3.0\"}};\n    var render_items = [{\"docid\":\"f2b4bb7f-1e5c-4440-bbbf-4bf4ec39cfa4\",\"root_ids\":[\"4912\"],\"roots\":{\"4912\":\"4ba938d4-add7-4e56-bbd1-ad0ea68e914f\"}}];\n    root.Bokeh.embed.embed_items_notebook(docs_json, render_items);\n  }\n  if (root.Bokeh !== undefined && root.Bokeh.Panel !== undefined) {\n    embed_document(root);\n  } else {\n    var attempts = 0;\n    var timer = setInterval(function(root) {\n      if (root.Bokeh !== undefined && root.Bokeh.Panel !== undefined) {\n        clearInterval(timer);\n        embed_document(root);\n      } else if (document.readyState == \"complete\") {\n        attempts++;\n        if (attempts > 100) {\n          clearInterval(timer);\n          console.log(\"Bokeh: ERROR: Unable to run BokehJS code because BokehJS library is missing\");\n        }\n      }\n    }, 10, root)\n  }\n})(window);</script>",
      "application/vnd.holoviews_exec.v0+json": "",
      "text/plain": [
       ":NdOverlay   [Variable]\n",
       "   :Curve   [date]   (value)"
      ]
     },
     "metadata": {
      "application/vnd.holoviews_exec.v0+json": {
       "id": "4912"
      }
     },
     "execution_count": 42
    }
   ],
   "source": [
    "price_df = signals_df[['close', 'SMA50', 'SMA100']]\n",
    "price_chart = price_df.hvplot.line()\n",
    "price_chart.opts(xaxis=None)"
   ]
  },
  {
   "cell_type": "markdown",
   "metadata": {},
   "source": [
    "### Create Hvplot Table of Portfolio Metrics"
   ]
  },
  {
   "cell_type": "code",
   "execution_count": 43,
   "metadata": {},
   "outputs": [
    {
     "output_type": "display_data",
     "data": {},
     "metadata": {}
    },
    {
     "output_type": "execute_result",
     "data": {
      "text/html": "<div id='5219'>\n\n\n\n\n\n  <div class=\"bk-root\" id=\"21b810f3-9479-4dbb-be10-612bd484353f\" data-root-id=\"5219\"></div>\n</div>\n<script type=\"application/javascript\">(function(root) {\n  function embed_document(root) {\n    var docs_json = {\"2c6a5666-c374-4de2-acae-5e4b3e9d7123\":{\"defs\":[{\"extends\":null,\"module\":null,\"name\":\"DataModel\",\"overrides\":[],\"properties\":[]}],\"roots\":{\"references\":[{\"attributes\":{\"source\":{\"id\":\"5221\"}},\"id\":\"5235\",\"type\":\"CDSView\"},{\"attributes\":{\"data\":{\"Backtest\":{\"__ndarray__\":\"AAAAAAAAAAAAAAAAAAAAAAAAAAAAAAAAAAAAAAAA+H8AAAAAAAD4fw==\",\"dtype\":\"float64\",\"order\":\"little\",\"shape\":[5]},\"index\":[\"Annual Return\",\"Cumulative Returns\",\"Annual Volatility\",\"Sharpe Ratio\",\"Sortino Ratio\"]},\"selected\":{\"id\":\"5222\"},\"selection_policy\":{\"id\":\"5237\"}},\"id\":\"5221\",\"type\":\"ColumnDataSource\"},{\"attributes\":{\"editor\":{\"id\":\"5224\"},\"field\":\"index\",\"formatter\":{\"id\":\"5223\"},\"title\":\"index\"},\"id\":\"5225\",\"type\":\"TableColumn\"},{\"attributes\":{},\"id\":\"5237\",\"type\":\"UnionRenderers\"},{\"attributes\":{\"margin\":[5,5,5,5],\"name\":\"HSpacer12052\",\"sizing_mode\":\"stretch_width\"},\"id\":\"5240\",\"type\":\"Spacer\"},{\"attributes\":{\"margin\":[5,5,5,5],\"name\":\"HSpacer12051\",\"sizing_mode\":\"stretch_width\"},\"id\":\"5220\",\"type\":\"Spacer\"},{\"attributes\":{},\"id\":\"5222\",\"type\":\"Selection\"},{\"attributes\":{},\"id\":\"5228\",\"type\":\"StringFormatter\"},{\"attributes\":{\"columns\":[{\"id\":\"5225\"},{\"id\":\"5230\"}],\"height\":300,\"reorderable\":false,\"source\":{\"id\":\"5221\"},\"view\":{\"id\":\"5235\"},\"width\":700},\"id\":\"5233\",\"type\":\"DataTable\"},{\"attributes\":{},\"id\":\"5229\",\"type\":\"StringEditor\"},{\"attributes\":{},\"id\":\"5223\",\"type\":\"StringFormatter\"},{\"attributes\":{\"children\":[{\"id\":\"5220\"},{\"id\":\"5233\"},{\"id\":\"5240\"}],\"margin\":[0,0,0,0],\"name\":\"Row12047\",\"tags\":[\"embedded\"]},\"id\":\"5219\",\"type\":\"Row\"},{\"attributes\":{\"editor\":{\"id\":\"5229\"},\"field\":\"Backtest\",\"formatter\":{\"id\":\"5228\"},\"title\":\"Backtest\"},\"id\":\"5230\",\"type\":\"TableColumn\"},{\"attributes\":{},\"id\":\"5224\",\"type\":\"StringEditor\"}],\"root_ids\":[\"5219\"]},\"title\":\"Bokeh Application\",\"version\":\"2.3.0\"}};\n    var render_items = [{\"docid\":\"2c6a5666-c374-4de2-acae-5e4b3e9d7123\",\"root_ids\":[\"5219\"],\"roots\":{\"5219\":\"21b810f3-9479-4dbb-be10-612bd484353f\"}}];\n    root.Bokeh.embed.embed_items_notebook(docs_json, render_items);\n  }\n  if (root.Bokeh !== undefined && root.Bokeh.Panel !== undefined) {\n    embed_document(root);\n  } else {\n    var attempts = 0;\n    var timer = setInterval(function(root) {\n      if (root.Bokeh !== undefined && root.Bokeh.Panel !== undefined) {\n        clearInterval(timer);\n        embed_document(root);\n      } else if (document.readyState == \"complete\") {\n        attempts++;\n        if (attempts > 100) {\n          clearInterval(timer);\n          console.log(\"Bokeh: ERROR: Unable to run BokehJS code because BokehJS library is missing\");\n        }\n      }\n    }, 10, root)\n  }\n})(window);</script>",
      "application/vnd.holoviews_exec.v0+json": "",
      "text/plain": [
       ":Table   [index,Backtest]"
      ]
     },
     "metadata": {
      "application/vnd.holoviews_exec.v0+json": {
       "id": "5219"
      }
     },
     "execution_count": 43
    }
   ],
   "source": [
    "portfolio_evaluation_df.reset_index(inplace=True)\n",
    "portfolio_evaluation_table = portfolio_evaluation_df.hvplot.table()\n",
    "portfolio_evaluation_table"
   ]
  },
  {
   "cell_type": "markdown",
   "metadata": {},
   "source": [
    "### Create Hvplot Table of Trade Metrics"
   ]
  },
  {
   "cell_type": "code",
   "execution_count": 44,
   "metadata": {},
   "outputs": [
    {
     "output_type": "display_data",
     "data": {},
     "metadata": {}
    },
    {
     "output_type": "execute_result",
     "data": {
      "text/html": "<div id='5252'>\n\n\n\n\n\n  <div class=\"bk-root\" id=\"959fb4e8-993c-463c-b1d7-ba835b29112f\" data-root-id=\"5252\"></div>\n</div>\n<script type=\"application/javascript\">(function(root) {\n  function embed_document(root) {\n    var docs_json = {\"3e1908f5-fc55-4c25-ac81-98b132d2d7ee\":{\"defs\":[{\"extends\":null,\"module\":null,\"name\":\"DataModel\",\"overrides\":[],\"properties\":[]}],\"roots\":{\"references\":[{\"attributes\":{},\"id\":\"5297\",\"type\":\"StringEditor\"},{\"attributes\":{},\"id\":\"5267\",\"type\":\"StringEditor\"},{\"attributes\":{\"editor\":{\"id\":\"5297\"},\"field\":\"Profit_over_Loss\",\"formatter\":{\"id\":\"5296\"},\"title\":\"Profit/Loss\"},\"id\":\"5298\",\"type\":\"TableColumn\"},{\"attributes\":{\"editor\":{\"id\":\"5267\"},\"field\":\"Exit_Date\",\"formatter\":{\"id\":\"5266\"},\"title\":\"Exit Date\"},\"id\":\"5268\",\"type\":\"TableColumn\"},{\"attributes\":{},\"id\":\"5271\",\"type\":\"StringFormatter\"},{\"attributes\":{\"source\":{\"id\":\"5254\"}},\"id\":\"5303\",\"type\":\"CDSView\"},{\"attributes\":{},\"id\":\"5272\",\"type\":\"StringEditor\"},{\"attributes\":{\"editor\":{\"id\":\"5272\"},\"field\":\"Shares\",\"formatter\":{\"id\":\"5271\"},\"title\":\"Shares\"},\"id\":\"5273\",\"type\":\"TableColumn\"},{\"attributes\":{\"data\":{\"Entry_Date\":[],\"Entry_Portfolio_Holding\":[],\"Entry_Share_Price\":[],\"Exit_Date\":[],\"Exit_Portfolio_Holding\":[],\"Exit_Share_Price\":[],\"Profit_over_Loss\":[],\"Shares\":[],\"Stock\":[]},\"selected\":{\"id\":\"5255\"},\"selection_policy\":{\"id\":\"5305\"}},\"id\":\"5254\",\"type\":\"ColumnDataSource\"},{\"attributes\":{},\"id\":\"5276\",\"type\":\"StringFormatter\"},{\"attributes\":{},\"id\":\"5277\",\"type\":\"StringEditor\"},{\"attributes\":{\"editor\":{\"id\":\"5277\"},\"field\":\"Entry_Share_Price\",\"formatter\":{\"id\":\"5276\"},\"title\":\"Entry Share Price\"},\"id\":\"5278\",\"type\":\"TableColumn\"},{\"attributes\":{\"margin\":[5,5,5,5],\"name\":\"HSpacer12160\",\"sizing_mode\":\"stretch_width\"},\"id\":\"5308\",\"type\":\"Spacer\"},{\"attributes\":{},\"id\":\"5281\",\"type\":\"StringFormatter\"},{\"attributes\":{\"children\":[{\"id\":\"5253\"},{\"id\":\"5301\"},{\"id\":\"5308\"}],\"margin\":[0,0,0,0],\"name\":\"Row12155\",\"tags\":[\"embedded\"]},\"id\":\"5252\",\"type\":\"Row\"},{\"attributes\":{},\"id\":\"5255\",\"type\":\"Selection\"},{\"attributes\":{},\"id\":\"5282\",\"type\":\"StringEditor\"},{\"attributes\":{\"margin\":[5,5,5,5],\"name\":\"HSpacer12159\",\"sizing_mode\":\"stretch_width\"},\"id\":\"5253\",\"type\":\"Spacer\"},{\"attributes\":{\"editor\":{\"id\":\"5282\"},\"field\":\"Exit_Share_Price\",\"formatter\":{\"id\":\"5281\"},\"title\":\"Exit Share Price\"},\"id\":\"5283\",\"type\":\"TableColumn\"},{\"attributes\":{\"columns\":[{\"id\":\"5258\"},{\"id\":\"5263\"},{\"id\":\"5268\"},{\"id\":\"5273\"},{\"id\":\"5278\"},{\"id\":\"5283\"},{\"id\":\"5288\"},{\"id\":\"5293\"},{\"id\":\"5298\"}],\"height\":300,\"reorderable\":false,\"source\":{\"id\":\"5254\"},\"view\":{\"id\":\"5303\"},\"width\":700},\"id\":\"5301\",\"type\":\"DataTable\"},{\"attributes\":{},\"id\":\"5256\",\"type\":\"StringFormatter\"},{\"attributes\":{},\"id\":\"5286\",\"type\":\"StringFormatter\"},{\"attributes\":{},\"id\":\"5257\",\"type\":\"StringEditor\"},{\"attributes\":{},\"id\":\"5287\",\"type\":\"StringEditor\"},{\"attributes\":{},\"id\":\"5305\",\"type\":\"UnionRenderers\"},{\"attributes\":{\"editor\":{\"id\":\"5257\"},\"field\":\"Stock\",\"formatter\":{\"id\":\"5256\"},\"title\":\"Stock\"},\"id\":\"5258\",\"type\":\"TableColumn\"},{\"attributes\":{\"editor\":{\"id\":\"5287\"},\"field\":\"Entry_Portfolio_Holding\",\"formatter\":{\"id\":\"5286\"},\"title\":\"Entry Portfolio Holding\"},\"id\":\"5288\",\"type\":\"TableColumn\"},{\"attributes\":{},\"id\":\"5261\",\"type\":\"StringFormatter\"},{\"attributes\":{},\"id\":\"5291\",\"type\":\"StringFormatter\"},{\"attributes\":{},\"id\":\"5262\",\"type\":\"StringEditor\"},{\"attributes\":{},\"id\":\"5292\",\"type\":\"StringEditor\"},{\"attributes\":{\"editor\":{\"id\":\"5262\"},\"field\":\"Entry_Date\",\"formatter\":{\"id\":\"5261\"},\"title\":\"Entry Date\"},\"id\":\"5263\",\"type\":\"TableColumn\"},{\"attributes\":{\"editor\":{\"id\":\"5292\"},\"field\":\"Exit_Portfolio_Holding\",\"formatter\":{\"id\":\"5291\"},\"title\":\"Exit Portfolio Holding\"},\"id\":\"5293\",\"type\":\"TableColumn\"},{\"attributes\":{},\"id\":\"5266\",\"type\":\"StringFormatter\"},{\"attributes\":{},\"id\":\"5296\",\"type\":\"StringFormatter\"}],\"root_ids\":[\"5252\"]},\"title\":\"Bokeh Application\",\"version\":\"2.3.0\"}};\n    var render_items = [{\"docid\":\"3e1908f5-fc55-4c25-ac81-98b132d2d7ee\",\"root_ids\":[\"5252\"],\"roots\":{\"5252\":\"959fb4e8-993c-463c-b1d7-ba835b29112f\"}}];\n    root.Bokeh.embed.embed_items_notebook(docs_json, render_items);\n  }\n  if (root.Bokeh !== undefined && root.Bokeh.Panel !== undefined) {\n    embed_document(root);\n  } else {\n    var attempts = 0;\n    var timer = setInterval(function(root) {\n      if (root.Bokeh !== undefined && root.Bokeh.Panel !== undefined) {\n        clearInterval(timer);\n        embed_document(root);\n      } else if (document.readyState == \"complete\") {\n        attempts++;\n        if (attempts > 100) {\n          clearInterval(timer);\n          console.log(\"Bokeh: ERROR: Unable to run BokehJS code because BokehJS library is missing\");\n        }\n      }\n    }, 10, root)\n  }\n})(window);</script>",
      "application/vnd.holoviews_exec.v0+json": "",
      "text/plain": [
       ":Table   [Stock,Entry Date,Exit Date,Shares,Entry Share Price,Exit Share Price,Entry Portfolio Holding,Exit Portfolio Holding,Profit/Loss]"
      ]
     },
     "metadata": {
      "application/vnd.holoviews_exec.v0+json": {
       "id": "5252"
      }
     },
     "execution_count": 44
    }
   ],
   "source": [
    "trade_evaluation_table = trade_evaluation_df.hvplot.table()\n",
    "trade_evaluation_table"
   ]
  },
  {
   "cell_type": "markdown",
   "metadata": {},
   "source": [
    "### Build a Dashboard with `hvplot`"
   ]
  },
  {
   "cell_type": "code",
   "execution_count": 45,
   "metadata": {},
   "outputs": [
    {
     "output_type": "display_data",
     "data": {
      "text/plain": "<IPython.core.display.Markdown object>",
      "text/markdown": "# Trading Dashboard"
     },
     "metadata": {}
    },
    {
     "output_type": "display_data",
     "data": {},
     "metadata": {}
    },
    {
     "output_type": "display_data",
     "data": {
      "text/html": "<div id='5320'>\n\n\n\n\n\n  <div class=\"bk-root\" id=\"98dec5bc-9d7a-46b9-a8ff-712d2ecfe5ec\" data-root-id=\"5320\"></div>\n</div>\n<script type=\"application/javascript\">(function(root) {\n  function embed_document(root) {\n    var docs_json = {\"393185d1-921e-4e90-a487-e1724530aeb1\":{\"defs\":[{\"extends\":null,\"module\":null,\"name\":\"DataModel\",\"overrides\":[],\"properties\":[]}],\"roots\":{\"references\":[{\"attributes\":{},\"id\":\"5343\",\"type\":\"SaveTool\"},{\"attributes\":{},\"id\":\"5402\",\"type\":\"UnionRenderers\"},{\"attributes\":{\"callback\":null,\"renderers\":[{\"id\":\"5368\"},{\"id\":\"5389\"},{\"id\":\"5411\"}],\"tags\":[\"hv_created\"],\"tooltips\":[[\"Variable\",\"@{Variable}\"],[\"date\",\"@{date}\"],[\"value\",\"@{value}\"]]},\"id\":\"5324\",\"type\":\"HoverTool\"},{\"attributes\":{},\"id\":\"5344\",\"type\":\"PanTool\"},{\"attributes\":{},\"id\":\"5363\",\"type\":\"Selection\"},{\"attributes\":{\"margin\":[5,5,5,5],\"name\":\"HSpacer12206\",\"sizing_mode\":\"stretch_width\"},\"id\":\"5321\",\"type\":\"Spacer\"},{\"attributes\":{},\"id\":\"5345\",\"type\":\"WheelZoomTool\"},{\"attributes\":{\"label\":{\"value\":\"SMA50\"},\"renderers\":[{\"id\":\"5389\"}]},\"id\":\"5403\",\"type\":\"LegendItem\"},{\"attributes\":{\"margin\":[5,5,5,5],\"name\":\"HSpacer12207\",\"sizing_mode\":\"stretch_width\"},\"id\":\"5555\",\"type\":\"Spacer\"},{\"attributes\":{\"overlay\":{\"id\":\"5348\"}},\"id\":\"5346\",\"type\":\"BoxZoomTool\"},{\"attributes\":{\"children\":[{\"id\":\"5321\"},{\"id\":\"5327\"},{\"id\":\"5555\"}],\"margin\":[0,0,0,0],\"name\":\"Row12202\",\"tags\":[\"embedded\"]},\"id\":\"5320\",\"type\":\"Row\"},{\"attributes\":{},\"id\":\"5347\",\"type\":\"ResetTool\"},{\"attributes\":{\"line_color\":\"#fc4f30\",\"line_width\":2,\"x\":{\"field\":\"date\"},\"y\":{\"field\":\"value\"}},\"id\":\"5404\",\"type\":\"Line\"},{\"attributes\":{\"line_color\":\"#30a2da\",\"line_width\":2,\"x\":{\"field\":\"date\"},\"y\":{\"field\":\"value\"}},\"id\":\"5382\",\"type\":\"Line\"},{\"attributes\":{\"data\":{\"Variable\":[\"SMA100\",\"SMA100\",\"SMA100\",\"SMA100\",\"SMA100\",\"SMA100\",\"SMA100\",\"SMA100\",\"SMA100\",\"SMA100\",\"SMA100\",\"SMA100\",\"SMA100\",\"SMA100\",\"SMA100\",\"SMA100\",\"SMA100\",\"SMA100\",\"SMA100\",\"SMA100\",\"SMA100\",\"SMA100\",\"SMA100\",\"SMA100\",\"SMA100\",\"SMA100\",\"SMA100\",\"SMA100\",\"SMA100\",\"SMA100\",\"SMA100\",\"SMA100\",\"SMA100\",\"SMA100\",\"SMA100\",\"SMA100\",\"SMA100\",\"SMA100\",\"SMA100\",\"SMA100\",\"SMA100\",\"SMA100\",\"SMA100\",\"SMA100\",\"SMA100\",\"SMA100\",\"SMA100\",\"SMA100\",\"SMA100\",\"SMA100\",\"SMA100\",\"SMA100\",\"SMA100\"],\"date\":[\"2021-01-04\",\"2021-01-05\",\"2021-01-06\",\"2021-01-07\",\"2021-01-08\",\"2021-01-11\",\"2021-01-12\",\"2021-01-13\",\"2021-01-14\",\"2021-01-15\",\"2021-01-19\",\"2021-01-20\",\"2021-01-21\",\"2021-01-22\",\"2021-01-25\",\"2021-01-26\",\"2021-01-27\",\"2021-01-28\",\"2021-01-29\",\"2021-02-01\",\"2021-02-02\",\"2021-02-03\",\"2021-02-04\",\"2021-02-05\",\"2021-02-08\",\"2021-02-09\",\"2021-02-10\",\"2021-02-11\",\"2021-02-12\",\"2021-02-16\",\"2021-02-17\",\"2021-02-18\",\"2021-02-19\",\"2021-02-22\",\"2021-02-23\",\"2021-02-24\",\"2021-02-25\",\"2021-02-26\",\"2021-03-01\",\"2021-03-02\",\"2021-03-03\",\"2021-03-04\",\"2021-03-05\",\"2021-03-08\",\"2021-03-09\",\"2021-03-10\",\"2021-03-11\",\"2021-03-12\",\"2021-03-15\",\"2021-03-16\",\"2021-03-17\",\"2021-03-18\",\"2021-03-19\"],\"value\":{\"__ndarray__\":\"AAAAAAAA+H8AAAAAAAD4fwAAAAAAAPh/AAAAAAAA+H8AAAAAAAD4fwAAAAAAAPh/AAAAAAAA+H8AAAAAAAD4fwAAAAAAAPh/AAAAAAAA+H8AAAAAAAD4fwAAAAAAAPh/AAAAAAAA+H8AAAAAAAD4fwAAAAAAAPh/AAAAAAAA+H8AAAAAAAD4fwAAAAAAAPh/AAAAAAAA+H8AAAAAAAD4fwAAAAAAAPh/AAAAAAAA+H8AAAAAAAD4fwAAAAAAAPh/AAAAAAAA+H8AAAAAAAD4fwAAAAAAAPh/AAAAAAAA+H8AAAAAAAD4fwAAAAAAAPh/AAAAAAAA+H8AAAAAAAD4fwAAAAAAAPh/AAAAAAAA+H8AAAAAAAD4fwAAAAAAAPh/AAAAAAAA+H8AAAAAAAD4fwAAAAAAAPh/AAAAAAAA+H8AAAAAAAD4fwAAAAAAAPh/AAAAAAAA+H8AAAAAAAD4fwAAAAAAAPh/AAAAAAAA+H8AAAAAAAD4fwAAAAAAAPh/AAAAAAAA+H8AAAAAAAD4fwAAAAAAAPh/AAAAAAAA+H8AAAAAAAD4fw==\",\"dtype\":\"float64\",\"order\":\"little\",\"shape\":[53]}},\"selected\":{\"id\":\"5406\"},\"selection_policy\":{\"id\":\"5426\"}},\"id\":\"5405\",\"type\":\"ColumnDataSource\"},{\"attributes\":{\"label\":{\"value\":\"close\"},\"renderers\":[{\"id\":\"5368\"}]},\"id\":\"5381\",\"type\":\"LegendItem\"},{\"attributes\":{},\"id\":\"5406\",\"type\":\"Selection\"},{\"attributes\":{\"below\":[{\"id\":\"5336\"}],\"center\":[{\"id\":\"5338\"},{\"id\":\"5342\"}],\"height\":300,\"left\":[{\"id\":\"5339\"}],\"margin\":[5,5,5,5],\"min_border_bottom\":10,\"min_border_left\":10,\"min_border_right\":10,\"min_border_top\":10,\"renderers\":[{\"id\":\"5368\"},{\"id\":\"5389\"},{\"id\":\"5411\"}],\"right\":[{\"id\":\"5380\"}],\"sizing_mode\":\"fixed\",\"title\":{\"id\":\"5328\"},\"toolbar\":{\"id\":\"5349\"},\"width\":700,\"x_range\":{\"id\":\"5322\"},\"x_scale\":{\"id\":\"5332\"},\"y_range\":{\"id\":\"5323\"},\"y_scale\":{\"id\":\"5334\"}},\"id\":\"5327\",\"subtype\":\"Figure\",\"type\":\"Plot\"},{\"attributes\":{\"click_policy\":\"mute\",\"items\":[{\"id\":\"5381\"},{\"id\":\"5403\"},{\"id\":\"5427\"}],\"location\":[0,0],\"title\":\"Variable\"},\"id\":\"5380\",\"type\":\"Legend\"},{\"attributes\":{\"text_color\":\"black\",\"text_font_size\":\"12pt\"},\"id\":\"5328\",\"type\":\"Title\"},{\"attributes\":{\"end\":915.509,\"reset_end\":915.509,\"reset_start\":530.921,\"start\":530.921,\"tags\":[[[\"value\",\"value\",null]]]},\"id\":\"5323\",\"type\":\"Range1d\"},{\"attributes\":{},\"id\":\"5379\",\"type\":\"UnionRenderers\"},{\"attributes\":{},\"id\":\"5332\",\"type\":\"CategoricalScale\"},{\"attributes\":{},\"id\":\"5360\",\"type\":\"BasicTickFormatter\"},{\"attributes\":{},\"id\":\"5334\",\"type\":\"LinearScale\"},{\"attributes\":{\"source\":{\"id\":\"5405\"}},\"id\":\"5412\",\"type\":\"CDSView\"},{\"attributes\":{\"data_source\":{\"id\":\"5362\"},\"glyph\":{\"id\":\"5365\"},\"hover_glyph\":null,\"muted_glyph\":{\"id\":\"5367\"},\"nonselection_glyph\":{\"id\":\"5366\"},\"selection_glyph\":{\"id\":\"5382\"},\"view\":{\"id\":\"5369\"}},\"id\":\"5368\",\"type\":\"GlyphRenderer\"},{\"attributes\":{\"axis_label\":\"date\",\"formatter\":{\"id\":\"5358\"},\"major_label_policy\":{\"id\":\"5356\"},\"ticker\":{\"id\":\"5337\"},\"visible\":false},\"id\":\"5336\",\"type\":\"CategoricalAxis\"},{\"attributes\":{\"line_alpha\":0.1,\"line_color\":\"#30a2da\",\"line_width\":2,\"x\":{\"field\":\"date\"},\"y\":{\"field\":\"value\"}},\"id\":\"5366\",\"type\":\"Line\"},{\"attributes\":{},\"id\":\"5337\",\"type\":\"CategoricalTicker\"},{\"attributes\":{},\"id\":\"5359\",\"type\":\"AllLabels\"},{\"attributes\":{\"line_color\":\"#30a2da\",\"line_width\":2,\"x\":{\"field\":\"date\"},\"y\":{\"field\":\"value\"}},\"id\":\"5365\",\"type\":\"Line\"},{\"attributes\":{\"line_alpha\":0.2,\"line_color\":\"#e5ae38\",\"line_width\":2,\"x\":{\"field\":\"date\"},\"y\":{\"field\":\"value\"}},\"id\":\"5410\",\"type\":\"Line\"},{\"attributes\":{},\"id\":\"5358\",\"type\":\"CategoricalTickFormatter\"},{\"attributes\":{\"line_alpha\":0.2,\"line_color\":\"#30a2da\",\"line_width\":2,\"x\":{\"field\":\"date\"},\"y\":{\"field\":\"value\"}},\"id\":\"5367\",\"type\":\"Line\"},{\"attributes\":{\"line_color\":\"#e5ae38\",\"line_width\":2,\"x\":{\"field\":\"date\"},\"y\":{\"field\":\"value\"}},\"id\":\"5408\",\"type\":\"Line\"},{\"attributes\":{\"axis\":{\"id\":\"5336\"},\"grid_line_color\":null,\"ticker\":null},\"id\":\"5338\",\"type\":\"Grid\"},{\"attributes\":{\"data\":{\"Variable\":[\"close\",\"close\",\"close\",\"close\",\"close\",\"close\",\"close\",\"close\",\"close\",\"close\",\"close\",\"close\",\"close\",\"close\",\"close\",\"close\",\"close\",\"close\",\"close\",\"close\",\"close\",\"close\",\"close\",\"close\",\"close\",\"close\",\"close\",\"close\",\"close\",\"close\",\"close\",\"close\",\"close\",\"close\",\"close\",\"close\",\"close\",\"close\",\"close\",\"close\",\"close\",\"close\",\"close\",\"close\",\"close\",\"close\",\"close\",\"close\",\"close\",\"close\",\"close\",\"close\",\"close\"],\"date\":[\"2021-01-04\",\"2021-01-05\",\"2021-01-06\",\"2021-01-07\",\"2021-01-08\",\"2021-01-11\",\"2021-01-12\",\"2021-01-13\",\"2021-01-14\",\"2021-01-15\",\"2021-01-19\",\"2021-01-20\",\"2021-01-21\",\"2021-01-22\",\"2021-01-25\",\"2021-01-26\",\"2021-01-27\",\"2021-01-28\",\"2021-01-29\",\"2021-02-01\",\"2021-02-02\",\"2021-02-03\",\"2021-02-04\",\"2021-02-05\",\"2021-02-08\",\"2021-02-09\",\"2021-02-10\",\"2021-02-11\",\"2021-02-12\",\"2021-02-16\",\"2021-02-17\",\"2021-02-18\",\"2021-02-19\",\"2021-02-22\",\"2021-02-23\",\"2021-02-24\",\"2021-02-25\",\"2021-02-26\",\"2021-03-01\",\"2021-03-02\",\"2021-03-03\",\"2021-03-04\",\"2021-03-05\",\"2021-03-08\",\"2021-03-09\",\"2021-03-10\",\"2021-03-11\",\"2021-03-12\",\"2021-03-15\",\"2021-03-16\",\"2021-03-17\",\"2021-03-18\",\"2021-03-19\"],\"value\":{\"__ndarray__\":\"AAAAAADOhkA9CtejcPiGQEjhehSuo4dAUrgeheuBiUAK16NwPYCLQD0K16NwWYlA9ihcj8KJikCPwvUoXLOKQEjhehSuYYpA4XoUrkfRiUAAAAAAAGSKQDMzMzMzlYpA9ihcj8JnikAAAAAAAHSKQBSuR+F6hotASOF6FK6bi0AzMzMzMwWLQKRwPQrXG4pAc2iR7XzKiEDpSC7/IUCKQLgehetRRotAmpmZmZm1ikBSuB6F64+KQHsUrkfhpIpAZmZmZmb6ikAAAAAAAIqKQAAAAAAAKIlAMzMzMzNdiUC4HoXrUYCJQFK4HoXr34hAAAAAAADyiEBmZmZmZpqIQAAAAAAAbIhASOF6FK5VhkAzMzMzM9WFQFyPwvUoMIdAzczMzMxUhUCuR+F6FPiEQD0K16Nwc4ZAZmZmZmZwhUD2KFyPwmGEQFK4HoXra4NAhxbZzvergkD2KFyPwpeBQHE9CtejDIVAXI/C9SjihEDNzMzMzNyFQB+F61G4roVA7FG4HoUfhkDXo3A9CiWFQLgehetR7IVAZmZmZmZqhED2KFyPwneEQA==\",\"dtype\":\"float64\",\"order\":\"little\",\"shape\":[53]}},\"selected\":{\"id\":\"5363\"},\"selection_policy\":{\"id\":\"5379\"}},\"id\":\"5362\",\"type\":\"ColumnDataSource\"},{\"attributes\":{\"line_color\":\"#fc4f30\",\"line_width\":2,\"x\":{\"field\":\"date\"},\"y\":{\"field\":\"value\"}},\"id\":\"5386\",\"type\":\"Line\"},{\"attributes\":{\"line_alpha\":0.1,\"line_color\":\"#e5ae38\",\"line_width\":2,\"x\":{\"field\":\"date\"},\"y\":{\"field\":\"value\"}},\"id\":\"5409\",\"type\":\"Line\"},{\"attributes\":{\"bottom_units\":\"screen\",\"fill_alpha\":0.5,\"fill_color\":\"lightgrey\",\"left_units\":\"screen\",\"level\":\"overlay\",\"line_alpha\":1.0,\"line_color\":\"black\",\"line_dash\":[4,4],\"line_width\":2,\"right_units\":\"screen\",\"syncable\":false,\"top_units\":\"screen\"},\"id\":\"5348\",\"type\":\"BoxAnnotation\"},{\"attributes\":{\"data\":{\"Variable\":[\"SMA50\",\"SMA50\",\"SMA50\",\"SMA50\",\"SMA50\",\"SMA50\",\"SMA50\",\"SMA50\",\"SMA50\",\"SMA50\",\"SMA50\",\"SMA50\",\"SMA50\",\"SMA50\",\"SMA50\",\"SMA50\",\"SMA50\",\"SMA50\",\"SMA50\",\"SMA50\",\"SMA50\",\"SMA50\",\"SMA50\",\"SMA50\",\"SMA50\",\"SMA50\",\"SMA50\",\"SMA50\",\"SMA50\",\"SMA50\",\"SMA50\",\"SMA50\",\"SMA50\",\"SMA50\",\"SMA50\",\"SMA50\",\"SMA50\",\"SMA50\",\"SMA50\",\"SMA50\",\"SMA50\",\"SMA50\",\"SMA50\",\"SMA50\",\"SMA50\",\"SMA50\",\"SMA50\",\"SMA50\",\"SMA50\",\"SMA50\",\"SMA50\",\"SMA50\",\"SMA50\"],\"date\":[\"2021-01-04\",\"2021-01-05\",\"2021-01-06\",\"2021-01-07\",\"2021-01-08\",\"2021-01-11\",\"2021-01-12\",\"2021-01-13\",\"2021-01-14\",\"2021-01-15\",\"2021-01-19\",\"2021-01-20\",\"2021-01-21\",\"2021-01-22\",\"2021-01-25\",\"2021-01-26\",\"2021-01-27\",\"2021-01-28\",\"2021-01-29\",\"2021-02-01\",\"2021-02-02\",\"2021-02-03\",\"2021-02-04\",\"2021-02-05\",\"2021-02-08\",\"2021-02-09\",\"2021-02-10\",\"2021-02-11\",\"2021-02-12\",\"2021-02-16\",\"2021-02-17\",\"2021-02-18\",\"2021-02-19\",\"2021-02-22\",\"2021-02-23\",\"2021-02-24\",\"2021-02-25\",\"2021-02-26\",\"2021-03-01\",\"2021-03-02\",\"2021-03-03\",\"2021-03-04\",\"2021-03-05\",\"2021-03-08\",\"2021-03-09\",\"2021-03-10\",\"2021-03-11\",\"2021-03-12\",\"2021-03-15\",\"2021-03-16\",\"2021-03-17\",\"2021-03-18\",\"2021-03-19\"],\"value\":{\"__ndarray__\":\"AAAAAAAA+H8AAAAAAAD4fwAAAAAAAPh/AAAAAAAA+H8AAAAAAAD4fwAAAAAAAPh/AAAAAAAA+H8AAAAAAAD4fwAAAAAAAPh/AAAAAAAA+H8AAAAAAAD4fwAAAAAAAPh/AAAAAAAA+H8AAAAAAAD4fwAAAAAAAPh/AAAAAAAA+H8AAAAAAAD4fwAAAAAAAPh/AAAAAAAA+H8AAAAAAAD4fwAAAAAAAPh/AAAAAAAA+H8AAAAAAAD4fwAAAAAAAPh/AAAAAAAA+H8AAAAAAAD4fwAAAAAAAPh/AAAAAAAA+H8AAAAAAAD4fwAAAAAAAPh/AAAAAAAA+H8AAAAAAAD4fwAAAAAAAPh/AAAAAAAA+H8AAAAAAAD4fwAAAAAAAPh/AAAAAAAA+H8AAAAAAAD4fwAAAAAAAPh/AAAAAAAA+H8AAAAAAAD4fwAAAAAAAPh/AAAAAAAA+H8AAAAAAAD4fwAAAAAAAPh/AAAAAAAA+H8AAAAAAAD4fwAAAAAAAPh/AAAAAAAA+H9uQbYs3z6IQDQebLFbOohAsRAdAkctiEBTxVT6CR2IQA==\",\"dtype\":\"float64\",\"order\":\"little\",\"shape\":[53]}},\"selected\":{\"id\":\"5384\"},\"selection_policy\":{\"id\":\"5402\"}},\"id\":\"5383\",\"type\":\"ColumnDataSource\"},{\"attributes\":{\"axis_label\":\"\",\"formatter\":{\"id\":\"5360\"},\"major_label_policy\":{\"id\":\"5359\"},\"ticker\":{\"id\":\"5340\"}},\"id\":\"5339\",\"type\":\"LinearAxis\"},{\"attributes\":{},\"id\":\"5356\",\"type\":\"AllLabels\"},{\"attributes\":{\"data_source\":{\"id\":\"5405\"},\"glyph\":{\"id\":\"5408\"},\"hover_glyph\":null,\"muted_glyph\":{\"id\":\"5410\"},\"nonselection_glyph\":{\"id\":\"5409\"},\"selection_glyph\":{\"id\":\"5428\"},\"view\":{\"id\":\"5412\"}},\"id\":\"5411\",\"type\":\"GlyphRenderer\"},{\"attributes\":{\"source\":{\"id\":\"5362\"}},\"id\":\"5369\",\"type\":\"CDSView\"},{\"attributes\":{},\"id\":\"5340\",\"type\":\"BasicTicker\"},{\"attributes\":{\"data_source\":{\"id\":\"5383\"},\"glyph\":{\"id\":\"5386\"},\"hover_glyph\":null,\"muted_glyph\":{\"id\":\"5388\"},\"nonselection_glyph\":{\"id\":\"5387\"},\"selection_glyph\":{\"id\":\"5404\"},\"view\":{\"id\":\"5390\"}},\"id\":\"5389\",\"type\":\"GlyphRenderer\"},{\"attributes\":{\"factors\":[\"2021-01-04\",\"2021-01-05\",\"2021-01-06\",\"2021-01-07\",\"2021-01-08\",\"2021-01-11\",\"2021-01-12\",\"2021-01-13\",\"2021-01-14\",\"2021-01-15\",\"2021-01-19\",\"2021-01-20\",\"2021-01-21\",\"2021-01-22\",\"2021-01-25\",\"2021-01-26\",\"2021-01-27\",\"2021-01-28\",\"2021-01-29\",\"2021-02-01\",\"2021-02-02\",\"2021-02-03\",\"2021-02-04\",\"2021-02-05\",\"2021-02-08\",\"2021-02-09\",\"2021-02-10\",\"2021-02-11\",\"2021-02-12\",\"2021-02-16\",\"2021-02-17\",\"2021-02-18\",\"2021-02-19\",\"2021-02-22\",\"2021-02-23\",\"2021-02-24\",\"2021-02-25\",\"2021-02-26\",\"2021-03-01\",\"2021-03-02\",\"2021-03-03\",\"2021-03-04\",\"2021-03-05\",\"2021-03-08\",\"2021-03-09\",\"2021-03-10\",\"2021-03-11\",\"2021-03-12\",\"2021-03-15\",\"2021-03-16\",\"2021-03-17\",\"2021-03-18\",\"2021-03-19\"],\"tags\":[[[\"date\",\"date\",null]]]},\"id\":\"5322\",\"type\":\"FactorRange\"},{\"attributes\":{\"source\":{\"id\":\"5383\"}},\"id\":\"5390\",\"type\":\"CDSView\"},{\"attributes\":{},\"id\":\"5384\",\"type\":\"Selection\"},{\"attributes\":{\"axis\":{\"id\":\"5339\"},\"dimension\":1,\"grid_line_color\":null,\"ticker\":null},\"id\":\"5342\",\"type\":\"Grid\"},{\"attributes\":{},\"id\":\"5426\",\"type\":\"UnionRenderers\"},{\"attributes\":{\"line_alpha\":0.1,\"line_color\":\"#fc4f30\",\"line_width\":2,\"x\":{\"field\":\"date\"},\"y\":{\"field\":\"value\"}},\"id\":\"5387\",\"type\":\"Line\"},{\"attributes\":{\"label\":{\"value\":\"SMA100\"},\"renderers\":[{\"id\":\"5411\"}]},\"id\":\"5427\",\"type\":\"LegendItem\"},{\"attributes\":{\"line_alpha\":0.2,\"line_color\":\"#fc4f30\",\"line_width\":2,\"x\":{\"field\":\"date\"},\"y\":{\"field\":\"value\"}},\"id\":\"5388\",\"type\":\"Line\"},{\"attributes\":{\"active_multi\":null,\"tools\":[{\"id\":\"5324\"},{\"id\":\"5343\"},{\"id\":\"5344\"},{\"id\":\"5345\"},{\"id\":\"5346\"},{\"id\":\"5347\"}]},\"id\":\"5349\",\"type\":\"Toolbar\"},{\"attributes\":{\"line_color\":\"#e5ae38\",\"line_width\":2,\"x\":{\"field\":\"date\"},\"y\":{\"field\":\"value\"}},\"id\":\"5428\",\"type\":\"Line\"}],\"root_ids\":[\"5320\"]},\"title\":\"Bokeh Application\",\"version\":\"2.3.0\"}};\n    var render_items = [{\"docid\":\"393185d1-921e-4e90-a487-e1724530aeb1\",\"root_ids\":[\"5320\"],\"roots\":{\"5320\":\"98dec5bc-9d7a-46b9-a8ff-712d2ecfe5ec\"}}];\n    root.Bokeh.embed.embed_items_notebook(docs_json, render_items);\n  }\n  if (root.Bokeh !== undefined && root.Bokeh.Panel !== undefined) {\n    embed_document(root);\n  } else {\n    var attempts = 0;\n    var timer = setInterval(function(root) {\n      if (root.Bokeh !== undefined && root.Bokeh.Panel !== undefined) {\n        clearInterval(timer);\n        embed_document(root);\n      } else if (document.readyState == \"complete\") {\n        attempts++;\n        if (attempts > 100) {\n          clearInterval(timer);\n          console.log(\"Bokeh: ERROR: Unable to run BokehJS code because BokehJS library is missing\");\n        }\n      }\n    }, 10, root)\n  }\n})(window);</script>",
      "application/vnd.holoviews_exec.v0+json": "",
      "text/plain": ":NdOverlay   [Variable]\n   :Curve   [date]   (value)"
     },
     "metadata": {
      "application/vnd.holoviews_exec.v0+json": {
       "id": "5320"
      }
     }
    },
    {
     "output_type": "display_data",
     "data": {},
     "metadata": {}
    },
    {
     "output_type": "execute_result",
     "data": {
      "text/html": "<div id='5627'>\n\n\n\n\n\n  <div class=\"bk-root\" id=\"5edc517c-c160-4624-91ac-af70abf2b4a5\" data-root-id=\"5627\"></div>\n</div>\n<script type=\"application/javascript\">(function(root) {\n  function embed_document(root) {\n    var docs_json = {\"3c381d41-4aba-46bf-9a29-158ac7b2aa74\":{\"defs\":[{\"extends\":null,\"module\":null,\"name\":\"DataModel\",\"overrides\":[],\"properties\":[]}],\"roots\":{\"references\":[{\"attributes\":{\"data\":{\"Backtest\":{\"__ndarray__\":\"AAAAAAAAAAAAAAAAAAAAAAAAAAAAAAAAAAAAAAAA+H8AAAAAAAD4fw==\",\"dtype\":\"float64\",\"order\":\"little\",\"shape\":[5]},\"index\":[\"Annual Return\",\"Cumulative Returns\",\"Annual Volatility\",\"Sharpe Ratio\",\"Sortino Ratio\"]},\"selected\":{\"id\":\"5630\"},\"selection_policy\":{\"id\":\"5695\"}},\"id\":\"5629\",\"type\":\"ColumnDataSource\"},{\"attributes\":{\"source\":{\"id\":\"5644\"}},\"id\":\"5693\",\"type\":\"CDSView\"},{\"attributes\":{},\"id\":\"5662\",\"type\":\"StringEditor\"},{\"attributes\":{\"toolbar\":{\"id\":\"5699\"},\"toolbar_location\":\"above\"},\"id\":\"5700\",\"type\":\"ToolbarBox\"},{\"attributes\":{},\"id\":\"5636\",\"type\":\"StringFormatter\"},{\"attributes\":{\"editor\":{\"id\":\"5662\"},\"field\":\"Shares\",\"formatter\":{\"id\":\"5661\"},\"title\":\"Shares\"},\"id\":\"5663\",\"type\":\"TableColumn\"},{\"attributes\":{},\"id\":\"5637\",\"type\":\"StringEditor\"},{\"attributes\":{},\"id\":\"5666\",\"type\":\"StringFormatter\"},{\"attributes\":{\"editor\":{\"id\":\"5637\"},\"field\":\"Backtest\",\"formatter\":{\"id\":\"5636\"},\"title\":\"Backtest\"},\"id\":\"5638\",\"type\":\"TableColumn\"},{\"attributes\":{},\"id\":\"5695\",\"type\":\"UnionRenderers\"},{\"attributes\":{},\"id\":\"5667\",\"type\":\"StringEditor\"},{\"attributes\":{},\"id\":\"5697\",\"type\":\"UnionRenderers\"},{\"attributes\":{\"source\":{\"id\":\"5629\"}},\"id\":\"5643\",\"type\":\"CDSView\"},{\"attributes\":{\"editor\":{\"id\":\"5667\"},\"field\":\"Entry_Share_Price\",\"formatter\":{\"id\":\"5666\"},\"title\":\"Entry Share Price\"},\"id\":\"5668\",\"type\":\"TableColumn\"},{\"attributes\":{\"children\":[{\"id\":\"5700\"},{\"id\":\"5698\"}]},\"id\":\"5701\",\"type\":\"Column\"},{\"attributes\":{},\"id\":\"5699\",\"type\":\"ProxyToolbar\"},{\"attributes\":{},\"id\":\"5671\",\"type\":\"StringFormatter\"},{\"attributes\":{},\"id\":\"5672\",\"type\":\"StringEditor\"},{\"attributes\":{\"margin\":[5,5,5,5],\"name\":\"HSpacer12703\",\"sizing_mode\":\"stretch_width\"},\"id\":\"5628\",\"type\":\"Spacer\"},{\"attributes\":{\"data\":{\"Entry_Date\":[],\"Entry_Portfolio_Holding\":[],\"Entry_Share_Price\":[],\"Exit_Date\":[],\"Exit_Portfolio_Holding\":[],\"Exit_Share_Price\":[],\"Profit_over_Loss\":[],\"Shares\":[],\"Stock\":[]},\"selected\":{\"id\":\"5645\"},\"selection_policy\":{\"id\":\"5697\"}},\"id\":\"5644\",\"type\":\"ColumnDataSource\"},{\"attributes\":{\"editor\":{\"id\":\"5672\"},\"field\":\"Exit_Share_Price\",\"formatter\":{\"id\":\"5671\"},\"title\":\"Exit Share Price\"},\"id\":\"5673\",\"type\":\"TableColumn\"},{\"attributes\":{},\"id\":\"5645\",\"type\":\"Selection\"},{\"attributes\":{\"columns\":[{\"id\":\"5648\"},{\"id\":\"5653\"},{\"id\":\"5658\"},{\"id\":\"5663\"},{\"id\":\"5668\"},{\"id\":\"5673\"},{\"id\":\"5678\"},{\"id\":\"5683\"},{\"id\":\"5688\"}],\"height\":300,\"reorderable\":false,\"source\":{\"id\":\"5644\"},\"view\":{\"id\":\"5693\"},\"width\":700},\"id\":\"5691\",\"type\":\"DataTable\"},{\"attributes\":{},\"id\":\"5630\",\"type\":\"Selection\"},{\"attributes\":{},\"id\":\"5676\",\"type\":\"StringFormatter\"},{\"attributes\":{},\"id\":\"5646\",\"type\":\"StringFormatter\"},{\"attributes\":{},\"id\":\"5677\",\"type\":\"StringEditor\"},{\"attributes\":{},\"id\":\"5647\",\"type\":\"StringEditor\"},{\"attributes\":{\"margin\":[5,5,5,5],\"name\":\"HSpacer12704\",\"sizing_mode\":\"stretch_width\"},\"id\":\"5738\",\"type\":\"Spacer\"},{\"attributes\":{\"editor\":{\"id\":\"5677\"},\"field\":\"Entry_Portfolio_Holding\",\"formatter\":{\"id\":\"5676\"},\"title\":\"Entry Portfolio Holding\"},\"id\":\"5678\",\"type\":\"TableColumn\"},{\"attributes\":{\"editor\":{\"id\":\"5647\"},\"field\":\"Stock\",\"formatter\":{\"id\":\"5646\"},\"title\":\"Stock\"},\"id\":\"5648\",\"type\":\"TableColumn\"},{\"attributes\":{},\"id\":\"5681\",\"type\":\"StringFormatter\"},{\"attributes\":{},\"id\":\"5651\",\"type\":\"StringFormatter\"},{\"attributes\":{\"columns\":[{\"id\":\"5633\"},{\"id\":\"5638\"}],\"height\":300,\"reorderable\":false,\"source\":{\"id\":\"5629\"},\"view\":{\"id\":\"5643\"},\"width\":700},\"id\":\"5641\",\"type\":\"DataTable\"},{\"attributes\":{},\"id\":\"5682\",\"type\":\"StringEditor\"},{\"attributes\":{},\"id\":\"5652\",\"type\":\"StringEditor\"},{\"attributes\":{},\"id\":\"5661\",\"type\":\"StringFormatter\"},{\"attributes\":{\"editor\":{\"id\":\"5682\"},\"field\":\"Exit_Portfolio_Holding\",\"formatter\":{\"id\":\"5681\"},\"title\":\"Exit Portfolio Holding\"},\"id\":\"5683\",\"type\":\"TableColumn\"},{\"attributes\":{\"editor\":{\"id\":\"5652\"},\"field\":\"Entry_Date\",\"formatter\":{\"id\":\"5651\"},\"title\":\"Entry Date\"},\"id\":\"5653\",\"type\":\"TableColumn\"},{\"attributes\":{\"children\":[{\"id\":\"5628\"},{\"id\":\"5701\"},{\"id\":\"5738\"}],\"margin\":[0,0,0,0],\"name\":\"Row12699\",\"tags\":[\"embedded\"]},\"id\":\"5627\",\"type\":\"Row\"},{\"attributes\":{},\"id\":\"5631\",\"type\":\"StringFormatter\"},{\"attributes\":{},\"id\":\"5656\",\"type\":\"StringFormatter\"},{\"attributes\":{},\"id\":\"5686\",\"type\":\"StringFormatter\"},{\"attributes\":{},\"id\":\"5687\",\"type\":\"StringEditor\"},{\"attributes\":{},\"id\":\"5657\",\"type\":\"StringEditor\"},{\"attributes\":{\"editor\":{\"id\":\"5687\"},\"field\":\"Profit_over_Loss\",\"formatter\":{\"id\":\"5686\"},\"title\":\"Profit/Loss\"},\"id\":\"5688\",\"type\":\"TableColumn\"},{\"attributes\":{},\"id\":\"5632\",\"type\":\"StringEditor\"},{\"attributes\":{\"editor\":{\"id\":\"5657\"},\"field\":\"Exit_Date\",\"formatter\":{\"id\":\"5656\"},\"title\":\"Exit Date\"},\"id\":\"5658\",\"type\":\"TableColumn\"},{\"attributes\":{\"editor\":{\"id\":\"5632\"},\"field\":\"index\",\"formatter\":{\"id\":\"5631\"},\"title\":\"index\"},\"id\":\"5633\",\"type\":\"TableColumn\"},{\"attributes\":{\"children\":[[{\"id\":\"5641\"},0,0],[{\"id\":\"5691\"},0,1]]},\"id\":\"5698\",\"type\":\"GridBox\"}],\"root_ids\":[\"5627\"]},\"title\":\"Bokeh Application\",\"version\":\"2.3.0\"}};\n    var render_items = [{\"docid\":\"3c381d41-4aba-46bf-9a29-158ac7b2aa74\",\"root_ids\":[\"5627\"],\"roots\":{\"5627\":\"5edc517c-c160-4624-91ac-af70abf2b4a5\"}}];\n    root.Bokeh.embed.embed_items_notebook(docs_json, render_items);\n  }\n  if (root.Bokeh !== undefined && root.Bokeh.Panel !== undefined) {\n    embed_document(root);\n  } else {\n    var attempts = 0;\n    var timer = setInterval(function(root) {\n      if (root.Bokeh !== undefined && root.Bokeh.Panel !== undefined) {\n        clearInterval(timer);\n        embed_document(root);\n      } else if (document.readyState == \"complete\") {\n        attempts++;\n        if (attempts > 100) {\n          clearInterval(timer);\n          console.log(\"Bokeh: ERROR: Unable to run BokehJS code because BokehJS library is missing\");\n        }\n      }\n    }, 10, root)\n  }\n})(window);</script>",
      "application/vnd.holoviews_exec.v0+json": "",
      "text/plain": [
       ":Layout\n",
       "   .Table.I  :Table   [index,Backtest]\n",
       "   .Table.II :Table   [Stock,Entry Date,Exit Date,Shares,Entry Share Price,Exit Share Price,Entry Portfolio Holding,Exit Portfolio Holding,Profit/Loss]"
      ]
     },
     "metadata": {
      "application/vnd.holoviews_exec.v0+json": {
       "id": "5627"
      }
     },
     "execution_count": 45
    }
   ],
   "source": [
    "# Assemble dashboard visualization\n",
    "display(Markdown(\"# Trading Dashboard\"))\n",
    "display(price_chart)\n",
    "portfolio_evaluation_table + trade_evaluation_table"
   ]
  }
 ],
 "metadata": {
  "kernelspec": {
   "display_name": "Python 3",
   "language": "python",
   "name": "python3"
  },
  "language_info": {
   "codemirror_mode": {
    "name": "ipython",
    "version": 3
   },
   "file_extension": ".py",
   "mimetype": "text/x-python",
   "name": "python",
   "nbconvert_exporter": "python",
   "pygments_lexer": "ipython3",
   "version": "3.6.9-final"
  }
 },
 "nbformat": 4,
 "nbformat_minor": 4
}