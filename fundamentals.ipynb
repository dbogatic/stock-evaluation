{
 "metadata": {
  "language_info": {
   "codemirror_mode": {
    "name": "ipython",
    "version": 3
   },
   "file_extension": ".py",
   "mimetype": "text/x-python",
   "name": "python",
   "nbconvert_exporter": "python",
   "pygments_lexer": "ipython3",
   "version": "3.6.9-final"
  },
  "orig_nbformat": 2,
  "kernelspec": {
   "name": "python3",
   "display_name": "Python 3.6.9 64-bit",
   "metadata": {
    "interpreter": {
     "hash": "31f2aee4e71d21fbe5cf8b01ff0e069b9275f58929596ceb00d14d90e3e16cd6"
    }
   }
  }
 },
 "nbformat": 4,
 "nbformat_minor": 2,
 "cells": [
  {
   "cell_type": "code",
   "execution_count": 47,
   "metadata": {},
   "outputs": [],
   "source": [
    "import yfinance as yf\n",
    "from yahoofinancials import YahooFinancials"
   ]
  },
  {
   "cell_type": "code",
   "execution_count": 48,
   "metadata": {},
   "outputs": [],
   "source": [
    "ticker = yf.Ticker(\"TSLA\")"
   ]
  },
  {
   "cell_type": "code",
   "execution_count": 49,
   "metadata": {},
   "outputs": [
    {
     "output_type": "execute_result",
     "data": {
      "text/plain": [
       "{'zip': '94304',\n",
       " 'sector': 'Consumer Cyclical',\n",
       " 'fullTimeEmployees': 70757,\n",
       " 'longBusinessSummary': 'Tesla, Inc. designs, develops, manufactures, leases, and sells electric vehicles, and energy generation and storage systems in the United States, China, and internationally. The company operates in two segments, Automotive, and Energy Generation and Storage. The Automotive segment offers electric vehicles, as well as sells automotive regulatory credits. It provides sedans and sport utility vehicles through direct and used vehicle sales, a network of Tesla Superchargers, and in-app upgrades; and purchase financing and leasing services. This segment is also involved in the provision of non-warranty after-sales vehicle services, sale of used vehicles, retail merchandise, and vehicle insurance, as well as sale of products through its subsidiaries to third party customers; services for electric vehicles through its company-owned service locations, and Tesla mobile service technicians; and vehicle limited warranties and extended service plans. The Energy Generation and Storage segment engages in the design, manufacture, installation, sale, and leasing of solar energy generation and energy storage products, and related services to residential, commercial, and industrial customers and utilities through its website, stores, and galleries, as well as through a network of channel partners. This segment also offers service and repairs to its energy product customers, including under warranty; and various financing options to its solar customers. The company was formerly known as Tesla Motors, Inc. and changed its name to Tesla, Inc. in February 2017. Tesla, Inc. was founded in 2003 and is headquartered in Palo Alto, California.',\n",
       " 'city': 'Palo Alto',\n",
       " 'phone': '650-681-5000',\n",
       " 'state': 'CA',\n",
       " 'country': 'United States',\n",
       " 'companyOfficers': [],\n",
       " 'website': 'http://www.tesla.com',\n",
       " 'maxAge': 1,\n",
       " 'address1': '3500 Deer Creek Road',\n",
       " 'industry': 'Auto Manufacturers',\n",
       " 'previousClose': 653.16,\n",
       " 'regularMarketOpen': 646.6,\n",
       " 'twoHundredDayAverage': 596.943,\n",
       " 'trailingAnnualDividendYield': None,\n",
       " 'payoutRatio': 0,\n",
       " 'volume24Hr': None,\n",
       " 'regularMarketDayHigh': 657.22,\n",
       " 'navPrice': None,\n",
       " 'averageDailyVolume10Day': 35316028,\n",
       " 'totalAssets': None,\n",
       " 'regularMarketPreviousClose': 653.16,\n",
       " 'fiftyDayAverage': 737.0944,\n",
       " 'trailingAnnualDividendRate': None,\n",
       " 'open': 646.6,\n",
       " 'toCurrency': None,\n",
       " 'averageVolume10days': 35316028,\n",
       " 'expireDate': None,\n",
       " 'yield': None,\n",
       " 'algorithm': None,\n",
       " 'dividendRate': None,\n",
       " 'exDividendDate': None,\n",
       " 'beta': 2.06013,\n",
       " 'circulatingSupply': None,\n",
       " 'startDate': None,\n",
       " 'regularMarketDayLow': 624.6201,\n",
       " 'priceHint': 2,\n",
       " 'currency': 'USD',\n",
       " 'trailingPE': 1023.2344,\n",
       " 'regularMarketVolume': 42893978,\n",
       " 'lastMarket': None,\n",
       " 'maxSupply': None,\n",
       " 'openInterest': None,\n",
       " 'marketCap': 628579565568,\n",
       " 'volumeAllCurrencies': None,\n",
       " 'strikePrice': None,\n",
       " 'averageVolume': 36156696,\n",
       " 'priceToSalesTrailing12Months': 19.932127,\n",
       " 'dayLow': 624.6201,\n",
       " 'ask': 652.25,\n",
       " 'ytdReturn': None,\n",
       " 'askSize': 900,\n",
       " 'volume': 42893978,\n",
       " 'fiftyTwoWeekHigh': 900.4,\n",
       " 'forwardPE': 118.63587,\n",
       " 'fromCurrency': None,\n",
       " 'fiveYearAvgDividendYield': None,\n",
       " 'fiftyTwoWeekLow': 82.1,\n",
       " 'bid': 652.1,\n",
       " 'tradeable': False,\n",
       " 'dividendYield': None,\n",
       " 'bidSize': 3000,\n",
       " 'dayHigh': 657.22,\n",
       " 'exchange': 'NMS',\n",
       " 'shortName': 'Tesla, Inc.',\n",
       " 'longName': 'Tesla, Inc.',\n",
       " 'exchangeTimezoneName': 'America/New_York',\n",
       " 'exchangeTimezoneShortName': 'EDT',\n",
       " 'isEsgPopulated': False,\n",
       " 'gmtOffSetMilliseconds': '-14400000',\n",
       " 'quoteType': 'EQUITY',\n",
       " 'symbol': 'TSLA',\n",
       " 'messageBoardId': 'finmb_27444752',\n",
       " 'market': 'us_market',\n",
       " 'annualHoldingsTurnover': None,\n",
       " 'enterpriseToRevenue': 19.786,\n",
       " 'beta3Year': None,\n",
       " 'profitMargins': 0.02286,\n",
       " 'enterpriseToEbitda': 146.03,\n",
       " '52WeekChange': 6.5395474,\n",
       " 'morningStarRiskRating': None,\n",
       " 'forwardEps': 5.52,\n",
       " 'revenueQuarterlyGrowth': None,\n",
       " 'sharesOutstanding': 959854016,\n",
       " 'fundInceptionDate': None,\n",
       " 'annualReportExpenseRatio': None,\n",
       " 'bookValue': 23.151,\n",
       " 'sharesShort': 44000524,\n",
       " 'sharesPercentSharesOut': 0.0458,\n",
       " 'fundFamily': None,\n",
       " 'lastFiscalYearEnd': 1609372800,\n",
       " 'heldPercentInstitutions': 0.42529,\n",
       " 'netIncomeToCommon': 690000000,\n",
       " 'trailingEps': 0.64,\n",
       " 'lastDividendValue': None,\n",
       " 'SandP52WeekChange': 0.652609,\n",
       " 'priceToBook': 28.2869,\n",
       " 'heldPercentInsiders': 0.19985001,\n",
       " 'nextFiscalYearEnd': 1672444800,\n",
       " 'mostRecentQuarter': 1609372800,\n",
       " 'shortRatio': 1.59,\n",
       " 'sharesShortPreviousMonthDate': 1611878400,\n",
       " 'floatShares': 771309480,\n",
       " 'enterpriseValue': 623986278400,\n",
       " 'threeYearAverageReturn': None,\n",
       " 'lastSplitDate': 1598832000,\n",
       " 'lastSplitFactor': '5:1',\n",
       " 'legalType': None,\n",
       " 'lastDividendDate': None,\n",
       " 'morningStarOverallRating': None,\n",
       " 'earningsQuarterlyGrowth': 1.571,\n",
       " 'dateShortInterest': 1614297600,\n",
       " 'pegRatio': 4.95,\n",
       " 'lastCapGain': None,\n",
       " 'shortPercentOfFloat': 0.056999996,\n",
       " 'sharesShortPriorMonth': 52379526,\n",
       " 'impliedSharesOutstanding': None,\n",
       " 'category': None,\n",
       " 'fiveYearAverageReturn': None,\n",
       " 'regularMarketPrice': 646.6,\n",
       " 'logo_url': 'https://logo.clearbit.com/tesla.com'}"
      ]
     },
     "metadata": {},
     "execution_count": 49
    }
   ],
   "source": [
    "ticker.info"
   ]
  },
  {
   "cell_type": "code",
   "execution_count": 50,
   "metadata": {},
   "outputs": [
    {
     "output_type": "execute_result",
     "data": {
      "text/plain": [
       "'Consumer Cyclical'"
      ]
     },
     "metadata": {},
     "execution_count": 50
    }
   ],
   "source": [
    "ticker.info['sector']"
   ]
  },
  {
   "cell_type": "code",
   "execution_count": 51,
   "metadata": {},
   "outputs": [
    {
     "output_type": "execute_result",
     "data": {
      "text/plain": [
       "1023.2344"
      ]
     },
     "metadata": {},
     "execution_count": 51
    }
   ],
   "source": [
    "ticker.info['trailingPE']"
   ]
  },
  {
   "cell_type": "code",
   "execution_count": 52,
   "metadata": {},
   "outputs": [
    {
     "output_type": "execute_result",
     "data": {
      "text/plain": [
       "2.06013"
      ]
     },
     "metadata": {},
     "execution_count": 52
    }
   ],
   "source": [
    "ticker.info['beta']"
   ]
  },
  {
   "cell_type": "code",
   "execution_count": 53,
   "metadata": {},
   "outputs": [
    {
     "output_type": "execute_result",
     "data": {
      "text/plain": [
       "                  Open        High         Low       Close    Volume  \\\n",
       "Date                                                                   \n",
       "2010-06-29    3.800000    5.000000    3.508000    4.778000  93831500   \n",
       "2010-06-30    5.158000    6.084000    4.660000    4.766000  85935500   \n",
       "2010-07-01    5.000000    5.184000    4.054000    4.392000  41094000   \n",
       "2010-07-02    4.600000    4.620000    3.742000    3.840000  25699000   \n",
       "2010-07-06    4.000000    4.000000    3.166000    3.222000  34334500   \n",
       "...                ...         ...         ...         ...       ...   \n",
       "2021-03-15  694.090027  713.179993  684.039978  707.940002  29335600   \n",
       "2021-03-16  703.349976  707.919983  671.000000  676.880005  31903400   \n",
       "2021-03-17  656.869995  703.729980  651.010010  701.809998  40083300   \n",
       "2021-03-18  684.289978  689.229980  652.000000  653.159973  33224800   \n",
       "2021-03-19  646.599976  657.229980  624.619995  654.869995  42827400   \n",
       "\n",
       "            Dividends  Stock Splits  \n",
       "Date                                 \n",
       "2010-06-29          0           0.0  \n",
       "2010-06-30          0           0.0  \n",
       "2010-07-01          0           0.0  \n",
       "2010-07-02          0           0.0  \n",
       "2010-07-06          0           0.0  \n",
       "...               ...           ...  \n",
       "2021-03-15          0           0.0  \n",
       "2021-03-16          0           0.0  \n",
       "2021-03-17          0           0.0  \n",
       "2021-03-18          0           0.0  \n",
       "2021-03-19          0           0.0  \n",
       "\n",
       "[2700 rows x 7 columns]"
      ],
      "text/html": "<div>\n<style scoped>\n    .dataframe tbody tr th:only-of-type {\n        vertical-align: middle;\n    }\n\n    .dataframe tbody tr th {\n        vertical-align: top;\n    }\n\n    .dataframe thead th {\n        text-align: right;\n    }\n</style>\n<table border=\"1\" class=\"dataframe\">\n  <thead>\n    <tr style=\"text-align: right;\">\n      <th></th>\n      <th>Open</th>\n      <th>High</th>\n      <th>Low</th>\n      <th>Close</th>\n      <th>Volume</th>\n      <th>Dividends</th>\n      <th>Stock Splits</th>\n    </tr>\n    <tr>\n      <th>Date</th>\n      <th></th>\n      <th></th>\n      <th></th>\n      <th></th>\n      <th></th>\n      <th></th>\n      <th></th>\n    </tr>\n  </thead>\n  <tbody>\n    <tr>\n      <th>2010-06-29</th>\n      <td>3.800000</td>\n      <td>5.000000</td>\n      <td>3.508000</td>\n      <td>4.778000</td>\n      <td>93831500</td>\n      <td>0</td>\n      <td>0.0</td>\n    </tr>\n    <tr>\n      <th>2010-06-30</th>\n      <td>5.158000</td>\n      <td>6.084000</td>\n      <td>4.660000</td>\n      <td>4.766000</td>\n      <td>85935500</td>\n      <td>0</td>\n      <td>0.0</td>\n    </tr>\n    <tr>\n      <th>2010-07-01</th>\n      <td>5.000000</td>\n      <td>5.184000</td>\n      <td>4.054000</td>\n      <td>4.392000</td>\n      <td>41094000</td>\n      <td>0</td>\n      <td>0.0</td>\n    </tr>\n    <tr>\n      <th>2010-07-02</th>\n      <td>4.600000</td>\n      <td>4.620000</td>\n      <td>3.742000</td>\n      <td>3.840000</td>\n      <td>25699000</td>\n      <td>0</td>\n      <td>0.0</td>\n    </tr>\n    <tr>\n      <th>2010-07-06</th>\n      <td>4.000000</td>\n      <td>4.000000</td>\n      <td>3.166000</td>\n      <td>3.222000</td>\n      <td>34334500</td>\n      <td>0</td>\n      <td>0.0</td>\n    </tr>\n    <tr>\n      <th>...</th>\n      <td>...</td>\n      <td>...</td>\n      <td>...</td>\n      <td>...</td>\n      <td>...</td>\n      <td>...</td>\n      <td>...</td>\n    </tr>\n    <tr>\n      <th>2021-03-15</th>\n      <td>694.090027</td>\n      <td>713.179993</td>\n      <td>684.039978</td>\n      <td>707.940002</td>\n      <td>29335600</td>\n      <td>0</td>\n      <td>0.0</td>\n    </tr>\n    <tr>\n      <th>2021-03-16</th>\n      <td>703.349976</td>\n      <td>707.919983</td>\n      <td>671.000000</td>\n      <td>676.880005</td>\n      <td>31903400</td>\n      <td>0</td>\n      <td>0.0</td>\n    </tr>\n    <tr>\n      <th>2021-03-17</th>\n      <td>656.869995</td>\n      <td>703.729980</td>\n      <td>651.010010</td>\n      <td>701.809998</td>\n      <td>40083300</td>\n      <td>0</td>\n      <td>0.0</td>\n    </tr>\n    <tr>\n      <th>2021-03-18</th>\n      <td>684.289978</td>\n      <td>689.229980</td>\n      <td>652.000000</td>\n      <td>653.159973</td>\n      <td>33224800</td>\n      <td>0</td>\n      <td>0.0</td>\n    </tr>\n    <tr>\n      <th>2021-03-19</th>\n      <td>646.599976</td>\n      <td>657.229980</td>\n      <td>624.619995</td>\n      <td>654.869995</td>\n      <td>42827400</td>\n      <td>0</td>\n      <td>0.0</td>\n    </tr>\n  </tbody>\n</table>\n<p>2700 rows × 7 columns</p>\n</div>"
     },
     "metadata": {},
     "execution_count": 53
    }
   ],
   "source": [
    "ticker.history(period='max')"
   ]
  },
  {
   "cell_type": "code",
   "execution_count": 54,
   "metadata": {},
   "outputs": [],
   "source": [
    "ticker = 'TSLA'\n",
    "yahoo_financials = YahooFinancials(ticker)"
   ]
  },
  {
   "cell_type": "code",
   "execution_count": 55,
   "metadata": {},
   "outputs": [
    {
     "output_type": "execute_result",
     "data": {
      "text/plain": [
       "{'incomeStatementHistory': {'TSLA': [{'2020-12-31': {'researchDevelopment': 1491000000,\n",
       "     'effectOfAccountingCharges': None,\n",
       "     'incomeBeforeTax': 1154000000,\n",
       "     'minorityInterest': 1454000000,\n",
       "     'netIncome': 721000000,\n",
       "     'sellingGeneralAdministrative': 3188000000,\n",
       "     'grossProfit': 6630000000,\n",
       "     'ebit': 1951000000,\n",
       "     'operatingIncome': 1951000000,\n",
       "     'otherOperatingExpenses': None,\n",
       "     'interestExpense': -784000000,\n",
       "     'extraordinaryItems': None,\n",
       "     'nonRecurring': None,\n",
       "     'otherItems': None,\n",
       "     'incomeTaxExpense': 292000000,\n",
       "     'totalRevenue': 31536000000,\n",
       "     'totalOperatingExpenses': 29585000000,\n",
       "     'costOfRevenue': 24906000000,\n",
       "     'totalOtherIncomeExpenseNet': -797000000,\n",
       "     'discontinuedOperations': None,\n",
       "     'netIncomeFromContinuingOps': 862000000,\n",
       "     'netIncomeApplicableToCommonShares': 690000000}},\n",
       "   {'2019-12-31': {'researchDevelopment': 1343000000,\n",
       "     'effectOfAccountingCharges': None,\n",
       "     'incomeBeforeTax': -665000000,\n",
       "     'minorityInterest': 1492000000,\n",
       "     'netIncome': -862000000,\n",
       "     'sellingGeneralAdministrative': 2646000000,\n",
       "     'grossProfit': 4069000000,\n",
       "     'ebit': 80000000,\n",
       "     'operatingIncome': 80000000,\n",
       "     'otherOperatingExpenses': None,\n",
       "     'interestExpense': -725000000,\n",
       "     'extraordinaryItems': None,\n",
       "     'nonRecurring': None,\n",
       "     'otherItems': None,\n",
       "     'incomeTaxExpense': 110000000,\n",
       "     'totalRevenue': 24578000000,\n",
       "     'totalOperatingExpenses': 24498000000,\n",
       "     'costOfRevenue': 20509000000,\n",
       "     'totalOtherIncomeExpenseNet': -745000000,\n",
       "     'discontinuedOperations': None,\n",
       "     'netIncomeFromContinuingOps': -775000000,\n",
       "     'netIncomeApplicableToCommonShares': -870000000}},\n",
       "   {'2018-12-31': {'researchDevelopment': 1460000000,\n",
       "     'effectOfAccountingCharges': None,\n",
       "     'incomeBeforeTax': -1005000000,\n",
       "     'minorityInterest': 1390000000,\n",
       "     'netIncome': -976000000,\n",
       "     'sellingGeneralAdministrative': 2835000000,\n",
       "     'grossProfit': 4042000000,\n",
       "     'ebit': -253000000,\n",
       "     'operatingIncome': -253000000,\n",
       "     'otherOperatingExpenses': None,\n",
       "     'interestExpense': -653000000,\n",
       "     'extraordinaryItems': None,\n",
       "     'nonRecurring': None,\n",
       "     'otherItems': None,\n",
       "     'incomeTaxExpense': 58000000,\n",
       "     'totalRevenue': 21461000000,\n",
       "     'totalOperatingExpenses': 21714000000,\n",
       "     'costOfRevenue': 17419000000,\n",
       "     'totalOtherIncomeExpenseNet': -752000000,\n",
       "     'discontinuedOperations': None,\n",
       "     'netIncomeFromContinuingOps': -1063000000,\n",
       "     'netIncomeApplicableToCommonShares': -976000000}},\n",
       "   {'2017-12-31': {'researchDevelopment': 1378000000,\n",
       "     'effectOfAccountingCharges': None,\n",
       "     'incomeBeforeTax': -2209000000,\n",
       "     'minorityInterest': 1395080000,\n",
       "     'netIncome': -1962000000,\n",
       "     'sellingGeneralAdministrative': 2477000000,\n",
       "     'grossProfit': 2223000000,\n",
       "     'ebit': -1632000000,\n",
       "     'operatingIncome': -1632000000,\n",
       "     'otherOperatingExpenses': None,\n",
       "     'interestExpense': -477000000,\n",
       "     'extraordinaryItems': None,\n",
       "     'nonRecurring': None,\n",
       "     'otherItems': None,\n",
       "     'incomeTaxExpense': 32000000,\n",
       "     'totalRevenue': 11759000000,\n",
       "     'totalOperatingExpenses': 13391000000,\n",
       "     'costOfRevenue': 9536000000,\n",
       "     'totalOtherIncomeExpenseNet': -577000000,\n",
       "     'discontinuedOperations': None,\n",
       "     'netIncomeFromContinuingOps': -2241000000,\n",
       "     'netIncomeApplicableToCommonShares': -1962000000}}]}}"
      ]
     },
     "metadata": {},
     "execution_count": 55
    }
   ],
   "source": [
    "yahoo_financials.get_financial_stmts('annual', 'income')"
   ]
  },
  {
   "cell_type": "code",
   "execution_count": 56,
   "metadata": {},
   "outputs": [
    {
     "output_type": "execute_result",
     "data": {
      "text/plain": [
       "{'balanceSheetHistory': {'TSLA': [{'2020-12-31': {'intangibleAssets': 313000000,\n",
       "     'capitalSurplus': 27260000000,\n",
       "     'totalLiab': 28469000000,\n",
       "     'totalStockholderEquity': 22225000000,\n",
       "     'minorityInterest': 1454000000,\n",
       "     'otherCurrentLiab': 4147000000,\n",
       "     'totalAssets': 52148000000,\n",
       "     'commonStock': 1000000,\n",
       "     'otherCurrentAssets': 238000000,\n",
       "     'retainedEarnings': -5399000000,\n",
       "     'otherLiab': 3302000000,\n",
       "     'goodWill': 207000000,\n",
       "     'treasuryStock': 363000000,\n",
       "     'otherAssets': 1536000000,\n",
       "     'cash': 19384000000,\n",
       "     'totalCurrentLiabilities': 14248000000,\n",
       "     'shortLongTermDebt': 1758000000,\n",
       "     'otherStockholderEquity': 363000000,\n",
       "     'propertyPlantEquipment': 23375000000,\n",
       "     'totalCurrentAssets': 26717000000,\n",
       "     'netTangibleAssets': 21705000000,\n",
       "     'netReceivables': 1903000000,\n",
       "     'longTermDebt': 8571000000,\n",
       "     'inventory': 4101000000,\n",
       "     'accountsPayable': 6051000000}},\n",
       "   {'2019-12-31': {'intangibleAssets': 339000000,\n",
       "     'capitalSurplus': 12736000000,\n",
       "     'totalLiab': 26199000000,\n",
       "     'totalStockholderEquity': 6618000000,\n",
       "     'minorityInterest': 1492000000,\n",
       "     'otherCurrentLiab': 3693000000,\n",
       "     'totalAssets': 34309000000,\n",
       "     'commonStock': 1000000,\n",
       "     'otherCurrentAssets': 246000000,\n",
       "     'retainedEarnings': -6083000000,\n",
       "     'otherLiab': 2969000000,\n",
       "     'goodWill': 198000000,\n",
       "     'treasuryStock': -36000000,\n",
       "     'otherAssets': 1469000000,\n",
       "     'cash': 6268000000,\n",
       "     'totalCurrentLiabilities': 10667000000,\n",
       "     'shortLongTermDebt': 1399000000,\n",
       "     'otherStockholderEquity': -36000000,\n",
       "     'propertyPlantEquipment': 20199000000,\n",
       "     'totalCurrentAssets': 12103000000,\n",
       "     'longTermInvestments': 1000000,\n",
       "     'netTangibleAssets': 6081000000,\n",
       "     'netReceivables': 1324000000,\n",
       "     'longTermDebt': 10375000000,\n",
       "     'inventory': 3552000000,\n",
       "     'accountsPayable': 3771000000}},\n",
       "   {'2018-12-31': {'intangibleAssets': 282000000,\n",
       "     'capitalSurplus': 10249000000,\n",
       "     'totalLiab': 23427000000,\n",
       "     'totalStockholderEquity': 4923000000,\n",
       "     'minorityInterest': 1390000000,\n",
       "     'otherCurrentLiab': 2955000000,\n",
       "     'totalAssets': 29740000000,\n",
       "     'otherCurrentAssets': 193000000,\n",
       "     'retainedEarnings': -5318000000,\n",
       "     'otherLiab': 2318000000,\n",
       "     'goodWill': 68000000,\n",
       "     'treasuryStock': -8000000,\n",
       "     'otherAssets': 1380000000,\n",
       "     'cash': 3686000000,\n",
       "     'totalCurrentLiabilities': 9993000000,\n",
       "     'shortLongTermDebt': 2284000000,\n",
       "     'otherStockholderEquity': -8000000,\n",
       "     'propertyPlantEquipment': 19691000000,\n",
       "     'totalCurrentAssets': 8307000000,\n",
       "     'longTermInvestments': 12000000,\n",
       "     'netTangibleAssets': 4573000000,\n",
       "     'netReceivables': 949000000,\n",
       "     'longTermDebt': 8461000000,\n",
       "     'inventory': 3113000000,\n",
       "     'accountsPayable': 3405000000}},\n",
       "   {'2017-12-31': {'intangibleAssets': 361502000,\n",
       "     'capitalSurplus': 9178024000,\n",
       "     'totalLiab': 23023050000,\n",
       "     'totalStockholderEquity': 4237242000,\n",
       "     'minorityInterest': 1395080000,\n",
       "     'otherCurrentLiab': 3098379000,\n",
       "     'totalAssets': 28655372000,\n",
       "     'commonStock': 169000,\n",
       "     'otherCurrentAssets': 155323000,\n",
       "     'retainedEarnings': -4974299000,\n",
       "     'otherLiab': 4196294000,\n",
       "     'goodWill': 60237000,\n",
       "     'treasuryStock': 33348000,\n",
       "     'otherAssets': 1166193000,\n",
       "     'cash': 3367914000,\n",
       "     'totalCurrentLiabilities': 7674740000,\n",
       "     'shortLongTermDebt': 963932000,\n",
       "     'otherStockholderEquity': 33348000,\n",
       "     'propertyPlantEquipment': 20491616000,\n",
       "     'totalCurrentAssets': 6570520000,\n",
       "     'longTermInvestments': 5304000,\n",
       "     'netTangibleAssets': 3815503000,\n",
       "     'netReceivables': 515381000,\n",
       "     'longTermDebt': 9486248000,\n",
       "     'inventory': 2263537000,\n",
       "     'accountsPayable': 2390250000}}]}}"
      ]
     },
     "metadata": {},
     "execution_count": 56
    }
   ],
   "source": [
    "yahoo_financials.get_financial_stmts('annual', 'balance')"
   ]
  },
  {
   "cell_type": "code",
   "execution_count": 57,
   "metadata": {},
   "outputs": [
    {
     "output_type": "execute_result",
     "data": {
      "text/plain": [
       "{'cashflowStatementHistoryQuarterly': {'TSLA': [{'2020-12-31': {'changeToLiabilities': 1540000000,\n",
       "     'totalCashflowsFromInvestingActivities': -1047000000,\n",
       "     'netBorrowings': -2305000000,\n",
       "     'totalCashFromFinancingActivities': 2692000000,\n",
       "     'changeToOperatingActivities': -376000000,\n",
       "     'issuanceOfStock': 5043000000,\n",
       "     'netIncome': 270000000,\n",
       "     'changeInCash': 4898000000,\n",
       "     'effectOfExchangeRate': 234000000,\n",
       "     'totalCashFromOperatingActivities': 3019000000,\n",
       "     'depreciation': 618000000,\n",
       "     'otherCashflowsFromInvestingActivities': 122000000,\n",
       "     'changeToInventory': 180000000,\n",
       "     'changeToAccountReceivables': -102000000,\n",
       "     'otherCashflowsFromFinancingActivities': -46000000,\n",
       "     'changeToNetincome': 853000000,\n",
       "     'capitalExpenditures': -1164000000}},\n",
       "   {'2020-09-30': {'changeToLiabilities': 1275000000,\n",
       "     'totalCashflowsFromInvestingActivities': -1039000000,\n",
       "     'netBorrowings': -581000000,\n",
       "     'totalCashFromFinancingActivities': 4450000000,\n",
       "     'changeToOperatingActivities': -259000000,\n",
       "     'issuanceOfStock': 5117000000,\n",
       "     'netIncome': 331000000,\n",
       "     'changeInCash': 5897000000,\n",
       "     'effectOfExchangeRate': 86000000,\n",
       "     'totalCashFromOperatingActivities': 2400000000,\n",
       "     'depreciation': 584000000,\n",
       "     'otherCashflowsFromInvestingActivities': 122000000,\n",
       "     'changeToInventory': -67000000,\n",
       "     'changeToAccountReceivables': -314000000,\n",
       "     'otherCashflowsFromFinancingActivities': -86000000,\n",
       "     'changeToNetincome': 800000000,\n",
       "     'capitalExpenditures': -1021000000}},\n",
       "   {'2020-06-30': {'changeToLiabilities': -180000000,\n",
       "     'totalCashflowsFromInvestingActivities': -566000000,\n",
       "     'netBorrowings': 111000000,\n",
       "     'totalCashFromFinancingActivities': 123000000,\n",
       "     'changeToOperatingActivities': -290000000,\n",
       "     'issuanceOfStock': 57000000,\n",
       "     'netIncome': 104000000,\n",
       "     'changeInCash': 559000000,\n",
       "     'effectOfExchangeRate': 38000000,\n",
       "     'totalCashFromOperatingActivities': 964000000,\n",
       "     'depreciation': 567000000,\n",
       "     'otherCashflowsFromInvestingActivities': 122000000,\n",
       "     'changeToInventory': 446000000,\n",
       "     'changeToAccountReceivables': -222000000,\n",
       "     'otherCashflowsFromFinancingActivities': -45000000,\n",
       "     'changeToNetincome': 491000000,\n",
       "     'capitalExpenditures': -566000000}},\n",
       "   {'2020-03-31': {'changeToLiabilities': -212000000,\n",
       "     'totalCashflowsFromInvestingActivities': -480000000,\n",
       "     'netBorrowings': 287000000,\n",
       "     'totalCashFromFinancingActivities': 2708000000,\n",
       "     'changeToOperatingActivities': -240000000,\n",
       "     'issuanceOfStock': 2469000000,\n",
       "     'netIncome': 16000000,\n",
       "     'changeInCash': 1764000000,\n",
       "     'effectOfExchangeRate': -24000000,\n",
       "     'totalCashFromOperatingActivities': -440000000,\n",
       "     'depreciation': 553000000,\n",
       "     'otherCashflowsFromInvestingActivities': 1000000,\n",
       "     'changeToInventory': -981000000,\n",
       "     'changeToAccountReceivables': -14000000,\n",
       "     'otherCashflowsFromFinancingActivities': -48000000,\n",
       "     'changeToNetincome': 392000000,\n",
       "     'capitalExpenditures': -481000000}}]}}"
      ]
     },
     "metadata": {},
     "execution_count": 57
    }
   ],
   "source": [
    "yahoo_financials.get_financial_stmts('quarterly', 'cash')"
   ]
  },
  {
   "cell_type": "code",
   "execution_count": 58,
   "metadata": {},
   "outputs": [
    {
     "output_type": "execute_result",
     "data": {
      "text/plain": [
       "{'TSLA': {'annualHoldingsTurnover': None,\n",
       "  'enterpriseToRevenue': 19.786,\n",
       "  'beta3Year': None,\n",
       "  'profitMargins': 0.02286,\n",
       "  'enterpriseToEbitda': 146.03,\n",
       "  '52WeekChange': 6.5395474,\n",
       "  'morningStarRiskRating': None,\n",
       "  'forwardEps': 5.52,\n",
       "  'revenueQuarterlyGrowth': None,\n",
       "  'sharesOutstanding': 959854016,\n",
       "  'fundInceptionDate': '-',\n",
       "  'annualReportExpenseRatio': None,\n",
       "  'totalAssets': None,\n",
       "  'bookValue': 23.151,\n",
       "  'sharesShort': 44000524,\n",
       "  'sharesPercentSharesOut': 0.0458,\n",
       "  'fundFamily': None,\n",
       "  'lastFiscalYearEnd': 1609372800,\n",
       "  'heldPercentInstitutions': 0.42529,\n",
       "  'netIncomeToCommon': 690000000,\n",
       "  'trailingEps': 0.64,\n",
       "  'lastDividendValue': None,\n",
       "  'SandP52WeekChange': 0.652609,\n",
       "  'priceToBook': 28.2869,\n",
       "  'heldPercentInsiders': 0.19985001,\n",
       "  'nextFiscalYearEnd': 1672444800,\n",
       "  'yield': None,\n",
       "  'mostRecentQuarter': 1609372800,\n",
       "  'shortRatio': 1.59,\n",
       "  'sharesShortPreviousMonthDate': '2021-01-29',\n",
       "  'floatShares': 771309480,\n",
       "  'beta': 2.06013,\n",
       "  'enterpriseValue': 623986278400,\n",
       "  'priceHint': 2,\n",
       "  'threeYearAverageReturn': None,\n",
       "  'lastSplitDate': '2020-08-31',\n",
       "  'lastSplitFactor': '5:1',\n",
       "  'legalType': None,\n",
       "  'lastDividendDate': '-',\n",
       "  'morningStarOverallRating': None,\n",
       "  'earningsQuarterlyGrowth': 1.571,\n",
       "  'priceToSalesTrailing12Months': None,\n",
       "  'dateShortInterest': 1614297600,\n",
       "  'pegRatio': 4.95,\n",
       "  'ytdReturn': None,\n",
       "  'forwardPE': 118.63587,\n",
       "  'maxAge': 1,\n",
       "  'lastCapGain': None,\n",
       "  'shortPercentOfFloat': 0.056999996,\n",
       "  'sharesShortPriorMonth': 52379526,\n",
       "  'impliedSharesOutstanding': None,\n",
       "  'category': None,\n",
       "  'fiveYearAverageReturn': None}}"
      ]
     },
     "metadata": {},
     "execution_count": 58
    }
   ],
   "source": [
    "yahoo_financials.get_key_statistics_data()"
   ]
  },
  {
   "cell_type": "code",
   "execution_count": 60,
   "metadata": {},
   "outputs": [
    {
     "output_type": "execute_result",
     "data": {
      "text/plain": [
       "654.87"
      ]
     },
     "metadata": {},
     "execution_count": 60
    }
   ],
   "source": [
    "yahoo_financials.get_current_price()"
   ]
  }
 ]
}