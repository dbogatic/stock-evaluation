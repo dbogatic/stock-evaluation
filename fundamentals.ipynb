{
 "metadata": {
  "language_info": {
   "codemirror_mode": {
    "name": "ipython",
    "version": 3
   },
   "file_extension": ".py",
   "mimetype": "text/x-python",
   "name": "python",
   "nbconvert_exporter": "python",
   "pygments_lexer": "ipython3",
   "version": "3.7.9"
  },
  "orig_nbformat": 2,
  "kernelspec": {
   "name": "python3",
   "display_name": "Python 3",
   "language": "python"
  }
 },
 "nbformat": 4,
 "nbformat_minor": 2,
 "cells": [
  {
   "cell_type": "code",
   "execution_count": 1,
   "metadata": {},
   "outputs": [],
   "source": [
    "# Import libraries\n",
    "import yfinance as yf\n",
    "from yahoofinancials import YahooFinancials"
   ]
  },
  {
   "cell_type": "code",
   "execution_count": 2,
   "metadata": {},
   "outputs": [],
   "source": [
    "# Specify stock ticker\n",
    "ticker = 'TSLA'"
   ]
  },
  {
   "cell_type": "code",
   "execution_count": 3,
   "metadata": {},
   "outputs": [],
   "source": [
    "# Need to call after specifying stock ticker for pulling financial statements from yahoofinancials \n",
    "yahoo_financials = YahooFinancials(ticker)"
   ]
  },
  {
   "cell_type": "code",
   "execution_count": 4,
   "metadata": {},
   "outputs": [
    {
     "output_type": "execute_result",
     "data": {
      "text/plain": [
       "                  Open        High         Low       Close   Adj Close  \\\n",
       "Date                                                                     \n",
       "2021-03-11  699.400024  702.500000  677.179993  699.599976  699.599976   \n",
       "2021-03-12  670.000000  694.880005  666.140015  693.729980  693.729980   \n",
       "2021-03-15  694.090027  713.179993  684.039978  707.940002  707.940002   \n",
       "2021-03-16  703.349976  707.919983  671.000000  676.880005  676.880005   \n",
       "2021-03-17  656.869995  703.729980  651.010010  701.809998  701.809998   \n",
       "\n",
       "              Volume  \n",
       "Date                  \n",
       "2021-03-11  36253900  \n",
       "2021-03-12  33583800  \n",
       "2021-03-15  29335600  \n",
       "2021-03-16  31903400  \n",
       "2021-03-17  40083300  "
      ],
      "text/html": "<div>\n<style scoped>\n    .dataframe tbody tr th:only-of-type {\n        vertical-align: middle;\n    }\n\n    .dataframe tbody tr th {\n        vertical-align: top;\n    }\n\n    .dataframe thead th {\n        text-align: right;\n    }\n</style>\n<table border=\"1\" class=\"dataframe\">\n  <thead>\n    <tr style=\"text-align: right;\">\n      <th></th>\n      <th>Open</th>\n      <th>High</th>\n      <th>Low</th>\n      <th>Close</th>\n      <th>Adj Close</th>\n      <th>Volume</th>\n    </tr>\n    <tr>\n      <th>Date</th>\n      <th></th>\n      <th></th>\n      <th></th>\n      <th></th>\n      <th></th>\n      <th></th>\n    </tr>\n  </thead>\n  <tbody>\n    <tr>\n      <th>2021-03-11</th>\n      <td>699.400024</td>\n      <td>702.500000</td>\n      <td>677.179993</td>\n      <td>699.599976</td>\n      <td>699.599976</td>\n      <td>36253900</td>\n    </tr>\n    <tr>\n      <th>2021-03-12</th>\n      <td>670.000000</td>\n      <td>694.880005</td>\n      <td>666.140015</td>\n      <td>693.729980</td>\n      <td>693.729980</td>\n      <td>33583800</td>\n    </tr>\n    <tr>\n      <th>2021-03-15</th>\n      <td>694.090027</td>\n      <td>713.179993</td>\n      <td>684.039978</td>\n      <td>707.940002</td>\n      <td>707.940002</td>\n      <td>29335600</td>\n    </tr>\n    <tr>\n      <th>2021-03-16</th>\n      <td>703.349976</td>\n      <td>707.919983</td>\n      <td>671.000000</td>\n      <td>676.880005</td>\n      <td>676.880005</td>\n      <td>31903400</td>\n    </tr>\n    <tr>\n      <th>2021-03-17</th>\n      <td>656.869995</td>\n      <td>703.729980</td>\n      <td>651.010010</td>\n      <td>701.809998</td>\n      <td>701.809998</td>\n      <td>40083300</td>\n    </tr>\n  </tbody>\n</table>\n</div>"
     },
     "metadata": {},
     "execution_count": 4
    }
   ],
   "source": [
    "# Download stock price history for the specific time interval\n",
    "stock_history = yf.download(tickers=f\"{ticker}\", start=\"2018-02-01\", end=\"2021-03-18\", progress=False)\n",
    "stock_history.tail()"
   ]
  },
  {
   "cell_type": "code",
   "execution_count": 5,
   "metadata": {},
   "outputs": [
    {
     "output_type": "execute_result",
     "data": {
      "text/plain": [
       "{'zip': '94304',\n",
       " 'sector': 'Consumer Cyclical',\n",
       " 'fullTimeEmployees': 70757,\n",
       " 'longBusinessSummary': 'Tesla, Inc. designs, develops, manufactures, leases, and sells electric vehicles, and energy generation and storage systems in the United States, China, and internationally. The company operates in two segments, Automotive, and Energy Generation and Storage. The Automotive segment offers electric vehicles, as well as sells automotive regulatory credits. It provides sedans and sport utility vehicles through direct and used vehicle sales, a network of Tesla Superchargers, and in-app upgrades; and purchase financing and leasing services. This segment is also involved in the provision of non-warranty after-sales vehicle services, sale of used vehicles, retail merchandise, and vehicle insurance, as well as sale of products through its subsidiaries to third party customers; services for electric vehicles through its company-owned service locations, and Tesla mobile service technicians; and vehicle limited warranties and extended service plans. The Energy Generation and Storage segment engages in the design, manufacture, installation, sale, and leasing of solar energy generation and energy storage products, and related services to residential, commercial, and industrial customers and utilities through its website, stores, and galleries, as well as through a network of channel partners. This segment also offers service and repairs to its energy product customers, including under warranty; and various financing options to its solar customers. The company was formerly known as Tesla Motors, Inc. and changed its name to Tesla, Inc. in February 2017. Tesla, Inc. was founded in 2003 and is headquartered in Palo Alto, California.',\n",
       " 'city': 'Palo Alto',\n",
       " 'phone': '650-681-5000',\n",
       " 'state': 'CA',\n",
       " 'country': 'United States',\n",
       " 'companyOfficers': [],\n",
       " 'website': 'http://www.tesla.com',\n",
       " 'maxAge': 1,\n",
       " 'address1': '3500 Deer Creek Road',\n",
       " 'industry': 'Auto Manufacturers',\n",
       " 'previousClose': 662.16,\n",
       " 'regularMarketOpen': 667.91,\n",
       " 'twoHundredDayAverage': 601.76953,\n",
       " 'trailingAnnualDividendYield': None,\n",
       " 'payoutRatio': 0,\n",
       " 'volume24Hr': None,\n",
       " 'regularMarketDayHigh': 668.02,\n",
       " 'navPrice': None,\n",
       " 'averageDailyVolume10Day': 35331942,\n",
       " 'totalAssets': None,\n",
       " 'regularMarketPreviousClose': 662.16,\n",
       " 'fiftyDayAverage': 725.905,\n",
       " 'trailingAnnualDividendRate': None,\n",
       " 'open': 667.91,\n",
       " 'toCurrency': None,\n",
       " 'averageVolume10days': 35331942,\n",
       " 'expireDate': None,\n",
       " 'yield': None,\n",
       " 'algorithm': None,\n",
       " 'dividendRate': None,\n",
       " 'exDividendDate': None,\n",
       " 'beta': 2.06013,\n",
       " 'circulatingSupply': None,\n",
       " 'startDate': None,\n",
       " 'regularMarketDayLow': 630.11,\n",
       " 'priceHint': 2,\n",
       " 'currency': 'USD',\n",
       " 'trailingPE': 984.79694,\n",
       " 'regularMarketVolume': 32785278,\n",
       " 'lastMarket': None,\n",
       " 'maxSupply': None,\n",
       " 'openInterest': None,\n",
       " 'marketCap': 604967206912,\n",
       " 'volumeAllCurrencies': None,\n",
       " 'strikePrice': None,\n",
       " 'averageVolume': 35757757,\n",
       " 'priceToSalesTrailing12Months': 19.183384,\n",
       " 'dayLow': 630.11,\n",
       " 'ask': 633.9,\n",
       " 'ytdReturn': None,\n",
       " 'askSize': 900,\n",
       " 'volume': 32785278,\n",
       " 'fiftyTwoWeekHigh': 900.4,\n",
       " 'forwardPE': 114.17935,\n",
       " 'fromCurrency': None,\n",
       " 'fiveYearAvgDividendYield': None,\n",
       " 'fiftyTwoWeekLow': 89.28,\n",
       " 'bid': 633.7,\n",
       " 'tradeable': False,\n",
       " 'dividendYield': None,\n",
       " 'bidSize': 3000,\n",
       " 'dayHigh': 668.02,\n",
       " 'exchange': 'NMS',\n",
       " 'shortName': 'Tesla, Inc.',\n",
       " 'longName': 'Tesla, Inc.',\n",
       " 'exchangeTimezoneName': 'America/New_York',\n",
       " 'exchangeTimezoneShortName': 'EDT',\n",
       " 'isEsgPopulated': False,\n",
       " 'gmtOffSetMilliseconds': '-14400000',\n",
       " 'quoteType': 'EQUITY',\n",
       " 'symbol': 'TSLA',\n",
       " 'messageBoardId': 'finmb_27444752',\n",
       " 'market': 'us_market',\n",
       " 'annualHoldingsTurnover': None,\n",
       " 'enterpriseToRevenue': 20.008,\n",
       " 'beta3Year': None,\n",
       " 'profitMargins': 0.02286,\n",
       " 'enterpriseToEbitda': 147.668,\n",
       " '52WeekChange': 5.268555,\n",
       " 'morningStarRiskRating': None,\n",
       " 'forwardEps': 5.52,\n",
       " 'revenueQuarterlyGrowth': None,\n",
       " 'sharesOutstanding': 959854016,\n",
       " 'fundInceptionDate': None,\n",
       " 'annualReportExpenseRatio': None,\n",
       " 'bookValue': 23.151,\n",
       " 'sharesShort': 44000524,\n",
       " 'sharesPercentSharesOut': 0.0458,\n",
       " 'fundFamily': None,\n",
       " 'lastFiscalYearEnd': 1609372800,\n",
       " 'heldPercentInstitutions': 0.42529,\n",
       " 'netIncomeToCommon': 690000000,\n",
       " 'trailingEps': 0.64,\n",
       " 'lastDividendValue': None,\n",
       " 'SandP52WeekChange': 0.48685014,\n",
       " 'priceToBook': 27.224312,\n",
       " 'heldPercentInsiders': 0.19985001,\n",
       " 'nextFiscalYearEnd': 1672444800,\n",
       " 'mostRecentQuarter': 1609372800,\n",
       " 'shortRatio': 1.59,\n",
       " 'sharesShortPreviousMonthDate': 1611878400,\n",
       " 'floatShares': 771319079,\n",
       " 'enterpriseValue': 630983622656,\n",
       " 'threeYearAverageReturn': None,\n",
       " 'lastSplitDate': 1598832000,\n",
       " 'lastSplitFactor': '5:1',\n",
       " 'legalType': None,\n",
       " 'lastDividendDate': None,\n",
       " 'morningStarOverallRating': None,\n",
       " 'earningsQuarterlyGrowth': 1.571,\n",
       " 'dateShortInterest': 1614297600,\n",
       " 'pegRatio': 4.95,\n",
       " 'lastCapGain': None,\n",
       " 'shortPercentOfFloat': 0.056999996,\n",
       " 'sharesShortPriorMonth': 52379526,\n",
       " 'impliedSharesOutstanding': None,\n",
       " 'category': None,\n",
       " 'fiveYearAverageReturn': None,\n",
       " 'regularMarketPrice': 667.91,\n",
       " 'logo_url': 'https://logo.clearbit.com/tesla.com'}"
      ]
     },
     "metadata": {},
     "execution_count": 5
    }
   ],
   "source": [
    "# Need to specify to be able to pull information from yfinance\n",
    "ticker = yf.Ticker(f\"{ticker}\")\n",
    "ticker.info"
   ]
  },
  {
   "cell_type": "code",
   "execution_count": 6,
   "metadata": {},
   "outputs": [
    {
     "output_type": "execute_result",
     "data": {
      "text/plain": [
       "dict_keys(['zip', 'sector', 'fullTimeEmployees', 'longBusinessSummary', 'city', 'phone', 'state', 'country', 'companyOfficers', 'website', 'maxAge', 'address1', 'industry', 'previousClose', 'regularMarketOpen', 'twoHundredDayAverage', 'trailingAnnualDividendYield', 'payoutRatio', 'volume24Hr', 'regularMarketDayHigh', 'navPrice', 'averageDailyVolume10Day', 'totalAssets', 'regularMarketPreviousClose', 'fiftyDayAverage', 'trailingAnnualDividendRate', 'open', 'toCurrency', 'averageVolume10days', 'expireDate', 'yield', 'algorithm', 'dividendRate', 'exDividendDate', 'beta', 'circulatingSupply', 'startDate', 'regularMarketDayLow', 'priceHint', 'currency', 'trailingPE', 'regularMarketVolume', 'lastMarket', 'maxSupply', 'openInterest', 'marketCap', 'volumeAllCurrencies', 'strikePrice', 'averageVolume', 'priceToSalesTrailing12Months', 'dayLow', 'ask', 'ytdReturn', 'askSize', 'volume', 'fiftyTwoWeekHigh', 'forwardPE', 'fromCurrency', 'fiveYearAvgDividendYield', 'fiftyTwoWeekLow', 'bid', 'tradeable', 'dividendYield', 'bidSize', 'dayHigh', 'exchange', 'shortName', 'longName', 'exchangeTimezoneName', 'exchangeTimezoneShortName', 'isEsgPopulated', 'gmtOffSetMilliseconds', 'quoteType', 'symbol', 'messageBoardId', 'market', 'annualHoldingsTurnover', 'enterpriseToRevenue', 'beta3Year', 'profitMargins', 'enterpriseToEbitda', '52WeekChange', 'morningStarRiskRating', 'forwardEps', 'revenueQuarterlyGrowth', 'sharesOutstanding', 'fundInceptionDate', 'annualReportExpenseRatio', 'bookValue', 'sharesShort', 'sharesPercentSharesOut', 'fundFamily', 'lastFiscalYearEnd', 'heldPercentInstitutions', 'netIncomeToCommon', 'trailingEps', 'lastDividendValue', 'SandP52WeekChange', 'priceToBook', 'heldPercentInsiders', 'nextFiscalYearEnd', 'mostRecentQuarter', 'shortRatio', 'sharesShortPreviousMonthDate', 'floatShares', 'enterpriseValue', 'threeYearAverageReturn', 'lastSplitDate', 'lastSplitFactor', 'legalType', 'lastDividendDate', 'morningStarOverallRating', 'earningsQuarterlyGrowth', 'dateShortInterest', 'pegRatio', 'lastCapGain', 'shortPercentOfFloat', 'sharesShortPriorMonth', 'impliedSharesOutstanding', 'category', 'fiveYearAverageReturn', 'regularMarketPrice', 'logo_url'])"
      ]
     },
     "metadata": {},
     "execution_count": 6
    }
   ],
   "source": [
    "# Lists keys we can call to obtain information\n",
    "ticker.info.keys()"
   ]
  },
  {
   "cell_type": "code",
   "execution_count": 7,
   "metadata": {},
   "outputs": [
    {
     "output_type": "execute_result",
     "data": {
      "text/plain": [
       "'Consumer Cyclical'"
      ]
     },
     "metadata": {},
     "execution_count": 7
    }
   ],
   "source": [
    "ticker.info['sector']"
   ]
  },
  {
   "cell_type": "code",
   "execution_count": 8,
   "metadata": {},
   "outputs": [
    {
     "output_type": "execute_result",
     "data": {
      "text/plain": [
       "2.06013"
      ]
     },
     "metadata": {},
     "execution_count": 8
    }
   ],
   "source": [
    "ticker.info['beta']"
   ]
  },
  {
   "cell_type": "code",
   "execution_count": 17,
   "metadata": {},
   "outputs": [
    {
     "output_type": "execute_result",
     "data": {
      "text/plain": [
       "{'incomeStatementHistory': {'TSLA': [{'2020-12-31': {'researchDevelopment': 1491000000,\n",
       "     'effectOfAccountingCharges': None,\n",
       "     'incomeBeforeTax': 1154000000,\n",
       "     'minorityInterest': 1454000000,\n",
       "     'netIncome': 721000000,\n",
       "     'sellingGeneralAdministrative': 3188000000,\n",
       "     'grossProfit': 6630000000,\n",
       "     'ebit': 1951000000,\n",
       "     'operatingIncome': 1951000000,\n",
       "     'otherOperatingExpenses': None,\n",
       "     'interestExpense': -784000000,\n",
       "     'extraordinaryItems': None,\n",
       "     'nonRecurring': None,\n",
       "     'otherItems': None,\n",
       "     'incomeTaxExpense': 292000000,\n",
       "     'totalRevenue': 31536000000,\n",
       "     'totalOperatingExpenses': 29585000000,\n",
       "     'costOfRevenue': 24906000000,\n",
       "     'totalOtherIncomeExpenseNet': -797000000,\n",
       "     'discontinuedOperations': None,\n",
       "     'netIncomeFromContinuingOps': 862000000,\n",
       "     'netIncomeApplicableToCommonShares': 690000000}},\n",
       "   {'2019-12-31': {'researchDevelopment': 1343000000,\n",
       "     'effectOfAccountingCharges': None,\n",
       "     'incomeBeforeTax': -665000000,\n",
       "     'minorityInterest': 1492000000,\n",
       "     'netIncome': -862000000,\n",
       "     'sellingGeneralAdministrative': 2646000000,\n",
       "     'grossProfit': 4069000000,\n",
       "     'ebit': 80000000,\n",
       "     'operatingIncome': 80000000,\n",
       "     'otherOperatingExpenses': None,\n",
       "     'interestExpense': -725000000,\n",
       "     'extraordinaryItems': None,\n",
       "     'nonRecurring': None,\n",
       "     'otherItems': None,\n",
       "     'incomeTaxExpense': 110000000,\n",
       "     'totalRevenue': 24578000000,\n",
       "     'totalOperatingExpenses': 24498000000,\n",
       "     'costOfRevenue': 20509000000,\n",
       "     'totalOtherIncomeExpenseNet': -745000000,\n",
       "     'discontinuedOperations': None,\n",
       "     'netIncomeFromContinuingOps': -775000000,\n",
       "     'netIncomeApplicableToCommonShares': -870000000}},\n",
       "   {'2018-12-31': {'researchDevelopment': 1460000000,\n",
       "     'effectOfAccountingCharges': None,\n",
       "     'incomeBeforeTax': -1005000000,\n",
       "     'minorityInterest': 1390000000,\n",
       "     'netIncome': -976000000,\n",
       "     'sellingGeneralAdministrative': 2835000000,\n",
       "     'grossProfit': 4042000000,\n",
       "     'ebit': -253000000,\n",
       "     'operatingIncome': -253000000,\n",
       "     'otherOperatingExpenses': None,\n",
       "     'interestExpense': -653000000,\n",
       "     'extraordinaryItems': None,\n",
       "     'nonRecurring': None,\n",
       "     'otherItems': None,\n",
       "     'incomeTaxExpense': 58000000,\n",
       "     'totalRevenue': 21461000000,\n",
       "     'totalOperatingExpenses': 21714000000,\n",
       "     'costOfRevenue': 17419000000,\n",
       "     'totalOtherIncomeExpenseNet': -752000000,\n",
       "     'discontinuedOperations': None,\n",
       "     'netIncomeFromContinuingOps': -1063000000,\n",
       "     'netIncomeApplicableToCommonShares': -976000000}},\n",
       "   {'2017-12-31': {'researchDevelopment': 1378000000,\n",
       "     'effectOfAccountingCharges': None,\n",
       "     'incomeBeforeTax': -2209000000,\n",
       "     'minorityInterest': 1395080000,\n",
       "     'netIncome': -1962000000,\n",
       "     'sellingGeneralAdministrative': 2477000000,\n",
       "     'grossProfit': 2223000000,\n",
       "     'ebit': -1632000000,\n",
       "     'operatingIncome': -1632000000,\n",
       "     'otherOperatingExpenses': None,\n",
       "     'interestExpense': -477000000,\n",
       "     'extraordinaryItems': None,\n",
       "     'nonRecurring': None,\n",
       "     'otherItems': None,\n",
       "     'incomeTaxExpense': 32000000,\n",
       "     'totalRevenue': 11759000000,\n",
       "     'totalOperatingExpenses': 13391000000,\n",
       "     'costOfRevenue': 9536000000,\n",
       "     'totalOtherIncomeExpenseNet': -577000000,\n",
       "     'discontinuedOperations': None,\n",
       "     'netIncomeFromContinuingOps': -2241000000,\n",
       "     'netIncomeApplicableToCommonShares': -1962000000}}]}}"
      ]
     },
     "metadata": {},
     "execution_count": 17
    }
   ],
   "source": [
    "# Obtain income statements\n",
    "yahoo_financials.get_financial_stmts('annual', 'income')"
   ]
  },
  {
   "cell_type": "code",
   "execution_count": 11,
   "metadata": {},
   "outputs": [
    {
     "output_type": "execute_result",
     "data": {
      "text/plain": [
       "{'balanceSheetHistory': {'TSLA': [{'2020-12-31': {'intangibleAssets': 313000000,\n",
       "     'capitalSurplus': 27260000000,\n",
       "     'totalLiab': 28469000000,\n",
       "     'totalStockholderEquity': 22225000000,\n",
       "     'minorityInterest': 1454000000,\n",
       "     'otherCurrentLiab': 4147000000,\n",
       "     'totalAssets': 52148000000,\n",
       "     'commonStock': 1000000,\n",
       "     'otherCurrentAssets': 238000000,\n",
       "     'retainedEarnings': -5399000000,\n",
       "     'otherLiab': 3302000000,\n",
       "     'goodWill': 207000000,\n",
       "     'treasuryStock': 363000000,\n",
       "     'otherAssets': 1536000000,\n",
       "     'cash': 19384000000,\n",
       "     'totalCurrentLiabilities': 14248000000,\n",
       "     'shortLongTermDebt': 1758000000,\n",
       "     'otherStockholderEquity': 363000000,\n",
       "     'propertyPlantEquipment': 23375000000,\n",
       "     'totalCurrentAssets': 26717000000,\n",
       "     'netTangibleAssets': 21705000000,\n",
       "     'netReceivables': 1903000000,\n",
       "     'longTermDebt': 8571000000,\n",
       "     'inventory': 4101000000,\n",
       "     'accountsPayable': 6051000000}},\n",
       "   {'2019-12-31': {'intangibleAssets': 339000000,\n",
       "     'capitalSurplus': 12736000000,\n",
       "     'totalLiab': 26199000000,\n",
       "     'totalStockholderEquity': 6618000000,\n",
       "     'minorityInterest': 1492000000,\n",
       "     'otherCurrentLiab': 3693000000,\n",
       "     'totalAssets': 34309000000,\n",
       "     'commonStock': 1000000,\n",
       "     'otherCurrentAssets': 246000000,\n",
       "     'retainedEarnings': -6083000000,\n",
       "     'otherLiab': 2969000000,\n",
       "     'goodWill': 198000000,\n",
       "     'treasuryStock': -36000000,\n",
       "     'otherAssets': 1469000000,\n",
       "     'cash': 6268000000,\n",
       "     'totalCurrentLiabilities': 10667000000,\n",
       "     'shortLongTermDebt': 1399000000,\n",
       "     'otherStockholderEquity': -36000000,\n",
       "     'propertyPlantEquipment': 20199000000,\n",
       "     'totalCurrentAssets': 12103000000,\n",
       "     'longTermInvestments': 1000000,\n",
       "     'netTangibleAssets': 6081000000,\n",
       "     'netReceivables': 1324000000,\n",
       "     'longTermDebt': 10375000000,\n",
       "     'inventory': 3552000000,\n",
       "     'accountsPayable': 3771000000}},\n",
       "   {'2018-12-31': {'intangibleAssets': 282000000,\n",
       "     'capitalSurplus': 10249000000,\n",
       "     'totalLiab': 23427000000,\n",
       "     'totalStockholderEquity': 4923000000,\n",
       "     'minorityInterest': 1390000000,\n",
       "     'otherCurrentLiab': 2955000000,\n",
       "     'totalAssets': 29740000000,\n",
       "     'otherCurrentAssets': 193000000,\n",
       "     'retainedEarnings': -5318000000,\n",
       "     'otherLiab': 2318000000,\n",
       "     'goodWill': 68000000,\n",
       "     'treasuryStock': -8000000,\n",
       "     'otherAssets': 1380000000,\n",
       "     'cash': 3686000000,\n",
       "     'totalCurrentLiabilities': 9993000000,\n",
       "     'shortLongTermDebt': 2284000000,\n",
       "     'otherStockholderEquity': -8000000,\n",
       "     'propertyPlantEquipment': 19691000000,\n",
       "     'totalCurrentAssets': 8307000000,\n",
       "     'longTermInvestments': 12000000,\n",
       "     'netTangibleAssets': 4573000000,\n",
       "     'netReceivables': 949000000,\n",
       "     'longTermDebt': 8461000000,\n",
       "     'inventory': 3113000000,\n",
       "     'accountsPayable': 3405000000}},\n",
       "   {'2017-12-31': {'intangibleAssets': 361502000,\n",
       "     'capitalSurplus': 9178024000,\n",
       "     'totalLiab': 23023050000,\n",
       "     'totalStockholderEquity': 4237242000,\n",
       "     'minorityInterest': 1395080000,\n",
       "     'otherCurrentLiab': 3098379000,\n",
       "     'totalAssets': 28655372000,\n",
       "     'commonStock': 169000,\n",
       "     'otherCurrentAssets': 155323000,\n",
       "     'retainedEarnings': -4974299000,\n",
       "     'otherLiab': 4196294000,\n",
       "     'goodWill': 60237000,\n",
       "     'treasuryStock': 33348000,\n",
       "     'otherAssets': 1166193000,\n",
       "     'cash': 3367914000,\n",
       "     'totalCurrentLiabilities': 7674740000,\n",
       "     'shortLongTermDebt': 963932000,\n",
       "     'otherStockholderEquity': 33348000,\n",
       "     'propertyPlantEquipment': 20491616000,\n",
       "     'totalCurrentAssets': 6570520000,\n",
       "     'longTermInvestments': 5304000,\n",
       "     'netTangibleAssets': 3815503000,\n",
       "     'netReceivables': 515381000,\n",
       "     'longTermDebt': 9486248000,\n",
       "     'inventory': 2263537000,\n",
       "     'accountsPayable': 2390250000}}]}}"
      ]
     },
     "metadata": {},
     "execution_count": 11
    }
   ],
   "source": [
    "# Obtain balance sheet\n",
    "yahoo_financials.get_financial_stmts('annual', 'balance')"
   ]
  },
  {
   "cell_type": "code",
   "execution_count": 12,
   "metadata": {},
   "outputs": [
    {
     "output_type": "execute_result",
     "data": {
      "text/plain": [
       "{'cashflowStatementHistoryQuarterly': {'TSLA': [{'2020-12-31': {'changeToLiabilities': 1540000000,\n",
       "     'totalCashflowsFromInvestingActivities': -1047000000,\n",
       "     'netBorrowings': -2305000000,\n",
       "     'totalCashFromFinancingActivities': 2692000000,\n",
       "     'changeToOperatingActivities': -376000000,\n",
       "     'issuanceOfStock': 5043000000,\n",
       "     'netIncome': 270000000,\n",
       "     'changeInCash': 4898000000,\n",
       "     'effectOfExchangeRate': 234000000,\n",
       "     'totalCashFromOperatingActivities': 3019000000,\n",
       "     'depreciation': 618000000,\n",
       "     'otherCashflowsFromInvestingActivities': 122000000,\n",
       "     'changeToInventory': 180000000,\n",
       "     'changeToAccountReceivables': -102000000,\n",
       "     'otherCashflowsFromFinancingActivities': -46000000,\n",
       "     'changeToNetincome': 853000000,\n",
       "     'capitalExpenditures': -1164000000}},\n",
       "   {'2020-09-30': {'changeToLiabilities': 1275000000,\n",
       "     'totalCashflowsFromInvestingActivities': -1039000000,\n",
       "     'netBorrowings': -581000000,\n",
       "     'totalCashFromFinancingActivities': 4450000000,\n",
       "     'changeToOperatingActivities': -259000000,\n",
       "     'issuanceOfStock': 5117000000,\n",
       "     'netIncome': 331000000,\n",
       "     'changeInCash': 5897000000,\n",
       "     'effectOfExchangeRate': 86000000,\n",
       "     'totalCashFromOperatingActivities': 2400000000,\n",
       "     'depreciation': 584000000,\n",
       "     'otherCashflowsFromInvestingActivities': 122000000,\n",
       "     'changeToInventory': -67000000,\n",
       "     'changeToAccountReceivables': -314000000,\n",
       "     'otherCashflowsFromFinancingActivities': -86000000,\n",
       "     'changeToNetincome': 800000000,\n",
       "     'capitalExpenditures': -1021000000}},\n",
       "   {'2020-06-30': {'changeToLiabilities': -180000000,\n",
       "     'totalCashflowsFromInvestingActivities': -566000000,\n",
       "     'netBorrowings': 111000000,\n",
       "     'totalCashFromFinancingActivities': 123000000,\n",
       "     'changeToOperatingActivities': -290000000,\n",
       "     'issuanceOfStock': 57000000,\n",
       "     'netIncome': 104000000,\n",
       "     'changeInCash': 559000000,\n",
       "     'effectOfExchangeRate': 38000000,\n",
       "     'totalCashFromOperatingActivities': 964000000,\n",
       "     'depreciation': 567000000,\n",
       "     'otherCashflowsFromInvestingActivities': 122000000,\n",
       "     'changeToInventory': 446000000,\n",
       "     'changeToAccountReceivables': -222000000,\n",
       "     'otherCashflowsFromFinancingActivities': -45000000,\n",
       "     'changeToNetincome': 491000000,\n",
       "     'capitalExpenditures': -566000000}},\n",
       "   {'2020-03-31': {'changeToLiabilities': -212000000,\n",
       "     'totalCashflowsFromInvestingActivities': -480000000,\n",
       "     'netBorrowings': 287000000,\n",
       "     'totalCashFromFinancingActivities': 2708000000,\n",
       "     'changeToOperatingActivities': -240000000,\n",
       "     'issuanceOfStock': 2469000000,\n",
       "     'netIncome': 16000000,\n",
       "     'changeInCash': 1764000000,\n",
       "     'effectOfExchangeRate': -24000000,\n",
       "     'totalCashFromOperatingActivities': -440000000,\n",
       "     'depreciation': 553000000,\n",
       "     'otherCashflowsFromInvestingActivities': 1000000,\n",
       "     'changeToInventory': -981000000,\n",
       "     'changeToAccountReceivables': -14000000,\n",
       "     'otherCashflowsFromFinancingActivities': -48000000,\n",
       "     'changeToNetincome': 392000000,\n",
       "     'capitalExpenditures': -481000000}}]}}"
      ]
     },
     "metadata": {},
     "execution_count": 12
    }
   ],
   "source": [
    "# Obtain quarterly cash-flow statements\n",
    "yahoo_financials.get_financial_stmts('quarterly', 'cash')"
   ]
  },
  {
   "cell_type": "code",
   "execution_count": 13,
   "metadata": {},
   "outputs": [
    {
     "output_type": "execute_result",
     "data": {
      "text/plain": [
       "{'TSLA': {'annualHoldingsTurnover': None,\n",
       "  'enterpriseToRevenue': 20.008,\n",
       "  'beta3Year': None,\n",
       "  'profitMargins': 0.02286,\n",
       "  'enterpriseToEbitda': 147.668,\n",
       "  '52WeekChange': 5.268555,\n",
       "  'morningStarRiskRating': None,\n",
       "  'forwardEps': 5.52,\n",
       "  'revenueQuarterlyGrowth': None,\n",
       "  'sharesOutstanding': 959854016,\n",
       "  'fundInceptionDate': '-',\n",
       "  'annualReportExpenseRatio': None,\n",
       "  'totalAssets': None,\n",
       "  'bookValue': 23.151,\n",
       "  'sharesShort': 44000524,\n",
       "  'sharesPercentSharesOut': 0.0458,\n",
       "  'fundFamily': None,\n",
       "  'lastFiscalYearEnd': 1609372800,\n",
       "  'heldPercentInstitutions': 0.42529,\n",
       "  'netIncomeToCommon': 690000000,\n",
       "  'trailingEps': 0.64,\n",
       "  'lastDividendValue': None,\n",
       "  'SandP52WeekChange': 0.48685014,\n",
       "  'priceToBook': 27.224312,\n",
       "  'heldPercentInsiders': 0.19985001,\n",
       "  'nextFiscalYearEnd': 1672444800,\n",
       "  'yield': None,\n",
       "  'mostRecentQuarter': 1609372800,\n",
       "  'shortRatio': 1.59,\n",
       "  'sharesShortPreviousMonthDate': '2021-01-29',\n",
       "  'floatShares': 771319079,\n",
       "  'beta': 2.06013,\n",
       "  'enterpriseValue': 630983622656,\n",
       "  'priceHint': 2,\n",
       "  'threeYearAverageReturn': None,\n",
       "  'lastSplitDate': '2020-08-31',\n",
       "  'lastSplitFactor': '5:1',\n",
       "  'legalType': None,\n",
       "  'lastDividendDate': '-',\n",
       "  'morningStarOverallRating': None,\n",
       "  'earningsQuarterlyGrowth': 1.571,\n",
       "  'priceToSalesTrailing12Months': None,\n",
       "  'dateShortInterest': 1614297600,\n",
       "  'pegRatio': 4.95,\n",
       "  'ytdReturn': None,\n",
       "  'forwardPE': 114.17935,\n",
       "  'maxAge': 1,\n",
       "  'lastCapGain': None,\n",
       "  'shortPercentOfFloat': 0.056999996,\n",
       "  'sharesShortPriorMonth': 52379526,\n",
       "  'impliedSharesOutstanding': None,\n",
       "  'category': None,\n",
       "  'fiveYearAverageReturn': None}}"
      ]
     },
     "metadata": {},
     "execution_count": 13
    }
   ],
   "source": [
    "# Obtain key statistics\n",
    "yahoo_financials.get_key_statistics_data()"
   ]
  },
  {
   "cell_type": "code",
   "execution_count": 14,
   "metadata": {},
   "outputs": [
    {
     "output_type": "execute_result",
     "data": {
      "text/plain": [
       "630.27"
      ]
     },
     "metadata": {},
     "execution_count": 14
    }
   ],
   "source": [
    "# Pull latest stock price\n",
    "yahoo_financials.get_current_price()"
   ]
  }
 ]
}