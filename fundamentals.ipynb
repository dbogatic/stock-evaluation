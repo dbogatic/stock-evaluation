{
 "metadata": {
  "language_info": {
   "codemirror_mode": {
    "name": "ipython",
    "version": 3
   },
   "file_extension": ".py",
   "mimetype": "text/x-python",
   "name": "python",
   "nbconvert_exporter": "python",
   "pygments_lexer": "ipython3",
   "version": "3.7.9-final"
  },
  "orig_nbformat": 2,
  "kernelspec": {
   "name": "python3",
   "display_name": "Python 3",
   "language": "python"
  }
 },
 "nbformat": 4,
 "nbformat_minor": 2,
 "cells": [
  {
   "cell_type": "code",
   "execution_count": 45,
   "metadata": {},
   "outputs": [],
   "source": [
    "import yfinance as yf\n",
    "from yahoofinancials import YahooFinancials"
   ]
  },
  {
   "cell_type": "code",
   "execution_count": 46,
   "metadata": {},
   "outputs": [],
   "source": [
    "ticker = 'TSLA'"
   ]
  },
  {
   "cell_type": "code",
   "execution_count": 47,
   "metadata": {},
   "outputs": [
    {
     "output_type": "execute_result",
     "data": {
      "text/plain": [
       "                  Open        High         Low       Close   Adj Close  \\\n",
       "Date                                                                     \n",
       "2021-03-11  699.400024  702.500000  677.179993  699.599976  699.599976   \n",
       "2021-03-12  670.000000  694.880005  666.140015  693.729980  693.729980   \n",
       "2021-03-15  694.090027  713.179993  684.039978  707.940002  707.940002   \n",
       "2021-03-16  703.349976  707.919983  671.000000  676.880005  676.880005   \n",
       "2021-03-17  656.869995  703.729980  651.010010  701.809998  701.809998   \n",
       "\n",
       "              Volume  \n",
       "Date                  \n",
       "2021-03-11  36253900  \n",
       "2021-03-12  33583800  \n",
       "2021-03-15  29335600  \n",
       "2021-03-16  31903400  \n",
       "2021-03-17  40083300  "
      ],
      "text/html": "<div>\n<style scoped>\n    .dataframe tbody tr th:only-of-type {\n        vertical-align: middle;\n    }\n\n    .dataframe tbody tr th {\n        vertical-align: top;\n    }\n\n    .dataframe thead th {\n        text-align: right;\n    }\n</style>\n<table border=\"1\" class=\"dataframe\">\n  <thead>\n    <tr style=\"text-align: right;\">\n      <th></th>\n      <th>Open</th>\n      <th>High</th>\n      <th>Low</th>\n      <th>Close</th>\n      <th>Adj Close</th>\n      <th>Volume</th>\n    </tr>\n    <tr>\n      <th>Date</th>\n      <th></th>\n      <th></th>\n      <th></th>\n      <th></th>\n      <th></th>\n      <th></th>\n    </tr>\n  </thead>\n  <tbody>\n    <tr>\n      <th>2021-03-11</th>\n      <td>699.400024</td>\n      <td>702.500000</td>\n      <td>677.179993</td>\n      <td>699.599976</td>\n      <td>699.599976</td>\n      <td>36253900</td>\n    </tr>\n    <tr>\n      <th>2021-03-12</th>\n      <td>670.000000</td>\n      <td>694.880005</td>\n      <td>666.140015</td>\n      <td>693.729980</td>\n      <td>693.729980</td>\n      <td>33583800</td>\n    </tr>\n    <tr>\n      <th>2021-03-15</th>\n      <td>694.090027</td>\n      <td>713.179993</td>\n      <td>684.039978</td>\n      <td>707.940002</td>\n      <td>707.940002</td>\n      <td>29335600</td>\n    </tr>\n    <tr>\n      <th>2021-03-16</th>\n      <td>703.349976</td>\n      <td>707.919983</td>\n      <td>671.000000</td>\n      <td>676.880005</td>\n      <td>676.880005</td>\n      <td>31903400</td>\n    </tr>\n    <tr>\n      <th>2021-03-17</th>\n      <td>656.869995</td>\n      <td>703.729980</td>\n      <td>651.010010</td>\n      <td>701.809998</td>\n      <td>701.809998</td>\n      <td>40083300</td>\n    </tr>\n  </tbody>\n</table>\n</div>"
     },
     "metadata": {},
     "execution_count": 47
    }
   ],
   "source": [
    "stock_history = yf.download(tickers=f\"{ticker}\", start=\"2018-02-01\", end=\"2021-03-18\", progress=False)\n",
    "stock_history.tail()"
   ]
  },
  {
   "cell_type": "code",
   "execution_count": 48,
   "metadata": {},
   "outputs": [
    {
     "output_type": "execute_result",
     "data": {
      "text/plain": [
       "{'zip': '94304',\n",
       " 'sector': 'Consumer Cyclical',\n",
       " 'fullTimeEmployees': 70757,\n",
       " 'longBusinessSummary': 'Tesla, Inc. designs, develops, manufactures, leases, and sells electric vehicles, and energy generation and storage systems in the United States, China, and internationally. The company operates in two segments, Automotive, and Energy Generation and Storage. The Automotive segment offers electric vehicles, as well as sells automotive regulatory credits. It provides sedans and sport utility vehicles through direct and used vehicle sales, a network of Tesla Superchargers, and in-app upgrades; and purchase financing and leasing services. This segment is also involved in the provision of non-warranty after-sales vehicle services, sale of used vehicles, retail merchandise, and vehicle insurance, as well as sale of products through its subsidiaries to third party customers; services for electric vehicles through its company-owned service locations, and Tesla mobile service technicians; and vehicle limited warranties and extended service plans. The Energy Generation and Storage segment engages in the design, manufacture, installation, sale, and leasing of solar energy generation and energy storage products, and related services to residential, commercial, and industrial customers and utilities through its website, stores, and galleries, as well as through a network of channel partners. This segment also offers service and repairs to its energy product customers, including under warranty; and various financing options to its solar customers. The company was formerly known as Tesla Motors, Inc. and changed its name to Tesla, Inc. in February 2017. Tesla, Inc. was founded in 2003 and is headquartered in Palo Alto, California.',\n",
       " 'city': 'Palo Alto',\n",
       " 'phone': '650-681-5000',\n",
       " 'state': 'CA',\n",
       " 'country': 'United States',\n",
       " 'companyOfficers': [],\n",
       " 'website': 'http://www.tesla.com',\n",
       " 'maxAge': 1,\n",
       " 'address1': '3500 Deer Creek Road',\n",
       " 'industry': 'Auto Manufacturers',\n",
       " 'previousClose': 662.16,\n",
       " 'regularMarketOpen': 667.91,\n",
       " 'twoHundredDayAverage': 601.76953,\n",
       " 'trailingAnnualDividendYield': None,\n",
       " 'payoutRatio': 0,\n",
       " 'volume24Hr': None,\n",
       " 'regularMarketDayHigh': 668.02,\n",
       " 'navPrice': None,\n",
       " 'averageDailyVolume10Day': 35331942,\n",
       " 'totalAssets': None,\n",
       " 'regularMarketPreviousClose': 662.16,\n",
       " 'fiftyDayAverage': 730.1017,\n",
       " 'trailingAnnualDividendRate': None,\n",
       " 'open': 667.91,\n",
       " 'toCurrency': None,\n",
       " 'averageVolume10days': 35331942,\n",
       " 'expireDate': None,\n",
       " 'yield': None,\n",
       " 'algorithm': None,\n",
       " 'dividendRate': None,\n",
       " 'exDividendDate': None,\n",
       " 'beta': 2.06013,\n",
       " 'circulatingSupply': None,\n",
       " 'startDate': None,\n",
       " 'regularMarketDayLow': 630.11,\n",
       " 'priceHint': 2,\n",
       " 'currency': 'USD',\n",
       " 'trailingPE': 984.79694,\n",
       " 'regularMarketVolume': 32785278,\n",
       " 'lastMarket': None,\n",
       " 'maxSupply': None,\n",
       " 'openInterest': None,\n",
       " 'marketCap': 604967206912,\n",
       " 'volumeAllCurrencies': None,\n",
       " 'strikePrice': None,\n",
       " 'averageVolume': 35542888,\n",
       " 'priceToSalesTrailing12Months': 19.183384,\n",
       " 'dayLow': 630.11,\n",
       " 'ask': 633.9,\n",
       " 'ytdReturn': None,\n",
       " 'askSize': 900,\n",
       " 'volume': 32785278,\n",
       " 'fiftyTwoWeekHigh': 900.4,\n",
       " 'forwardPE': 114.17935,\n",
       " 'fromCurrency': None,\n",
       " 'fiveYearAvgDividendYield': None,\n",
       " 'fiftyTwoWeekLow': 89.28,\n",
       " 'bid': 633.7,\n",
       " 'tradeable': False,\n",
       " 'dividendYield': None,\n",
       " 'bidSize': 3000,\n",
       " 'dayHigh': 668.02,\n",
       " 'exchange': 'NMS',\n",
       " 'shortName': 'Tesla, Inc.',\n",
       " 'longName': 'Tesla, Inc.',\n",
       " 'exchangeTimezoneName': 'America/New_York',\n",
       " 'exchangeTimezoneShortName': 'EDT',\n",
       " 'isEsgPopulated': False,\n",
       " 'gmtOffSetMilliseconds': '-14400000',\n",
       " 'quoteType': 'EQUITY',\n",
       " 'symbol': 'TSLA',\n",
       " 'messageBoardId': 'finmb_27444752',\n",
       " 'market': 'us_market',\n",
       " 'annualHoldingsTurnover': None,\n",
       " 'enterpriseToRevenue': 20.008,\n",
       " 'beta3Year': None,\n",
       " 'profitMargins': 0.02286,\n",
       " 'enterpriseToEbitda': 147.668,\n",
       " '52WeekChange': 5.1396384,\n",
       " 'morningStarRiskRating': None,\n",
       " 'forwardEps': 5.52,\n",
       " 'revenueQuarterlyGrowth': None,\n",
       " 'sharesOutstanding': 959854016,\n",
       " 'fundInceptionDate': None,\n",
       " 'annualReportExpenseRatio': None,\n",
       " 'bookValue': 23.151,\n",
       " 'sharesShort': 44000524,\n",
       " 'sharesPercentSharesOut': 0.0458,\n",
       " 'fundFamily': None,\n",
       " 'lastFiscalYearEnd': 1609372800,\n",
       " 'heldPercentInstitutions': 0.42529,\n",
       " 'netIncomeToCommon': 690000000,\n",
       " 'trailingEps': 0.64,\n",
       " 'lastDividendValue': None,\n",
       " 'SandP52WeekChange': 0.652609,\n",
       " 'priceToBook': 27.224312,\n",
       " 'heldPercentInsiders': 0.19985001,\n",
       " 'nextFiscalYearEnd': 1672444800,\n",
       " 'mostRecentQuarter': 1609372800,\n",
       " 'shortRatio': 1.59,\n",
       " 'sharesShortPreviousMonthDate': 1611878400,\n",
       " 'floatShares': 771319079,\n",
       " 'enterpriseValue': 630983622656,\n",
       " 'threeYearAverageReturn': None,\n",
       " 'lastSplitDate': 1598832000,\n",
       " 'lastSplitFactor': '5:1',\n",
       " 'legalType': None,\n",
       " 'lastDividendDate': None,\n",
       " 'morningStarOverallRating': None,\n",
       " 'earningsQuarterlyGrowth': 1.571,\n",
       " 'dateShortInterest': 1614297600,\n",
       " 'pegRatio': 4.95,\n",
       " 'lastCapGain': None,\n",
       " 'shortPercentOfFloat': 0.056999996,\n",
       " 'sharesShortPriorMonth': 52379526,\n",
       " 'impliedSharesOutstanding': None,\n",
       " 'category': None,\n",
       " 'fiveYearAverageReturn': None,\n",
       " 'regularMarketPrice': 667.91,\n",
       " 'logo_url': 'https://logo.clearbit.com/tesla.com'}"
      ]
     },
     "metadata": {},
     "execution_count": 48
    }
   ],
   "source": [
    "ticker = yf.Ticker(f\"{ticker}\")\n",
    "ticker.info"
   ]
  },
  {
   "cell_type": "code",
   "execution_count": 49,
   "metadata": {},
   "outputs": [
    {
     "output_type": "execute_result",
     "data": {
      "text/plain": [
       "dict_keys(['zip', 'sector', 'fullTimeEmployees', 'longBusinessSummary', 'city', 'phone', 'state', 'country', 'companyOfficers', 'website', 'maxAge', 'address1', 'industry', 'previousClose', 'regularMarketOpen', 'twoHundredDayAverage', 'trailingAnnualDividendYield', 'payoutRatio', 'volume24Hr', 'regularMarketDayHigh', 'navPrice', 'averageDailyVolume10Day', 'totalAssets', 'regularMarketPreviousClose', 'fiftyDayAverage', 'trailingAnnualDividendRate', 'open', 'toCurrency', 'averageVolume10days', 'expireDate', 'yield', 'algorithm', 'dividendRate', 'exDividendDate', 'beta', 'circulatingSupply', 'startDate', 'regularMarketDayLow', 'priceHint', 'currency', 'trailingPE', 'regularMarketVolume', 'lastMarket', 'maxSupply', 'openInterest', 'marketCap', 'volumeAllCurrencies', 'strikePrice', 'averageVolume', 'priceToSalesTrailing12Months', 'dayLow', 'ask', 'ytdReturn', 'askSize', 'volume', 'fiftyTwoWeekHigh', 'forwardPE', 'fromCurrency', 'fiveYearAvgDividendYield', 'fiftyTwoWeekLow', 'bid', 'tradeable', 'dividendYield', 'bidSize', 'dayHigh', 'exchange', 'shortName', 'longName', 'exchangeTimezoneName', 'exchangeTimezoneShortName', 'isEsgPopulated', 'gmtOffSetMilliseconds', 'quoteType', 'symbol', 'messageBoardId', 'market', 'annualHoldingsTurnover', 'enterpriseToRevenue', 'beta3Year', 'profitMargins', 'enterpriseToEbitda', '52WeekChange', 'morningStarRiskRating', 'forwardEps', 'revenueQuarterlyGrowth', 'sharesOutstanding', 'fundInceptionDate', 'annualReportExpenseRatio', 'bookValue', 'sharesShort', 'sharesPercentSharesOut', 'fundFamily', 'lastFiscalYearEnd', 'heldPercentInstitutions', 'netIncomeToCommon', 'trailingEps', 'lastDividendValue', 'SandP52WeekChange', 'priceToBook', 'heldPercentInsiders', 'nextFiscalYearEnd', 'mostRecentQuarter', 'shortRatio', 'sharesShortPreviousMonthDate', 'floatShares', 'enterpriseValue', 'threeYearAverageReturn', 'lastSplitDate', 'lastSplitFactor', 'legalType', 'lastDividendDate', 'morningStarOverallRating', 'earningsQuarterlyGrowth', 'dateShortInterest', 'pegRatio', 'lastCapGain', 'shortPercentOfFloat', 'sharesShortPriorMonth', 'impliedSharesOutstanding', 'category', 'fiveYearAverageReturn', 'regularMarketPrice', 'logo_url'])"
      ]
     },
     "metadata": {},
     "execution_count": 49
    }
   ],
   "source": [
    "ticker.info.keys()"
   ]
  },
  {
   "cell_type": "code",
   "execution_count": 50,
   "metadata": {},
   "outputs": [
    {
     "output_type": "execute_result",
     "data": {
      "text/plain": [
       "'Consumer Cyclical'"
      ]
     },
     "metadata": {},
     "execution_count": 50
    }
   ],
   "source": [
    "ticker.info['sector']"
   ]
  },
  {
   "cell_type": "code",
   "execution_count": 51,
   "metadata": {},
   "outputs": [
    {
     "output_type": "execute_result",
     "data": {
      "text/plain": [
       "2.06013"
      ]
     },
     "metadata": {},
     "execution_count": 51
    }
   ],
   "source": [
    "ticker.info['beta']"
   ]
  },
  {
   "cell_type": "code",
   "execution_count": 52,
   "metadata": {},
   "outputs": [],
   "source": [
    "ticker = 'MSRT'\n",
    "yahoo_financials = YahooFinancials(ticker)"
   ]
  },
  {
   "cell_type": "code",
   "execution_count": 53,
   "metadata": {},
   "outputs": [
    {
     "output_type": "execute_result",
     "data": {
      "text/plain": [
       "{'incomeStatementHistory': {'MSRT': [{'2019-12-31': {'researchDevelopment': None,\n",
       "     'effectOfAccountingCharges': None,\n",
       "     'incomeBeforeTax': -34268912,\n",
       "     'minorityInterest': None,\n",
       "     'netIncome': -34268912,\n",
       "     'sellingGeneralAdministrative': 1713331,\n",
       "     'grossProfit': -1136741,\n",
       "     'ebit': -2888621,\n",
       "     'operatingIncome': -2888621,\n",
       "     'otherOperatingExpenses': None,\n",
       "     'interestExpense': -4935470,\n",
       "     'extraordinaryItems': None,\n",
       "     'nonRecurring': None,\n",
       "     'otherItems': None,\n",
       "     'incomeTaxExpense': 0,\n",
       "     'totalRevenue': 23703,\n",
       "     'totalOperatingExpenses': 2912324,\n",
       "     'costOfRevenue': 1160444,\n",
       "     'totalOtherIncomeExpenseNet': -31380291,\n",
       "     'discontinuedOperations': None,\n",
       "     'netIncomeFromContinuingOps': -34268912,\n",
       "     'netIncomeApplicableToCommonShares': -110263157}},\n",
       "   {'2018-12-31': {'researchDevelopment': None,\n",
       "     'effectOfAccountingCharges': None,\n",
       "     'incomeBeforeTax': -16016441,\n",
       "     'minorityInterest': None,\n",
       "     'netIncome': -16016441,\n",
       "     'sellingGeneralAdministrative': 11950270,\n",
       "     'grossProfit': -889267,\n",
       "     'ebit': -13277801,\n",
       "     'operatingIncome': -13277801,\n",
       "     'otherOperatingExpenses': None,\n",
       "     'interestExpense': -1971329,\n",
       "     'extraordinaryItems': None,\n",
       "     'nonRecurring': None,\n",
       "     'otherItems': None,\n",
       "     'incomeTaxExpense': 0,\n",
       "     'totalRevenue': 19597,\n",
       "     'totalOperatingExpenses': 13297398,\n",
       "     'costOfRevenue': 908864,\n",
       "     'totalOtherIncomeExpenseNet': -2738640,\n",
       "     'discontinuedOperations': None,\n",
       "     'netIncomeFromContinuingOps': -16016441,\n",
       "     'netIncomeApplicableToCommonShares': -16016441}},\n",
       "   {'2017-12-31': {'researchDevelopment': None,\n",
       "     'effectOfAccountingCharges': None,\n",
       "     'incomeBeforeTax': -44389569,\n",
       "     'minorityInterest': None,\n",
       "     'netIncome': -44389569,\n",
       "     'sellingGeneralAdministrative': 28232626,\n",
       "     'grossProfit': -2785795,\n",
       "     'ebit': -33006969,\n",
       "     'operatingIncome': -33006969,\n",
       "     'otherOperatingExpenses': 1599489,\n",
       "     'interestExpense': -659774,\n",
       "     'extraordinaryItems': None,\n",
       "     'nonRecurring': None,\n",
       "     'otherItems': None,\n",
       "     'incomeTaxExpense': 0,\n",
       "     'totalRevenue': 319242,\n",
       "     'totalOperatingExpenses': 33326211,\n",
       "     'costOfRevenue': 3105037,\n",
       "     'totalOtherIncomeExpenseNet': -11382600,\n",
       "     'discontinuedOperations': None,\n",
       "     'netIncomeFromContinuingOps': -44389569,\n",
       "     'netIncomeApplicableToCommonShares': -44389569}},\n",
       "   {'2016-12-31': {'researchDevelopment': None,\n",
       "     'effectOfAccountingCharges': None,\n",
       "     'incomeBeforeTax': -18030124,\n",
       "     'minorityInterest': None,\n",
       "     'netIncome': -18030124,\n",
       "     'sellingGeneralAdministrative': 12010654,\n",
       "     'grossProfit': -1591725,\n",
       "     'ebit': -13602379,\n",
       "     'operatingIncome': -13602379,\n",
       "     'otherOperatingExpenses': 1599489,\n",
       "     'interestExpense': -3845833,\n",
       "     'extraordinaryItems': None,\n",
       "     'nonRecurring': None,\n",
       "     'otherItems': None,\n",
       "     'incomeTaxExpense': 0,\n",
       "     'totalRevenue': 701581,\n",
       "     'totalOperatingExpenses': 14303960,\n",
       "     'costOfRevenue': 2293306,\n",
       "     'totalOtherIncomeExpenseNet': -4427745,\n",
       "     'discontinuedOperations': None,\n",
       "     'netIncomeFromContinuingOps': -18030124,\n",
       "     'netIncomeApplicableToCommonShares': -18030124}}]}}"
      ]
     },
     "metadata": {},
     "execution_count": 53
    }
   ],
   "source": [
    "yahoo_financials.get_financial_stmts('annual', 'income')"
   ]
  },
  {
   "cell_type": "code",
   "execution_count": 54,
   "metadata": {},
   "outputs": [
    {
     "output_type": "execute_result",
     "data": {
      "text/plain": [
       "{'balanceSheetHistory': {'MSRT': [{'2019-12-31': {'capitalSurplus': 151364371,\n",
       "     'totalLiab': 36872021,\n",
       "     'totalStockholderEquity': -36868927,\n",
       "     'otherCurrentLiab': 20574370,\n",
       "     'totalAssets': 3095,\n",
       "     'commonStock': 384267,\n",
       "     'retainedEarnings': -189562225,\n",
       "     'treasuryStock': 944660,\n",
       "     'cash': 1120,\n",
       "     'totalCurrentLiabilities': 36872021,\n",
       "     'otherStockholderEquity': 944660,\n",
       "     'totalCurrentAssets': 3095,\n",
       "     'netTangibleAssets': -36868927,\n",
       "     'accountsPayable': 5455063}},\n",
       "   {'2018-12-31': {'intangibleAssets': 234864,\n",
       "     'capitalSurplus': 73770195,\n",
       "     'totalLiab': 7405443,\n",
       "     'totalStockholderEquity': -6836366,\n",
       "     'otherCurrentLiab': 932500,\n",
       "     'totalAssets': 569077,\n",
       "     'commonStock': 168707,\n",
       "     'retainedEarnings': -80775348,\n",
       "     'treasuryStock': 80,\n",
       "     'otherAssets': 36000,\n",
       "     'cash': 29568,\n",
       "     'totalCurrentLiabilities': 7405443,\n",
       "     'otherStockholderEquity': 80,\n",
       "     'propertyPlantEquipment': 6733,\n",
       "     'totalCurrentAssets': 43568,\n",
       "     'longTermInvestments': 247912,\n",
       "     'netTangibleAssets': -7071230,\n",
       "     'accountsPayable': 959668}},\n",
       "   {'2017-12-31': {'intangibleAssets': 863941,\n",
       "     'capitalSurplus': 63315749,\n",
       "     'totalLiab': 13949707,\n",
       "     'totalStockholderEquity': -11375726,\n",
       "     'otherCurrentLiab': 10293701,\n",
       "     'totalAssets': 2573981,\n",
       "     'commonStock': 112166,\n",
       "     'retainedEarnings': -74252214,\n",
       "     'treasuryStock': -551427,\n",
       "     'otherAssets': 33502,\n",
       "     'cash': 1201587,\n",
       "     'totalCurrentLiabilities': 13949707,\n",
       "     'otherStockholderEquity': -551427,\n",
       "     'propertyPlantEquipment': 55146,\n",
       "     'totalCurrentAssets': 1218143,\n",
       "     'longTermInvestments': 403249,\n",
       "     'netTangibleAssets': -12239667,\n",
       "     'accountsPayable': 1257783}},\n",
       "   {'2016-12-31': {'capitalSurplus': 28693819,\n",
       "     'totalLiab': 1818798,\n",
       "     'totalStockholderEquity': -1095178,\n",
       "     'otherCurrentLiab': 1328148,\n",
       "     'totalAssets': 723620,\n",
       "     'commonStock': 71908,\n",
       "     'retainedEarnings': -29862645,\n",
       "     'treasuryStock': 1740,\n",
       "     'otherAssets': 33502,\n",
       "     'cash': 374490,\n",
       "     'totalCurrentLiabilities': 1710698,\n",
       "     'otherStockholderEquity': 1740,\n",
       "     'propertyPlantEquipment': 77322,\n",
       "     'totalCurrentAssets': 377796,\n",
       "     'longTermInvestments': 235000,\n",
       "     'netTangibleAssets': -1095178,\n",
       "     'netReceivables': 3306,\n",
       "     'longTermDebt': 108100,\n",
       "     'accountsPayable': 382550}}]}}"
      ]
     },
     "metadata": {},
     "execution_count": 54
    }
   ],
   "source": [
    "yahoo_financials.get_financial_stmts('annual', 'balance')"
   ]
  },
  {
   "cell_type": "code",
   "execution_count": 55,
   "metadata": {},
   "outputs": [
    {
     "output_type": "execute_result",
     "data": {
      "text/plain": [
       "{'cashflowStatementHistoryQuarterly': {'MSRT': [{'2020-09-30': {'changeToLiabilities': -50036,\n",
       "     'netBorrowings': 224518,\n",
       "     'totalCashFromFinancingActivities': 224518,\n",
       "     'changeToOperatingActivities': 31440,\n",
       "     'netIncome': 64679222,\n",
       "     'totalCashFromOperatingActivities': -224518,\n",
       "     'changeToNetincome': -64885144}},\n",
       "   {'2020-06-30': {'changeToLiabilities': -120127,\n",
       "     'netBorrowings': 382992,\n",
       "     'totalCashFromFinancingActivities': 382992,\n",
       "     'changeToOperatingActivities': 13726,\n",
       "     'netIncome': -80129285,\n",
       "     'changeInCash': -200,\n",
       "     'totalCashFromOperatingActivities': -383192,\n",
       "     'changeToNetincome': 79852494}},\n",
       "   {'2020-03-31': {'changeToLiabilities': 50987,\n",
       "     'netBorrowings': 109082,\n",
       "     'totalCashFromFinancingActivities': 109082,\n",
       "     'changeToOperatingActivities': 50989,\n",
       "     'netIncome': -31952896,\n",
       "     'changeInCash': -270,\n",
       "     'totalCashFromOperatingActivities': -109352,\n",
       "     'changeToNetincome': 31741568}},\n",
       "   {'2019-12-31': {'investments': 90981,\n",
       "     'changeToLiabilities': 60037,\n",
       "     'totalCashflowsFromInvestingActivities': -2,\n",
       "     'netBorrowings': -356001,\n",
       "     'totalCashFromFinancingActivities': 406498,\n",
       "     'changeToOperatingActivities': 358083,\n",
       "     'netIncome': -7930658,\n",
       "     'changeInCash': -1519,\n",
       "     'repurchaseOfStock': -1,\n",
       "     'totalCashFromOperatingActivities': -408015,\n",
       "     'depreciation': 3171,\n",
       "     'changeToAccountReceivables': 167,\n",
       "     'changeToNetincome': 7101185}}]}}"
      ]
     },
     "metadata": {},
     "execution_count": 55
    }
   ],
   "source": [
    "yahoo_financials.get_financial_stmts('quarterly', 'cash')"
   ]
  },
  {
   "cell_type": "code",
   "execution_count": 56,
   "metadata": {},
   "outputs": [
    {
     "output_type": "execute_result",
     "data": {
      "text/plain": [
       "{'MSRT': {'annualHoldingsTurnover': None,\n",
       "  'enterpriseToRevenue': 16558.365,\n",
       "  'beta3Year': None,\n",
       "  'profitMargins': 0,\n",
       "  'enterpriseToEbitda': -30.764,\n",
       "  '52WeekChange': 10,\n",
       "  'morningStarRiskRating': None,\n",
       "  'forwardEps': -0.11,\n",
       "  'revenueQuarterlyGrowth': None,\n",
       "  'sharesOutstanding': 493726016,\n",
       "  'fundInceptionDate': '-',\n",
       "  'annualReportExpenseRatio': None,\n",
       "  'totalAssets': None,\n",
       "  'bookValue': -0.06,\n",
       "  'sharesShort': None,\n",
       "  'sharesPercentSharesOut': None,\n",
       "  'fundFamily': None,\n",
       "  'lastFiscalYearEnd': 1577750400,\n",
       "  'heldPercentInstitutions': 0.03893,\n",
       "  'netIncomeToCommon': -158211408,\n",
       "  'trailingEps': -0.116,\n",
       "  'lastDividendValue': None,\n",
       "  'SandP52WeekChange': 0.652609,\n",
       "  'priceToBook': None,\n",
       "  'heldPercentInsiders': 0.03593,\n",
       "  'nextFiscalYearEnd': 1640908800,\n",
       "  'yield': None,\n",
       "  'mostRecentQuarter': 1601424000,\n",
       "  'shortRatio': None,\n",
       "  'sharesShortPreviousMonthDate': '-',\n",
       "  'floatShares': 1383486695,\n",
       "  'beta': 2.00325,\n",
       "  'enterpriseValue': 39094300,\n",
       "  'priceHint': 4,\n",
       "  'threeYearAverageReturn': None,\n",
       "  'lastSplitDate': '-',\n",
       "  'lastSplitFactor': None,\n",
       "  'legalType': None,\n",
       "  'lastDividendDate': '-',\n",
       "  'morningStarOverallRating': None,\n",
       "  'earningsQuarterlyGrowth': None,\n",
       "  'priceToSalesTrailing12Months': None,\n",
       "  'dateShortInterest': None,\n",
       "  'pegRatio': None,\n",
       "  'ytdReturn': None,\n",
       "  'forwardPE': None,\n",
       "  'maxAge': 1,\n",
       "  'lastCapGain': None,\n",
       "  'shortPercentOfFloat': None,\n",
       "  'sharesShortPriorMonth': None,\n",
       "  'impliedSharesOutstanding': None,\n",
       "  'category': None,\n",
       "  'fiveYearAverageReturn': None}}"
      ]
     },
     "metadata": {},
     "execution_count": 56
    }
   ],
   "source": [
    "yahoo_financials.get_key_statistics_data()"
   ]
  },
  {
   "cell_type": "code",
   "execution_count": 57,
   "metadata": {},
   "outputs": [
    {
     "output_type": "execute_result",
     "data": {
      "text/plain": [
       "0.0228"
      ]
     },
     "metadata": {},
     "execution_count": 57
    }
   ],
   "source": [
    "yahoo_financials.get_current_price()"
   ]
  }
 ]
}