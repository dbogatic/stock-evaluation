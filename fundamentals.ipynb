{
 "metadata": {
  "language_info": {
   "codemirror_mode": {
    "name": "ipython",
    "version": 3
   },
   "file_extension": ".py",
   "mimetype": "text/x-python",
   "name": "python",
   "nbconvert_exporter": "python",
   "pygments_lexer": "ipython3",
   "version": "3.8.5-final"
  },
  "orig_nbformat": 2,
  "kernelspec": {
   "name": "python3",
   "display_name": "Python 3",
   "language": "python"
  }
 },
 "nbformat": 4,
 "nbformat_minor": 2,
 "cells": [
  {
   "cell_type": "code",
   "execution_count": 1,
   "metadata": {},
   "outputs": [],
   "source": [
    "import yfinance as yf\n",
    "from yahoofinancials import YahooFinancials"
   ]
  },
  {
   "cell_type": "code",
   "execution_count": 2,
   "metadata": {},
   "outputs": [],
   "source": [
    "ticker = yf.Ticker(\"MSRT\")"
   ]
  },
  {
   "cell_type": "code",
   "execution_count": 3,
   "metadata": {},
   "outputs": [
    {
     "output_type": "execute_result",
     "data": {
      "text/plain": [
       "{'zip': '90028',\n",
       " 'sector': 'Healthcare',\n",
       " 'longBusinessSummary': \"MassRoots, Inc., together with its subsidiaries, operates a technology platform for the cannabis industry in the United States. Its platform enables users to share their cannabis content, follow their favorite dispensaries, and stay connected with the legalization movement. The company's MassRoots network is accessible as a free mobile application through the Apple App Store, the Amazon App Store, and the Google Play Marketplace, as well as Web application. It also operates www.massroots.com/business, a business and adverting portal that enable companies to edit their profiles; distribute information to users; and view analytics, such as impressions, views, and clicks. MassRoots, Inc. was founded in 2013 and is based in Los Angeles, California.\",\n",
       " 'city': 'Los Angeles',\n",
       " 'phone': '833 467 6687',\n",
       " 'state': 'CA',\n",
       " 'country': 'United States',\n",
       " 'companyOfficers': [],\n",
       " 'website': 'http://www.massroots.com',\n",
       " 'maxAge': 1,\n",
       " 'address1': '7083 Hollywood Boulevard',\n",
       " 'industry': 'Health Information Services',\n",
       " 'address2': 'Office 4084',\n",
       " 'previousClose': 0.0227,\n",
       " 'regularMarketOpen': 0.0225,\n",
       " 'twoHundredDayAverage': 0.011875,\n",
       " 'trailingAnnualDividendYield': None,\n",
       " 'payoutRatio': 0,\n",
       " 'volume24Hr': None,\n",
       " 'regularMarketDayHigh': 0.0227,\n",
       " 'navPrice': None,\n",
       " 'averageDailyVolume10Day': 3408966,\n",
       " 'totalAssets': None,\n",
       " 'regularMarketPreviousClose': 0.0227,\n",
       " 'fiftyDayAverage': 0.028147059,\n",
       " 'trailingAnnualDividendRate': None,\n",
       " 'open': 0.0225,\n",
       " 'toCurrency': None,\n",
       " 'averageVolume10days': 3408966,\n",
       " 'expireDate': None,\n",
       " 'yield': None,\n",
       " 'algorithm': None,\n",
       " 'dividendRate': None,\n",
       " 'exDividendDate': None,\n",
       " 'beta': 2.00325,\n",
       " 'circulatingSupply': None,\n",
       " 'startDate': None,\n",
       " 'regularMarketDayLow': 0.02,\n",
       " 'priceHint': 4,\n",
       " 'currency': 'USD',\n",
       " 'regularMarketVolume': 905225,\n",
       " 'lastMarket': None,\n",
       " 'maxSupply': None,\n",
       " 'openInterest': None,\n",
       " 'marketCap': 10738541,\n",
       " 'volumeAllCurrencies': None,\n",
       " 'strikePrice': None,\n",
       " 'averageVolume': 11687540,\n",
       " 'priceToSalesTrailing12Months': 4548.302,\n",
       " 'dayLow': 0.02,\n",
       " 'ask': 0,\n",
       " 'ytdReturn': None,\n",
       " 'askSize': 0,\n",
       " 'volume': 905225,\n",
       " 'fiftyTwoWeekHigh': 0.057,\n",
       " 'forwardPE': -0.19772726,\n",
       " 'fromCurrency': None,\n",
       " 'fiveYearAvgDividendYield': None,\n",
       " 'fiftyTwoWeekLow': 0.001,\n",
       " 'bid': 0,\n",
       " 'tradeable': False,\n",
       " 'dividendYield': None,\n",
       " 'bidSize': 0,\n",
       " 'dayHigh': 0.0227,\n",
       " 'exchange': 'PNK',\n",
       " 'shortName': 'MASSROOTS INC',\n",
       " 'longName': 'MassRoots, Inc.',\n",
       " 'exchangeTimezoneName': 'America/New_York',\n",
       " 'exchangeTimezoneShortName': 'EDT',\n",
       " 'isEsgPopulated': False,\n",
       " 'gmtOffSetMilliseconds': '-14400000',\n",
       " 'quoteType': 'EQUITY',\n",
       " 'symbol': 'MSRT',\n",
       " 'messageBoardId': 'finmb_248604732',\n",
       " 'market': 'us_market',\n",
       " 'annualHoldingsTurnover': None,\n",
       " 'enterpriseToRevenue': 16855.11,\n",
       " 'beta3Year': None,\n",
       " 'profitMargins': 0,\n",
       " 'enterpriseToEbitda': -31.315,\n",
       " '52WeekChange': 10.5,\n",
       " 'morningStarRiskRating': None,\n",
       " 'forwardEps': -0.11,\n",
       " 'revenueQuarterlyGrowth': None,\n",
       " 'sharesOutstanding': 493726016,\n",
       " 'fundInceptionDate': None,\n",
       " 'annualReportExpenseRatio': None,\n",
       " 'bookValue': -0.06,\n",
       " 'sharesShort': None,\n",
       " 'sharesPercentSharesOut': None,\n",
       " 'fundFamily': None,\n",
       " 'lastFiscalYearEnd': 1577750400,\n",
       " 'heldPercentInstitutions': 0.03893,\n",
       " 'netIncomeToCommon': -158211408,\n",
       " 'trailingEps': -0.116,\n",
       " 'lastDividendValue': None,\n",
       " 'SandP52WeekChange': 0.652609,\n",
       " 'priceToBook': None,\n",
       " 'heldPercentInsiders': 0.03593,\n",
       " 'nextFiscalYearEnd': 1640908800,\n",
       " 'mostRecentQuarter': 1601424000,\n",
       " 'shortRatio': None,\n",
       " 'sharesShortPreviousMonthDate': None,\n",
       " 'floatShares': 1383486695,\n",
       " 'enterpriseValue': 39794912,\n",
       " 'threeYearAverageReturn': None,\n",
       " 'lastSplitDate': None,\n",
       " 'lastSplitFactor': None,\n",
       " 'legalType': None,\n",
       " 'lastDividendDate': None,\n",
       " 'morningStarOverallRating': None,\n",
       " 'earningsQuarterlyGrowth': None,\n",
       " 'dateShortInterest': None,\n",
       " 'pegRatio': None,\n",
       " 'lastCapGain': None,\n",
       " 'shortPercentOfFloat': None,\n",
       " 'sharesShortPriorMonth': None,\n",
       " 'impliedSharesOutstanding': None,\n",
       " 'category': None,\n",
       " 'fiveYearAverageReturn': None,\n",
       " 'regularMarketPrice': 0.0225,\n",
       " 'logo_url': 'https://logo.clearbit.com/massroots.com'}"
      ]
     },
     "metadata": {},
     "execution_count": 3
    }
   ],
   "source": [
    "ticker.info"
   ]
  },
  {
   "cell_type": "code",
   "execution_count": 4,
   "metadata": {},
   "outputs": [
    {
     "output_type": "execute_result",
     "data": {
      "text/plain": [
       "dict_keys(['zip', 'sector', 'longBusinessSummary', 'city', 'phone', 'state', 'country', 'companyOfficers', 'website', 'maxAge', 'address1', 'industry', 'address2', 'previousClose', 'regularMarketOpen', 'twoHundredDayAverage', 'trailingAnnualDividendYield', 'payoutRatio', 'volume24Hr', 'regularMarketDayHigh', 'navPrice', 'averageDailyVolume10Day', 'totalAssets', 'regularMarketPreviousClose', 'fiftyDayAverage', 'trailingAnnualDividendRate', 'open', 'toCurrency', 'averageVolume10days', 'expireDate', 'yield', 'algorithm', 'dividendRate', 'exDividendDate', 'beta', 'circulatingSupply', 'startDate', 'regularMarketDayLow', 'priceHint', 'currency', 'regularMarketVolume', 'lastMarket', 'maxSupply', 'openInterest', 'marketCap', 'volumeAllCurrencies', 'strikePrice', 'averageVolume', 'priceToSalesTrailing12Months', 'dayLow', 'ask', 'ytdReturn', 'askSize', 'volume', 'fiftyTwoWeekHigh', 'forwardPE', 'fromCurrency', 'fiveYearAvgDividendYield', 'fiftyTwoWeekLow', 'bid', 'tradeable', 'dividendYield', 'bidSize', 'dayHigh', 'exchange', 'shortName', 'longName', 'exchangeTimezoneName', 'exchangeTimezoneShortName', 'isEsgPopulated', 'gmtOffSetMilliseconds', 'quoteType', 'symbol', 'messageBoardId', 'market', 'annualHoldingsTurnover', 'enterpriseToRevenue', 'beta3Year', 'profitMargins', 'enterpriseToEbitda', '52WeekChange', 'morningStarRiskRating', 'forwardEps', 'revenueQuarterlyGrowth', 'sharesOutstanding', 'fundInceptionDate', 'annualReportExpenseRatio', 'bookValue', 'sharesShort', 'sharesPercentSharesOut', 'fundFamily', 'lastFiscalYearEnd', 'heldPercentInstitutions', 'netIncomeToCommon', 'trailingEps', 'lastDividendValue', 'SandP52WeekChange', 'priceToBook', 'heldPercentInsiders', 'nextFiscalYearEnd', 'mostRecentQuarter', 'shortRatio', 'sharesShortPreviousMonthDate', 'floatShares', 'enterpriseValue', 'threeYearAverageReturn', 'lastSplitDate', 'lastSplitFactor', 'legalType', 'lastDividendDate', 'morningStarOverallRating', 'earningsQuarterlyGrowth', 'dateShortInterest', 'pegRatio', 'lastCapGain', 'shortPercentOfFloat', 'sharesShortPriorMonth', 'impliedSharesOutstanding', 'category', 'fiveYearAverageReturn', 'regularMarketPrice', 'logo_url'])"
      ]
     },
     "metadata": {},
     "execution_count": 4
    }
   ],
   "source": [
    "ticker.info.keys()"
   ]
  },
  {
   "cell_type": "code",
   "execution_count": 5,
   "metadata": {},
   "outputs": [
    {
     "output_type": "execute_result",
     "data": {
      "text/plain": [
       "'Healthcare'"
      ]
     },
     "metadata": {},
     "execution_count": 5
    }
   ],
   "source": [
    "ticker.info['sector']"
   ]
  },
  {
   "cell_type": "code",
   "execution_count": 6,
   "metadata": {},
   "outputs": [
    {
     "output_type": "execute_result",
     "data": {
      "text/plain": [
       "2.00325"
      ]
     },
     "metadata": {},
     "execution_count": 6
    }
   ],
   "source": [
    "ticker.info['beta']"
   ]
  },
  {
   "cell_type": "code",
   "execution_count": 7,
   "metadata": {},
   "outputs": [
    {
     "output_type": "execute_result",
     "data": {
      "text/plain": [
       "              Open    High    Low    Close   Volume  Dividends  Stock Splits\n",
       "Date                                                                        \n",
       "2015-04-09  2.2500  2.2500  1.020  1.10000   193100          0             0\n",
       "2015-04-10  1.2000  1.2000  1.050  1.07000    35500          0             0\n",
       "2015-04-13  1.0900  1.1500  1.090  1.15000   126600          0             0\n",
       "2015-04-14  1.1700  1.1700  1.130  1.14000    41400          0             0\n",
       "2015-04-15  1.1600  1.1600  1.140  1.16000    65000          0             0\n",
       "...            ...     ...    ...      ...      ...        ...           ...\n",
       "2021-03-16  0.0230  0.0240  0.019  0.02100  4879600          0             0\n",
       "2021-03-17  0.0210  0.0210  0.018  0.02100  3181900          0             0\n",
       "2021-03-18  0.0210  0.0220  0.019  0.02100  1665300          0             0\n",
       "2021-03-19  0.0180  0.0230  0.018  0.02300  1574600          0             0\n",
       "2021-03-22  0.0225  0.0227  0.020  0.02175   905225          0             0\n",
       "\n",
       "[1499 rows x 7 columns]"
      ],
      "text/html": "<div>\n<style scoped>\n    .dataframe tbody tr th:only-of-type {\n        vertical-align: middle;\n    }\n\n    .dataframe tbody tr th {\n        vertical-align: top;\n    }\n\n    .dataframe thead th {\n        text-align: right;\n    }\n</style>\n<table border=\"1\" class=\"dataframe\">\n  <thead>\n    <tr style=\"text-align: right;\">\n      <th></th>\n      <th>Open</th>\n      <th>High</th>\n      <th>Low</th>\n      <th>Close</th>\n      <th>Volume</th>\n      <th>Dividends</th>\n      <th>Stock Splits</th>\n    </tr>\n    <tr>\n      <th>Date</th>\n      <th></th>\n      <th></th>\n      <th></th>\n      <th></th>\n      <th></th>\n      <th></th>\n      <th></th>\n    </tr>\n  </thead>\n  <tbody>\n    <tr>\n      <th>2015-04-09</th>\n      <td>2.2500</td>\n      <td>2.2500</td>\n      <td>1.020</td>\n      <td>1.10000</td>\n      <td>193100</td>\n      <td>0</td>\n      <td>0</td>\n    </tr>\n    <tr>\n      <th>2015-04-10</th>\n      <td>1.2000</td>\n      <td>1.2000</td>\n      <td>1.050</td>\n      <td>1.07000</td>\n      <td>35500</td>\n      <td>0</td>\n      <td>0</td>\n    </tr>\n    <tr>\n      <th>2015-04-13</th>\n      <td>1.0900</td>\n      <td>1.1500</td>\n      <td>1.090</td>\n      <td>1.15000</td>\n      <td>126600</td>\n      <td>0</td>\n      <td>0</td>\n    </tr>\n    <tr>\n      <th>2015-04-14</th>\n      <td>1.1700</td>\n      <td>1.1700</td>\n      <td>1.130</td>\n      <td>1.14000</td>\n      <td>41400</td>\n      <td>0</td>\n      <td>0</td>\n    </tr>\n    <tr>\n      <th>2015-04-15</th>\n      <td>1.1600</td>\n      <td>1.1600</td>\n      <td>1.140</td>\n      <td>1.16000</td>\n      <td>65000</td>\n      <td>0</td>\n      <td>0</td>\n    </tr>\n    <tr>\n      <th>...</th>\n      <td>...</td>\n      <td>...</td>\n      <td>...</td>\n      <td>...</td>\n      <td>...</td>\n      <td>...</td>\n      <td>...</td>\n    </tr>\n    <tr>\n      <th>2021-03-16</th>\n      <td>0.0230</td>\n      <td>0.0240</td>\n      <td>0.019</td>\n      <td>0.02100</td>\n      <td>4879600</td>\n      <td>0</td>\n      <td>0</td>\n    </tr>\n    <tr>\n      <th>2021-03-17</th>\n      <td>0.0210</td>\n      <td>0.0210</td>\n      <td>0.018</td>\n      <td>0.02100</td>\n      <td>3181900</td>\n      <td>0</td>\n      <td>0</td>\n    </tr>\n    <tr>\n      <th>2021-03-18</th>\n      <td>0.0210</td>\n      <td>0.0220</td>\n      <td>0.019</td>\n      <td>0.02100</td>\n      <td>1665300</td>\n      <td>0</td>\n      <td>0</td>\n    </tr>\n    <tr>\n      <th>2021-03-19</th>\n      <td>0.0180</td>\n      <td>0.0230</td>\n      <td>0.018</td>\n      <td>0.02300</td>\n      <td>1574600</td>\n      <td>0</td>\n      <td>0</td>\n    </tr>\n    <tr>\n      <th>2021-03-22</th>\n      <td>0.0225</td>\n      <td>0.0227</td>\n      <td>0.020</td>\n      <td>0.02175</td>\n      <td>905225</td>\n      <td>0</td>\n      <td>0</td>\n    </tr>\n  </tbody>\n</table>\n<p>1499 rows × 7 columns</p>\n</div>"
     },
     "metadata": {},
     "execution_count": 7
    }
   ],
   "source": [
    "ticker.history(period='max')"
   ]
  },
  {
   "cell_type": "code",
   "execution_count": 8,
   "metadata": {},
   "outputs": [],
   "source": [
    "ticker = 'MSRT'\n",
    "yahoo_financials = YahooFinancials(ticker)"
   ]
  },
  {
   "cell_type": "code",
   "execution_count": 9,
   "metadata": {},
   "outputs": [
    {
     "output_type": "execute_result",
     "data": {
      "text/plain": [
       "{'incomeStatementHistory': {'MSRT': [{'2019-12-31': {'researchDevelopment': None,\n",
       "     'effectOfAccountingCharges': None,\n",
       "     'incomeBeforeTax': -34268912,\n",
       "     'minorityInterest': None,\n",
       "     'netIncome': -34268912,\n",
       "     'sellingGeneralAdministrative': 1713331,\n",
       "     'grossProfit': -1136741,\n",
       "     'ebit': -2888621,\n",
       "     'operatingIncome': -2888621,\n",
       "     'otherOperatingExpenses': None,\n",
       "     'interestExpense': -4935470,\n",
       "     'extraordinaryItems': None,\n",
       "     'nonRecurring': None,\n",
       "     'otherItems': None,\n",
       "     'incomeTaxExpense': 0,\n",
       "     'totalRevenue': 23703,\n",
       "     'totalOperatingExpenses': 2912324,\n",
       "     'costOfRevenue': 1160444,\n",
       "     'totalOtherIncomeExpenseNet': -31380291,\n",
       "     'discontinuedOperations': None,\n",
       "     'netIncomeFromContinuingOps': -34268912,\n",
       "     'netIncomeApplicableToCommonShares': -110263157}},\n",
       "   {'2018-12-31': {'researchDevelopment': None,\n",
       "     'effectOfAccountingCharges': None,\n",
       "     'incomeBeforeTax': -16016441,\n",
       "     'minorityInterest': None,\n",
       "     'netIncome': -16016441,\n",
       "     'sellingGeneralAdministrative': 11950270,\n",
       "     'grossProfit': -889267,\n",
       "     'ebit': -13277801,\n",
       "     'operatingIncome': -13277801,\n",
       "     'otherOperatingExpenses': None,\n",
       "     'interestExpense': -1971329,\n",
       "     'extraordinaryItems': None,\n",
       "     'nonRecurring': None,\n",
       "     'otherItems': None,\n",
       "     'incomeTaxExpense': 0,\n",
       "     'totalRevenue': 19597,\n",
       "     'totalOperatingExpenses': 13297398,\n",
       "     'costOfRevenue': 908864,\n",
       "     'totalOtherIncomeExpenseNet': -2738640,\n",
       "     'discontinuedOperations': None,\n",
       "     'netIncomeFromContinuingOps': -16016441,\n",
       "     'netIncomeApplicableToCommonShares': -16016441}},\n",
       "   {'2017-12-31': {'researchDevelopment': None,\n",
       "     'effectOfAccountingCharges': None,\n",
       "     'incomeBeforeTax': -44389569,\n",
       "     'minorityInterest': None,\n",
       "     'netIncome': -44389569,\n",
       "     'sellingGeneralAdministrative': 28232626,\n",
       "     'grossProfit': -2785795,\n",
       "     'ebit': -33006969,\n",
       "     'operatingIncome': -33006969,\n",
       "     'otherOperatingExpenses': 1599489,\n",
       "     'interestExpense': -659774,\n",
       "     'extraordinaryItems': None,\n",
       "     'nonRecurring': None,\n",
       "     'otherItems': None,\n",
       "     'incomeTaxExpense': 0,\n",
       "     'totalRevenue': 319242,\n",
       "     'totalOperatingExpenses': 33326211,\n",
       "     'costOfRevenue': 3105037,\n",
       "     'totalOtherIncomeExpenseNet': -11382600,\n",
       "     'discontinuedOperations': None,\n",
       "     'netIncomeFromContinuingOps': -44389569,\n",
       "     'netIncomeApplicableToCommonShares': -44389569}},\n",
       "   {'2016-12-31': {'researchDevelopment': None,\n",
       "     'effectOfAccountingCharges': None,\n",
       "     'incomeBeforeTax': -18030124,\n",
       "     'minorityInterest': None,\n",
       "     'netIncome': -18030124,\n",
       "     'sellingGeneralAdministrative': 12010654,\n",
       "     'grossProfit': -1591725,\n",
       "     'ebit': -13602379,\n",
       "     'operatingIncome': -13602379,\n",
       "     'otherOperatingExpenses': 1599489,\n",
       "     'interestExpense': -3845833,\n",
       "     'extraordinaryItems': None,\n",
       "     'nonRecurring': None,\n",
       "     'otherItems': None,\n",
       "     'incomeTaxExpense': 0,\n",
       "     'totalRevenue': 701581,\n",
       "     'totalOperatingExpenses': 14303960,\n",
       "     'costOfRevenue': 2293306,\n",
       "     'totalOtherIncomeExpenseNet': -4427745,\n",
       "     'discontinuedOperations': None,\n",
       "     'netIncomeFromContinuingOps': -18030124,\n",
       "     'netIncomeApplicableToCommonShares': -18030124}}]}}"
      ]
     },
     "metadata": {},
     "execution_count": 9
    }
   ],
   "source": [
    "yahoo_financials.get_financial_stmts('annual', 'income')"
   ]
  },
  {
   "cell_type": "code",
   "execution_count": 10,
   "metadata": {},
   "outputs": [
    {
     "output_type": "execute_result",
     "data": {
      "text/plain": [
       "{'balanceSheetHistory': {'MSRT': [{'2019-12-31': {'capitalSurplus': 151364371,\n",
       "     'totalLiab': 36872021,\n",
       "     'totalStockholderEquity': -36868927,\n",
       "     'otherCurrentLiab': 20574370,\n",
       "     'totalAssets': 3095,\n",
       "     'commonStock': 384267,\n",
       "     'retainedEarnings': -189562225,\n",
       "     'treasuryStock': 944660,\n",
       "     'cash': 1120,\n",
       "     'totalCurrentLiabilities': 36872021,\n",
       "     'otherStockholderEquity': 944660,\n",
       "     'totalCurrentAssets': 3095,\n",
       "     'netTangibleAssets': -36868927,\n",
       "     'accountsPayable': 5455063}},\n",
       "   {'2018-12-31': {'intangibleAssets': 234864,\n",
       "     'capitalSurplus': 73770195,\n",
       "     'totalLiab': 7405443,\n",
       "     'totalStockholderEquity': -6836366,\n",
       "     'otherCurrentLiab': 932500,\n",
       "     'totalAssets': 569077,\n",
       "     'commonStock': 168707,\n",
       "     'retainedEarnings': -80775348,\n",
       "     'treasuryStock': 80,\n",
       "     'otherAssets': 36000,\n",
       "     'cash': 29568,\n",
       "     'totalCurrentLiabilities': 7405443,\n",
       "     'otherStockholderEquity': 80,\n",
       "     'propertyPlantEquipment': 6733,\n",
       "     'totalCurrentAssets': 43568,\n",
       "     'longTermInvestments': 247912,\n",
       "     'netTangibleAssets': -7071230,\n",
       "     'accountsPayable': 959668}},\n",
       "   {'2017-12-31': {'intangibleAssets': 863941,\n",
       "     'capitalSurplus': 63315749,\n",
       "     'totalLiab': 13949707,\n",
       "     'totalStockholderEquity': -11375726,\n",
       "     'otherCurrentLiab': 10293701,\n",
       "     'totalAssets': 2573981,\n",
       "     'commonStock': 112166,\n",
       "     'retainedEarnings': -74252214,\n",
       "     'treasuryStock': -551427,\n",
       "     'otherAssets': 33502,\n",
       "     'cash': 1201587,\n",
       "     'totalCurrentLiabilities': 13949707,\n",
       "     'otherStockholderEquity': -551427,\n",
       "     'propertyPlantEquipment': 55146,\n",
       "     'totalCurrentAssets': 1218143,\n",
       "     'longTermInvestments': 403249,\n",
       "     'netTangibleAssets': -12239667,\n",
       "     'accountsPayable': 1257783}},\n",
       "   {'2016-12-31': {'capitalSurplus': 28693819,\n",
       "     'totalLiab': 1818798,\n",
       "     'totalStockholderEquity': -1095178,\n",
       "     'otherCurrentLiab': 1328148,\n",
       "     'totalAssets': 723620,\n",
       "     'commonStock': 71908,\n",
       "     'retainedEarnings': -29862645,\n",
       "     'treasuryStock': 1740,\n",
       "     'otherAssets': 33502,\n",
       "     'cash': 374490,\n",
       "     'totalCurrentLiabilities': 1710698,\n",
       "     'otherStockholderEquity': 1740,\n",
       "     'propertyPlantEquipment': 77322,\n",
       "     'totalCurrentAssets': 377796,\n",
       "     'longTermInvestments': 235000,\n",
       "     'netTangibleAssets': -1095178,\n",
       "     'netReceivables': 3306,\n",
       "     'longTermDebt': 108100,\n",
       "     'accountsPayable': 382550}}]}}"
      ]
     },
     "metadata": {},
     "execution_count": 10
    }
   ],
   "source": [
    "yahoo_financials.get_financial_stmts('annual', 'balance')"
   ]
  },
  {
   "cell_type": "code",
   "execution_count": 11,
   "metadata": {},
   "outputs": [
    {
     "output_type": "execute_result",
     "data": {
      "text/plain": [
       "{'cashflowStatementHistoryQuarterly': {'MSRT': [{'2020-09-30': {'changeToLiabilities': -50036,\n",
       "     'netBorrowings': 224518,\n",
       "     'totalCashFromFinancingActivities': 224518,\n",
       "     'changeToOperatingActivities': 31440,\n",
       "     'netIncome': 64679222,\n",
       "     'totalCashFromOperatingActivities': -224518,\n",
       "     'changeToNetincome': -64885144}},\n",
       "   {'2020-06-30': {'changeToLiabilities': -120127,\n",
       "     'netBorrowings': 382992,\n",
       "     'totalCashFromFinancingActivities': 382992,\n",
       "     'changeToOperatingActivities': 13726,\n",
       "     'netIncome': -80129285,\n",
       "     'changeInCash': -200,\n",
       "     'totalCashFromOperatingActivities': -383192,\n",
       "     'changeToNetincome': 79852494}},\n",
       "   {'2020-03-31': {'changeToLiabilities': 50987,\n",
       "     'netBorrowings': 109082,\n",
       "     'totalCashFromFinancingActivities': 109082,\n",
       "     'changeToOperatingActivities': 50989,\n",
       "     'netIncome': -31952896,\n",
       "     'changeInCash': -270,\n",
       "     'totalCashFromOperatingActivities': -109352,\n",
       "     'changeToNetincome': 31741568}},\n",
       "   {'2019-12-31': {'investments': 90981,\n",
       "     'changeToLiabilities': 60037,\n",
       "     'totalCashflowsFromInvestingActivities': -2,\n",
       "     'netBorrowings': -356001,\n",
       "     'totalCashFromFinancingActivities': 406498,\n",
       "     'changeToOperatingActivities': 358083,\n",
       "     'netIncome': -7930658,\n",
       "     'changeInCash': -1519,\n",
       "     'repurchaseOfStock': -1,\n",
       "     'totalCashFromOperatingActivities': -408015,\n",
       "     'depreciation': 3171,\n",
       "     'changeToAccountReceivables': 167,\n",
       "     'changeToNetincome': 7101185}}]}}"
      ]
     },
     "metadata": {},
     "execution_count": 11
    }
   ],
   "source": [
    "yahoo_financials.get_financial_stmts('quarterly', 'cash')"
   ]
  },
  {
   "cell_type": "code",
   "execution_count": 12,
   "metadata": {},
   "outputs": [
    {
     "output_type": "execute_result",
     "data": {
      "text/plain": [
       "{'MSRT': {'annualHoldingsTurnover': None,\n",
       "  'enterpriseToRevenue': 16855.11,\n",
       "  'beta3Year': None,\n",
       "  'profitMargins': 0,\n",
       "  'enterpriseToEbitda': -31.315,\n",
       "  '52WeekChange': 10.5,\n",
       "  'morningStarRiskRating': None,\n",
       "  'forwardEps': -0.11,\n",
       "  'revenueQuarterlyGrowth': None,\n",
       "  'sharesOutstanding': 493726016,\n",
       "  'fundInceptionDate': '-',\n",
       "  'annualReportExpenseRatio': None,\n",
       "  'totalAssets': None,\n",
       "  'bookValue': -0.06,\n",
       "  'sharesShort': None,\n",
       "  'sharesPercentSharesOut': None,\n",
       "  'fundFamily': None,\n",
       "  'lastFiscalYearEnd': 1577750400,\n",
       "  'heldPercentInstitutions': 0.03893,\n",
       "  'netIncomeToCommon': -158211408,\n",
       "  'trailingEps': -0.116,\n",
       "  'lastDividendValue': None,\n",
       "  'SandP52WeekChange': 0.652609,\n",
       "  'priceToBook': None,\n",
       "  'heldPercentInsiders': 0.03593,\n",
       "  'nextFiscalYearEnd': 1640908800,\n",
       "  'yield': None,\n",
       "  'mostRecentQuarter': 1601424000,\n",
       "  'shortRatio': None,\n",
       "  'sharesShortPreviousMonthDate': '-',\n",
       "  'floatShares': 1383486695,\n",
       "  'beta': 2.00325,\n",
       "  'enterpriseValue': 39794912,\n",
       "  'priceHint': 4,\n",
       "  'threeYearAverageReturn': None,\n",
       "  'lastSplitDate': '-',\n",
       "  'lastSplitFactor': None,\n",
       "  'legalType': None,\n",
       "  'lastDividendDate': '-',\n",
       "  'morningStarOverallRating': None,\n",
       "  'earningsQuarterlyGrowth': None,\n",
       "  'priceToSalesTrailing12Months': None,\n",
       "  'dateShortInterest': None,\n",
       "  'pegRatio': None,\n",
       "  'ytdReturn': None,\n",
       "  'forwardPE': None,\n",
       "  'maxAge': 1,\n",
       "  'lastCapGain': None,\n",
       "  'shortPercentOfFloat': None,\n",
       "  'sharesShortPriorMonth': None,\n",
       "  'impliedSharesOutstanding': None,\n",
       "  'category': None,\n",
       "  'fiveYearAverageReturn': None}}"
      ]
     },
     "metadata": {},
     "execution_count": 12
    }
   ],
   "source": [
    "yahoo_financials.get_key_statistics_data()"
   ]
  },
  {
   "cell_type": "code",
   "execution_count": 13,
   "metadata": {},
   "outputs": [
    {
     "output_type": "execute_result",
     "data": {
      "text/plain": [
       "0.02175"
      ]
     },
     "metadata": {},
     "execution_count": 13
    }
   ],
   "source": [
    "yahoo_financials.get_current_price()"
   ]
  },
  {
   "cell_type": "code",
   "execution_count": null,
   "metadata": {},
   "outputs": [],
   "source": []
  }
 ]
}