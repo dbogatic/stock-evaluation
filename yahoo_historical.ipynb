{
 "metadata": {
  "language_info": {
   "codemirror_mode": {
    "name": "ipython",
    "version": 3
   },
   "file_extension": ".py",
   "mimetype": "text/x-python",
   "name": "python",
   "nbconvert_exporter": "python",
   "pygments_lexer": "ipython3",
   "version": "3.7.9"
  },
  "orig_nbformat": 2,
  "kernelspec": {
   "name": "python3",
   "display_name": "Python 3",
   "language": "python"
  }
 },
 "nbformat": 4,
 "nbformat_minor": 2,
 "cells": [
  {
   "cell_type": "code",
   "execution_count": 8,
   "metadata": {},
   "outputs": [],
   "source": [
    "import yfinance as yf\n",
    "from yahoofinancials import YahooFinancials\n",
    "import pandas as pd"
   ]
  },
  {
   "cell_type": "code",
   "execution_count": 9,
   "metadata": {},
   "outputs": [
    {
     "output_type": "execute_result",
     "data": {
      "text/plain": [
       "Date\n",
       "2018-03-19    0\n",
       "2018-03-20    0\n",
       "2018-03-21    0\n",
       "2018-03-22    0\n",
       "2018-03-23    0\n",
       "             ..\n",
       "2021-03-15    0\n",
       "2021-03-16    0\n",
       "2021-03-17    0\n",
       "2021-03-18    0\n",
       "2021-03-19    0\n",
       "Length: 757, dtype: int64"
      ]
     },
     "metadata": {},
     "execution_count": 9
    }
   ],
   "source": [
    "#multi_stock_history = yf.download(\"SPY LQD VNQ KOIN\", start=\"2018-02-01\", end=\"2021-03-18\", progress=False)\n",
    "\n",
    "stock_history = yf.download(\"TSLA\", start=\"2018-03-18\", end=\"2021-03-21\", progress=False)\n",
    "\n",
    "stock_history.isnull().sum(axis=1)"
   ]
  },
  {
   "cell_type": "code",
   "execution_count": 10,
   "metadata": {},
   "outputs": [
    {
     "output_type": "execute_result",
     "data": {
      "text/plain": [
       "                  Open        High         Low       Close   Adj Close  \\\n",
       "Date                                                                     \n",
       "2021-03-15  694.090027  713.179993  684.039978  707.940002  707.940002   \n",
       "2021-03-16  703.349976  707.919983  671.000000  676.880005  676.880005   \n",
       "2021-03-17  656.869995  703.729980  651.010010  701.809998  701.809998   \n",
       "2021-03-18  684.289978  689.229980  652.000000  653.159973  653.159973   \n",
       "2021-03-19  646.599976  657.229980  624.619995  654.869995  654.869995   \n",
       "\n",
       "              Volume  \n",
       "Date                  \n",
       "2021-03-15  29335600  \n",
       "2021-03-16  31903400  \n",
       "2021-03-17  40083300  \n",
       "2021-03-18  33224800  \n",
       "2021-03-19  42827400  "
      ],
      "text/html": "<div>\n<style scoped>\n    .dataframe tbody tr th:only-of-type {\n        vertical-align: middle;\n    }\n\n    .dataframe tbody tr th {\n        vertical-align: top;\n    }\n\n    .dataframe thead th {\n        text-align: right;\n    }\n</style>\n<table border=\"1\" class=\"dataframe\">\n  <thead>\n    <tr style=\"text-align: right;\">\n      <th></th>\n      <th>Open</th>\n      <th>High</th>\n      <th>Low</th>\n      <th>Close</th>\n      <th>Adj Close</th>\n      <th>Volume</th>\n    </tr>\n    <tr>\n      <th>Date</th>\n      <th></th>\n      <th></th>\n      <th></th>\n      <th></th>\n      <th></th>\n      <th></th>\n    </tr>\n  </thead>\n  <tbody>\n    <tr>\n      <th>2021-03-15</th>\n      <td>694.090027</td>\n      <td>713.179993</td>\n      <td>684.039978</td>\n      <td>707.940002</td>\n      <td>707.940002</td>\n      <td>29335600</td>\n    </tr>\n    <tr>\n      <th>2021-03-16</th>\n      <td>703.349976</td>\n      <td>707.919983</td>\n      <td>671.000000</td>\n      <td>676.880005</td>\n      <td>676.880005</td>\n      <td>31903400</td>\n    </tr>\n    <tr>\n      <th>2021-03-17</th>\n      <td>656.869995</td>\n      <td>703.729980</td>\n      <td>651.010010</td>\n      <td>701.809998</td>\n      <td>701.809998</td>\n      <td>40083300</td>\n    </tr>\n    <tr>\n      <th>2021-03-18</th>\n      <td>684.289978</td>\n      <td>689.229980</td>\n      <td>652.000000</td>\n      <td>653.159973</td>\n      <td>653.159973</td>\n      <td>33224800</td>\n    </tr>\n    <tr>\n      <th>2021-03-19</th>\n      <td>646.599976</td>\n      <td>657.229980</td>\n      <td>624.619995</td>\n      <td>654.869995</td>\n      <td>654.869995</td>\n      <td>42827400</td>\n    </tr>\n  </tbody>\n</table>\n</div>"
     },
     "metadata": {},
     "execution_count": 10
    }
   ],
   "source": [
    "stock_history.tail()"
   ]
  },
  {
   "cell_type": "code",
   "execution_count": 11,
   "metadata": {},
   "outputs": [
    {
     "output_type": "execute_result",
     "data": {
      "text/plain": [
       "Date\n",
       "2021-03-15    707.940002\n",
       "2021-03-16    676.880005\n",
       "2021-03-17    701.809998\n",
       "2021-03-18    653.159973\n",
       "2021-03-19    654.869995\n",
       "Name: Adj Close, dtype: float64"
      ]
     },
     "metadata": {},
     "execution_count": 11
    }
   ],
   "source": [
    "stock_history_close = stock_history['Adj Close']\n",
    "stock_history_close.tail()"
   ]
  },
  {
   "cell_type": "code",
   "execution_count": 12,
   "metadata": {},
   "outputs": [],
   "source": [
    "#multi_stock_history_close.to_csv('Resources/multi_stock_prices.csv')\n"
   ]
  },
  {
   "cell_type": "code",
   "execution_count": 13,
   "metadata": {},
   "outputs": [],
   "source": [
    "stock_history_close.to_csv('Resources/stock_historical_prices.csv')"
   ]
  }
 ]
}