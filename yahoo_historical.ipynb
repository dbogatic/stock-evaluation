{
 "metadata": {
  "language_info": {
   "codemirror_mode": {
    "name": "ipython",
    "version": 3
   },
   "file_extension": ".py",
   "mimetype": "text/x-python",
   "name": "python",
   "nbconvert_exporter": "python",
   "pygments_lexer": "ipython3",
   "version": "3.7.9-final"
  },
  "orig_nbformat": 2,
  "kernelspec": {
   "name": "python3",
   "display_name": "Python 3",
   "language": "python"
  }
 },
 "nbformat": 4,
 "nbformat_minor": 2,
 "cells": [
  {
   "cell_type": "code",
   "execution_count": 1,
   "metadata": {},
   "outputs": [],
   "source": [
    "import yfinance as yf\n",
    "from yahoofinancials import YahooFinancials\n",
    "import pandas as pd"
   ]
  },
  {
   "cell_type": "code",
   "execution_count": 2,
   "metadata": {},
   "outputs": [
    {
     "output_type": "execute_result",
     "data": {
      "text/plain": [
       "Date\n",
       "2018-02-01    0\n",
       "2018-02-02    0\n",
       "2018-02-05    0\n",
       "2018-02-06    0\n",
       "2018-02-07    0\n",
       "             ..\n",
       "2021-03-11    0\n",
       "2021-03-12    0\n",
       "2021-03-15    0\n",
       "2021-03-16    0\n",
       "2021-03-17    0\n",
       "Length: 786, dtype: int64"
      ]
     },
     "metadata": {},
     "execution_count": 2
    }
   ],
   "source": [
    "stock_history = yf.download(\"SPY LQD VNQ KOIN\", start=\"2018-02-01\", end=\"2021-03-18\", progress=False)\n",
    "stock_history.isnull().sum(axis=1)"
   ]
  },
  {
   "cell_type": "code",
   "execution_count": 3,
   "metadata": {},
   "outputs": [
    {
     "output_type": "execute_result",
     "data": {
      "text/plain": [
       "            Adj Close                                         Close  \\\n",
       "                 KOIN         LQD         SPY        VNQ       KOIN   \n",
       "Date                                                                  \n",
       "2018-02-01  23.844912  107.964195  265.354980  68.855530  24.680000   \n",
       "2018-02-02  23.313520  107.411797  259.578278  68.270973  24.129999   \n",
       "2018-02-05  22.559914  107.475174  248.722015  66.242676  23.350000   \n",
       "2018-02-06  23.004349  107.257828  253.622482  66.251549  23.809999   \n",
       "2018-02-07  22.849764  106.958984  252.246567  65.968117  23.650000   \n",
       "\n",
       "                                                    High              ...  \\\n",
       "                   LQD         SPY        VNQ       KOIN         LQD  ...   \n",
       "Date                                                                  ...   \n",
       "2018-02-01  119.220001  281.579987  77.739998  24.959999  119.959999  ...   \n",
       "2018-02-02  118.610001  275.450012  77.080002  24.670000  119.000000  ...   \n",
       "2018-02-05  118.680000  263.929993  74.790001  24.200001  119.330002  ...   \n",
       "2018-02-06  118.440002  269.130005  74.800003  23.809999  118.820000  ...   \n",
       "2018-02-07  118.110001  267.670013  74.480003  23.987000  118.849998  ...   \n",
       "\n",
       "                   Low                  Open                          \\\n",
       "                   SPY        VNQ       KOIN         LQD         SPY   \n",
       "Date                                                                   \n",
       "2018-02-01  280.679993  77.599998  24.870001  119.910004  281.070007   \n",
       "2018-02-02  275.410004  76.440002  24.670000  119.000000  280.079987   \n",
       "2018-02-05  263.309998  74.690002  24.020000  118.239998  273.450012   \n",
       "2018-02-06  258.700012  73.089996  22.969999  118.589996  259.940002   \n",
       "2018-02-07  267.579987  74.430000  23.940001  118.800003  268.500000   \n",
       "\n",
       "                      Volume                                 \n",
       "                  VNQ   KOIN       LQD        SPY       VNQ  \n",
       "Date                                                         \n",
       "2018-02-01  79.089996  24900  12272400   90102500   7313200  \n",
       "2018-02-02  77.160004  17100   8681500  173174800  11151800  \n",
       "2018-02-05  76.699997  23500  14486000  294681800   8861900  \n",
       "2018-02-06  73.550003   6900  10467500  355026800  12554100  \n",
       "2018-02-07  74.779999  19500   8862300  167376100   7480000  \n",
       "\n",
       "[5 rows x 24 columns]"
      ],
      "text/html": "<div>\n<style scoped>\n    .dataframe tbody tr th:only-of-type {\n        vertical-align: middle;\n    }\n\n    .dataframe tbody tr th {\n        vertical-align: top;\n    }\n\n    .dataframe thead tr th {\n        text-align: left;\n    }\n\n    .dataframe thead tr:last-of-type th {\n        text-align: right;\n    }\n</style>\n<table border=\"1\" class=\"dataframe\">\n  <thead>\n    <tr>\n      <th></th>\n      <th colspan=\"4\" halign=\"left\">Adj Close</th>\n      <th colspan=\"4\" halign=\"left\">Close</th>\n      <th colspan=\"2\" halign=\"left\">High</th>\n      <th>...</th>\n      <th colspan=\"2\" halign=\"left\">Low</th>\n      <th colspan=\"4\" halign=\"left\">Open</th>\n      <th colspan=\"4\" halign=\"left\">Volume</th>\n    </tr>\n    <tr>\n      <th></th>\n      <th>KOIN</th>\n      <th>LQD</th>\n      <th>SPY</th>\n      <th>VNQ</th>\n      <th>KOIN</th>\n      <th>LQD</th>\n      <th>SPY</th>\n      <th>VNQ</th>\n      <th>KOIN</th>\n      <th>LQD</th>\n      <th>...</th>\n      <th>SPY</th>\n      <th>VNQ</th>\n      <th>KOIN</th>\n      <th>LQD</th>\n      <th>SPY</th>\n      <th>VNQ</th>\n      <th>KOIN</th>\n      <th>LQD</th>\n      <th>SPY</th>\n      <th>VNQ</th>\n    </tr>\n    <tr>\n      <th>Date</th>\n      <th></th>\n      <th></th>\n      <th></th>\n      <th></th>\n      <th></th>\n      <th></th>\n      <th></th>\n      <th></th>\n      <th></th>\n      <th></th>\n      <th></th>\n      <th></th>\n      <th></th>\n      <th></th>\n      <th></th>\n      <th></th>\n      <th></th>\n      <th></th>\n      <th></th>\n      <th></th>\n      <th></th>\n    </tr>\n  </thead>\n  <tbody>\n    <tr>\n      <th>2018-02-01</th>\n      <td>23.844912</td>\n      <td>107.964195</td>\n      <td>265.354980</td>\n      <td>68.855530</td>\n      <td>24.680000</td>\n      <td>119.220001</td>\n      <td>281.579987</td>\n      <td>77.739998</td>\n      <td>24.959999</td>\n      <td>119.959999</td>\n      <td>...</td>\n      <td>280.679993</td>\n      <td>77.599998</td>\n      <td>24.870001</td>\n      <td>119.910004</td>\n      <td>281.070007</td>\n      <td>79.089996</td>\n      <td>24900</td>\n      <td>12272400</td>\n      <td>90102500</td>\n      <td>7313200</td>\n    </tr>\n    <tr>\n      <th>2018-02-02</th>\n      <td>23.313520</td>\n      <td>107.411797</td>\n      <td>259.578278</td>\n      <td>68.270973</td>\n      <td>24.129999</td>\n      <td>118.610001</td>\n      <td>275.450012</td>\n      <td>77.080002</td>\n      <td>24.670000</td>\n      <td>119.000000</td>\n      <td>...</td>\n      <td>275.410004</td>\n      <td>76.440002</td>\n      <td>24.670000</td>\n      <td>119.000000</td>\n      <td>280.079987</td>\n      <td>77.160004</td>\n      <td>17100</td>\n      <td>8681500</td>\n      <td>173174800</td>\n      <td>11151800</td>\n    </tr>\n    <tr>\n      <th>2018-02-05</th>\n      <td>22.559914</td>\n      <td>107.475174</td>\n      <td>248.722015</td>\n      <td>66.242676</td>\n      <td>23.350000</td>\n      <td>118.680000</td>\n      <td>263.929993</td>\n      <td>74.790001</td>\n      <td>24.200001</td>\n      <td>119.330002</td>\n      <td>...</td>\n      <td>263.309998</td>\n      <td>74.690002</td>\n      <td>24.020000</td>\n      <td>118.239998</td>\n      <td>273.450012</td>\n      <td>76.699997</td>\n      <td>23500</td>\n      <td>14486000</td>\n      <td>294681800</td>\n      <td>8861900</td>\n    </tr>\n    <tr>\n      <th>2018-02-06</th>\n      <td>23.004349</td>\n      <td>107.257828</td>\n      <td>253.622482</td>\n      <td>66.251549</td>\n      <td>23.809999</td>\n      <td>118.440002</td>\n      <td>269.130005</td>\n      <td>74.800003</td>\n      <td>23.809999</td>\n      <td>118.820000</td>\n      <td>...</td>\n      <td>258.700012</td>\n      <td>73.089996</td>\n      <td>22.969999</td>\n      <td>118.589996</td>\n      <td>259.940002</td>\n      <td>73.550003</td>\n      <td>6900</td>\n      <td>10467500</td>\n      <td>355026800</td>\n      <td>12554100</td>\n    </tr>\n    <tr>\n      <th>2018-02-07</th>\n      <td>22.849764</td>\n      <td>106.958984</td>\n      <td>252.246567</td>\n      <td>65.968117</td>\n      <td>23.650000</td>\n      <td>118.110001</td>\n      <td>267.670013</td>\n      <td>74.480003</td>\n      <td>23.987000</td>\n      <td>118.849998</td>\n      <td>...</td>\n      <td>267.579987</td>\n      <td>74.430000</td>\n      <td>23.940001</td>\n      <td>118.800003</td>\n      <td>268.500000</td>\n      <td>74.779999</td>\n      <td>19500</td>\n      <td>8862300</td>\n      <td>167376100</td>\n      <td>7480000</td>\n    </tr>\n  </tbody>\n</table>\n<p>5 rows × 24 columns</p>\n</div>"
     },
     "metadata": {},
     "execution_count": 3
    }
   ],
   "source": [
    "stock_history.head()"
   ]
  },
  {
   "cell_type": "code",
   "execution_count": 4,
   "metadata": {},
   "outputs": [
    {
     "output_type": "execute_result",
     "data": {
      "text/plain": [
       "                 KOIN         LQD         SPY        VNQ\n",
       "Date                                                    \n",
       "2018-02-01  23.844912  107.964195  265.354980  68.855530\n",
       "2018-02-02  23.313520  107.411797  259.578278  68.270973\n",
       "2018-02-05  22.559914  107.475174  248.722015  66.242676\n",
       "2018-02-06  23.004349  107.257828  253.622482  66.251549\n",
       "2018-02-07  22.849764  106.958984  252.246567  65.968117"
      ],
      "text/html": "<div>\n<style scoped>\n    .dataframe tbody tr th:only-of-type {\n        vertical-align: middle;\n    }\n\n    .dataframe tbody tr th {\n        vertical-align: top;\n    }\n\n    .dataframe thead th {\n        text-align: right;\n    }\n</style>\n<table border=\"1\" class=\"dataframe\">\n  <thead>\n    <tr style=\"text-align: right;\">\n      <th></th>\n      <th>KOIN</th>\n      <th>LQD</th>\n      <th>SPY</th>\n      <th>VNQ</th>\n    </tr>\n    <tr>\n      <th>Date</th>\n      <th></th>\n      <th></th>\n      <th></th>\n      <th></th>\n    </tr>\n  </thead>\n  <tbody>\n    <tr>\n      <th>2018-02-01</th>\n      <td>23.844912</td>\n      <td>107.964195</td>\n      <td>265.354980</td>\n      <td>68.855530</td>\n    </tr>\n    <tr>\n      <th>2018-02-02</th>\n      <td>23.313520</td>\n      <td>107.411797</td>\n      <td>259.578278</td>\n      <td>68.270973</td>\n    </tr>\n    <tr>\n      <th>2018-02-05</th>\n      <td>22.559914</td>\n      <td>107.475174</td>\n      <td>248.722015</td>\n      <td>66.242676</td>\n    </tr>\n    <tr>\n      <th>2018-02-06</th>\n      <td>23.004349</td>\n      <td>107.257828</td>\n      <td>253.622482</td>\n      <td>66.251549</td>\n    </tr>\n    <tr>\n      <th>2018-02-07</th>\n      <td>22.849764</td>\n      <td>106.958984</td>\n      <td>252.246567</td>\n      <td>65.968117</td>\n    </tr>\n  </tbody>\n</table>\n</div>"
     },
     "metadata": {},
     "execution_count": 4
    }
   ],
   "source": [
    "stock_history_close = stock_history['Adj Close']\n",
    "stock_history_close.head()"
   ]
  },
  {
   "cell_type": "code",
   "execution_count": 5,
   "metadata": {},
   "outputs": [],
   "source": [
    "stock_history_close.to_csv('Resources/multi_stock_prices.csv')"
   ]
  },
  {
   "cell_type": "code",
   "execution_count": null,
   "metadata": {},
   "outputs": [],
   "source": []
  }
 ]
}