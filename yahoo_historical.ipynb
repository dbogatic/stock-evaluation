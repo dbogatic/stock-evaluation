{
 "metadata": {
  "language_info": {
   "codemirror_mode": {
    "name": "ipython",
    "version": 3
   },
   "file_extension": ".py",
   "mimetype": "text/x-python",
   "name": "python",
   "nbconvert_exporter": "python",
   "pygments_lexer": "ipython3",
   "version": "3.6.9-final"
  },
  "orig_nbformat": 2,
  "kernelspec": {
   "name": "python3",
   "display_name": "Python 3.6.9 64-bit",
   "metadata": {
    "interpreter": {
     "hash": "31f2aee4e71d21fbe5cf8b01ff0e069b9275f58929596ceb00d14d90e3e16cd6"
    }
   }
  }
 },
 "nbformat": 4,
 "nbformat_minor": 2,
 "cells": [
  {
   "cell_type": "code",
   "execution_count": 1,
   "metadata": {},
   "outputs": [],
   "source": [
    "import yfinance as yf\n",
    "from yahoofinancials import YahooFinancials\n",
    "import pandas as pd"
   ]
  },
  {
   "cell_type": "code",
   "execution_count": 2,
   "metadata": {},
   "outputs": [],
   "source": [
    "ticker = 'MSRT'\n",
    "yahoo_financials = YahooFinancials(ticker)"
   ]
  },
  {
   "cell_type": "code",
   "execution_count": 3,
   "metadata": {},
   "outputs": [
    {
     "output_type": "execute_result",
     "data": {
      "text/plain": [
       "             Open   High    Low  Close  Adj Close   Volume\n",
       "Date                                                      \n",
       "2020-01-02  0.005  0.005  0.004  0.004      0.004  1867600\n",
       "2020-01-03  0.004  0.005  0.004  0.005      0.005  2136900\n",
       "2020-01-06  0.006  0.007  0.004  0.006      0.006  3413000\n",
       "2020-01-07  0.005  0.007  0.005  0.007      0.007  1824100\n",
       "2020-01-08  0.007  0.008  0.006  0.007      0.007  4751200\n",
       "...           ...    ...    ...    ...        ...      ...\n",
       "2021-03-12  0.025  0.029  0.020  0.024      0.024  4793300\n",
       "2021-03-15  0.023  0.024  0.020  0.023      0.023  4359100\n",
       "2021-03-16  0.023  0.024  0.019  0.021      0.021  4879600\n",
       "2021-03-17  0.021  0.021  0.018  0.021      0.021  3181900\n",
       "2021-03-18  0.021  0.022  0.019  0.021      0.021  1665300\n",
       "\n",
       "[305 rows x 6 columns]"
      ],
      "text/html": "<div>\n<style scoped>\n    .dataframe tbody tr th:only-of-type {\n        vertical-align: middle;\n    }\n\n    .dataframe tbody tr th {\n        vertical-align: top;\n    }\n\n    .dataframe thead th {\n        text-align: right;\n    }\n</style>\n<table border=\"1\" class=\"dataframe\">\n  <thead>\n    <tr style=\"text-align: right;\">\n      <th></th>\n      <th>Open</th>\n      <th>High</th>\n      <th>Low</th>\n      <th>Close</th>\n      <th>Adj Close</th>\n      <th>Volume</th>\n    </tr>\n    <tr>\n      <th>Date</th>\n      <th></th>\n      <th></th>\n      <th></th>\n      <th></th>\n      <th></th>\n      <th></th>\n    </tr>\n  </thead>\n  <tbody>\n    <tr>\n      <th>2020-01-02</th>\n      <td>0.005</td>\n      <td>0.005</td>\n      <td>0.004</td>\n      <td>0.004</td>\n      <td>0.004</td>\n      <td>1867600</td>\n    </tr>\n    <tr>\n      <th>2020-01-03</th>\n      <td>0.004</td>\n      <td>0.005</td>\n      <td>0.004</td>\n      <td>0.005</td>\n      <td>0.005</td>\n      <td>2136900</td>\n    </tr>\n    <tr>\n      <th>2020-01-06</th>\n      <td>0.006</td>\n      <td>0.007</td>\n      <td>0.004</td>\n      <td>0.006</td>\n      <td>0.006</td>\n      <td>3413000</td>\n    </tr>\n    <tr>\n      <th>2020-01-07</th>\n      <td>0.005</td>\n      <td>0.007</td>\n      <td>0.005</td>\n      <td>0.007</td>\n      <td>0.007</td>\n      <td>1824100</td>\n    </tr>\n    <tr>\n      <th>2020-01-08</th>\n      <td>0.007</td>\n      <td>0.008</td>\n      <td>0.006</td>\n      <td>0.007</td>\n      <td>0.007</td>\n      <td>4751200</td>\n    </tr>\n    <tr>\n      <th>...</th>\n      <td>...</td>\n      <td>...</td>\n      <td>...</td>\n      <td>...</td>\n      <td>...</td>\n      <td>...</td>\n    </tr>\n    <tr>\n      <th>2021-03-12</th>\n      <td>0.025</td>\n      <td>0.029</td>\n      <td>0.020</td>\n      <td>0.024</td>\n      <td>0.024</td>\n      <td>4793300</td>\n    </tr>\n    <tr>\n      <th>2021-03-15</th>\n      <td>0.023</td>\n      <td>0.024</td>\n      <td>0.020</td>\n      <td>0.023</td>\n      <td>0.023</td>\n      <td>4359100</td>\n    </tr>\n    <tr>\n      <th>2021-03-16</th>\n      <td>0.023</td>\n      <td>0.024</td>\n      <td>0.019</td>\n      <td>0.021</td>\n      <td>0.021</td>\n      <td>4879600</td>\n    </tr>\n    <tr>\n      <th>2021-03-17</th>\n      <td>0.021</td>\n      <td>0.021</td>\n      <td>0.018</td>\n      <td>0.021</td>\n      <td>0.021</td>\n      <td>3181900</td>\n    </tr>\n    <tr>\n      <th>2021-03-18</th>\n      <td>0.021</td>\n      <td>0.022</td>\n      <td>0.019</td>\n      <td>0.021</td>\n      <td>0.021</td>\n      <td>1665300</td>\n    </tr>\n  </tbody>\n</table>\n<p>305 rows × 6 columns</p>\n</div>"
     },
     "metadata": {},
     "execution_count": 3
    }
   ],
   "source": [
    "stock_history = yf.download(f\"{ticker}\",start='2020-01-01', end='2021-03-19', progress=False)\n",
    "stock_history"
   ]
  },
  {
   "cell_type": "code",
   "execution_count": 4,
   "metadata": {},
   "outputs": [],
   "source": [
    "stock_history.to_csv('Resources/stock_historical_prices.csv')"
   ]
  }
 ]
}